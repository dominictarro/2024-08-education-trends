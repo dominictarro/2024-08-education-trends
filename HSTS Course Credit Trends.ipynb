{
 "cells": [
  {
   "cell_type": "code",
   "execution_count": 1,
   "metadata": {},
   "outputs": [],
   "source": [
    "import json\n",
    "import random\n",
    "import time\n",
    "from pathlib import Path\n",
    "\n",
    "import httpx\n",
    "import polars as pl\n",
    "import plotly.express as px"
   ]
  },
  {
   "cell_type": "code",
   "execution_count": 2,
   "metadata": {},
   "outputs": [],
   "source": [
    "REDOWNLOAD = False"
   ]
  },
  {
   "cell_type": "code",
   "execution_count": 3,
   "metadata": {},
   "outputs": [],
   "source": [
    "SCALE_ACT_CMPT = {\n",
    "    \"text\": \"Highest ACT composite score achieved (continuous)\",\n",
    "    \"isComposite\": False,\n",
    "    \"isScalar\": False,\n",
    "    \"dimensionType\": 4,\n",
    "    \"code\": \"ACTCMP\",\n",
    "    \"label\": \"ACT composite score\",\n",
    "    \"language\": 1033\n",
    "}\n",
    "SCALE_SAT_MATH = {\n",
    "    \"text\": \"Highest SAT mathematics score achieved (continuous)\",\n",
    "    \"isComposite\": False,\n",
    "    \"isScalar\": False,\n",
    "    \"dimensionType\": 4,\n",
    "    \"code\": \"SATMAT\",\n",
    "    \"label\": \"SAT mathematics score\",\n",
    "    \"language\": 1033\n",
    "}\n",
    "SCALE_SAT_VERBAL = {\n",
    "    \"text\": \"Highest SAT verbal score achieved (continuous)\",\n",
    "    \"isComposite\": False,\n",
    "    \"isScalar\": False,\n",
    "    \"dimensionType\": 4,\n",
    "    \"code\": \"SATVRB\",\n",
    "    \"label\": \"SAT verbal score\",\n",
    "    \"language\": 1033\n",
    "}\n",
    "VARIABLE_TOTAL = {\n",
    "    \"code\": \"TOTAL\",\n",
    "    \"label\": \"All graduates\",\n",
    "    \"combValueLabels\": [\n",
    "        {\n",
    "            \"code\": \"1\",\n",
    "            \"label\": \"All graduates\",\n",
    "            \"selected\": True\n",
    "        }\n",
    "    ]\n",
    "}\n",
    "VARIABLE_ARCH_CONS = {\n",
    "    \"code\": \"ACOC3\",\n",
    "    \"label\": \"Earned at least 3 credits in architecture and construction courses? (SCED)\",\n",
    "    \"combValueLabels\": [\n",
    "        {\n",
    "            \"code\": \"1\",\n",
    "            \"label\": \"No\",\n",
    "            \"selected\": True\n",
    "        },\n",
    "        {\n",
    "            \"code\": \"2\",\n",
    "            \"label\": \"Yes\",\n",
    "            \"selected\": True\n",
    "        }\n",
    "    ]\n",
    "}\n",
    "VARIABLE_AGR_FOOD = {\n",
    "    \"code\": \"ANRC3\",\n",
    "    \"label\": \"Earned at least 3 credits in agriculture, food, and natural resources courses? (SCED)\",\n",
    "    \"combValueLabels\": [\n",
    "        {\n",
    "            \"code\": \"1\",\n",
    "            \"label\": \"No\",\n",
    "            \"selected\": True\n",
    "        },\n",
    "        {\n",
    "            \"code\": \"2\",\n",
    "            \"label\": \"Yes\",\n",
    "            \"selected\": True\n",
    "        }\n",
    "    ]\n",
    "}\n",
    "VARIABLE_MANUFACTURING = {\n",
    "    \"code\": \"MFGC3\",\n",
    "    \"label\": \"Earned at least 3 credits in manufacturing courses? (SCED)\",\n",
    "    \"combValueLabels\": [\n",
    "        {\n",
    "            \"code\": \"1\",\n",
    "            \"label\": \"No\",\n",
    "            \"selected\": True\n",
    "        },\n",
    "        {\n",
    "            \"code\": \"2\",\n",
    "            \"label\": \"Yes\",\n",
    "            \"selected\": True\n",
    "        }\n",
    "    ]\n",
    "}\n",
    "VARIABLE_TRANSPORT = {\n",
    "    \"code\": \"TDLC3\",\n",
    "    \"label\": \"Earned at least 3 credits in transportation, distribution, and logistics courses? (SCED)\",\n",
    "    \"combValueLabels\": [\n",
    "        {\n",
    "            \"code\": \"1\",\n",
    "            \"label\": \"No\",\n",
    "            \"selected\": True\n",
    "        },\n",
    "        {\n",
    "            \"code\": \"2\",\n",
    "            \"label\": \"Yes\",\n",
    "            \"selected\": True\n",
    "        }\n",
    "    ]\n",
    "}\n",
    "\n",
    "BOOLEAN_VARIABLE = [\n",
    "    {\n",
    "        \"code\": \"1\",\n",
    "        \"label\": \"No\",\n",
    "        \"selected\": True\n",
    "    },\n",
    "    {\n",
    "        \"code\": \"2\",\n",
    "        \"label\": \"Yes\",\n",
    "        \"selected\": True\n",
    "    }\n",
    "]\n",
    "\n",
    "def get_var_map(columns: list[str]) -> dict:\n",
    "    COLS = [\"Average\", \"Standard Error (Average)\", \"Percentage\", \"Standard Error (Percentage)\"]\n",
    "    rename = {}\n",
    "    for i, col in enumerate(columns):\n",
    "        rename[col] = COLS[i % 4]\n",
    "    return rename\n",
    "\n",
    "def transform_boolean(df: pl.DataFrame, scale, variable) -> pl.DataFrame:\n",
    "    bool_cat = {\n",
    "        **{col: \"No\" for col in df.columns[2:6]},\n",
    "        **{col: \"Yes\" for col in df.columns[6:10]},\n",
    "        **{col: \"Missing\" for col in df.columns[10:14]},\n",
    "    }\n",
    "    return df.unpivot(\n",
    "        on=df.columns[2:],\n",
    "        index=[\"Year\", \"Jurisdiction\"],\n",
    "        variable_name=\"variable\",\n",
    "        value_name=\"value\",\n",
    "    ).with_columns(\n",
    "        pl.col(\"variable\").replace(bool_cat).alias(variable['label']),\n",
    "        pl.col(\"variable\").replace(get_var_map(df.columns[2:])).alias(\"Metric\"),\n",
    "        pl.col(\"value\").str.strip_chars(\"()\")\n",
    "        .str.replace(r\"[^\\d\\.]\", \"\")\n",
    "        .str.to_decimal()\n",
    "        .cast(pl.Float64)\n",
    "        .alias(scale['label']),\n",
    "    ).with_columns(\n",
    "        pl.col(\"variable\").str.replace(r\" \\d+$\", \"\"),\n",
    "    ).select(\n",
    "        \"Year\",\n",
    "        \"Jurisdiction\",\n",
    "        \"Metric\",\n",
    "        variable['label'],\n",
    "        scale['label'],\n",
    "    ).pivot(\n",
    "        on=\"Metric\",\n",
    "        index=[\"Year\", \"Jurisdiction\", variable['label']],\n",
    "        values=scale['label']\n",
    "    )\n",
    "\n",
    "def transform_scalar(df: pl.DataFrame, scale, variable) -> pl.DataFrame:\n",
    "    flag_cat = {\n",
    "        **{col: \"\" for col in df.columns[2:6]},\n",
    "        **{col: \"Missing\" for col in df.columns[6:10]},\n",
    "    }\n",
    "    return df.unpivot(\n",
    "        on=df.columns[2:],\n",
    "        index=[\"Year\", \"Jurisdiction\"],\n",
    "        variable_name=\"variable\",\n",
    "        value_name=\"value\",\n",
    "    ).with_columns(\n",
    "        pl.col(\"variable\").replace(flag_cat).alias(\"Flag\"),\n",
    "        pl.col(\"variable\").replace(get_var_map(df.columns[2:])).alias(\"Metric\"),\n",
    "        pl.col(\"value\").str.strip_chars(\"()\")\n",
    "        .str.replace(r\"[^\\d\\.]\", \"\")\n",
    "        .str.to_decimal()\n",
    "        .cast(pl.Float64)\n",
    "        .alias(scale['label']),\n",
    "    ).with_columns(\n",
    "        pl.col(\"variable\").str.replace(r\" \\d+$\", \"\"),\n",
    "    ).select(\n",
    "        \"Year\",\n",
    "        \"Jurisdiction\",\n",
    "        \"Metric\",\n",
    "        \"Flag\",\n",
    "        scale['label'],\n",
    "    ).pivot(\n",
    "        on=\"Metric\",\n",
    "        index=[\"Year\", \"Jurisdiction\", \"Flag\"],\n",
    "        values=scale['label'],\n",
    "    )\n",
    "\n",
    "def hsts_api_to_polars(data: dict, scale, variable) -> pl.DataFrame:\n",
    "    clean_rows = []\n",
    "    columns = {\n",
    "        str(column[\"col\"]): column\n",
    "        for column in data[\"columnHeadingsList\"]\n",
    "    }\n",
    "    for row in data[\"tabularDataList\"]:\n",
    "        clean_row = {}\n",
    "        for cell in row:\n",
    "            col = columns[cell[\"fieldRef\"].removeprefix(\"colRef\")]\n",
    "            clean_row[col[\"headingText\"] + f\" {col['col']}\"] = cell[\"value\"]\n",
    "        clean_rows.append(clean_row)\n",
    "    df = pl.DataFrame(clean_rows).rename(\n",
    "        {\n",
    "            \"Year 1\": \"Year\",\n",
    "            \"Jurisdiction 2\": \"Jurisdiction\",\n",
    "        }\n",
    "    )\n",
    "    if variable[\"combValueLabels\"] == BOOLEAN_VARIABLE:\n",
    "        return transform_boolean(df, scale, variable)\n",
    "    return transform_scalar(df, scale, variable)\n",
    "\n",
    "\n",
    "def create_body(scale: dict, variable: dict) -> bytes:\n",
    "    return json.dumps(\n",
    "        {\n",
    "            \"PERCENTAGE_CODE\": \"RP\",\n",
    "            \"survey\": {\n",
    "                \"code\": \"hsts\",\n",
    "                \"label\": \"hsts\"\n",
    "            },\n",
    "            \"requestType\": \"\",\n",
    "            \"subject\": {\n",
    "                \"code\": \"TRN\",\n",
    "                \"label\": \"Transcript\"\n",
    "            },\n",
    "            \"cohort\": {\n",
    "                \"code\": \"12\",\n",
    "                \"cohort\": \"3\",\n",
    "                \"label\": \"Grade 12\"\n",
    "            },\n",
    "            \"years\": [\n",
    "                \"2019R3\",\n",
    "                \"2009R3\",\n",
    "                \"2000R3\",\n",
    "                \"1990R3\"\n",
    "            ],\n",
    "            \"selectedYears\": [],\n",
    "            \"framework\": \"1\",\n",
    "            \"frameworkLabel\": \"High School Transcript Study\",\n",
    "            \"scales\": [scale],\n",
    "            \"jurisdictions\": [\n",
    "                {\n",
    "                    \"code\": \"NT\",\n",
    "                    \"label\": \"National\",\n",
    "                    \"level\": 0,\n",
    "                    \"isCombinedJur\": False,\n",
    "                    \"restOf\": False\n",
    "                }\n",
    "            ],\n",
    "            \"combinedJurisdictions\": [],\n",
    "            \"selectedJurisdictions\": [],\n",
    "            \"variables\": [variable],\n",
    "            \"combinedVariables\": [],\n",
    "            \"crosstabVariables\": [],\n",
    "            \"selectedVariables\": [],\n",
    "            \"statistics\": [\n",
    "                {\n",
    "                    \"statType\": \"MN\",\n",
    "                    \"label\": \"Averages\",\n",
    "                    \"statElements\": [\n",
    "                        {\n",
    "                            \"element\": \"MN\",\n",
    "                            \"label\": \"Average\",\n",
    "                            \"code\": \"MN\"\n",
    "                        }\n",
    "                    ]\n",
    "                },\n",
    "                {\n",
    "                    \"statType\": \"RP\",\n",
    "                    \"label\": \"Percentages\",\n",
    "                    \"statElements\": [\n",
    "                        {\n",
    "                            \"element\": \"RP\",\n",
    "                            \"label\": \"Percentages\",\n",
    "                            \"code\": \"RP\"\n",
    "                        }\n",
    "                    ]\n",
    "                }\n",
    "            ],\n",
    "            \"selectedStatistics\": [],\n",
    "            \"reportTitle\": {\n",
    "                \"label\": \"Transcript, Grade 12, Misc.\",\n",
    "                \"isUserAssignedName\": True\n",
    "            },\n",
    "            \"reportIndex\": 0,\n",
    "            \"isReportEditMode\": False,\n",
    "            \"isNoFiltersMode\": False,\n",
    "            \"isCreateReportClicked\": True,\n",
    "            \"newReports\": False,\n",
    "            \"dependent\": scale[\"code\"],\n",
    "            \"tableOptions\": {},\n",
    "            \"scale\": scale[\"label\"],\n",
    "            \"selectedChartValue\": \"\",\n",
    "            \"selectedGroupedBy\": \"\",\n",
    "            \"selections\": [],\n",
    "            \"chartType\": \"\",\n",
    "            \"allYearSampleData\": [\n",
    "                {\n",
    "                    \"year\": \"2019\",\n",
    "                    \"sample\": \"R3\",\n",
    "                    \"isNonAccommodated\": False,\n",
    "                    \"framework\": \"1\",\n",
    "                    \"frameworkLabel\": \"High School Transcript Study\",\n",
    "                    \"frameworkSortOrder\": 1,\n",
    "                    \"dimensionType\": 5,\n",
    "                    \"code\": \"2019R3\",\n",
    "                    \"label\": \"2019\",\n",
    "                    \"language\": 0\n",
    "                },\n",
    "                {\n",
    "                    \"year\": \"2009\",\n",
    "                    \"sample\": \"R3\",\n",
    "                    \"isNonAccommodated\": False,\n",
    "                    \"framework\": \"1\",\n",
    "                    \"frameworkLabel\": \"High School Transcript Study\",\n",
    "                    \"frameworkSortOrder\": 1,\n",
    "                    \"dimensionType\": 5,\n",
    "                    \"code\": \"2009R3\",\n",
    "                    \"label\": \"2009\",\n",
    "                    \"language\": 0\n",
    "                },\n",
    "                {\n",
    "                    \"year\": \"2005\",\n",
    "                    \"sample\": \"R3\",\n",
    "                    \"isNonAccommodated\": False,\n",
    "                    \"framework\": \"1\",\n",
    "                    \"frameworkLabel\": \"High School Transcript Study\",\n",
    "                    \"frameworkSortOrder\": 1,\n",
    "                    \"dimensionType\": 5,\n",
    "                    \"code\": \"2005R3\",\n",
    "                    \"label\": \"2005\",\n",
    "                    \"language\": 0\n",
    "                },\n",
    "                {\n",
    "                    \"year\": \"2000\",\n",
    "                    \"sample\": \"R3\",\n",
    "                    \"isNonAccommodated\": False,\n",
    "                    \"framework\": \"1\",\n",
    "                    \"frameworkLabel\": \"High School Transcript Study\",\n",
    "                    \"frameworkSortOrder\": 1,\n",
    "                    \"dimensionType\": 5,\n",
    "                    \"code\": \"2000R3\",\n",
    "                    \"label\": \"2000\",\n",
    "                    \"language\": 0\n",
    "                },\n",
    "                {\n",
    "                    \"year\": \"1990\",\n",
    "                    \"sample\": \"R3\",\n",
    "                    \"isNonAccommodated\": False,\n",
    "                    \"framework\": \"1\",\n",
    "                    \"frameworkLabel\": \"High School Transcript Study\",\n",
    "                    \"frameworkSortOrder\": 1,\n",
    "                    \"dimensionType\": 5,\n",
    "                    \"code\": \"1990R3\",\n",
    "                    \"label\": \"1990\",\n",
    "                    \"language\": 0\n",
    "                }\n",
    "            ],\n",
    "            \"MapSelectorKey\": \"\",\n",
    "            \"compGridIsInitialTableLoad\": True,\n",
    "            \"focalJurisdictionCode\": \"NT\",\n",
    "            \"compGridSortColumn\": 1,\n",
    "            \"compGridSortOrder\": \"asc\",\n",
    "            \"variableLabels\": \"SHORT\",\n",
    "            \"showVariableNameInTitle\": True,\n",
    "            \"showMissing\": True,\n",
    "            \"numDecimalPlaces\": \"TWO\",\n",
    "            \"yearOrder\": \"DESC\",\n",
    "            \"include\": \"SE\",\n",
    "            \"useParensBrackets\": True,\n",
    "            \"surveyForGlobalOptions\": \"hsts\",\n",
    "            \"forExport\": False,\n",
    "            \"defaultOverrides\": {},\n",
    "            \"runReportImmediately\": False,\n",
    "            \"wantUnicode\": True,\n",
    "            \"rowLayouts\": [\n",
    "                {\n",
    "                    \"layoutType\": \"SAMPLE\",\n",
    "                    \"position\": 1,\n",
    "                    \"code\": \"SAMPLE\"\n",
    "                },\n",
    "                {\n",
    "                    \"layoutType\": \"JURISDICTION\",\n",
    "                    \"position\": 2,\n",
    "                    \"code\": \"JURISDICTION\"\n",
    "                }\n",
    "            ],\n",
    "            \"tableLayouts\": [\n",
    "                {\n",
    "                    \"position\": 1,\n",
    "                    \"layoutType\": \"VARIABLE\",\n",
    "                    \"code\": variable[\"code\"]\n",
    "                }\n",
    "            ],\n",
    "            \"dataTableName\": \"Data Table 1\",\n",
    "            \"acrossYearSigTest\": False,\n",
    "            \"shareType\": \"NONE\",\n",
    "            \"selectedSigOptType\": {},\n",
    "            \"selectedSigBtns\": [],\n",
    "            \"activeTab\": \"DATATABLE\",\n",
    "            \"reportSpecficData\": {\n",
    "                \"nameText\": \"Transcript, Grade 12, Misc.\",\n",
    "                \"inEditMode\": False,\n",
    "                \"oldNameText\": \"Transcript, Grade 12, Misc.\"\n",
    "            },\n",
    "            \"showActiveTable\": {\n",
    "                \"value\": False\n",
    "            },\n",
    "            \"showSigOpts\": {\n",
    "                \"value\": False\n",
    "            }\n",
    "        }\n",
    "    )\n",
    "\n",
    "\n",
    "if REDOWNLOAD:\n",
    "    for scale in (SCALE_ACT_CMPT,): # SCALE_SAT_MATH, SCALE_SAT_VERBAL):\n",
    "        for variable in (VARIABLE_ARCH_CONS, VARIABLE_AGR_FOOD, VARIABLE_MANUFACTURING, VARIABLE_TRANSPORT): #, VARIABLE_TOTAL):\n",
    "            r = httpx.post(\n",
    "                \"https://www.nationsreportcard.gov/ndecore/api/dataTable\",\n",
    "                content=create_body(scale, variable),\n",
    "                cookies={\n",
    "                    # ASP.NET_SessionId=dyph1tp0sup3bb3ispfkpp5q; TOS_NCE_Accepted=TOS_NCE123; NDEv20a1posxztc=%7B%22userLoginId%22%3A%22dominator.tarro%40gmail.com%22%2C%22userToken%22%3A%225f6f568f-e3e6-4caa-a544-7c9d9543f193%22%7D\n",
    "                    \"ASP.NET_SessionId\": \"dyph1tp0sup3bb3ispfkpp5q\",\n",
    "                    \"TOS_NCE_Accepted\": \"TOS_NCE123\",\n",
    "                    \"NDEv20a1posxztc\": r\"%7B%22userLoginId%22%3A%22dominator.tarro%40gmail.com%22%2C%22userToken%22%3A%225f6f568f-e3e6-4caa-a544-7c9d9543f193%22%7D\",        \n",
    "                },\n",
    "                headers={\n",
    "                    \"Content-Type\": \"application/json\",\n",
    "                    \"Host\": \"www.nationsreportcard.gov\",\n",
    "                    \"Origin\": \"https://www.nationsreportcard.gov\",\n",
    "                    \"Referer\": \"https://www.nationsreportcard.gov/ndecore/xplore/hsts\",\n",
    "                    \"sec-ch-ua\": '\"Not)A;Brand\";v=\"99\", \"Brave\";v=\"127\", \"Chromium\";v=\"127\"',\n",
    "                    \"sec-ch-ua-mobile\": \"?0\",\n",
    "                    \"sec-ch-ua-platform\": '\"macOS\"',\n",
    "                    \"sec-fetch-dest\": \"empty\",\n",
    "                    \"sec-fetch-mode\": \"cors\",\n",
    "                    \"sec-fetch-site\": \"same-origin\",\n",
    "                    \"user-agent\": \"Mozilla/5.0 (Macintosh; Intel Mac OS X 10_15_7) AppleWebKit/537.36 (KHTML, like Gecko) Chrome/127.0.0.0 Safari/537.36\"\n",
    "                },\n",
    "            )\n",
    "            try:\n",
    "                r.raise_for_status()\n",
    "            except Exception as e:\n",
    "                print(scale, variable)\n",
    "                print(r.text)\n",
    "                continue\n",
    "\n",
    "            with open(f\"data/nces/hsts/api/HSTS_API_{scale['code']}_{variable['code']}.json\", \"w\") as f:\n",
    "                data = r.json()\n",
    "                json.dump(\n",
    "                    data,\n",
    "                    f,\n",
    "                    indent=2,\n",
    "                )\n",
    "            try:\n",
    "                df = hsts_api_to_polars(data, scale, variable)\n",
    "                df.write_csv(f\"data/nces/hsts/csv/HSTS_API_{variable['code']}_{scale['code']}.csv\")\n",
    "            except Exception as e:\n",
    "                print(scale, variable)\n",
    "                print(\"Error:\", e)\n",
    "                continue\n",
    "            time.sleep(random.uniform(0.25, 1.25))\n"
   ]
  },
  {
   "cell_type": "code",
   "execution_count": 4,
   "metadata": {},
   "outputs": [
    {
     "data": {
      "text/html": [
       "<div><style>\n",
       ".dataframe > thead > tr,\n",
       ".dataframe > tbody > tr {\n",
       "  text-align: right;\n",
       "  white-space: pre-wrap;\n",
       "}\n",
       "</style>\n",
       "<small>shape: (12, 7)</small><table border=\"1\" class=\"dataframe\"><thead><tr><th>Year</th><th>Average</th><th>Standard Error (Average)</th><th>Percentage</th><th>Standard Error (Percentage)</th><th>Measure</th><th>Standard Deviation</th></tr><tr><td>i64</td><td>f64</td><td>f64</td><td>f64</td><td>str</td><td>str</td><td>f64</td></tr></thead><tbody><tr><td>1990</td><td>19.91</td><td>0.225</td><td>100.0</td><td>null</td><td>&quot;ACT Composite&quot;</td><td>4.7</td></tr><tr><td>2000</td><td>21.66</td><td>0.209</td><td>100.0</td><td>null</td><td>&quot;ACT Composite&quot;</td><td>4.7</td></tr><tr><td>2009</td><td>21.35</td><td>0.169</td><td>100.0</td><td>null</td><td>&quot;ACT Composite&quot;</td><td>5.1</td></tr><tr><td>2019</td><td>20.58</td><td>0.294</td><td>100.0</td><td>null</td><td>&quot;ACT Composite&quot;</td><td>5.0</td></tr><tr><td>1990</td><td>485.07</td><td>7.582</td><td>100.0</td><td>null</td><td>&quot;SAT Math&quot;</td><td>100.0</td></tr><tr><td>&hellip;</td><td>&hellip;</td><td>&hellip;</td><td>&hellip;</td><td>&hellip;</td><td>&hellip;</td><td>&hellip;</td></tr><tr><td>2019</td><td>520.4</td><td>5.355</td><td>100.0</td><td>null</td><td>&quot;SAT Math&quot;</td><td>117.0</td></tr><tr><td>1990</td><td>436.61</td><td>6.218</td><td>100.0</td><td>null</td><td>&quot;SAT Verbal&quot;</td><td>100.0</td></tr><tr><td>2000</td><td>524.54</td><td>6.03</td><td>100.0</td><td>null</td><td>&quot;SAT Verbal&quot;</td><td>100.0</td></tr><tr><td>2009</td><td>483.55</td><td>10.49</td><td>100.0</td><td>null</td><td>&quot;SAT Verbal&quot;</td><td>100.0</td></tr><tr><td>2019</td><td>523.05</td><td>4.653</td><td>100.0</td><td>null</td><td>&quot;SAT Verbal&quot;</td><td>104.0</td></tr></tbody></table></div>"
      ],
      "text/plain": [
       "shape: (12, 7)\n",
       "┌──────┬─────────┬────────────────┬────────────┬────────────────┬───────────────┬───────────┐\n",
       "│ Year ┆ Average ┆ Standard Error ┆ Percentage ┆ Standard Error ┆ Measure       ┆ Standard  │\n",
       "│ ---  ┆ ---     ┆ (Average)      ┆ ---        ┆ (Percentage)   ┆ ---           ┆ Deviation │\n",
       "│ i64  ┆ f64     ┆ ---            ┆ f64        ┆ ---            ┆ str           ┆ ---       │\n",
       "│      ┆         ┆ f64            ┆            ┆ str            ┆               ┆ f64       │\n",
       "╞══════╪═════════╪════════════════╪════════════╪════════════════╪═══════════════╪═══════════╡\n",
       "│ 1990 ┆ 19.91   ┆ 0.225          ┆ 100.0      ┆ null           ┆ ACT Composite ┆ 4.7       │\n",
       "│ 2000 ┆ 21.66   ┆ 0.209          ┆ 100.0      ┆ null           ┆ ACT Composite ┆ 4.7       │\n",
       "│ 2009 ┆ 21.35   ┆ 0.169          ┆ 100.0      ┆ null           ┆ ACT Composite ┆ 5.1       │\n",
       "│ 2019 ┆ 20.58   ┆ 0.294          ┆ 100.0      ┆ null           ┆ ACT Composite ┆ 5.0       │\n",
       "│ 1990 ┆ 485.07  ┆ 7.582          ┆ 100.0      ┆ null           ┆ SAT Math      ┆ 100.0     │\n",
       "│ …    ┆ …       ┆ …              ┆ …          ┆ …              ┆ …             ┆ …         │\n",
       "│ 2019 ┆ 520.4   ┆ 5.355          ┆ 100.0      ┆ null           ┆ SAT Math      ┆ 117.0     │\n",
       "│ 1990 ┆ 436.61  ┆ 6.218          ┆ 100.0      ┆ null           ┆ SAT Verbal    ┆ 100.0     │\n",
       "│ 2000 ┆ 524.54  ┆ 6.03           ┆ 100.0      ┆ null           ┆ SAT Verbal    ┆ 100.0     │\n",
       "│ 2009 ┆ 483.55  ┆ 10.49          ┆ 100.0      ┆ null           ┆ SAT Verbal    ┆ 100.0     │\n",
       "│ 2019 ┆ 523.05  ┆ 4.653          ┆ 100.0      ┆ null           ┆ SAT Verbal    ┆ 104.0     │\n",
       "└──────┴─────────┴────────────────┴────────────┴────────────────┴───────────────┴───────────┘"
      ]
     },
     "execution_count": 4,
     "metadata": {},
     "output_type": "execute_result"
    }
   ],
   "source": [
    "total = pl.concat(\n",
    "    [\n",
    "        pl.read_csv(path, has_header=True).with_columns(MEASURE=pl.lit(path.stem.split(\"_\")[-1]))\n",
    "        for path in Path(\"data/nces/hsts/csv\").glob(\"HSTS_API_TOTAL_*.csv\")\n",
    "    ]\n",
    ").filter(\n",
    "    pl.col(\"Flag\") != \"Missing\"\n",
    ").drop(\"Flag\").with_columns(\n",
    "    pl.col(\"MEASURE\").replace(\n",
    "        {\n",
    "            \"SATMAT\": \"SAT Math\",\n",
    "            \"SATVRB\": \"SAT Verbal\",\n",
    "            \"ACTCMP\": \"ACT Composite\",\n",
    "        }\n",
    "    ).alias(\"Measure\"),\n",
    ").drop(\"Jurisdiction\", \"MEASURE\").join(\n",
    "    pl.DataFrame(\n",
    "        [\n",
    "            # See data/nces/act/\n",
    "            {\"Year\": 1990, \"Measure\": \"ACT Composite\", \"Standard Deviation\": 4.7}, # unknown, using 1997\n",
    "            {\"Year\": 2000, \"Measure\": \"ACT Composite\", \"Standard Deviation\": 4.7},\n",
    "            {\"Year\": 2009, \"Measure\": \"ACT Composite\", \"Standard Deviation\": 5.1},\n",
    "            {\"Year\": 2019, \"Measure\": \"ACT Composite\", \"Standard Deviation\": 5.0},\n",
    "            # See data/nces/sat/\n",
    "            {\"Year\": 1990, \"Measure\": \"SAT Math\", \"Standard Deviation\": 100.0}, # unknown, using test intended score\n",
    "            {\"Year\": 2000, \"Measure\": \"SAT Math\", \"Standard Deviation\": 100.0}, # unknown, using test intended score\n",
    "            {\"Year\": 2009, \"Measure\": \"SAT Math\", \"Standard Deviation\": 100.0}, # unknown, using test intended score\n",
    "            {\"Year\": 2019, \"Measure\": \"SAT Math\", \"Standard Deviation\": 117.0},\n",
    "            {\"Year\": 1990, \"Measure\": \"SAT Verbal\", \"Standard Deviation\": 100.0}, # unknown, using test intended score\n",
    "            {\"Year\": 2000, \"Measure\": \"SAT Verbal\", \"Standard Deviation\": 100.0}, # unknown, using test intended score\n",
    "            {\"Year\": 2009, \"Measure\": \"SAT Verbal\", \"Standard Deviation\": 100.0}, # unknown, using test intended score\n",
    "            {\"Year\": 2019, \"Measure\": \"SAT Verbal\", \"Standard Deviation\": 104.0},\n",
    "        ]\n",
    "    ),\n",
    "    on=[\"Year\", \"Measure\"],\n",
    ")\n",
    "\n",
    "total"
   ]
  },
  {
   "cell_type": "code",
   "execution_count": 5,
   "metadata": {},
   "outputs": [
    {
     "data": {
      "text/html": [
       "<div><style>\n",
       ".dataframe > thead > tr,\n",
       ".dataframe > tbody > tr {\n",
       "  text-align: right;\n",
       "  white-space: pre-wrap;\n",
       "}\n",
       "</style>\n",
       "<small>shape: (24, 8)</small><table border=\"1\" class=\"dataframe\"><thead><tr><th>Year</th><th>Earned at least 1 credit in architecture and construction courses? (SCED)</th><th>Average</th><th>Standard Error (Average)</th><th>Percentage</th><th>Standard Error (Percentage)</th><th>Course Credits</th><th>Measure</th></tr><tr><td>i64</td><td>str</td><td>f64</td><td>f64</td><td>f64</td><td>f64</td><td>str</td><td>str</td></tr></thead><tbody><tr><td>2019</td><td>&quot;No&quot;</td><td>522.39</td><td>5.492</td><td>94.0</td><td>1.1</td><td>&quot;0&quot;</td><td>&quot;SAT Math&quot;</td></tr><tr><td>2009</td><td>&quot;No&quot;</td><td>507.19</td><td>4.867</td><td>95.0</td><td>0.9</td><td>&quot;0&quot;</td><td>&quot;SAT Math&quot;</td></tr><tr><td>2000</td><td>&quot;No&quot;</td><td>532.65</td><td>6.26</td><td>93.0</td><td>1.7</td><td>&quot;0&quot;</td><td>&quot;SAT Math&quot;</td></tr><tr><td>1990</td><td>&quot;No&quot;</td><td>486.72</td><td>7.591</td><td>94.0</td><td>1.2</td><td>&quot;0&quot;</td><td>&quot;SAT Math&quot;</td></tr><tr><td>2019</td><td>&quot;Yes&quot;</td><td>489.38</td><td>9.057</td><td>6.0</td><td>1.1</td><td>&quot;1+&quot;</td><td>&quot;SAT Math&quot;</td></tr><tr><td>&hellip;</td><td>&hellip;</td><td>&hellip;</td><td>&hellip;</td><td>&hellip;</td><td>&hellip;</td><td>&hellip;</td><td>&hellip;</td></tr><tr><td>1990</td><td>&quot;No&quot;</td><td>20.05</td><td>0.232</td><td>92.0</td><td>1.3</td><td>&quot;0&quot;</td><td>&quot;ACT Composite&quot;</td></tr><tr><td>2019</td><td>&quot;Yes&quot;</td><td>18.23</td><td>0.474</td><td>7.0</td><td>1.0</td><td>&quot;1+&quot;</td><td>&quot;ACT Composite&quot;</td></tr><tr><td>2009</td><td>&quot;Yes&quot;</td><td>19.35</td><td>0.361</td><td>6.0</td><td>0.7</td><td>&quot;1+&quot;</td><td>&quot;ACT Composite&quot;</td></tr><tr><td>2000</td><td>&quot;Yes&quot;</td><td>19.76</td><td>0.379</td><td>8.0</td><td>1.5</td><td>&quot;1+&quot;</td><td>&quot;ACT Composite&quot;</td></tr><tr><td>1990</td><td>&quot;Yes&quot;</td><td>18.2</td><td>0.523</td><td>8.0</td><td>1.3</td><td>&quot;1+&quot;</td><td>&quot;ACT Composite&quot;</td></tr></tbody></table></div>"
      ],
      "text/plain": [
       "shape: (24, 8)\n",
       "┌──────┬──────────────┬─────────┬──────────────┬────────────┬──────────────┬─────────┬─────────────┐\n",
       "│ Year ┆ Earned at    ┆ Average ┆ Standard     ┆ Percentage ┆ Standard     ┆ Course  ┆ Measure     │\n",
       "│ ---  ┆ least 1      ┆ ---     ┆ Error        ┆ ---        ┆ Error        ┆ Credits ┆ ---         │\n",
       "│ i64  ┆ credit in    ┆ f64     ┆ (Average)    ┆ f64        ┆ (Percentage) ┆ ---     ┆ str         │\n",
       "│      ┆ ar…          ┆         ┆ ---          ┆            ┆ ---          ┆ str     ┆             │\n",
       "│      ┆ ---          ┆         ┆ f64          ┆            ┆ f64          ┆         ┆             │\n",
       "│      ┆ str          ┆         ┆              ┆            ┆              ┆         ┆             │\n",
       "╞══════╪══════════════╪═════════╪══════════════╪════════════╪══════════════╪═════════╪═════════════╡\n",
       "│ 2019 ┆ No           ┆ 522.39  ┆ 5.492        ┆ 94.0       ┆ 1.1          ┆ 0       ┆ SAT Math    │\n",
       "│ 2009 ┆ No           ┆ 507.19  ┆ 4.867        ┆ 95.0       ┆ 0.9          ┆ 0       ┆ SAT Math    │\n",
       "│ 2000 ┆ No           ┆ 532.65  ┆ 6.26         ┆ 93.0       ┆ 1.7          ┆ 0       ┆ SAT Math    │\n",
       "│ 1990 ┆ No           ┆ 486.72  ┆ 7.591        ┆ 94.0       ┆ 1.2          ┆ 0       ┆ SAT Math    │\n",
       "│ 2019 ┆ Yes          ┆ 489.38  ┆ 9.057        ┆ 6.0        ┆ 1.1          ┆ 1+      ┆ SAT Math    │\n",
       "│ …    ┆ …            ┆ …       ┆ …            ┆ …          ┆ …            ┆ …       ┆ …           │\n",
       "│ 1990 ┆ No           ┆ 20.05   ┆ 0.232        ┆ 92.0       ┆ 1.3          ┆ 0       ┆ ACT         │\n",
       "│      ┆              ┆         ┆              ┆            ┆              ┆         ┆ Composite   │\n",
       "│ 2019 ┆ Yes          ┆ 18.23   ┆ 0.474        ┆ 7.0        ┆ 1.0          ┆ 1+      ┆ ACT         │\n",
       "│      ┆              ┆         ┆              ┆            ┆              ┆         ┆ Composite   │\n",
       "│ 2009 ┆ Yes          ┆ 19.35   ┆ 0.361        ┆ 6.0        ┆ 0.7          ┆ 1+      ┆ ACT         │\n",
       "│      ┆              ┆         ┆              ┆            ┆              ┆         ┆ Composite   │\n",
       "│ 2000 ┆ Yes          ┆ 19.76   ┆ 0.379        ┆ 8.0        ┆ 1.5          ┆ 1+      ┆ ACT         │\n",
       "│      ┆              ┆         ┆              ┆            ┆              ┆         ┆ Composite   │\n",
       "│ 1990 ┆ Yes          ┆ 18.2    ┆ 0.523        ┆ 8.0        ┆ 1.3          ┆ 1+      ┆ ACT         │\n",
       "│      ┆              ┆         ┆              ┆            ┆              ┆         ┆ Composite   │\n",
       "└──────┴──────────────┴─────────┴──────────────┴────────────┴──────────────┴─────────┴─────────────┘"
      ]
     },
     "metadata": {},
     "output_type": "display_data"
    },
    {
     "data": {
      "text/html": [
       "<div><style>\n",
       ".dataframe > thead > tr,\n",
       ".dataframe > tbody > tr {\n",
       "  text-align: right;\n",
       "  white-space: pre-wrap;\n",
       "}\n",
       "</style>\n",
       "<small>shape: (8, 8)</small><table border=\"1\" class=\"dataframe\"><thead><tr><th>Year</th><th>Earned at least 3 credits in architecture and construction courses? (SCED)</th><th>Average</th><th>Standard Error (Average)</th><th>Percentage</th><th>Standard Error (Percentage)</th><th>Course Credits</th><th>Measure</th></tr><tr><td>i64</td><td>str</td><td>f64</td><td>f64</td><td>f64</td><td>f64</td><td>str</td><td>str</td></tr></thead><tbody><tr><td>2019</td><td>&quot;No&quot;</td><td>20.62</td><td>0.292</td><td>99.0</td><td>0.2</td><td>&quot;&lt;3&quot;</td><td>&quot;ACT Composite&quot;</td></tr><tr><td>2009</td><td>&quot;No&quot;</td><td>21.4</td><td>0.17</td><td>99.0</td><td>0.2</td><td>&quot;&lt;3&quot;</td><td>&quot;ACT Composite&quot;</td></tr><tr><td>2000</td><td>&quot;No&quot;</td><td>21.7</td><td>0.202</td><td>99.0</td><td>0.5</td><td>&quot;&lt;3&quot;</td><td>&quot;ACT Composite&quot;</td></tr><tr><td>1990</td><td>&quot;No&quot;</td><td>19.95</td><td>0.229</td><td>99.0</td><td>0.3</td><td>&quot;&lt;3&quot;</td><td>&quot;ACT Composite&quot;</td></tr><tr><td>2019</td><td>&quot;Yes&quot;</td><td>null</td><td>null</td><td>1.0</td><td>0.2</td><td>&quot;3+&quot;</td><td>&quot;ACT Composite&quot;</td></tr><tr><td>2009</td><td>&quot;Yes&quot;</td><td>null</td><td>null</td><td>1.0</td><td>0.2</td><td>&quot;3+&quot;</td><td>&quot;ACT Composite&quot;</td></tr><tr><td>2000</td><td>&quot;Yes&quot;</td><td>null</td><td>null</td><td>1.0</td><td>0.5</td><td>&quot;3+&quot;</td><td>&quot;ACT Composite&quot;</td></tr><tr><td>1990</td><td>&quot;Yes&quot;</td><td>null</td><td>null</td><td>1.0</td><td>0.3</td><td>&quot;3+&quot;</td><td>&quot;ACT Composite&quot;</td></tr></tbody></table></div>"
      ],
      "text/plain": [
       "shape: (8, 8)\n",
       "┌──────┬──────────────┬─────────┬──────────────┬────────────┬──────────────┬─────────┬─────────────┐\n",
       "│ Year ┆ Earned at    ┆ Average ┆ Standard     ┆ Percentage ┆ Standard     ┆ Course  ┆ Measure     │\n",
       "│ ---  ┆ least 3      ┆ ---     ┆ Error        ┆ ---        ┆ Error        ┆ Credits ┆ ---         │\n",
       "│ i64  ┆ credits in   ┆ f64     ┆ (Average)    ┆ f64        ┆ (Percentage) ┆ ---     ┆ str         │\n",
       "│      ┆ a…           ┆         ┆ ---          ┆            ┆ ---          ┆ str     ┆             │\n",
       "│      ┆ ---          ┆         ┆ f64          ┆            ┆ f64          ┆         ┆             │\n",
       "│      ┆ str          ┆         ┆              ┆            ┆              ┆         ┆             │\n",
       "╞══════╪══════════════╪═════════╪══════════════╪════════════╪══════════════╪═════════╪═════════════╡\n",
       "│ 2019 ┆ No           ┆ 20.62   ┆ 0.292        ┆ 99.0       ┆ 0.2          ┆ <3      ┆ ACT         │\n",
       "│      ┆              ┆         ┆              ┆            ┆              ┆         ┆ Composite   │\n",
       "│ 2009 ┆ No           ┆ 21.4    ┆ 0.17         ┆ 99.0       ┆ 0.2          ┆ <3      ┆ ACT         │\n",
       "│      ┆              ┆         ┆              ┆            ┆              ┆         ┆ Composite   │\n",
       "│ 2000 ┆ No           ┆ 21.7    ┆ 0.202        ┆ 99.0       ┆ 0.5          ┆ <3      ┆ ACT         │\n",
       "│      ┆              ┆         ┆              ┆            ┆              ┆         ┆ Composite   │\n",
       "│ 1990 ┆ No           ┆ 19.95   ┆ 0.229        ┆ 99.0       ┆ 0.3          ┆ <3      ┆ ACT         │\n",
       "│      ┆              ┆         ┆              ┆            ┆              ┆         ┆ Composite   │\n",
       "│ 2019 ┆ Yes          ┆ null    ┆ null         ┆ 1.0        ┆ 0.2          ┆ 3+      ┆ ACT         │\n",
       "│      ┆              ┆         ┆              ┆            ┆              ┆         ┆ Composite   │\n",
       "│ 2009 ┆ Yes          ┆ null    ┆ null         ┆ 1.0        ┆ 0.2          ┆ 3+      ┆ ACT         │\n",
       "│      ┆              ┆         ┆              ┆            ┆              ┆         ┆ Composite   │\n",
       "│ 2000 ┆ Yes          ┆ null    ┆ null         ┆ 1.0        ┆ 0.5          ┆ 3+      ┆ ACT         │\n",
       "│      ┆              ┆         ┆              ┆            ┆              ┆         ┆ Composite   │\n",
       "│ 1990 ┆ Yes          ┆ null    ┆ null         ┆ 1.0        ┆ 0.3          ┆ 3+      ┆ ACT         │\n",
       "│      ┆              ┆         ┆              ┆            ┆              ┆         ┆ Composite   │\n",
       "└──────┴──────────────┴─────────┴──────────────┴────────────┴──────────────┴─────────┴─────────────┘"
      ]
     },
     "metadata": {},
     "output_type": "display_data"
    }
   ],
   "source": [
    "acoc1 = pl.concat(\n",
    "    [\n",
    "        pl.read_csv(path, has_header=True).with_columns(MEASURE=pl.lit(path.stem.split(\"_\")[-1]))\n",
    "        for path in Path(\"data/nces/hsts/csv\").glob(\"HSTS_API_ACOC1_*.csv\")\n",
    "    ]\n",
    ").filter(\n",
    "    pl.col(\"Earned at least 1 credit in architecture and construction courses? (SCED)\") != \"Missing\"\n",
    ").with_columns(\n",
    "    pl.col(\"Earned at least 1 credit in architecture and construction courses? (SCED)\").replace(\n",
    "        {\n",
    "            \"Yes\": \"1+\",\n",
    "            \"No\": \"0\",\n",
    "        }\n",
    "    ).alias(\"Course Credits\"),\n",
    "    pl.col(\"MEASURE\").replace(\n",
    "        {\n",
    "            \"SATMAT\": \"SAT Math\",\n",
    "            \"SATVRB\": \"SAT Verbal\",\n",
    "            \"ACTCMP\": \"ACT Composite\",\n",
    "        }\n",
    "    ).alias(\"Measure\"),\n",
    ").drop(\"Jurisdiction\", \"MEASURE\")\n",
    "display(acoc1)\n",
    "\n",
    "acoc3 = pl.concat(\n",
    "    [\n",
    "        pl.read_csv(path, has_header=True).with_columns(MEASURE=pl.lit(path.stem.split(\"_\")[-1]))\n",
    "        for path in Path(\"data/nces/hsts/csv\").glob(\"HSTS_API_ACOC3_*.csv\")\n",
    "    ]\n",
    ").filter(\n",
    "    pl.col(\"Earned at least 3 credits in architecture and construction courses? (SCED)\") != \"Missing\"\n",
    ").with_columns(\n",
    "    pl.col(\"Earned at least 3 credits in architecture and construction courses? (SCED)\").replace(\n",
    "        {\n",
    "            \"Yes\": \"3+\",\n",
    "            \"No\": \"<3\",\n",
    "        }\n",
    "    ).alias(\"Course Credits\"),\n",
    "    pl.col(\"MEASURE\").replace(\n",
    "        {\n",
    "            \"SATMAT\": \"SAT Math\",\n",
    "            \"SATVRB\": \"SAT Verbal\",\n",
    "            \"ACTCMP\": \"ACT Composite\",\n",
    "        }\n",
    "    ).alias(\"Measure\"),\n",
    ").drop(\"Jurisdiction\", \"MEASURE\")\n",
    "display(acoc3)\n"
   ]
  },
  {
   "cell_type": "code",
   "execution_count": 6,
   "metadata": {},
   "outputs": [
    {
     "data": {
      "text/html": [
       "<div><style>\n",
       ".dataframe > thead > tr,\n",
       ".dataframe > tbody > tr {\n",
       "  text-align: right;\n",
       "  white-space: pre-wrap;\n",
       "}\n",
       "</style>\n",
       "<small>shape: (24, 8)</small><table border=\"1\" class=\"dataframe\"><thead><tr><th>Year</th><th>Earned at least 1 credit in agriculture, food, and natural resources courses? (SCED)</th><th>Average</th><th>Standard Error (Average)</th><th>Percentage</th><th>Standard Error (Percentage)</th><th>Course Credits</th><th>Measure</th></tr><tr><td>i64</td><td>str</td><td>f64</td><td>f64</td><td>f64</td><td>f64</td><td>str</td><td>str</td></tr></thead><tbody><tr><td>2019</td><td>&quot;No&quot;</td><td>20.82</td><td>0.309</td><td>89.0</td><td>1.5</td><td>&quot;0&quot;</td><td>&quot;ACT Composite&quot;</td></tr><tr><td>2009</td><td>&quot;No&quot;</td><td>21.58</td><td>0.172</td><td>90.0</td><td>1.3</td><td>&quot;0&quot;</td><td>&quot;ACT Composite&quot;</td></tr><tr><td>2000</td><td>&quot;No&quot;</td><td>21.84</td><td>0.209</td><td>91.0</td><td>1.8</td><td>&quot;0&quot;</td><td>&quot;ACT Composite&quot;</td></tr><tr><td>1990</td><td>&quot;No&quot;</td><td>20.1</td><td>0.216</td><td>93.0</td><td>1.4</td><td>&quot;0&quot;</td><td>&quot;ACT Composite&quot;</td></tr><tr><td>2019</td><td>&quot;Yes&quot;</td><td>18.71</td><td>0.303</td><td>11.0</td><td>1.5</td><td>&quot;1+&quot;</td><td>&quot;ACT Composite&quot;</td></tr><tr><td>&hellip;</td><td>&hellip;</td><td>&hellip;</td><td>&hellip;</td><td>&hellip;</td><td>&hellip;</td><td>&hellip;</td><td>&hellip;</td></tr><tr><td>1990</td><td>&quot;No&quot;</td><td>436.89</td><td>6.23</td><td>99.0</td><td>0.3</td><td>&quot;0&quot;</td><td>&quot;SAT Verbal&quot;</td></tr><tr><td>2019</td><td>&quot;Yes&quot;</td><td>497.19</td><td>9.936</td><td>7.0</td><td>1.5</td><td>&quot;1+&quot;</td><td>&quot;SAT Verbal&quot;</td></tr><tr><td>2009</td><td>&quot;Yes&quot;</td><td>null</td><td>null</td><td>2.0</td><td>0.8</td><td>&quot;1+&quot;</td><td>&quot;SAT Verbal&quot;</td></tr><tr><td>2000</td><td>&quot;Yes&quot;</td><td>482.87</td><td>19.011</td><td>5.0</td><td>1.5</td><td>&quot;1+&quot;</td><td>&quot;SAT Verbal&quot;</td></tr><tr><td>1990</td><td>&quot;Yes&quot;</td><td>null</td><td>null</td><td>1.0</td><td>0.3</td><td>&quot;1+&quot;</td><td>&quot;SAT Verbal&quot;</td></tr></tbody></table></div>"
      ],
      "text/plain": [
       "shape: (24, 8)\n",
       "┌──────┬──────────────┬─────────┬──────────────┬────────────┬──────────────┬─────────┬─────────────┐\n",
       "│ Year ┆ Earned at    ┆ Average ┆ Standard     ┆ Percentage ┆ Standard     ┆ Course  ┆ Measure     │\n",
       "│ ---  ┆ least 1      ┆ ---     ┆ Error        ┆ ---        ┆ Error        ┆ Credits ┆ ---         │\n",
       "│ i64  ┆ credit in    ┆ f64     ┆ (Average)    ┆ f64        ┆ (Percentage) ┆ ---     ┆ str         │\n",
       "│      ┆ ag…          ┆         ┆ ---          ┆            ┆ ---          ┆ str     ┆             │\n",
       "│      ┆ ---          ┆         ┆ f64          ┆            ┆ f64          ┆         ┆             │\n",
       "│      ┆ str          ┆         ┆              ┆            ┆              ┆         ┆             │\n",
       "╞══════╪══════════════╪═════════╪══════════════╪════════════╪══════════════╪═════════╪═════════════╡\n",
       "│ 2019 ┆ No           ┆ 20.82   ┆ 0.309        ┆ 89.0       ┆ 1.5          ┆ 0       ┆ ACT         │\n",
       "│      ┆              ┆         ┆              ┆            ┆              ┆         ┆ Composite   │\n",
       "│ 2009 ┆ No           ┆ 21.58   ┆ 0.172        ┆ 90.0       ┆ 1.3          ┆ 0       ┆ ACT         │\n",
       "│      ┆              ┆         ┆              ┆            ┆              ┆         ┆ Composite   │\n",
       "│ 2000 ┆ No           ┆ 21.84   ┆ 0.209        ┆ 91.0       ┆ 1.8          ┆ 0       ┆ ACT         │\n",
       "│      ┆              ┆         ┆              ┆            ┆              ┆         ┆ Composite   │\n",
       "│ 1990 ┆ No           ┆ 20.1    ┆ 0.216        ┆ 93.0       ┆ 1.4          ┆ 0       ┆ ACT         │\n",
       "│      ┆              ┆         ┆              ┆            ┆              ┆         ┆ Composite   │\n",
       "│ 2019 ┆ Yes          ┆ 18.71   ┆ 0.303        ┆ 11.0       ┆ 1.5          ┆ 1+      ┆ ACT         │\n",
       "│      ┆              ┆         ┆              ┆            ┆              ┆         ┆ Composite   │\n",
       "│ …    ┆ …            ┆ …       ┆ …            ┆ …          ┆ …            ┆ …       ┆ …           │\n",
       "│ 1990 ┆ No           ┆ 436.89  ┆ 6.23         ┆ 99.0       ┆ 0.3          ┆ 0       ┆ SAT Verbal  │\n",
       "│ 2019 ┆ Yes          ┆ 497.19  ┆ 9.936        ┆ 7.0        ┆ 1.5          ┆ 1+      ┆ SAT Verbal  │\n",
       "│ 2009 ┆ Yes          ┆ null    ┆ null         ┆ 2.0        ┆ 0.8          ┆ 1+      ┆ SAT Verbal  │\n",
       "│ 2000 ┆ Yes          ┆ 482.87  ┆ 19.011       ┆ 5.0        ┆ 1.5          ┆ 1+      ┆ SAT Verbal  │\n",
       "│ 1990 ┆ Yes          ┆ null    ┆ null         ┆ 1.0        ┆ 0.3          ┆ 1+      ┆ SAT Verbal  │\n",
       "└──────┴──────────────┴─────────┴──────────────┴────────────┴──────────────┴─────────┴─────────────┘"
      ]
     },
     "metadata": {},
     "output_type": "display_data"
    },
    {
     "data": {
      "text/html": [
       "<div><style>\n",
       ".dataframe > thead > tr,\n",
       ".dataframe > tbody > tr {\n",
       "  text-align: right;\n",
       "  white-space: pre-wrap;\n",
       "}\n",
       "</style>\n",
       "<small>shape: (8, 8)</small><table border=\"1\" class=\"dataframe\"><thead><tr><th>Year</th><th>Earned at least 3 credits in agriculture, food, and natural resources courses? (SCED)</th><th>Average</th><th>Standard Error (Average)</th><th>Percentage</th><th>Standard Error (Percentage)</th><th>Course Credits</th><th>Measure</th></tr><tr><td>i64</td><td>str</td><td>f64</td><td>f64</td><td>f64</td><td>f64</td><td>str</td><td>str</td></tr></thead><tbody><tr><td>2019</td><td>&quot;No&quot;</td><td>20.65</td><td>0.302</td><td>96.0</td><td>1.1</td><td>&quot;&lt;3&quot;</td><td>&quot;ACT Composite&quot;</td></tr><tr><td>2009</td><td>&quot;No&quot;</td><td>21.41</td><td>0.172</td><td>96.0</td><td>0.7</td><td>&quot;&lt;3&quot;</td><td>&quot;ACT Composite&quot;</td></tr><tr><td>2000</td><td>&quot;No&quot;</td><td>21.72</td><td>0.209</td><td>97.0</td><td>0.8</td><td>&quot;&lt;3&quot;</td><td>&quot;ACT Composite&quot;</td></tr><tr><td>1990</td><td>&quot;No&quot;</td><td>20.02</td><td>0.214</td><td>97.0</td><td>0.7</td><td>&quot;&lt;3&quot;</td><td>&quot;ACT Composite&quot;</td></tr><tr><td>2019</td><td>&quot;Yes&quot;</td><td>18.76</td><td>0.526</td><td>4.0</td><td>1.1</td><td>&quot;3+&quot;</td><td>&quot;ACT Composite&quot;</td></tr><tr><td>2009</td><td>&quot;Yes&quot;</td><td>20.05</td><td>0.249</td><td>4.0</td><td>0.7</td><td>&quot;3+&quot;</td><td>&quot;ACT Composite&quot;</td></tr><tr><td>2000</td><td>&quot;Yes&quot;</td><td>19.81</td><td>0.908</td><td>3.0</td><td>0.8</td><td>&quot;3+&quot;</td><td>&quot;ACT Composite&quot;</td></tr><tr><td>1990</td><td>&quot;Yes&quot;</td><td>null</td><td>null</td><td>3.0</td><td>0.7</td><td>&quot;3+&quot;</td><td>&quot;ACT Composite&quot;</td></tr></tbody></table></div>"
      ],
      "text/plain": [
       "shape: (8, 8)\n",
       "┌──────┬──────────────┬─────────┬──────────────┬────────────┬──────────────┬─────────┬─────────────┐\n",
       "│ Year ┆ Earned at    ┆ Average ┆ Standard     ┆ Percentage ┆ Standard     ┆ Course  ┆ Measure     │\n",
       "│ ---  ┆ least 3      ┆ ---     ┆ Error        ┆ ---        ┆ Error        ┆ Credits ┆ ---         │\n",
       "│ i64  ┆ credits in   ┆ f64     ┆ (Average)    ┆ f64        ┆ (Percentage) ┆ ---     ┆ str         │\n",
       "│      ┆ a…           ┆         ┆ ---          ┆            ┆ ---          ┆ str     ┆             │\n",
       "│      ┆ ---          ┆         ┆ f64          ┆            ┆ f64          ┆         ┆             │\n",
       "│      ┆ str          ┆         ┆              ┆            ┆              ┆         ┆             │\n",
       "╞══════╪══════════════╪═════════╪══════════════╪════════════╪══════════════╪═════════╪═════════════╡\n",
       "│ 2019 ┆ No           ┆ 20.65   ┆ 0.302        ┆ 96.0       ┆ 1.1          ┆ <3      ┆ ACT         │\n",
       "│      ┆              ┆         ┆              ┆            ┆              ┆         ┆ Composite   │\n",
       "│ 2009 ┆ No           ┆ 21.41   ┆ 0.172        ┆ 96.0       ┆ 0.7          ┆ <3      ┆ ACT         │\n",
       "│      ┆              ┆         ┆              ┆            ┆              ┆         ┆ Composite   │\n",
       "│ 2000 ┆ No           ┆ 21.72   ┆ 0.209        ┆ 97.0       ┆ 0.8          ┆ <3      ┆ ACT         │\n",
       "│      ┆              ┆         ┆              ┆            ┆              ┆         ┆ Composite   │\n",
       "│ 1990 ┆ No           ┆ 20.02   ┆ 0.214        ┆ 97.0       ┆ 0.7          ┆ <3      ┆ ACT         │\n",
       "│      ┆              ┆         ┆              ┆            ┆              ┆         ┆ Composite   │\n",
       "│ 2019 ┆ Yes          ┆ 18.76   ┆ 0.526        ┆ 4.0        ┆ 1.1          ┆ 3+      ┆ ACT         │\n",
       "│      ┆              ┆         ┆              ┆            ┆              ┆         ┆ Composite   │\n",
       "│ 2009 ┆ Yes          ┆ 20.05   ┆ 0.249        ┆ 4.0        ┆ 0.7          ┆ 3+      ┆ ACT         │\n",
       "│      ┆              ┆         ┆              ┆            ┆              ┆         ┆ Composite   │\n",
       "│ 2000 ┆ Yes          ┆ 19.81   ┆ 0.908        ┆ 3.0        ┆ 0.8          ┆ 3+      ┆ ACT         │\n",
       "│      ┆              ┆         ┆              ┆            ┆              ┆         ┆ Composite   │\n",
       "│ 1990 ┆ Yes          ┆ null    ┆ null         ┆ 3.0        ┆ 0.7          ┆ 3+      ┆ ACT         │\n",
       "│      ┆              ┆         ┆              ┆            ┆              ┆         ┆ Composite   │\n",
       "└──────┴──────────────┴─────────┴──────────────┴────────────┴──────────────┴─────────┴─────────────┘"
      ]
     },
     "metadata": {},
     "output_type": "display_data"
    }
   ],
   "source": [
    "anrc1 = pl.concat(\n",
    "    [\n",
    "        pl.read_csv(path, has_header=True).with_columns(MEASURE=pl.lit(path.stem.split(\"_\")[-1]))\n",
    "        for path in Path(\"data/nces/hsts/csv\").glob(\"HSTS_API_ANRC1_*.csv\")\n",
    "    ]\n",
    ").filter(\n",
    "    pl.col(\"Earned at least 1 credit in agriculture, food, and natural resources courses? (SCED)\") != \"Missing\"\n",
    ").with_columns(\n",
    "    pl.col(\"Earned at least 1 credit in agriculture, food, and natural resources courses? (SCED)\").replace(\n",
    "        {\n",
    "            \"Yes\": \"1+\",\n",
    "            \"No\": \"0\",\n",
    "        }\n",
    "    ).alias(\"Course Credits\"),\n",
    "    pl.col(\"MEASURE\").replace(\n",
    "        {\n",
    "            \"SATMAT\": \"SAT Math\",\n",
    "            \"SATVRB\": \"SAT Verbal\",\n",
    "            \"ACTCMP\": \"ACT Composite\",\n",
    "        }\n",
    "    ).alias(\"Measure\"),\n",
    ").drop(\"Jurisdiction\", \"MEASURE\")\n",
    "display(anrc1)\n",
    "\n",
    "anrc3 = pl.concat(\n",
    "    [\n",
    "        pl.read_csv(path, has_header=True).with_columns(MEASURE=pl.lit(path.stem.split(\"_\")[-1]))\n",
    "        for path in Path(\"data/nces/hsts/csv\").glob(\"HSTS_API_ANRC3_*.csv\")\n",
    "    ]\n",
    ").filter(\n",
    "    pl.col(\"Earned at least 3 credits in agriculture, food, and natural resources courses? (SCED)\") != \"Missing\"\n",
    ").with_columns(\n",
    "    pl.col(\"Earned at least 3 credits in agriculture, food, and natural resources courses? (SCED)\").replace(\n",
    "        {\n",
    "            \"Yes\": \"3+\",\n",
    "            \"No\": \"<3\",\n",
    "        }\n",
    "    ).alias(\"Course Credits\"),\n",
    "    pl.col(\"MEASURE\").replace(\n",
    "        {\n",
    "            \"SATMAT\": \"SAT Math\",\n",
    "            \"SATVRB\": \"SAT Verbal\",\n",
    "            \"ACTCMP\": \"ACT Composite\",\n",
    "        }\n",
    "    ).alias(\"Measure\"),\n",
    ").drop(\"Jurisdiction\", \"MEASURE\")\n",
    "display(anrc3)"
   ]
  },
  {
   "cell_type": "code",
   "execution_count": 7,
   "metadata": {},
   "outputs": [
    {
     "data": {
      "text/html": [
       "<div><style>\n",
       ".dataframe > thead > tr,\n",
       ".dataframe > tbody > tr {\n",
       "  text-align: right;\n",
       "  white-space: pre-wrap;\n",
       "}\n",
       "</style>\n",
       "<small>shape: (24, 8)</small><table border=\"1\" class=\"dataframe\"><thead><tr><th>Year</th><th>Earned at least 1 credit in manufacturing courses? (SCED)</th><th>Average</th><th>Standard Error (Average)</th><th>Percentage</th><th>Standard Error (Percentage)</th><th>Course Credits</th><th>Measure</th></tr><tr><td>i64</td><td>str</td><td>f64</td><td>f64</td><td>f64</td><td>f64</td><td>str</td><td>str</td></tr></thead><tbody><tr><td>2019</td><td>&quot;No&quot;</td><td>521.94</td><td>5.399</td><td>96.0</td><td>1.0</td><td>&quot;0&quot;</td><td>&quot;SAT Math&quot;</td></tr><tr><td>2009</td><td>&quot;No&quot;</td><td>506.34</td><td>5.149</td><td>97.0</td><td>0.6</td><td>&quot;0&quot;</td><td>&quot;SAT Math&quot;</td></tr><tr><td>2000</td><td>&quot;No&quot;</td><td>532.16</td><td>6.096</td><td>94.0</td><td>3.2</td><td>&quot;0&quot;</td><td>&quot;SAT Math&quot;</td></tr><tr><td>1990</td><td>&quot;No&quot;</td><td>486.72</td><td>7.582</td><td>96.0</td><td>0.7</td><td>&quot;0&quot;</td><td>&quot;SAT Math&quot;</td></tr><tr><td>2019</td><td>&quot;Yes&quot;</td><td>480.63</td><td>11.945</td><td>4.0</td><td>1.0</td><td>&quot;1+&quot;</td><td>&quot;SAT Math&quot;</td></tr><tr><td>&hellip;</td><td>&hellip;</td><td>&hellip;</td><td>&hellip;</td><td>&hellip;</td><td>&hellip;</td><td>&hellip;</td><td>&hellip;</td></tr><tr><td>1990</td><td>&quot;No&quot;</td><td>19.99</td><td>0.213</td><td>94.0</td><td>1.2</td><td>&quot;0&quot;</td><td>&quot;ACT Composite&quot;</td></tr><tr><td>2019</td><td>&quot;Yes&quot;</td><td>17.84</td><td>0.455</td><td>4.0</td><td>0.5</td><td>&quot;1+&quot;</td><td>&quot;ACT Composite&quot;</td></tr><tr><td>2009</td><td>&quot;Yes&quot;</td><td>18.77</td><td>0.283</td><td>4.0</td><td>0.7</td><td>&quot;1+&quot;</td><td>&quot;ACT Composite&quot;</td></tr><tr><td>2000</td><td>&quot;Yes&quot;</td><td>19.52</td><td>0.455</td><td>7.0</td><td>1.3</td><td>&quot;1+&quot;</td><td>&quot;ACT Composite&quot;</td></tr><tr><td>1990</td><td>&quot;Yes&quot;</td><td>18.6</td><td>0.835</td><td>6.0</td><td>1.2</td><td>&quot;1+&quot;</td><td>&quot;ACT Composite&quot;</td></tr></tbody></table></div>"
      ],
      "text/plain": [
       "shape: (24, 8)\n",
       "┌──────┬──────────────┬─────────┬──────────────┬────────────┬──────────────┬─────────┬─────────────┐\n",
       "│ Year ┆ Earned at    ┆ Average ┆ Standard     ┆ Percentage ┆ Standard     ┆ Course  ┆ Measure     │\n",
       "│ ---  ┆ least 1      ┆ ---     ┆ Error        ┆ ---        ┆ Error        ┆ Credits ┆ ---         │\n",
       "│ i64  ┆ credit in    ┆ f64     ┆ (Average)    ┆ f64        ┆ (Percentage) ┆ ---     ┆ str         │\n",
       "│      ┆ ma…          ┆         ┆ ---          ┆            ┆ ---          ┆ str     ┆             │\n",
       "│      ┆ ---          ┆         ┆ f64          ┆            ┆ f64          ┆         ┆             │\n",
       "│      ┆ str          ┆         ┆              ┆            ┆              ┆         ┆             │\n",
       "╞══════╪══════════════╪═════════╪══════════════╪════════════╪══════════════╪═════════╪═════════════╡\n",
       "│ 2019 ┆ No           ┆ 521.94  ┆ 5.399        ┆ 96.0       ┆ 1.0          ┆ 0       ┆ SAT Math    │\n",
       "│ 2009 ┆ No           ┆ 506.34  ┆ 5.149        ┆ 97.0       ┆ 0.6          ┆ 0       ┆ SAT Math    │\n",
       "│ 2000 ┆ No           ┆ 532.16  ┆ 6.096        ┆ 94.0       ┆ 3.2          ┆ 0       ┆ SAT Math    │\n",
       "│ 1990 ┆ No           ┆ 486.72  ┆ 7.582        ┆ 96.0       ┆ 0.7          ┆ 0       ┆ SAT Math    │\n",
       "│ 2019 ┆ Yes          ┆ 480.63  ┆ 11.945       ┆ 4.0        ┆ 1.0          ┆ 1+      ┆ SAT Math    │\n",
       "│ …    ┆ …            ┆ …       ┆ …            ┆ …          ┆ …            ┆ …       ┆ …           │\n",
       "│ 1990 ┆ No           ┆ 19.99   ┆ 0.213        ┆ 94.0       ┆ 1.2          ┆ 0       ┆ ACT         │\n",
       "│      ┆              ┆         ┆              ┆            ┆              ┆         ┆ Composite   │\n",
       "│ 2019 ┆ Yes          ┆ 17.84   ┆ 0.455        ┆ 4.0        ┆ 0.5          ┆ 1+      ┆ ACT         │\n",
       "│      ┆              ┆         ┆              ┆            ┆              ┆         ┆ Composite   │\n",
       "│ 2009 ┆ Yes          ┆ 18.77   ┆ 0.283        ┆ 4.0        ┆ 0.7          ┆ 1+      ┆ ACT         │\n",
       "│      ┆              ┆         ┆              ┆            ┆              ┆         ┆ Composite   │\n",
       "│ 2000 ┆ Yes          ┆ 19.52   ┆ 0.455        ┆ 7.0        ┆ 1.3          ┆ 1+      ┆ ACT         │\n",
       "│      ┆              ┆         ┆              ┆            ┆              ┆         ┆ Composite   │\n",
       "│ 1990 ┆ Yes          ┆ 18.6    ┆ 0.835        ┆ 6.0        ┆ 1.2          ┆ 1+      ┆ ACT         │\n",
       "│      ┆              ┆         ┆              ┆            ┆              ┆         ┆ Composite   │\n",
       "└──────┴──────────────┴─────────┴──────────────┴────────────┴──────────────┴─────────┴─────────────┘"
      ]
     },
     "metadata": {},
     "output_type": "display_data"
    },
    {
     "data": {
      "text/html": [
       "<div><style>\n",
       ".dataframe > thead > tr,\n",
       ".dataframe > tbody > tr {\n",
       "  text-align: right;\n",
       "  white-space: pre-wrap;\n",
       "}\n",
       "</style>\n",
       "<small>shape: (8, 8)</small><table border=\"1\" class=\"dataframe\"><thead><tr><th>Year</th><th>Earned at least 3 credits in manufacturing courses? (SCED)</th><th>Average</th><th>Standard Error (Average)</th><th>Percentage</th><th>Standard Error (Percentage)</th><th>Course Credits</th><th>Measure</th></tr><tr><td>i64</td><td>str</td><td>f64</td><td>f64</td><td>f64</td><td>f64</td><td>str</td><td>str</td></tr></thead><tbody><tr><td>2019</td><td>&quot;No&quot;</td><td>20.62</td><td>0.295</td><td>99.0</td><td>0.2</td><td>&quot;&lt;3&quot;</td><td>&quot;ACT Composite&quot;</td></tr><tr><td>2009</td><td>&quot;No&quot;</td><td>21.37</td><td>0.167</td><td>100.0</td><td>0.1</td><td>&quot;&lt;3&quot;</td><td>&quot;ACT Composite&quot;</td></tr><tr><td>2000</td><td>&quot;No&quot;</td><td>21.69</td><td>0.205</td><td>99.0</td><td>0.2</td><td>&quot;&lt;3&quot;</td><td>&quot;ACT Composite&quot;</td></tr><tr><td>1990</td><td>&quot;No&quot;</td><td>19.93</td><td>0.223</td><td>99.0</td><td>0.4</td><td>&quot;&lt;3&quot;</td><td>&quot;ACT Composite&quot;</td></tr><tr><td>2019</td><td>&quot;Yes&quot;</td><td>null</td><td>null</td><td>1.0</td><td>0.2</td><td>&quot;3+&quot;</td><td>&quot;ACT Composite&quot;</td></tr><tr><td>2009</td><td>&quot;Yes&quot;</td><td>null</td><td>null</td><td>null</td><td>0.1</td><td>&quot;3+&quot;</td><td>&quot;ACT Composite&quot;</td></tr><tr><td>2000</td><td>&quot;Yes&quot;</td><td>null</td><td>null</td><td>1.0</td><td>0.2</td><td>&quot;3+&quot;</td><td>&quot;ACT Composite&quot;</td></tr><tr><td>1990</td><td>&quot;Yes&quot;</td><td>null</td><td>null</td><td>1.0</td><td>0.4</td><td>&quot;3+&quot;</td><td>&quot;ACT Composite&quot;</td></tr></tbody></table></div>"
      ],
      "text/plain": [
       "shape: (8, 8)\n",
       "┌──────┬──────────────┬─────────┬──────────────┬────────────┬──────────────┬─────────┬─────────────┐\n",
       "│ Year ┆ Earned at    ┆ Average ┆ Standard     ┆ Percentage ┆ Standard     ┆ Course  ┆ Measure     │\n",
       "│ ---  ┆ least 3      ┆ ---     ┆ Error        ┆ ---        ┆ Error        ┆ Credits ┆ ---         │\n",
       "│ i64  ┆ credits in   ┆ f64     ┆ (Average)    ┆ f64        ┆ (Percentage) ┆ ---     ┆ str         │\n",
       "│      ┆ m…           ┆         ┆ ---          ┆            ┆ ---          ┆ str     ┆             │\n",
       "│      ┆ ---          ┆         ┆ f64          ┆            ┆ f64          ┆         ┆             │\n",
       "│      ┆ str          ┆         ┆              ┆            ┆              ┆         ┆             │\n",
       "╞══════╪══════════════╪═════════╪══════════════╪════════════╪══════════════╪═════════╪═════════════╡\n",
       "│ 2019 ┆ No           ┆ 20.62   ┆ 0.295        ┆ 99.0       ┆ 0.2          ┆ <3      ┆ ACT         │\n",
       "│      ┆              ┆         ┆              ┆            ┆              ┆         ┆ Composite   │\n",
       "│ 2009 ┆ No           ┆ 21.37   ┆ 0.167        ┆ 100.0      ┆ 0.1          ┆ <3      ┆ ACT         │\n",
       "│      ┆              ┆         ┆              ┆            ┆              ┆         ┆ Composite   │\n",
       "│ 2000 ┆ No           ┆ 21.69   ┆ 0.205        ┆ 99.0       ┆ 0.2          ┆ <3      ┆ ACT         │\n",
       "│      ┆              ┆         ┆              ┆            ┆              ┆         ┆ Composite   │\n",
       "│ 1990 ┆ No           ┆ 19.93   ┆ 0.223        ┆ 99.0       ┆ 0.4          ┆ <3      ┆ ACT         │\n",
       "│      ┆              ┆         ┆              ┆            ┆              ┆         ┆ Composite   │\n",
       "│ 2019 ┆ Yes          ┆ null    ┆ null         ┆ 1.0        ┆ 0.2          ┆ 3+      ┆ ACT         │\n",
       "│      ┆              ┆         ┆              ┆            ┆              ┆         ┆ Composite   │\n",
       "│ 2009 ┆ Yes          ┆ null    ┆ null         ┆ null       ┆ 0.1          ┆ 3+      ┆ ACT         │\n",
       "│      ┆              ┆         ┆              ┆            ┆              ┆         ┆ Composite   │\n",
       "│ 2000 ┆ Yes          ┆ null    ┆ null         ┆ 1.0        ┆ 0.2          ┆ 3+      ┆ ACT         │\n",
       "│      ┆              ┆         ┆              ┆            ┆              ┆         ┆ Composite   │\n",
       "│ 1990 ┆ Yes          ┆ null    ┆ null         ┆ 1.0        ┆ 0.4          ┆ 3+      ┆ ACT         │\n",
       "│      ┆              ┆         ┆              ┆            ┆              ┆         ┆ Composite   │\n",
       "└──────┴──────────────┴─────────┴──────────────┴────────────┴──────────────┴─────────┴─────────────┘"
      ]
     },
     "metadata": {},
     "output_type": "display_data"
    }
   ],
   "source": [
    "mfgc1 = pl.concat(\n",
    "    [\n",
    "        pl.read_csv(path, has_header=True).with_columns(MEASURE=pl.lit(path.stem.split(\"_\")[-1]))\n",
    "        for path in Path(\"data/nces/hsts/csv\").glob(\"HSTS_API_MFGC1_*.csv\")\n",
    "    ]\n",
    ").filter(\n",
    "    pl.col(\"Earned at least 1 credit in manufacturing courses? (SCED)\") != \"Missing\"\n",
    ").with_columns(\n",
    "    pl.col(\"Earned at least 1 credit in manufacturing courses? (SCED)\").replace(\n",
    "        {\n",
    "            \"Yes\": \"1+\",\n",
    "            \"No\": \"0\",\n",
    "        }\n",
    "    ).alias(\"Course Credits\"),\n",
    "    pl.col(\"MEASURE\").replace(\n",
    "        {\n",
    "            \"SATMAT\": \"SAT Math\",\n",
    "            \"SATVRB\": \"SAT Verbal\",\n",
    "            \"ACTCMP\": \"ACT Composite\",\n",
    "        }\n",
    "    ).alias(\"Measure\"),\n",
    ").drop(\"Jurisdiction\", \"MEASURE\")\n",
    "display(mfgc1)\n",
    "\n",
    "mfgc3 = pl.concat(\n",
    "    [\n",
    "        pl.read_csv(path, has_header=True).with_columns(MEASURE=pl.lit(path.stem.split(\"_\")[-1]))\n",
    "        for path in Path(\"data/nces/hsts/csv\").glob(\"HSTS_API_MFGC3_*.csv\")\n",
    "    ]\n",
    ").filter(\n",
    "    pl.col(\"Earned at least 3 credits in manufacturing courses? (SCED)\") != \"Missing\"\n",
    ").with_columns(\n",
    "    pl.col(\"Earned at least 3 credits in manufacturing courses? (SCED)\").replace(\n",
    "        {\n",
    "            \"Yes\": \"3+\",\n",
    "            \"No\": \"<3\",\n",
    "        }\n",
    "    ).alias(\"Course Credits\"),\n",
    "    pl.col(\"MEASURE\").replace(\n",
    "        {\n",
    "            \"SATMAT\": \"SAT Math\",\n",
    "            \"SATVRB\": \"SAT Verbal\",\n",
    "            \"ACTCMP\": \"ACT Composite\",\n",
    "        }\n",
    "    ).alias(\"Measure\"),\n",
    ").drop(\"Jurisdiction\", \"MEASURE\")\n",
    "display(mfgc3)\n"
   ]
  },
  {
   "cell_type": "code",
   "execution_count": 8,
   "metadata": {},
   "outputs": [
    {
     "data": {
      "text/html": [
       "<div><style>\n",
       ".dataframe > thead > tr,\n",
       ".dataframe > tbody > tr {\n",
       "  text-align: right;\n",
       "  white-space: pre-wrap;\n",
       "}\n",
       "</style>\n",
       "<small>shape: (24, 8)</small><table border=\"1\" class=\"dataframe\"><thead><tr><th>Year</th><th>Earned at least 1 credit in transportation, distribution, and logistics courses? (SCED)</th><th>Average</th><th>Standard Error (Average)</th><th>Percentage</th><th>Standard Error (Percentage)</th><th>Course Credits</th><th>Measure</th></tr><tr><td>i64</td><td>str</td><td>f64</td><td>f64</td><td>f64</td><td>f64</td><td>str</td><td>str</td></tr></thead><tbody><tr><td>2019</td><td>&quot;No&quot;</td><td>523.64</td><td>5.554</td><td>94.0</td><td>1.4</td><td>&quot;0&quot;</td><td>&quot;SAT Math&quot;</td></tr><tr><td>2009</td><td>&quot;No&quot;</td><td>505.47</td><td>5.135</td><td>98.0</td><td>0.4</td><td>&quot;0&quot;</td><td>&quot;SAT Math&quot;</td></tr><tr><td>2000</td><td>&quot;No&quot;</td><td>533.18</td><td>6.579</td><td>97.0</td><td>0.7</td><td>&quot;0&quot;</td><td>&quot;SAT Math&quot;</td></tr><tr><td>1990</td><td>&quot;No&quot;</td><td>485.27</td><td>7.684</td><td>98.0</td><td>0.6</td><td>&quot;0&quot;</td><td>&quot;SAT Math&quot;</td></tr><tr><td>2019</td><td>&quot;Yes&quot;</td><td>468.18</td><td>11.593</td><td>6.0</td><td>1.4</td><td>&quot;1+&quot;</td><td>&quot;SAT Math&quot;</td></tr><tr><td>&hellip;</td><td>&hellip;</td><td>&hellip;</td><td>&hellip;</td><td>&hellip;</td><td>&hellip;</td><td>&hellip;</td><td>&hellip;</td></tr><tr><td>1990</td><td>&quot;No&quot;</td><td>19.89</td><td>0.22</td><td>97.0</td><td>0.8</td><td>&quot;0&quot;</td><td>&quot;ACT Composite&quot;</td></tr><tr><td>2019</td><td>&quot;Yes&quot;</td><td>17.19</td><td>0.464</td><td>4.0</td><td>0.6</td><td>&quot;1+&quot;</td><td>&quot;ACT Composite&quot;</td></tr><tr><td>2009</td><td>&quot;Yes&quot;</td><td>18.36</td><td>0.345</td><td>4.0</td><td>0.5</td><td>&quot;1+&quot;</td><td>&quot;ACT Composite&quot;</td></tr><tr><td>2000</td><td>&quot;Yes&quot;</td><td>19.52</td><td>0.585</td><td>4.0</td><td>1.1</td><td>&quot;1+&quot;</td><td>&quot;ACT Composite&quot;</td></tr><tr><td>1990</td><td>&quot;Yes&quot;</td><td>20.63</td><td>0.758</td><td>3.0</td><td>0.8</td><td>&quot;1+&quot;</td><td>&quot;ACT Composite&quot;</td></tr></tbody></table></div>"
      ],
      "text/plain": [
       "shape: (24, 8)\n",
       "┌──────┬──────────────┬─────────┬──────────────┬────────────┬──────────────┬─────────┬─────────────┐\n",
       "│ Year ┆ Earned at    ┆ Average ┆ Standard     ┆ Percentage ┆ Standard     ┆ Course  ┆ Measure     │\n",
       "│ ---  ┆ least 1      ┆ ---     ┆ Error        ┆ ---        ┆ Error        ┆ Credits ┆ ---         │\n",
       "│ i64  ┆ credit in    ┆ f64     ┆ (Average)    ┆ f64        ┆ (Percentage) ┆ ---     ┆ str         │\n",
       "│      ┆ tr…          ┆         ┆ ---          ┆            ┆ ---          ┆ str     ┆             │\n",
       "│      ┆ ---          ┆         ┆ f64          ┆            ┆ f64          ┆         ┆             │\n",
       "│      ┆ str          ┆         ┆              ┆            ┆              ┆         ┆             │\n",
       "╞══════╪══════════════╪═════════╪══════════════╪════════════╪══════════════╪═════════╪═════════════╡\n",
       "│ 2019 ┆ No           ┆ 523.64  ┆ 5.554        ┆ 94.0       ┆ 1.4          ┆ 0       ┆ SAT Math    │\n",
       "│ 2009 ┆ No           ┆ 505.47  ┆ 5.135        ┆ 98.0       ┆ 0.4          ┆ 0       ┆ SAT Math    │\n",
       "│ 2000 ┆ No           ┆ 533.18  ┆ 6.579        ┆ 97.0       ┆ 0.7          ┆ 0       ┆ SAT Math    │\n",
       "│ 1990 ┆ No           ┆ 485.27  ┆ 7.684        ┆ 98.0       ┆ 0.6          ┆ 0       ┆ SAT Math    │\n",
       "│ 2019 ┆ Yes          ┆ 468.18  ┆ 11.593       ┆ 6.0        ┆ 1.4          ┆ 1+      ┆ SAT Math    │\n",
       "│ …    ┆ …            ┆ …       ┆ …            ┆ …          ┆ …            ┆ …       ┆ …           │\n",
       "│ 1990 ┆ No           ┆ 19.89   ┆ 0.22         ┆ 97.0       ┆ 0.8          ┆ 0       ┆ ACT         │\n",
       "│      ┆              ┆         ┆              ┆            ┆              ┆         ┆ Composite   │\n",
       "│ 2019 ┆ Yes          ┆ 17.19   ┆ 0.464        ┆ 4.0        ┆ 0.6          ┆ 1+      ┆ ACT         │\n",
       "│      ┆              ┆         ┆              ┆            ┆              ┆         ┆ Composite   │\n",
       "│ 2009 ┆ Yes          ┆ 18.36   ┆ 0.345        ┆ 4.0        ┆ 0.5          ┆ 1+      ┆ ACT         │\n",
       "│      ┆              ┆         ┆              ┆            ┆              ┆         ┆ Composite   │\n",
       "│ 2000 ┆ Yes          ┆ 19.52   ┆ 0.585        ┆ 4.0        ┆ 1.1          ┆ 1+      ┆ ACT         │\n",
       "│      ┆              ┆         ┆              ┆            ┆              ┆         ┆ Composite   │\n",
       "│ 1990 ┆ Yes          ┆ 20.63   ┆ 0.758        ┆ 3.0        ┆ 0.8          ┆ 1+      ┆ ACT         │\n",
       "│      ┆              ┆         ┆              ┆            ┆              ┆         ┆ Composite   │\n",
       "└──────┴──────────────┴─────────┴──────────────┴────────────┴──────────────┴─────────┴─────────────┘"
      ]
     },
     "metadata": {},
     "output_type": "display_data"
    },
    {
     "data": {
      "text/html": [
       "<div><style>\n",
       ".dataframe > thead > tr,\n",
       ".dataframe > tbody > tr {\n",
       "  text-align: right;\n",
       "  white-space: pre-wrap;\n",
       "}\n",
       "</style>\n",
       "<small>shape: (8, 8)</small><table border=\"1\" class=\"dataframe\"><thead><tr><th>Year</th><th>Earned at least 3 credits in transportation, distribution, and logistics courses? (SCED)</th><th>Average</th><th>Standard Error (Average)</th><th>Percentage</th><th>Standard Error (Percentage)</th><th>Course Credits</th><th>Measure</th></tr><tr><td>i64</td><td>str</td><td>f64</td><td>f64</td><td>f64</td><td>f64</td><td>str</td><td>str</td></tr></thead><tbody><tr><td>2019</td><td>&quot;No&quot;</td><td>20.63</td><td>0.292</td><td>99.0</td><td>0.3</td><td>&quot;&lt;3&quot;</td><td>&quot;ACT Composite&quot;</td></tr><tr><td>2009</td><td>&quot;No&quot;</td><td>21.4</td><td>0.169</td><td>99.0</td><td>0.2</td><td>&quot;&lt;3&quot;</td><td>&quot;ACT Composite&quot;</td></tr><tr><td>2000</td><td>&quot;No&quot;</td><td>21.7</td><td>0.204</td><td>99.0</td><td>0.3</td><td>&quot;&lt;3&quot;</td><td>&quot;ACT Composite&quot;</td></tr><tr><td>1990</td><td>&quot;No&quot;</td><td>19.91</td><td>0.22</td><td>100.0</td><td>0.2</td><td>&quot;&lt;3&quot;</td><td>&quot;ACT Composite&quot;</td></tr><tr><td>2019</td><td>&quot;Yes&quot;</td><td>null</td><td>null</td><td>1.0</td><td>0.3</td><td>&quot;3+&quot;</td><td>&quot;ACT Composite&quot;</td></tr><tr><td>2009</td><td>&quot;Yes&quot;</td><td>17.72</td><td>0.531</td><td>1.0</td><td>0.2</td><td>&quot;3+&quot;</td><td>&quot;ACT Composite&quot;</td></tr><tr><td>2000</td><td>&quot;Yes&quot;</td><td>null</td><td>null</td><td>1.0</td><td>0.3</td><td>&quot;3+&quot;</td><td>&quot;ACT Composite&quot;</td></tr><tr><td>1990</td><td>&quot;Yes&quot;</td><td>null</td><td>null</td><td>null</td><td>0.2</td><td>&quot;3+&quot;</td><td>&quot;ACT Composite&quot;</td></tr></tbody></table></div>"
      ],
      "text/plain": [
       "shape: (8, 8)\n",
       "┌──────┬──────────────┬─────────┬──────────────┬────────────┬──────────────┬─────────┬─────────────┐\n",
       "│ Year ┆ Earned at    ┆ Average ┆ Standard     ┆ Percentage ┆ Standard     ┆ Course  ┆ Measure     │\n",
       "│ ---  ┆ least 3      ┆ ---     ┆ Error        ┆ ---        ┆ Error        ┆ Credits ┆ ---         │\n",
       "│ i64  ┆ credits in   ┆ f64     ┆ (Average)    ┆ f64        ┆ (Percentage) ┆ ---     ┆ str         │\n",
       "│      ┆ t…           ┆         ┆ ---          ┆            ┆ ---          ┆ str     ┆             │\n",
       "│      ┆ ---          ┆         ┆ f64          ┆            ┆ f64          ┆         ┆             │\n",
       "│      ┆ str          ┆         ┆              ┆            ┆              ┆         ┆             │\n",
       "╞══════╪══════════════╪═════════╪══════════════╪════════════╪══════════════╪═════════╪═════════════╡\n",
       "│ 2019 ┆ No           ┆ 20.63   ┆ 0.292        ┆ 99.0       ┆ 0.3          ┆ <3      ┆ ACT         │\n",
       "│      ┆              ┆         ┆              ┆            ┆              ┆         ┆ Composite   │\n",
       "│ 2009 ┆ No           ┆ 21.4    ┆ 0.169        ┆ 99.0       ┆ 0.2          ┆ <3      ┆ ACT         │\n",
       "│      ┆              ┆         ┆              ┆            ┆              ┆         ┆ Composite   │\n",
       "│ 2000 ┆ No           ┆ 21.7    ┆ 0.204        ┆ 99.0       ┆ 0.3          ┆ <3      ┆ ACT         │\n",
       "│      ┆              ┆         ┆              ┆            ┆              ┆         ┆ Composite   │\n",
       "│ 1990 ┆ No           ┆ 19.91   ┆ 0.22         ┆ 100.0      ┆ 0.2          ┆ <3      ┆ ACT         │\n",
       "│      ┆              ┆         ┆              ┆            ┆              ┆         ┆ Composite   │\n",
       "│ 2019 ┆ Yes          ┆ null    ┆ null         ┆ 1.0        ┆ 0.3          ┆ 3+      ┆ ACT         │\n",
       "│      ┆              ┆         ┆              ┆            ┆              ┆         ┆ Composite   │\n",
       "│ 2009 ┆ Yes          ┆ 17.72   ┆ 0.531        ┆ 1.0        ┆ 0.2          ┆ 3+      ┆ ACT         │\n",
       "│      ┆              ┆         ┆              ┆            ┆              ┆         ┆ Composite   │\n",
       "│ 2000 ┆ Yes          ┆ null    ┆ null         ┆ 1.0        ┆ 0.3          ┆ 3+      ┆ ACT         │\n",
       "│      ┆              ┆         ┆              ┆            ┆              ┆         ┆ Composite   │\n",
       "│ 1990 ┆ Yes          ┆ null    ┆ null         ┆ null       ┆ 0.2          ┆ 3+      ┆ ACT         │\n",
       "│      ┆              ┆         ┆              ┆            ┆              ┆         ┆ Composite   │\n",
       "└──────┴──────────────┴─────────┴──────────────┴────────────┴──────────────┴─────────┴─────────────┘"
      ]
     },
     "metadata": {},
     "output_type": "display_data"
    }
   ],
   "source": [
    "tdlc1 = pl.concat(\n",
    "    [\n",
    "        pl.read_csv(path, has_header=True).with_columns(MEASURE=pl.lit(path.stem.split(\"_\")[-1]))\n",
    "        for path in Path(\"data/nces/hsts/csv\").glob(\"HSTS_API_TDLC1_*.csv\")\n",
    "    ]\n",
    ").filter(\n",
    "    pl.col(\"Earned at least 1 credit in transportation, distribution, and logistics courses? (SCED)\") != \"Missing\"\n",
    ").with_columns(\n",
    "    pl.col(\"Earned at least 1 credit in transportation, distribution, and logistics courses? (SCED)\").replace(\n",
    "        {\n",
    "            \"Yes\": \"1+\",\n",
    "            \"No\": \"0\",\n",
    "        }\n",
    "    ).alias(\"Course Credits\"),\n",
    "    pl.col(\"MEASURE\").replace(\n",
    "        {\n",
    "            \"SATMAT\": \"SAT Math\",\n",
    "            \"SATVRB\": \"SAT Verbal\",\n",
    "            \"ACTCMP\": \"ACT Composite\",\n",
    "        }\n",
    "    ).alias(\"Measure\"),\n",
    ").drop(\"Jurisdiction\", \"MEASURE\")\n",
    "display(tdlc1)\n",
    "\n",
    "tdlc3 = pl.concat(\n",
    "    [\n",
    "        pl.read_csv(path, has_header=True).with_columns(MEASURE=pl.lit(path.stem.split(\"_\")[-1]))\n",
    "        for path in Path(\"data/nces/hsts/csv\").glob(\"HSTS_API_TDLC3_*.csv\")\n",
    "    ]\n",
    ").filter(\n",
    "    pl.col(\"Earned at least 3 credits in transportation, distribution, and logistics courses? (SCED)\") != \"Missing\"\n",
    ").with_columns(\n",
    "    pl.col(\"Earned at least 3 credits in transportation, distribution, and logistics courses? (SCED)\").replace(\n",
    "        {\n",
    "            \"Yes\": \"3+\",\n",
    "            \"No\": \"<3\",\n",
    "        }\n",
    "    ).alias(\"Course Credits\"),\n",
    "    pl.col(\"MEASURE\").replace(\n",
    "        {\n",
    "            \"SATMAT\": \"SAT Math\",\n",
    "            \"SATVRB\": \"SAT Verbal\",\n",
    "            \"ACTCMP\": \"ACT Composite\",\n",
    "        }\n",
    "    ).alias(\"Measure\"),\n",
    ").drop(\"Jurisdiction\", \"MEASURE\")\n",
    "display(tdlc3)"
   ]
  },
  {
   "cell_type": "code",
   "execution_count": 9,
   "metadata": {},
   "outputs": [
    {
     "data": {
      "application/vnd.plotly.v1+json": {
       "config": {
        "plotlyServerURL": "https://plot.ly"
       },
       "data": [
        {
         "error_y": {
          "array": [
           0.04595744680851064,
           0.044468085106382976,
           0.03372549019607843,
           0.0618
          ]
         },
         "hovertemplate": "Course Credits=0<br>Course=Agriculture, Food, and Natural Resources<br>Year=%{x}<br>Z-Score=%{y}<extra></extra>",
         "legendgroup": "0",
         "line": {
          "color": "rgb(161, 105, 40)",
          "dash": "solid"
         },
         "marker": {
          "symbol": "circle"
         },
         "mode": "lines",
         "name": "0",
         "orientation": "v",
         "showlegend": true,
         "type": "scatter",
         "x": [
          1990,
          2000,
          2009,
          2019
         ],
         "xaxis": "x3",
         "y": [
          0.04042553191489389,
          0.03829787234042547,
          0.04509803921568566,
          0.048000000000000397
         ],
         "yaxis": "y3"
        },
        {
         "error_y": {
          "array": [
           0.04936170212765958,
           0.044893617021276595,
           0.03392156862745098,
           0.061399999999999996
          ]
         },
         "hovertemplate": "Course Credits=0<br>Course=Architecture and Construction<br>Year=%{x}<br>Z-Score=%{y}<extra></extra>",
         "legendgroup": "0",
         "line": {
          "color": "rgb(161, 105, 40)",
          "dash": "solid"
         },
         "marker": {
          "symbol": "circle"
         },
         "mode": "lines",
         "name": "0",
         "orientation": "v",
         "showlegend": false,
         "type": "scatter",
         "x": [
          1990,
          2000,
          2009,
          2019
         ],
         "xaxis": "x4",
         "y": [
          0.02978723404255331,
          0.03404255319148939,
          0.025490196078431178,
          0.038000000000000256
         ],
         "yaxis": "y4"
        },
        {
         "error_y": {
          "array": [
           0.04531914893617021,
           0.043191489361702126,
           0.03313725490196079,
           0.059199999999999996
          ]
         },
         "hovertemplate": "Course Credits=0<br>Course=Manufacturing<br>Year=%{x}<br>Z-Score=%{y}<extra></extra>",
         "legendgroup": "0",
         "line": {
          "color": "rgb(161, 105, 40)",
          "dash": "solid"
         },
         "marker": {
          "symbol": "circle"
         },
         "mode": "lines",
         "name": "0",
         "orientation": "v",
         "showlegend": false,
         "type": "scatter",
         "x": [
          1990,
          2000,
          2009,
          2019
         ],
         "xaxis": "x",
         "y": [
          0.017021276595744317,
          0.03404255319148939,
          0.023529411764705382,
          0.024000000000000198
         ],
         "yaxis": "y"
        },
        {
         "error_y": {
          "array": [
           0.04680851063829787,
           0.04382978723404255,
           0.03392156862745098,
           0.0598
          ]
         },
         "hovertemplate": "Course Credits=0<br>Course=Transportation, Distribution, and Logistics<br>Year=%{x}<br>Z-Score=%{y}<extra></extra>",
         "legendgroup": "0",
         "line": {
          "color": "rgb(161, 105, 40)",
          "dash": "solid"
         },
         "marker": {
          "symbol": "circle"
         },
         "mode": "lines",
         "name": "0",
         "orientation": "v",
         "showlegend": false,
         "type": "scatter",
         "x": [
          1990,
          2000,
          2009,
          2019
         ],
         "xaxis": "x2",
         "y": [
          -0.004255319148936079,
          0.017021276595744317,
          0.02156862745098028,
          0.028000000000000115
         ],
         "yaxis": "y2"
        },
        {
         "error_y": {
          "array": [
           0.13936170212765958,
           0.1004255319148936,
           0.05803921568627451,
           0.0606
          ]
         },
         "hovertemplate": "Course Credits=1+<br>Course=Agriculture, Food, and Natural Resources<br>Year=%{x}<br>Z-Score=%{y}<extra></extra>",
         "legendgroup": "1+",
         "line": {
          "color": "rgb(40, 135, 161)",
          "dash": "solid"
         },
         "marker": {
          "symbol": "circle"
         },
         "mode": "lines",
         "name": "1+",
         "orientation": "v",
         "showlegend": true,
         "type": "scatter",
         "x": [
          1990,
          2000,
          2009,
          2019
         ],
         "xaxis": "x3",
         "y": [
          -0.5148936170212769,
          -0.38936170212765997,
          -0.3921568627450981,
          -0.3739999999999995
         ],
         "yaxis": "y3"
        },
        {
         "error_y": {
          "array": [
           0.11127659574468085,
           0.08063829787234042,
           0.0707843137254902,
           0.0948
          ]
         },
         "hovertemplate": "Course Credits=1+<br>Course=Architecture and Construction<br>Year=%{x}<br>Z-Score=%{y}<extra></extra>",
         "legendgroup": "1+",
         "line": {
          "color": "rgb(40, 135, 161)",
          "dash": "solid"
         },
         "marker": {
          "symbol": "circle"
         },
         "mode": "lines",
         "name": "1+",
         "orientation": "v",
         "showlegend": false,
         "type": "scatter",
         "x": [
          1990,
          2000,
          2009,
          2019
         ],
         "xaxis": "x4",
         "y": [
          -0.36382978723404275,
          -0.40425531914893587,
          -0.3921568627450981,
          -0.4699999999999996
         ],
         "yaxis": "y4"
        },
        {
         "error_y": {
          "array": [
           0.17765957446808509,
           0.09680851063829787,
           0.05549019607843137,
           0.091
          ]
         },
         "hovertemplate": "Course Credits=1+<br>Course=Manufacturing<br>Year=%{x}<br>Z-Score=%{y}<extra></extra>",
         "legendgroup": "1+",
         "line": {
          "color": "rgb(40, 135, 161)",
          "dash": "solid"
         },
         "marker": {
          "symbol": "circle"
         },
         "mode": "lines",
         "name": "1+",
         "orientation": "v",
         "showlegend": false,
         "type": "scatter",
         "x": [
          1990,
          2000,
          2009,
          2019
         ],
         "xaxis": "x",
         "y": [
          -0.2787234042553189,
          -0.4553191489361703,
          -0.5058823529411769,
          -0.5479999999999997
         ],
         "yaxis": "y"
        },
        {
         "error_y": {
          "array": [
           0.16127659574468084,
           0.12446808510638296,
           0.06764705882352941,
           0.09280000000000001
          ]
         },
         "hovertemplate": "Course Credits=1+<br>Course=Transportation, Distribution, and Logistics<br>Year=%{x}<br>Z-Score=%{y}<extra></extra>",
         "legendgroup": "1+",
         "line": {
          "color": "rgb(40, 135, 161)",
          "dash": "solid"
         },
         "marker": {
          "symbol": "circle"
         },
         "mode": "lines",
         "name": "1+",
         "orientation": "v",
         "showlegend": false,
         "type": "scatter",
         "x": [
          1990,
          2000,
          2009,
          2019
         ],
         "xaxis": "x2",
         "y": [
          0.15319148936170188,
          -0.4553191489361703,
          -0.586274509803922,
          -0.6779999999999994
         ],
         "yaxis": "y2"
        }
       ],
       "layout": {
        "annotations": [
         {
          "showarrow": false,
          "text": "Manufacturing",
          "x": 0.245,
          "xanchor": "center",
          "xref": "paper",
          "y": 0.46499999999999997,
          "yanchor": "bottom",
          "yref": "paper"
         },
         {
          "showarrow": false,
          "text": "Transportation, Distribution, and Logistics",
          "x": 0.755,
          "xanchor": "center",
          "xref": "paper",
          "y": 0.46499999999999997,
          "yanchor": "bottom",
          "yref": "paper"
         },
         {
          "showarrow": false,
          "text": "Agriculture, Food, and Natural Resources",
          "x": 0.245,
          "xanchor": "center",
          "xref": "paper",
          "y": 0.9999999999999999,
          "yanchor": "bottom",
          "yref": "paper"
         },
         {
          "showarrow": false,
          "text": "Architecture and Construction",
          "x": 0.755,
          "xanchor": "center",
          "xref": "paper",
          "y": 0.9999999999999999,
          "yanchor": "bottom",
          "yref": "paper"
         },
         {
          "align": "right",
          "font": {
           "color": "grey",
           "size": 10
          },
          "opacity": 0.7,
          "showarrow": false,
          "text": "Chart by Dominic Tarro | 𝕏 @dominictarro<br>Source: NCES High School Transcript Survey (1990, 2000, 2009, 2019)<br>Note: Bars represent normalized NCES Standard Error<br>Z-Scores are calculated as (Course Average - Sample Average) / National Standard Deviation",
          "x": 1.072,
          "xref": "paper",
          "y": -0.16,
          "yref": "paper"
         }
        ],
        "height": 800,
        "legend": {
         "orientation": "h",
         "title": {
          "text": "Credits in Subject"
         },
         "tracegroupgap": 0
        },
        "paper_bgcolor": "#171717",
        "plot_bgcolor": "#171717",
        "template": {
         "data": {
          "bar": [
           {
            "error_x": {
             "color": "#f2f5fa"
            },
            "error_y": {
             "color": "#f2f5fa"
            },
            "marker": {
             "line": {
              "color": "rgb(17,17,17)",
              "width": 0.5
             },
             "pattern": {
              "fillmode": "overlay",
              "size": 10,
              "solidity": 0.2
             }
            },
            "type": "bar"
           }
          ],
          "barpolar": [
           {
            "marker": {
             "line": {
              "color": "rgb(17,17,17)",
              "width": 0.5
             },
             "pattern": {
              "fillmode": "overlay",
              "size": 10,
              "solidity": 0.2
             }
            },
            "type": "barpolar"
           }
          ],
          "carpet": [
           {
            "aaxis": {
             "endlinecolor": "#A2B1C6",
             "gridcolor": "#506784",
             "linecolor": "#506784",
             "minorgridcolor": "#506784",
             "startlinecolor": "#A2B1C6"
            },
            "baxis": {
             "endlinecolor": "#A2B1C6",
             "gridcolor": "#506784",
             "linecolor": "#506784",
             "minorgridcolor": "#506784",
             "startlinecolor": "#A2B1C6"
            },
            "type": "carpet"
           }
          ],
          "choropleth": [
           {
            "colorbar": {
             "outlinewidth": 0,
             "ticks": ""
            },
            "type": "choropleth"
           }
          ],
          "contour": [
           {
            "colorbar": {
             "outlinewidth": 0,
             "ticks": ""
            },
            "colorscale": [
             [
              0,
              "#0d0887"
             ],
             [
              0.1111111111111111,
              "#46039f"
             ],
             [
              0.2222222222222222,
              "#7201a8"
             ],
             [
              0.3333333333333333,
              "#9c179e"
             ],
             [
              0.4444444444444444,
              "#bd3786"
             ],
             [
              0.5555555555555556,
              "#d8576b"
             ],
             [
              0.6666666666666666,
              "#ed7953"
             ],
             [
              0.7777777777777778,
              "#fb9f3a"
             ],
             [
              0.8888888888888888,
              "#fdca26"
             ],
             [
              1,
              "#f0f921"
             ]
            ],
            "type": "contour"
           }
          ],
          "contourcarpet": [
           {
            "colorbar": {
             "outlinewidth": 0,
             "ticks": ""
            },
            "type": "contourcarpet"
           }
          ],
          "heatmap": [
           {
            "colorbar": {
             "outlinewidth": 0,
             "ticks": ""
            },
            "colorscale": [
             [
              0,
              "#0d0887"
             ],
             [
              0.1111111111111111,
              "#46039f"
             ],
             [
              0.2222222222222222,
              "#7201a8"
             ],
             [
              0.3333333333333333,
              "#9c179e"
             ],
             [
              0.4444444444444444,
              "#bd3786"
             ],
             [
              0.5555555555555556,
              "#d8576b"
             ],
             [
              0.6666666666666666,
              "#ed7953"
             ],
             [
              0.7777777777777778,
              "#fb9f3a"
             ],
             [
              0.8888888888888888,
              "#fdca26"
             ],
             [
              1,
              "#f0f921"
             ]
            ],
            "type": "heatmap"
           }
          ],
          "heatmapgl": [
           {
            "colorbar": {
             "outlinewidth": 0,
             "ticks": ""
            },
            "colorscale": [
             [
              0,
              "#0d0887"
             ],
             [
              0.1111111111111111,
              "#46039f"
             ],
             [
              0.2222222222222222,
              "#7201a8"
             ],
             [
              0.3333333333333333,
              "#9c179e"
             ],
             [
              0.4444444444444444,
              "#bd3786"
             ],
             [
              0.5555555555555556,
              "#d8576b"
             ],
             [
              0.6666666666666666,
              "#ed7953"
             ],
             [
              0.7777777777777778,
              "#fb9f3a"
             ],
             [
              0.8888888888888888,
              "#fdca26"
             ],
             [
              1,
              "#f0f921"
             ]
            ],
            "type": "heatmapgl"
           }
          ],
          "histogram": [
           {
            "marker": {
             "pattern": {
              "fillmode": "overlay",
              "size": 10,
              "solidity": 0.2
             }
            },
            "type": "histogram"
           }
          ],
          "histogram2d": [
           {
            "colorbar": {
             "outlinewidth": 0,
             "ticks": ""
            },
            "colorscale": [
             [
              0,
              "#0d0887"
             ],
             [
              0.1111111111111111,
              "#46039f"
             ],
             [
              0.2222222222222222,
              "#7201a8"
             ],
             [
              0.3333333333333333,
              "#9c179e"
             ],
             [
              0.4444444444444444,
              "#bd3786"
             ],
             [
              0.5555555555555556,
              "#d8576b"
             ],
             [
              0.6666666666666666,
              "#ed7953"
             ],
             [
              0.7777777777777778,
              "#fb9f3a"
             ],
             [
              0.8888888888888888,
              "#fdca26"
             ],
             [
              1,
              "#f0f921"
             ]
            ],
            "type": "histogram2d"
           }
          ],
          "histogram2dcontour": [
           {
            "colorbar": {
             "outlinewidth": 0,
             "ticks": ""
            },
            "colorscale": [
             [
              0,
              "#0d0887"
             ],
             [
              0.1111111111111111,
              "#46039f"
             ],
             [
              0.2222222222222222,
              "#7201a8"
             ],
             [
              0.3333333333333333,
              "#9c179e"
             ],
             [
              0.4444444444444444,
              "#bd3786"
             ],
             [
              0.5555555555555556,
              "#d8576b"
             ],
             [
              0.6666666666666666,
              "#ed7953"
             ],
             [
              0.7777777777777778,
              "#fb9f3a"
             ],
             [
              0.8888888888888888,
              "#fdca26"
             ],
             [
              1,
              "#f0f921"
             ]
            ],
            "type": "histogram2dcontour"
           }
          ],
          "mesh3d": [
           {
            "colorbar": {
             "outlinewidth": 0,
             "ticks": ""
            },
            "type": "mesh3d"
           }
          ],
          "parcoords": [
           {
            "line": {
             "colorbar": {
              "outlinewidth": 0,
              "ticks": ""
             }
            },
            "type": "parcoords"
           }
          ],
          "pie": [
           {
            "automargin": true,
            "type": "pie"
           }
          ],
          "scatter": [
           {
            "marker": {
             "line": {
              "color": "#283442"
             }
            },
            "type": "scatter"
           }
          ],
          "scatter3d": [
           {
            "line": {
             "colorbar": {
              "outlinewidth": 0,
              "ticks": ""
             }
            },
            "marker": {
             "colorbar": {
              "outlinewidth": 0,
              "ticks": ""
             }
            },
            "type": "scatter3d"
           }
          ],
          "scattercarpet": [
           {
            "marker": {
             "colorbar": {
              "outlinewidth": 0,
              "ticks": ""
             }
            },
            "type": "scattercarpet"
           }
          ],
          "scattergeo": [
           {
            "marker": {
             "colorbar": {
              "outlinewidth": 0,
              "ticks": ""
             }
            },
            "type": "scattergeo"
           }
          ],
          "scattergl": [
           {
            "marker": {
             "line": {
              "color": "#283442"
             }
            },
            "type": "scattergl"
           }
          ],
          "scattermapbox": [
           {
            "marker": {
             "colorbar": {
              "outlinewidth": 0,
              "ticks": ""
             }
            },
            "type": "scattermapbox"
           }
          ],
          "scatterpolar": [
           {
            "marker": {
             "colorbar": {
              "outlinewidth": 0,
              "ticks": ""
             }
            },
            "type": "scatterpolar"
           }
          ],
          "scatterpolargl": [
           {
            "marker": {
             "colorbar": {
              "outlinewidth": 0,
              "ticks": ""
             }
            },
            "type": "scatterpolargl"
           }
          ],
          "scatterternary": [
           {
            "marker": {
             "colorbar": {
              "outlinewidth": 0,
              "ticks": ""
             }
            },
            "type": "scatterternary"
           }
          ],
          "surface": [
           {
            "colorbar": {
             "outlinewidth": 0,
             "ticks": ""
            },
            "colorscale": [
             [
              0,
              "#0d0887"
             ],
             [
              0.1111111111111111,
              "#46039f"
             ],
             [
              0.2222222222222222,
              "#7201a8"
             ],
             [
              0.3333333333333333,
              "#9c179e"
             ],
             [
              0.4444444444444444,
              "#bd3786"
             ],
             [
              0.5555555555555556,
              "#d8576b"
             ],
             [
              0.6666666666666666,
              "#ed7953"
             ],
             [
              0.7777777777777778,
              "#fb9f3a"
             ],
             [
              0.8888888888888888,
              "#fdca26"
             ],
             [
              1,
              "#f0f921"
             ]
            ],
            "type": "surface"
           }
          ],
          "table": [
           {
            "cells": {
             "fill": {
              "color": "#506784"
             },
             "line": {
              "color": "rgb(17,17,17)"
             }
            },
            "header": {
             "fill": {
              "color": "#2a3f5f"
             },
             "line": {
              "color": "rgb(17,17,17)"
             }
            },
            "type": "table"
           }
          ]
         },
         "layout": {
          "annotationdefaults": {
           "arrowcolor": "#f2f5fa",
           "arrowhead": 0,
           "arrowwidth": 1
          },
          "autotypenumbers": "strict",
          "coloraxis": {
           "colorbar": {
            "outlinewidth": 0,
            "ticks": ""
           }
          },
          "colorscale": {
           "diverging": [
            [
             0,
             "#8e0152"
            ],
            [
             0.1,
             "#c51b7d"
            ],
            [
             0.2,
             "#de77ae"
            ],
            [
             0.3,
             "#f1b6da"
            ],
            [
             0.4,
             "#fde0ef"
            ],
            [
             0.5,
             "#f7f7f7"
            ],
            [
             0.6,
             "#e6f5d0"
            ],
            [
             0.7,
             "#b8e186"
            ],
            [
             0.8,
             "#7fbc41"
            ],
            [
             0.9,
             "#4d9221"
            ],
            [
             1,
             "#276419"
            ]
           ],
           "sequential": [
            [
             0,
             "#0d0887"
            ],
            [
             0.1111111111111111,
             "#46039f"
            ],
            [
             0.2222222222222222,
             "#7201a8"
            ],
            [
             0.3333333333333333,
             "#9c179e"
            ],
            [
             0.4444444444444444,
             "#bd3786"
            ],
            [
             0.5555555555555556,
             "#d8576b"
            ],
            [
             0.6666666666666666,
             "#ed7953"
            ],
            [
             0.7777777777777778,
             "#fb9f3a"
            ],
            [
             0.8888888888888888,
             "#fdca26"
            ],
            [
             1,
             "#f0f921"
            ]
           ],
           "sequentialminus": [
            [
             0,
             "#0d0887"
            ],
            [
             0.1111111111111111,
             "#46039f"
            ],
            [
             0.2222222222222222,
             "#7201a8"
            ],
            [
             0.3333333333333333,
             "#9c179e"
            ],
            [
             0.4444444444444444,
             "#bd3786"
            ],
            [
             0.5555555555555556,
             "#d8576b"
            ],
            [
             0.6666666666666666,
             "#ed7953"
            ],
            [
             0.7777777777777778,
             "#fb9f3a"
            ],
            [
             0.8888888888888888,
             "#fdca26"
            ],
            [
             1,
             "#f0f921"
            ]
           ]
          },
          "colorway": [
           "#636efa",
           "#EF553B",
           "#00cc96",
           "#ab63fa",
           "#FFA15A",
           "#19d3f3",
           "#FF6692",
           "#B6E880",
           "#FF97FF",
           "#FECB52"
          ],
          "font": {
           "color": "#f2f5fa"
          },
          "geo": {
           "bgcolor": "rgb(17,17,17)",
           "lakecolor": "rgb(17,17,17)",
           "landcolor": "rgb(17,17,17)",
           "showlakes": true,
           "showland": true,
           "subunitcolor": "#506784"
          },
          "hoverlabel": {
           "align": "left"
          },
          "hovermode": "closest",
          "mapbox": {
           "style": "dark"
          },
          "paper_bgcolor": "rgb(17,17,17)",
          "plot_bgcolor": "rgb(17,17,17)",
          "polar": {
           "angularaxis": {
            "gridcolor": "#506784",
            "linecolor": "#506784",
            "ticks": ""
           },
           "bgcolor": "rgb(17,17,17)",
           "radialaxis": {
            "gridcolor": "#506784",
            "linecolor": "#506784",
            "ticks": ""
           }
          },
          "scene": {
           "xaxis": {
            "backgroundcolor": "rgb(17,17,17)",
            "gridcolor": "#506784",
            "gridwidth": 2,
            "linecolor": "#506784",
            "showbackground": true,
            "ticks": "",
            "zerolinecolor": "#C8D4E3"
           },
           "yaxis": {
            "backgroundcolor": "rgb(17,17,17)",
            "gridcolor": "#506784",
            "gridwidth": 2,
            "linecolor": "#506784",
            "showbackground": true,
            "ticks": "",
            "zerolinecolor": "#C8D4E3"
           },
           "zaxis": {
            "backgroundcolor": "rgb(17,17,17)",
            "gridcolor": "#506784",
            "gridwidth": 2,
            "linecolor": "#506784",
            "showbackground": true,
            "ticks": "",
            "zerolinecolor": "#C8D4E3"
           }
          },
          "shapedefaults": {
           "line": {
            "color": "#f2f5fa"
           }
          },
          "sliderdefaults": {
           "bgcolor": "#C8D4E3",
           "bordercolor": "rgb(17,17,17)",
           "borderwidth": 1,
           "tickwidth": 0
          },
          "ternary": {
           "aaxis": {
            "gridcolor": "#506784",
            "linecolor": "#506784",
            "ticks": ""
           },
           "baxis": {
            "gridcolor": "#506784",
            "linecolor": "#506784",
            "ticks": ""
           },
           "bgcolor": "rgb(17,17,17)",
           "caxis": {
            "gridcolor": "#506784",
            "linecolor": "#506784",
            "ticks": ""
           }
          },
          "title": {
           "x": 0.05
          },
          "updatemenudefaults": {
           "bgcolor": "#506784",
           "borderwidth": 0
          },
          "xaxis": {
           "automargin": true,
           "gridcolor": "#283442",
           "linecolor": "#506784",
           "ticks": "",
           "title": {
            "standoff": 15
           },
           "zerolinecolor": "#283442",
           "zerolinewidth": 2
          },
          "yaxis": {
           "automargin": true,
           "gridcolor": "#283442",
           "linecolor": "#506784",
           "ticks": "",
           "title": {
            "standoff": 15
           },
           "zerolinecolor": "#283442",
           "zerolinewidth": 2
          }
         }
        },
        "title": {
         "text": "Mid- and low-aptitude students are abandoning technical subjects"
        },
        "width": 1200,
        "xaxis": {
         "anchor": "y",
         "domain": [
          0,
          0.49
         ],
         "title": {}
        },
        "xaxis2": {
         "anchor": "y2",
         "domain": [
          0.51,
          1
         ],
         "matches": "x",
         "title": {}
        },
        "xaxis3": {
         "anchor": "y3",
         "domain": [
          0,
          0.49
         ],
         "matches": "x",
         "showticklabels": false,
         "title": {}
        },
        "xaxis4": {
         "anchor": "y4",
         "domain": [
          0.51,
          1
         ],
         "matches": "x",
         "showticklabels": false,
         "title": {}
        },
        "yaxis": {
         "anchor": "x",
         "domain": [
          0,
          0.46499999999999997
         ],
         "range": [
          -0.75,
          0.75
         ],
         "title": {
          "text": "Average ACT Z-Score"
         }
        },
        "yaxis2": {
         "anchor": "x2",
         "domain": [
          0,
          0.46499999999999997
         ],
         "matches": "y",
         "showticklabels": false
        },
        "yaxis3": {
         "anchor": "x3",
         "domain": [
          0.5349999999999999,
          0.9999999999999999
         ],
         "matches": "y",
         "range": [
          -0.75,
          0.75
         ],
         "title": {
          "text": "Average ACT Z-Score"
         }
        },
        "yaxis4": {
         "anchor": "x4",
         "domain": [
          0.5349999999999999,
          0.9999999999999999
         ],
         "matches": "y",
         "showticklabels": false
        }
       }
      }
     },
     "metadata": {},
     "output_type": "display_data"
    },
    {
     "data": {
      "text/html": [
       "<div><style>\n",
       ".dataframe > thead > tr,\n",
       ".dataframe > tbody > tr {\n",
       "  text-align: right;\n",
       "  white-space: pre-wrap;\n",
       "}\n",
       "</style>\n",
       "<small>shape: (32, 11)</small><table border=\"1\" class=\"dataframe\"><thead><tr><th>Year</th><th>Course</th><th>Course Credits</th><th>Measure</th><th>Average</th><th>Standard Error (Average)</th><th>Average_national</th><th>Standard Error (Average)_national</th><th>Standard Deviation</th><th>Z-Score</th><th>Standard Error (Z-Score)</th></tr><tr><td>i64</td><td>str</td><td>str</td><td>str</td><td>f64</td><td>f64</td><td>f64</td><td>f64</td><td>f64</td><td>f64</td><td>f64</td></tr></thead><tbody><tr><td>2019</td><td>&quot;Architecture and Construction&quot;</td><td>&quot;0&quot;</td><td>&quot;ACT Composite&quot;</td><td>20.77</td><td>0.307</td><td>20.58</td><td>0.294</td><td>5.0</td><td>0.038</td><td>0.0614</td></tr><tr><td>2009</td><td>&quot;Architecture and Construction&quot;</td><td>&quot;0&quot;</td><td>&quot;ACT Composite&quot;</td><td>21.48</td><td>0.173</td><td>21.35</td><td>0.169</td><td>5.1</td><td>0.02549</td><td>0.033922</td></tr><tr><td>2000</td><td>&quot;Architecture and Construction&quot;</td><td>&quot;0&quot;</td><td>&quot;ACT Composite&quot;</td><td>21.82</td><td>0.211</td><td>21.66</td><td>0.209</td><td>4.7</td><td>0.034043</td><td>0.044894</td></tr><tr><td>1990</td><td>&quot;Architecture and Construction&quot;</td><td>&quot;0&quot;</td><td>&quot;ACT Composite&quot;</td><td>20.05</td><td>0.232</td><td>19.91</td><td>0.225</td><td>4.7</td><td>0.029787</td><td>0.049362</td></tr><tr><td>2019</td><td>&quot;Architecture and Construction&quot;</td><td>&quot;1+&quot;</td><td>&quot;ACT Composite&quot;</td><td>18.23</td><td>0.474</td><td>20.58</td><td>0.294</td><td>5.0</td><td>-0.47</td><td>0.0948</td></tr><tr><td>&hellip;</td><td>&hellip;</td><td>&hellip;</td><td>&hellip;</td><td>&hellip;</td><td>&hellip;</td><td>&hellip;</td><td>&hellip;</td><td>&hellip;</td><td>&hellip;</td><td>&hellip;</td></tr><tr><td>1990</td><td>&quot;Transportation, Distribution, …</td><td>&quot;0&quot;</td><td>&quot;ACT Composite&quot;</td><td>19.89</td><td>0.22</td><td>19.91</td><td>0.225</td><td>4.7</td><td>-0.004255</td><td>0.046809</td></tr><tr><td>2019</td><td>&quot;Transportation, Distribution, …</td><td>&quot;1+&quot;</td><td>&quot;ACT Composite&quot;</td><td>17.19</td><td>0.464</td><td>20.58</td><td>0.294</td><td>5.0</td><td>-0.678</td><td>0.0928</td></tr><tr><td>2009</td><td>&quot;Transportation, Distribution, …</td><td>&quot;1+&quot;</td><td>&quot;ACT Composite&quot;</td><td>18.36</td><td>0.345</td><td>21.35</td><td>0.169</td><td>5.1</td><td>-0.586275</td><td>0.067647</td></tr><tr><td>2000</td><td>&quot;Transportation, Distribution, …</td><td>&quot;1+&quot;</td><td>&quot;ACT Composite&quot;</td><td>19.52</td><td>0.585</td><td>21.66</td><td>0.209</td><td>4.7</td><td>-0.455319</td><td>0.124468</td></tr><tr><td>1990</td><td>&quot;Transportation, Distribution, …</td><td>&quot;1+&quot;</td><td>&quot;ACT Composite&quot;</td><td>20.63</td><td>0.758</td><td>19.91</td><td>0.225</td><td>4.7</td><td>0.153191</td><td>0.161277</td></tr></tbody></table></div>"
      ],
      "text/plain": [
       "shape: (32, 11)\n",
       "┌──────┬────────────┬────────────┬────────────┬───┬────────────┬───────────┬───────────┬───────────┐\n",
       "│ Year ┆ Course     ┆ Course     ┆ Measure    ┆ … ┆ Standard   ┆ Standard  ┆ Z-Score   ┆ Standard  │\n",
       "│ ---  ┆ ---        ┆ Credits    ┆ ---        ┆   ┆ Error (Ave ┆ Deviation ┆ ---       ┆ Error     │\n",
       "│ i64  ┆ str        ┆ ---        ┆ str        ┆   ┆ rage)_nati ┆ ---       ┆ f64       ┆ (Z-Score) │\n",
       "│      ┆            ┆ str        ┆            ┆   ┆ o…         ┆ f64       ┆           ┆ ---       │\n",
       "│      ┆            ┆            ┆            ┆   ┆ ---        ┆           ┆           ┆ f64       │\n",
       "│      ┆            ┆            ┆            ┆   ┆ f64        ┆           ┆           ┆           │\n",
       "╞══════╪════════════╪════════════╪════════════╪═══╪════════════╪═══════════╪═══════════╪═══════════╡\n",
       "│ 2019 ┆ Architectu ┆ 0          ┆ ACT        ┆ … ┆ 0.294      ┆ 5.0       ┆ 0.038     ┆ 0.0614    │\n",
       "│      ┆ re and Con ┆            ┆ Composite  ┆   ┆            ┆           ┆           ┆           │\n",
       "│      ┆ struction  ┆            ┆            ┆   ┆            ┆           ┆           ┆           │\n",
       "│ 2009 ┆ Architectu ┆ 0          ┆ ACT        ┆ … ┆ 0.169      ┆ 5.1       ┆ 0.02549   ┆ 0.033922  │\n",
       "│      ┆ re and Con ┆            ┆ Composite  ┆   ┆            ┆           ┆           ┆           │\n",
       "│      ┆ struction  ┆            ┆            ┆   ┆            ┆           ┆           ┆           │\n",
       "│ 2000 ┆ Architectu ┆ 0          ┆ ACT        ┆ … ┆ 0.209      ┆ 4.7       ┆ 0.034043  ┆ 0.044894  │\n",
       "│      ┆ re and Con ┆            ┆ Composite  ┆   ┆            ┆           ┆           ┆           │\n",
       "│      ┆ struction  ┆            ┆            ┆   ┆            ┆           ┆           ┆           │\n",
       "│ 1990 ┆ Architectu ┆ 0          ┆ ACT        ┆ … ┆ 0.225      ┆ 4.7       ┆ 0.029787  ┆ 0.049362  │\n",
       "│      ┆ re and Con ┆            ┆ Composite  ┆   ┆            ┆           ┆           ┆           │\n",
       "│      ┆ struction  ┆            ┆            ┆   ┆            ┆           ┆           ┆           │\n",
       "│ 2019 ┆ Architectu ┆ 1+         ┆ ACT        ┆ … ┆ 0.294      ┆ 5.0       ┆ -0.47     ┆ 0.0948    │\n",
       "│      ┆ re and Con ┆            ┆ Composite  ┆   ┆            ┆           ┆           ┆           │\n",
       "│      ┆ struction  ┆            ┆            ┆   ┆            ┆           ┆           ┆           │\n",
       "│ …    ┆ …          ┆ …          ┆ …          ┆ … ┆ …          ┆ …         ┆ …         ┆ …         │\n",
       "│ 1990 ┆ Transporta ┆ 0          ┆ ACT        ┆ … ┆ 0.225      ┆ 4.7       ┆ -0.004255 ┆ 0.046809  │\n",
       "│      ┆ tion, Dist ┆            ┆ Composite  ┆   ┆            ┆           ┆           ┆           │\n",
       "│      ┆ ribution,  ┆            ┆            ┆   ┆            ┆           ┆           ┆           │\n",
       "│      ┆ …          ┆            ┆            ┆   ┆            ┆           ┆           ┆           │\n",
       "│ 2019 ┆ Transporta ┆ 1+         ┆ ACT        ┆ … ┆ 0.294      ┆ 5.0       ┆ -0.678    ┆ 0.0928    │\n",
       "│      ┆ tion, Dist ┆            ┆ Composite  ┆   ┆            ┆           ┆           ┆           │\n",
       "│      ┆ ribution,  ┆            ┆            ┆   ┆            ┆           ┆           ┆           │\n",
       "│      ┆ …          ┆            ┆            ┆   ┆            ┆           ┆           ┆           │\n",
       "│ 2009 ┆ Transporta ┆ 1+         ┆ ACT        ┆ … ┆ 0.169      ┆ 5.1       ┆ -0.586275 ┆ 0.067647  │\n",
       "│      ┆ tion, Dist ┆            ┆ Composite  ┆   ┆            ┆           ┆           ┆           │\n",
       "│      ┆ ribution,  ┆            ┆            ┆   ┆            ┆           ┆           ┆           │\n",
       "│      ┆ …          ┆            ┆            ┆   ┆            ┆           ┆           ┆           │\n",
       "│ 2000 ┆ Transporta ┆ 1+         ┆ ACT        ┆ … ┆ 0.209      ┆ 4.7       ┆ -0.455319 ┆ 0.124468  │\n",
       "│      ┆ tion, Dist ┆            ┆ Composite  ┆   ┆            ┆           ┆           ┆           │\n",
       "│      ┆ ribution,  ┆            ┆            ┆   ┆            ┆           ┆           ┆           │\n",
       "│      ┆ …          ┆            ┆            ┆   ┆            ┆           ┆           ┆           │\n",
       "│ 1990 ┆ Transporta ┆ 1+         ┆ ACT        ┆ … ┆ 0.225      ┆ 4.7       ┆ 0.153191  ┆ 0.161277  │\n",
       "│      ┆ tion, Dist ┆            ┆ Composite  ┆   ┆            ┆           ┆           ┆           │\n",
       "│      ┆ ribution,  ┆            ┆            ┆   ┆            ┆           ┆           ┆           │\n",
       "│      ┆ …          ┆            ┆            ┆   ┆            ┆           ┆           ┆           │\n",
       "└──────┴────────────┴────────────┴────────────┴───┴────────────┴───────────┴───────────┴───────────┘"
      ]
     },
     "execution_count": 9,
     "metadata": {},
     "output_type": "execute_result"
    }
   ],
   "source": [
    "_df = pl.concat(\n",
    "    [\n",
    "        acoc1.with_columns(Course=pl.lit(\"Architecture and Construction\")).select(\n",
    "            \"Year\",\n",
    "            \"Course\",\n",
    "            \"Course Credits\",\n",
    "            \"Measure\",\n",
    "            \"Average\",\n",
    "            \"Standard Error (Average)\",\n",
    "        ),\n",
    "        acoc3.with_columns(Course=pl.lit(\"Architecture and Construction\")).select(\n",
    "            \"Year\",\n",
    "            \"Course\",\n",
    "            \"Course Credits\",\n",
    "            \"Measure\",\n",
    "            \"Average\",\n",
    "            \"Standard Error (Average)\",\n",
    "        ),\n",
    "        anrc1.with_columns(Course=pl.lit(\"Agriculture, Food, and Natural Resources\")).select(\n",
    "            \"Year\",\n",
    "            \"Course\",\n",
    "            \"Course Credits\",\n",
    "            \"Measure\",\n",
    "            \"Average\",\n",
    "            \"Standard Error (Average)\",\n",
    "        ),\n",
    "        anrc3.with_columns(Course=pl.lit(\"Agriculture, Food, and Natural Resources\")).select(\n",
    "            \"Year\",\n",
    "            \"Course\",\n",
    "            \"Course Credits\",\n",
    "            \"Measure\",\n",
    "            \"Average\",\n",
    "            \"Standard Error (Average)\",\n",
    "        ),\n",
    "        mfgc1.with_columns(Course=pl.lit(\"Manufacturing\")).select(\n",
    "            \"Year\",\n",
    "            \"Course\",\n",
    "            \"Course Credits\",\n",
    "            \"Measure\",\n",
    "            \"Average\",\n",
    "            \"Standard Error (Average)\",\n",
    "        ),\n",
    "        mfgc3.with_columns(Course=pl.lit(\"Manufacturing\")).select(\n",
    "            \"Year\",\n",
    "            \"Course\",\n",
    "            \"Course Credits\",\n",
    "            \"Measure\",\n",
    "            \"Average\",\n",
    "            \"Standard Error (Average)\",\n",
    "        ),\n",
    "        tdlc1.with_columns(Course=pl.lit(\"Transportation, Distribution, and Logistics\")).select(\n",
    "            \"Year\",\n",
    "            \"Course\",\n",
    "            \"Course Credits\",\n",
    "            \"Measure\",\n",
    "            \"Average\",\n",
    "            \"Standard Error (Average)\",\n",
    "        ),\n",
    "        tdlc3.with_columns(Course=pl.lit(\"Transportation, Distribution, and Logistics\")).select(\n",
    "            \"Year\",\n",
    "            \"Course\",\n",
    "            \"Course Credits\",\n",
    "            \"Measure\",\n",
    "            \"Average\",\n",
    "            \"Standard Error (Average)\",\n",
    "        ),\n",
    "    ]\n",
    ").filter(\n",
    "    # I'm tired of searching for adjusted means and standard deviations. Getting rid of SAT because conversions have made YoY comparisons dogshit\n",
    "    pl.col(\"Measure\") == \"ACT Composite\",\n",
    "    # 3+/<3 is too sparse to be useful\n",
    "    pl.col(\"Course Credits\").is_in([\"0\", \"1+\"]),\n",
    ").join(\n",
    "    total.select(\"Year\", \"Measure\", \"Average\", \"Standard Error (Average)\", \"Standard Deviation\"),\n",
    "    on=[\"Year\", \"Measure\"],\n",
    "    suffix=\"_national\",\n",
    ").with_columns(\n",
    "    ((pl.col(\"Average\") - pl.col(\"Average_national\")) / pl.col(\"Standard Deviation\")).alias(\"Z-Score\"),\n",
    "    (pl.col(\"Standard Error (Average)\") / pl.col(\"Standard Deviation\")).alias(\"Standard Error (Z-Score)\"),\n",
    ")\n",
    "px.line(\n",
    "    _df.sort(\n",
    "        \"Year\",\n",
    "        \"Course Credits\",\n",
    "        \"Course\",\n",
    "        \"Measure\",\n",
    "    ),\n",
    "    x=\"Year\",\n",
    "    y=\"Z-Score\",\n",
    "    error_y=\"Standard Error (Z-Score)\",\n",
    "    color=\"Course Credits\",\n",
    "    color_discrete_map={\n",
    "        \"0\": px.colors.diverging.Earth[0],\n",
    "        \"1+\": px.colors.diverging.Earth[-1],\n",
    "    },\n",
    "    # color_discrete_sequence=px.colors.diverging.Fall_r[-1:] + px.colors.diverging.Fall_r[:1:2],\n",
    "    facet_col=\"Course\",\n",
    "    facet_col_wrap=2,\n",
    "    template=\"plotly_dark\",\n",
    "    title=\"Mid- and low-aptitude students are abandoning technical subjects\",\n",
    "    width=1200,\n",
    "    height=800,\n",
    "    range_y=[-.75, 0.75],\n",
    ").for_each_annotation(lambda a: a.update(\n",
    "        text=a.text.split(\"=\")[-1],  # Remove \"day=\" from the label\n",
    "    )\n",
    ").for_each_xaxis(\n",
    "    lambda a: a.update(title=None)\n",
    ").for_each_yaxis(\n",
    "    lambda a: a.update(title=\"Average ACT Z-Score\"),\n",
    "    col=1,\n",
    ").update_layout(\n",
    "    legend_orientation=\"h\",\n",
    "    legend_title_text=\"Credits in Subject\",\n",
    "    plot_bgcolor=\"#171717\",\n",
    "    paper_bgcolor=\"#171717\",\n",
    ").add_annotation(\n",
    "    x=1.072,\n",
    "    y=-0.16,\n",
    "    xref=\"paper\",\n",
    "    yref=\"paper\",\n",
    "    text=\"<br>\".join(\n",
    "        (\n",
    "            \"Chart by Dominic Tarro | 𝕏 @dominictarro\",\n",
    "            \"Source: NCES High School Transcript Survey (1990, 2000, 2009, 2019)\",\n",
    "            \"Note: Bars represent normalized NCES Standard Error\",\n",
    "            \"Z-Scores are calculated as (Course Average - Sample Average) / National Standard Deviation\",\n",
    "        )\n",
    "    ),\n",
    "    align=\"right\",\n",
    "    showarrow=False,\n",
    "    font=dict(\n",
    "        size=10,\n",
    "        color=\"grey\"\n",
    "    ),\n",
    "    opacity=0.7\n",
    ").show()\n",
    "_df\n"
   ]
  },
  {
   "cell_type": "code",
   "execution_count": 10,
   "metadata": {},
   "outputs": [
    {
     "data": {
      "text/html": [
       "<div><style>\n",
       ".dataframe > thead > tr,\n",
       ".dataframe > tbody > tr {\n",
       "  text-align: right;\n",
       "  white-space: pre-wrap;\n",
       "}\n",
       "</style>\n",
       "<small>shape: (48, 4)</small><table border=\"1\" class=\"dataframe\"><thead><tr><th>CTE_COURSE_SUBJECT</th><th>YEAR</th><th>MEAN</th><th>SE</th></tr><tr><td>str</td><td>i64</td><td>f64</td><td>f64</td></tr></thead><tbody><tr><td>&quot;Agriculture, food, and natural…</td><td>1990</td><td>7.0</td><td>0.7</td></tr><tr><td>&quot;Agriculture, food, and natural…</td><td>2000</td><td>9.0</td><td>0.9</td></tr><tr><td>&quot;Agriculture, food, and natural…</td><td>2009</td><td>8.0</td><td>0.5</td></tr><tr><td>&quot;Agriculture, food, and natural…</td><td>2019</td><td>11.0</td><td>0.3</td></tr><tr><td>&quot;Architecture and construction&quot;</td><td>1990</td><td>11.0</td><td>0.7</td></tr><tr><td>&hellip;</td><td>&hellip;</td><td>&hellip;</td><td>&hellip;</td></tr><tr><td>&quot;Public, protective, and govern…</td><td>2019</td><td>5.0</td><td>0.3</td></tr><tr><td>&quot;Transportation, distribution, …</td><td>1990</td><td>6.0</td><td>0.5</td></tr><tr><td>&quot;Transportation, distribution, …</td><td>2000</td><td>6.0</td><td>0.5</td></tr><tr><td>&quot;Transportation, distribution, …</td><td>2009</td><td>5.0</td><td>0.4</td></tr><tr><td>&quot;Transportation, distribution, …</td><td>2019</td><td>4.0</td><td>0.2</td></tr></tbody></table></div>"
      ],
      "text/plain": [
       "shape: (48, 4)\n",
       "┌─────────────────────────────────┬──────┬──────┬─────┐\n",
       "│ CTE_COURSE_SUBJECT              ┆ YEAR ┆ MEAN ┆ SE  │\n",
       "│ ---                             ┆ ---  ┆ ---  ┆ --- │\n",
       "│ str                             ┆ i64  ┆ f64  ┆ f64 │\n",
       "╞═════════════════════════════════╪══════╪══════╪═════╡\n",
       "│ Agriculture, food, and natural… ┆ 1990 ┆ 7.0  ┆ 0.7 │\n",
       "│ Agriculture, food, and natural… ┆ 2000 ┆ 9.0  ┆ 0.9 │\n",
       "│ Agriculture, food, and natural… ┆ 2009 ┆ 8.0  ┆ 0.5 │\n",
       "│ Agriculture, food, and natural… ┆ 2019 ┆ 11.0 ┆ 0.3 │\n",
       "│ Architecture and construction   ┆ 1990 ┆ 11.0 ┆ 0.7 │\n",
       "│ …                               ┆ …    ┆ …    ┆ …   │\n",
       "│ Public, protective, and govern… ┆ 2019 ┆ 5.0  ┆ 0.3 │\n",
       "│ Transportation, distribution, … ┆ 1990 ┆ 6.0  ┆ 0.5 │\n",
       "│ Transportation, distribution, … ┆ 2000 ┆ 6.0  ┆ 0.5 │\n",
       "│ Transportation, distribution, … ┆ 2009 ┆ 5.0  ┆ 0.4 │\n",
       "│ Transportation, distribution, … ┆ 2019 ┆ 4.0  ┆ 0.2 │\n",
       "└─────────────────────────────────┴──────┴──────┴─────┘"
      ]
     },
     "execution_count": 10,
     "metadata": {},
     "output_type": "execute_result"
    }
   ],
   "source": [
    "cte = pl.read_excel(\"data/nces/hsts/HSTS_1990-2019_1+_Credits.xlsx\", sheet_name=\"CTE\").unpivot(\n",
    "    on=[\"Y_1990_MEAN\", \"Y_1990_SE\", \"Y_2000_MEAN\", \"Y_2000_SE\", \"Y_2009_MEAN\", \"Y_2009_SE\", \"Y_2019_MEAN\", \"Y_2019_SE\"],\n",
    "    index=\"CTE_COURSE_SUBJECT\",\n",
    ").with_columns(\n",
    "    pl.col(\"variable\").str.extract_groups(r\"^Y_(?P<YEAR>\\d{4})_(?P<METRIC>\\w+)$\").alias(\"ATTRS\"),\n",
    ").unnest(\"ATTRS\").with_columns(\n",
    "    pl.col(\"YEAR\").cast(pl.Int64),\n",
    ").pivot(\n",
    "    on=\"METRIC\",\n",
    "    index=[\"CTE_COURSE_SUBJECT\", \"YEAR\"],\n",
    "    values=\"value\",\n",
    ").sort(\"CTE_COURSE_SUBJECT\", \"YEAR\")\n",
    "cte"
   ]
  },
  {
   "cell_type": "code",
   "execution_count": 11,
   "metadata": {},
   "outputs": [
    {
     "data": {
      "text/html": [
       "<div><style>\n",
       ".dataframe > thead > tr,\n",
       ".dataframe > tbody > tr {\n",
       "  text-align: right;\n",
       "  white-space: pre-wrap;\n",
       "}\n",
       "</style>\n",
       "<small>shape: (36, 4)</small><table border=\"1\" class=\"dataframe\"><thead><tr><th>MATH_COURSE</th><th>YEAR</th><th>MEAN</th><th>SE</th></tr><tr><td>str</td><td>i64</td><td>f64</td><td>f64</td></tr></thead><tbody><tr><td>&quot;Algebra I&quot;</td><td>1990</td><td>73.0</td><td>1.1</td></tr><tr><td>&quot;Algebra I&quot;</td><td>2000</td><td>77.0</td><td>1.4</td></tr><tr><td>&quot;Algebra I&quot;</td><td>2009</td><td>78.0</td><td>0.8</td></tr><tr><td>&quot;Algebra I&quot;</td><td>2019</td><td>85.0</td><td>0.6</td></tr><tr><td>&quot;Algebra II&quot;</td><td>1990</td><td>56.0</td><td>1.1</td></tr><tr><td>&hellip;</td><td>&hellip;</td><td>&hellip;</td><td>&hellip;</td></tr><tr><td>&quot;Probability and statistics&quot;</td><td>2019</td><td>17.0</td><td>0.5</td></tr><tr><td>&quot;Trigonometry or analytical geo…</td><td>1990</td><td>10.0</td><td>1.1</td></tr><tr><td>&quot;Trigonometry or analytical geo…</td><td>2000</td><td>7.0</td><td>1.3</td></tr><tr><td>&quot;Trigonometry or analytical geo…</td><td>2009</td><td>6.0</td><td>0.8</td></tr><tr><td>&quot;Trigonometry or analytical geo…</td><td>2019</td><td>3.0</td><td>0.3</td></tr></tbody></table></div>"
      ],
      "text/plain": [
       "shape: (36, 4)\n",
       "┌─────────────────────────────────┬──────┬──────┬─────┐\n",
       "│ MATH_COURSE                     ┆ YEAR ┆ MEAN ┆ SE  │\n",
       "│ ---                             ┆ ---  ┆ ---  ┆ --- │\n",
       "│ str                             ┆ i64  ┆ f64  ┆ f64 │\n",
       "╞═════════════════════════════════╪══════╪══════╪═════╡\n",
       "│ Algebra I                       ┆ 1990 ┆ 73.0 ┆ 1.1 │\n",
       "│ Algebra I                       ┆ 2000 ┆ 77.0 ┆ 1.4 │\n",
       "│ Algebra I                       ┆ 2009 ┆ 78.0 ┆ 0.8 │\n",
       "│ Algebra I                       ┆ 2019 ┆ 85.0 ┆ 0.6 │\n",
       "│ Algebra II                      ┆ 1990 ┆ 56.0 ┆ 1.1 │\n",
       "│ …                               ┆ …    ┆ …    ┆ …   │\n",
       "│ Probability and statistics      ┆ 2019 ┆ 17.0 ┆ 0.5 │\n",
       "│ Trigonometry or analytical geo… ┆ 1990 ┆ 10.0 ┆ 1.1 │\n",
       "│ Trigonometry or analytical geo… ┆ 2000 ┆ 7.0  ┆ 1.3 │\n",
       "│ Trigonometry or analytical geo… ┆ 2009 ┆ 6.0  ┆ 0.8 │\n",
       "│ Trigonometry or analytical geo… ┆ 2019 ┆ 3.0  ┆ 0.3 │\n",
       "└─────────────────────────────────┴──────┴──────┴─────┘"
      ]
     },
     "execution_count": 11,
     "metadata": {},
     "output_type": "execute_result"
    }
   ],
   "source": [
    "math = pl.read_excel(\"data/nces/hsts/HSTS_1990-2019_1+_Credits.xlsx\", sheet_name=\"MATH\").unpivot(\n",
    "    on=[\"Y_1990_MEAN\", \"Y_1990_SE\", \"Y_2000_MEAN\", \"Y_2000_SE\", \"Y_2009_MEAN\", \"Y_2009_SE\", \"Y_2019_MEAN\", \"Y_2019_SE\"],\n",
    "    index=\"MATH_COURSE\",\n",
    ").with_columns(\n",
    "    pl.col(\"variable\").str.extract_groups(r\"^Y_(?P<YEAR>\\d{4})_(?P<METRIC>\\w+)$\").alias(\"ATTRS\"),\n",
    ").unnest(\"ATTRS\").with_columns(\n",
    "    pl.col(\"YEAR\").cast(pl.Int64),\n",
    ").pivot(\n",
    "    on=\"METRIC\",\n",
    "    index=[\"MATH_COURSE\", \"YEAR\"],\n",
    "    values=\"value\",\n",
    ").sort(\"MATH_COURSE\", \"YEAR\")\n",
    "math"
   ]
  },
  {
   "cell_type": "code",
   "execution_count": 12,
   "metadata": {},
   "outputs": [
    {
     "data": {
      "application/vnd.plotly.v1+json": {
       "config": {
        "plotlyServerURL": "https://plot.ly"
       },
       "data": [
        {
         "error_y": {
          "array": [
           0.006999999999999999,
           0.009000000000000001,
           0.005,
           0.003
          ]
         },
         "hovertemplate": "COURSE_SUBJECT=Agriculture, food, and natural resources<br>YEAR=%{x}<br>MEAN=%{y}<extra></extra>",
         "legendgroup": "Agriculture, food, and natural resources",
         "line": {
          "color": "rgb(103,0,31)",
          "dash": "solid"
         },
         "marker": {
          "symbol": "circle"
         },
         "mode": "lines",
         "name": "Agriculture, food, and natural resources",
         "orientation": "v",
         "showlegend": true,
         "type": "scatter",
         "x": [
          1990,
          2000,
          2009,
          2019
         ],
         "xaxis": "x",
         "y": [
          0.07,
          0.09,
          0.08,
          0.11
         ],
         "yaxis": "y"
        },
        {
         "error_y": {
          "array": [
           0.006999999999999999,
           0.006999999999999999,
           0.004,
           0.003
          ]
         },
         "hovertemplate": "COURSE_SUBJECT=Architecture and construction<br>YEAR=%{x}<br>MEAN=%{y}<extra></extra>",
         "legendgroup": "Architecture and construction",
         "line": {
          "color": "rgb(178,24,43)",
          "dash": "solid"
         },
         "marker": {
          "symbol": "circle"
         },
         "mode": "lines",
         "name": "Architecture and construction",
         "orientation": "v",
         "showlegend": true,
         "type": "scatter",
         "x": [
          1990,
          2000,
          2009,
          2019
         ],
         "xaxis": "x",
         "y": [
          0.11,
          0.1,
          0.08,
          0.06
         ],
         "yaxis": "y"
        },
        {
         "error_y": {
          "array": [
           0.006,
           0.008,
           0.004,
           0.002
          ]
         },
         "hovertemplate": "COURSE_SUBJECT=Manufacturing<br>YEAR=%{x}<br>MEAN=%{y}<extra></extra>",
         "legendgroup": "Manufacturing",
         "line": {
          "color": "rgb(214,96,77)",
          "dash": "solid"
         },
         "marker": {
          "symbol": "circle"
         },
         "mode": "lines",
         "name": "Manufacturing",
         "orientation": "v",
         "showlegend": true,
         "type": "scatter",
         "x": [
          1990,
          2000,
          2009,
          2019
         ],
         "xaxis": "x",
         "y": [
          0.1,
          0.09,
          0.05,
          0.04
         ],
         "yaxis": "y"
        },
        {
         "error_y": {
          "array": [
           0.005,
           0.005,
           0.004,
           0.002
          ]
         },
         "hovertemplate": "COURSE_SUBJECT=Transportation, distribution, and logistics<br>YEAR=%{x}<br>MEAN=%{y}<extra></extra>",
         "legendgroup": "Transportation, distribution, and logistics",
         "line": {
          "color": "rgb(244,165,130)",
          "dash": "solid"
         },
         "marker": {
          "symbol": "circle"
         },
         "mode": "lines",
         "name": "Transportation, distribution, and logistics",
         "orientation": "v",
         "showlegend": true,
         "type": "scatter",
         "x": [
          1990,
          2000,
          2009,
          2019
         ],
         "xaxis": "x",
         "y": [
          0.06,
          0.06,
          0.05,
          0.04
         ],
         "yaxis": "y"
        },
        {
         "error_y": {
          "array": [
           0.011000000000000001,
           0.013999999999999999,
           0.008,
           0.006
          ]
         },
         "hovertemplate": "COURSE_SUBJECT=Algebra I<br>YEAR=%{x}<br>MEAN=%{y}<extra></extra>",
         "legendgroup": "Algebra I",
         "line": {
          "color": "rgb(146,197,222)",
          "dash": "solid"
         },
         "marker": {
          "symbol": "circle"
         },
         "mode": "lines",
         "name": "Algebra I",
         "orientation": "v",
         "showlegend": true,
         "type": "scatter",
         "x": [
          1990,
          2000,
          2009,
          2019
         ],
         "xaxis": "x",
         "y": [
          0.73,
          0.77,
          0.78,
          0.85
         ],
         "yaxis": "y"
        },
        {
         "error_y": {
          "array": [
           0.011000000000000001,
           0.01,
           0.008,
           0.004
          ]
         },
         "hovertemplate": "COURSE_SUBJECT=Algebra II<br>YEAR=%{x}<br>MEAN=%{y}<extra></extra>",
         "legendgroup": "Algebra II",
         "line": {
          "color": "rgb(67,147,195)",
          "dash": "solid"
         },
         "marker": {
          "symbol": "circle"
         },
         "mode": "lines",
         "name": "Algebra II",
         "orientation": "v",
         "showlegend": true,
         "type": "scatter",
         "x": [
          1990,
          2000,
          2009,
          2019
         ],
         "xaxis": "x",
         "y": [
          0.56,
          0.71,
          0.8,
          0.85
         ],
         "yaxis": "y"
        },
        {
         "error_y": {
          "array": [
           0.005,
           0.006999999999999999,
           0.006999999999999999,
           0.004
          ]
         },
         "hovertemplate": "COURSE_SUBJECT=Calculus<br>YEAR=%{x}<br>MEAN=%{y}<extra></extra>",
         "legendgroup": "Calculus",
         "line": {
          "color": "rgb(33,102,172)",
          "dash": "solid"
         },
         "marker": {
          "symbol": "circle"
         },
         "mode": "lines",
         "name": "Calculus",
         "orientation": "v",
         "showlegend": true,
         "type": "scatter",
         "x": [
          1990,
          2000,
          2009,
          2019
         ],
         "xaxis": "x",
         "y": [
          0.07,
          0.13,
          0.18,
          0.16
         ],
         "yaxis": "y"
        },
        {
         "error_y": {
          "array": [
           0.017,
           0.012,
           0.006999999999999999,
           0.006999999999999999
          ]
         },
         "hovertemplate": "COURSE_SUBJECT=General, occupational, and technical mathematics<br>YEAR=%{x}<br>MEAN=%{y}<extra></extra>",
         "legendgroup": "General, occupational, and technical mathematics",
         "line": {
          "color": "rgb(5,48,97)",
          "dash": "solid"
         },
         "marker": {
          "symbol": "circle"
         },
         "mode": "lines",
         "name": "General, occupational, and technical mathematics",
         "orientation": "v",
         "showlegend": true,
         "type": "scatter",
         "x": [
          1990,
          2000,
          2009,
          2019
         ],
         "xaxis": "x",
         "y": [
          0.51,
          0.35000000000000003,
          0.26,
          0.29
         ],
         "yaxis": "y"
        }
       ],
       "layout": {
        "annotations": [
         {
          "align": "right",
          "font": {
           "color": "grey",
           "size": 10
          },
          "opacity": 0.7,
          "showarrow": false,
          "text": "Chart by Dominic Tarro | 𝕏 @dominictarro<br>Source: NCES High School Transcript Survey (1990, 2000, 2009, 2019)",
          "x": 1.48,
          "xref": "paper",
          "y": -0.15,
          "yref": "paper"
         }
        ],
        "height": 600,
        "legend": {
         "title": {},
         "tracegroupgap": 0
        },
        "paper_bgcolor": "#171717",
        "plot_bgcolor": "#171717",
        "template": {
         "data": {
          "bar": [
           {
            "error_x": {
             "color": "#f2f5fa"
            },
            "error_y": {
             "color": "#f2f5fa"
            },
            "marker": {
             "line": {
              "color": "rgb(17,17,17)",
              "width": 0.5
             },
             "pattern": {
              "fillmode": "overlay",
              "size": 10,
              "solidity": 0.2
             }
            },
            "type": "bar"
           }
          ],
          "barpolar": [
           {
            "marker": {
             "line": {
              "color": "rgb(17,17,17)",
              "width": 0.5
             },
             "pattern": {
              "fillmode": "overlay",
              "size": 10,
              "solidity": 0.2
             }
            },
            "type": "barpolar"
           }
          ],
          "carpet": [
           {
            "aaxis": {
             "endlinecolor": "#A2B1C6",
             "gridcolor": "#506784",
             "linecolor": "#506784",
             "minorgridcolor": "#506784",
             "startlinecolor": "#A2B1C6"
            },
            "baxis": {
             "endlinecolor": "#A2B1C6",
             "gridcolor": "#506784",
             "linecolor": "#506784",
             "minorgridcolor": "#506784",
             "startlinecolor": "#A2B1C6"
            },
            "type": "carpet"
           }
          ],
          "choropleth": [
           {
            "colorbar": {
             "outlinewidth": 0,
             "ticks": ""
            },
            "type": "choropleth"
           }
          ],
          "contour": [
           {
            "colorbar": {
             "outlinewidth": 0,
             "ticks": ""
            },
            "colorscale": [
             [
              0,
              "#0d0887"
             ],
             [
              0.1111111111111111,
              "#46039f"
             ],
             [
              0.2222222222222222,
              "#7201a8"
             ],
             [
              0.3333333333333333,
              "#9c179e"
             ],
             [
              0.4444444444444444,
              "#bd3786"
             ],
             [
              0.5555555555555556,
              "#d8576b"
             ],
             [
              0.6666666666666666,
              "#ed7953"
             ],
             [
              0.7777777777777778,
              "#fb9f3a"
             ],
             [
              0.8888888888888888,
              "#fdca26"
             ],
             [
              1,
              "#f0f921"
             ]
            ],
            "type": "contour"
           }
          ],
          "contourcarpet": [
           {
            "colorbar": {
             "outlinewidth": 0,
             "ticks": ""
            },
            "type": "contourcarpet"
           }
          ],
          "heatmap": [
           {
            "colorbar": {
             "outlinewidth": 0,
             "ticks": ""
            },
            "colorscale": [
             [
              0,
              "#0d0887"
             ],
             [
              0.1111111111111111,
              "#46039f"
             ],
             [
              0.2222222222222222,
              "#7201a8"
             ],
             [
              0.3333333333333333,
              "#9c179e"
             ],
             [
              0.4444444444444444,
              "#bd3786"
             ],
             [
              0.5555555555555556,
              "#d8576b"
             ],
             [
              0.6666666666666666,
              "#ed7953"
             ],
             [
              0.7777777777777778,
              "#fb9f3a"
             ],
             [
              0.8888888888888888,
              "#fdca26"
             ],
             [
              1,
              "#f0f921"
             ]
            ],
            "type": "heatmap"
           }
          ],
          "heatmapgl": [
           {
            "colorbar": {
             "outlinewidth": 0,
             "ticks": ""
            },
            "colorscale": [
             [
              0,
              "#0d0887"
             ],
             [
              0.1111111111111111,
              "#46039f"
             ],
             [
              0.2222222222222222,
              "#7201a8"
             ],
             [
              0.3333333333333333,
              "#9c179e"
             ],
             [
              0.4444444444444444,
              "#bd3786"
             ],
             [
              0.5555555555555556,
              "#d8576b"
             ],
             [
              0.6666666666666666,
              "#ed7953"
             ],
             [
              0.7777777777777778,
              "#fb9f3a"
             ],
             [
              0.8888888888888888,
              "#fdca26"
             ],
             [
              1,
              "#f0f921"
             ]
            ],
            "type": "heatmapgl"
           }
          ],
          "histogram": [
           {
            "marker": {
             "pattern": {
              "fillmode": "overlay",
              "size": 10,
              "solidity": 0.2
             }
            },
            "type": "histogram"
           }
          ],
          "histogram2d": [
           {
            "colorbar": {
             "outlinewidth": 0,
             "ticks": ""
            },
            "colorscale": [
             [
              0,
              "#0d0887"
             ],
             [
              0.1111111111111111,
              "#46039f"
             ],
             [
              0.2222222222222222,
              "#7201a8"
             ],
             [
              0.3333333333333333,
              "#9c179e"
             ],
             [
              0.4444444444444444,
              "#bd3786"
             ],
             [
              0.5555555555555556,
              "#d8576b"
             ],
             [
              0.6666666666666666,
              "#ed7953"
             ],
             [
              0.7777777777777778,
              "#fb9f3a"
             ],
             [
              0.8888888888888888,
              "#fdca26"
             ],
             [
              1,
              "#f0f921"
             ]
            ],
            "type": "histogram2d"
           }
          ],
          "histogram2dcontour": [
           {
            "colorbar": {
             "outlinewidth": 0,
             "ticks": ""
            },
            "colorscale": [
             [
              0,
              "#0d0887"
             ],
             [
              0.1111111111111111,
              "#46039f"
             ],
             [
              0.2222222222222222,
              "#7201a8"
             ],
             [
              0.3333333333333333,
              "#9c179e"
             ],
             [
              0.4444444444444444,
              "#bd3786"
             ],
             [
              0.5555555555555556,
              "#d8576b"
             ],
             [
              0.6666666666666666,
              "#ed7953"
             ],
             [
              0.7777777777777778,
              "#fb9f3a"
             ],
             [
              0.8888888888888888,
              "#fdca26"
             ],
             [
              1,
              "#f0f921"
             ]
            ],
            "type": "histogram2dcontour"
           }
          ],
          "mesh3d": [
           {
            "colorbar": {
             "outlinewidth": 0,
             "ticks": ""
            },
            "type": "mesh3d"
           }
          ],
          "parcoords": [
           {
            "line": {
             "colorbar": {
              "outlinewidth": 0,
              "ticks": ""
             }
            },
            "type": "parcoords"
           }
          ],
          "pie": [
           {
            "automargin": true,
            "type": "pie"
           }
          ],
          "scatter": [
           {
            "marker": {
             "line": {
              "color": "#283442"
             }
            },
            "type": "scatter"
           }
          ],
          "scatter3d": [
           {
            "line": {
             "colorbar": {
              "outlinewidth": 0,
              "ticks": ""
             }
            },
            "marker": {
             "colorbar": {
              "outlinewidth": 0,
              "ticks": ""
             }
            },
            "type": "scatter3d"
           }
          ],
          "scattercarpet": [
           {
            "marker": {
             "colorbar": {
              "outlinewidth": 0,
              "ticks": ""
             }
            },
            "type": "scattercarpet"
           }
          ],
          "scattergeo": [
           {
            "marker": {
             "colorbar": {
              "outlinewidth": 0,
              "ticks": ""
             }
            },
            "type": "scattergeo"
           }
          ],
          "scattergl": [
           {
            "marker": {
             "line": {
              "color": "#283442"
             }
            },
            "type": "scattergl"
           }
          ],
          "scattermapbox": [
           {
            "marker": {
             "colorbar": {
              "outlinewidth": 0,
              "ticks": ""
             }
            },
            "type": "scattermapbox"
           }
          ],
          "scatterpolar": [
           {
            "marker": {
             "colorbar": {
              "outlinewidth": 0,
              "ticks": ""
             }
            },
            "type": "scatterpolar"
           }
          ],
          "scatterpolargl": [
           {
            "marker": {
             "colorbar": {
              "outlinewidth": 0,
              "ticks": ""
             }
            },
            "type": "scatterpolargl"
           }
          ],
          "scatterternary": [
           {
            "marker": {
             "colorbar": {
              "outlinewidth": 0,
              "ticks": ""
             }
            },
            "type": "scatterternary"
           }
          ],
          "surface": [
           {
            "colorbar": {
             "outlinewidth": 0,
             "ticks": ""
            },
            "colorscale": [
             [
              0,
              "#0d0887"
             ],
             [
              0.1111111111111111,
              "#46039f"
             ],
             [
              0.2222222222222222,
              "#7201a8"
             ],
             [
              0.3333333333333333,
              "#9c179e"
             ],
             [
              0.4444444444444444,
              "#bd3786"
             ],
             [
              0.5555555555555556,
              "#d8576b"
             ],
             [
              0.6666666666666666,
              "#ed7953"
             ],
             [
              0.7777777777777778,
              "#fb9f3a"
             ],
             [
              0.8888888888888888,
              "#fdca26"
             ],
             [
              1,
              "#f0f921"
             ]
            ],
            "type": "surface"
           }
          ],
          "table": [
           {
            "cells": {
             "fill": {
              "color": "#506784"
             },
             "line": {
              "color": "rgb(17,17,17)"
             }
            },
            "header": {
             "fill": {
              "color": "#2a3f5f"
             },
             "line": {
              "color": "rgb(17,17,17)"
             }
            },
            "type": "table"
           }
          ]
         },
         "layout": {
          "annotationdefaults": {
           "arrowcolor": "#f2f5fa",
           "arrowhead": 0,
           "arrowwidth": 1
          },
          "autotypenumbers": "strict",
          "coloraxis": {
           "colorbar": {
            "outlinewidth": 0,
            "ticks": ""
           }
          },
          "colorscale": {
           "diverging": [
            [
             0,
             "#8e0152"
            ],
            [
             0.1,
             "#c51b7d"
            ],
            [
             0.2,
             "#de77ae"
            ],
            [
             0.3,
             "#f1b6da"
            ],
            [
             0.4,
             "#fde0ef"
            ],
            [
             0.5,
             "#f7f7f7"
            ],
            [
             0.6,
             "#e6f5d0"
            ],
            [
             0.7,
             "#b8e186"
            ],
            [
             0.8,
             "#7fbc41"
            ],
            [
             0.9,
             "#4d9221"
            ],
            [
             1,
             "#276419"
            ]
           ],
           "sequential": [
            [
             0,
             "#0d0887"
            ],
            [
             0.1111111111111111,
             "#46039f"
            ],
            [
             0.2222222222222222,
             "#7201a8"
            ],
            [
             0.3333333333333333,
             "#9c179e"
            ],
            [
             0.4444444444444444,
             "#bd3786"
            ],
            [
             0.5555555555555556,
             "#d8576b"
            ],
            [
             0.6666666666666666,
             "#ed7953"
            ],
            [
             0.7777777777777778,
             "#fb9f3a"
            ],
            [
             0.8888888888888888,
             "#fdca26"
            ],
            [
             1,
             "#f0f921"
            ]
           ],
           "sequentialminus": [
            [
             0,
             "#0d0887"
            ],
            [
             0.1111111111111111,
             "#46039f"
            ],
            [
             0.2222222222222222,
             "#7201a8"
            ],
            [
             0.3333333333333333,
             "#9c179e"
            ],
            [
             0.4444444444444444,
             "#bd3786"
            ],
            [
             0.5555555555555556,
             "#d8576b"
            ],
            [
             0.6666666666666666,
             "#ed7953"
            ],
            [
             0.7777777777777778,
             "#fb9f3a"
            ],
            [
             0.8888888888888888,
             "#fdca26"
            ],
            [
             1,
             "#f0f921"
            ]
           ]
          },
          "colorway": [
           "#636efa",
           "#EF553B",
           "#00cc96",
           "#ab63fa",
           "#FFA15A",
           "#19d3f3",
           "#FF6692",
           "#B6E880",
           "#FF97FF",
           "#FECB52"
          ],
          "font": {
           "color": "#f2f5fa"
          },
          "geo": {
           "bgcolor": "rgb(17,17,17)",
           "lakecolor": "rgb(17,17,17)",
           "landcolor": "rgb(17,17,17)",
           "showlakes": true,
           "showland": true,
           "subunitcolor": "#506784"
          },
          "hoverlabel": {
           "align": "left"
          },
          "hovermode": "closest",
          "mapbox": {
           "style": "dark"
          },
          "paper_bgcolor": "rgb(17,17,17)",
          "plot_bgcolor": "rgb(17,17,17)",
          "polar": {
           "angularaxis": {
            "gridcolor": "#506784",
            "linecolor": "#506784",
            "ticks": ""
           },
           "bgcolor": "rgb(17,17,17)",
           "radialaxis": {
            "gridcolor": "#506784",
            "linecolor": "#506784",
            "ticks": ""
           }
          },
          "scene": {
           "xaxis": {
            "backgroundcolor": "rgb(17,17,17)",
            "gridcolor": "#506784",
            "gridwidth": 2,
            "linecolor": "#506784",
            "showbackground": true,
            "ticks": "",
            "zerolinecolor": "#C8D4E3"
           },
           "yaxis": {
            "backgroundcolor": "rgb(17,17,17)",
            "gridcolor": "#506784",
            "gridwidth": 2,
            "linecolor": "#506784",
            "showbackground": true,
            "ticks": "",
            "zerolinecolor": "#C8D4E3"
           },
           "zaxis": {
            "backgroundcolor": "rgb(17,17,17)",
            "gridcolor": "#506784",
            "gridwidth": 2,
            "linecolor": "#506784",
            "showbackground": true,
            "ticks": "",
            "zerolinecolor": "#C8D4E3"
           }
          },
          "shapedefaults": {
           "line": {
            "color": "#f2f5fa"
           }
          },
          "sliderdefaults": {
           "bgcolor": "#C8D4E3",
           "bordercolor": "rgb(17,17,17)",
           "borderwidth": 1,
           "tickwidth": 0
          },
          "ternary": {
           "aaxis": {
            "gridcolor": "#506784",
            "linecolor": "#506784",
            "ticks": ""
           },
           "baxis": {
            "gridcolor": "#506784",
            "linecolor": "#506784",
            "ticks": ""
           },
           "bgcolor": "rgb(17,17,17)",
           "caxis": {
            "gridcolor": "#506784",
            "linecolor": "#506784",
            "ticks": ""
           }
          },
          "title": {
           "x": 0.05
          },
          "updatemenudefaults": {
           "bgcolor": "#506784",
           "borderwidth": 0
          },
          "xaxis": {
           "automargin": true,
           "gridcolor": "#283442",
           "linecolor": "#506784",
           "ticks": "",
           "title": {
            "standoff": 15
           },
           "zerolinecolor": "#283442",
           "zerolinewidth": 2
          },
          "yaxis": {
           "automargin": true,
           "gridcolor": "#283442",
           "linecolor": "#506784",
           "ticks": "",
           "title": {
            "standoff": 15
           },
           "zerolinecolor": "#283442",
           "zerolinewidth": 2
          }
         }
        },
        "title": {
         "text": "College-prep courses rise and technical courses fall<br><sup>American high schools have shifted towards college-prep courses over the past 30 years at the expense of courses that meet students where they're at.</sup>"
        },
        "width": 1200,
        "xaxis": {
         "anchor": "y",
         "domain": [
          0,
          1
         ],
         "title": {}
        },
        "yaxis": {
         "anchor": "x",
         "domain": [
          0,
          1
         ],
         "tickformat": ".0%",
         "title": {
          "text": "Percent of High School Students with 1+ Credits"
         }
        }
       }
      }
     },
     "metadata": {},
     "output_type": "display_data"
    }
   ],
   "source": [
    "px.line(\n",
    "    pl.concat(\n",
    "        [\n",
    "            cte.filter(\n",
    "                pl.col(\"CTE_COURSE_SUBJECT\").is_in(\n",
    "                    [\n",
    "                        \"Agriculture, food, and natural resources\",\n",
    "                        \"Architecture and construction\",\n",
    "                        \"Manufacturing\",\n",
    "                        \"Transportation, distribution, and logistics\",\n",
    "                    ]\n",
    "                )\n",
    "            ).rename({\"CTE_COURSE_SUBJECT\": \"COURSE_SUBJECT\"}).with_columns(pl.lit(\"Technical Education\").alias(\"SUBJECT_GROUP\")),\n",
    "            math.filter(\n",
    "                pl.col(\"MATH_COURSE\").is_in(\n",
    "                    [\n",
    "                        \"Algebra I\",\n",
    "                        \"Algebra II\",\n",
    "                        \"Calculus\",\n",
    "                        \"General, occupational, and technical mathematics\",\n",
    "                    ]\n",
    "                )\n",
    "            ).rename({\"MATH_COURSE\": \"COURSE_SUBJECT\"}).with_columns(pl.lit(\"Mathematics\").alias(\"SUBJECT_GROUP\")),\n",
    "        ]\n",
    "    ).with_columns(\n",
    "        pl.col(\"MEAN\") / 100,\n",
    "        pl.col(\"SE\") / 100,\n",
    "    ),\n",
    "    x=\"YEAR\",\n",
    "    y=\"MEAN\",\n",
    "    color=\"COURSE_SUBJECT\",\n",
    "    color_discrete_sequence=px.colors.diverging.RdBu[:4] + px.colors.diverging.RdBu[-4:],\n",
    "    error_y=\"SE\",\n",
    "    template=\"plotly_dark\",\n",
    "    title=\"College-prep courses rise and technical courses fall<br><sup>American high schools have shifted towards college-prep courses over the past 30 years at the expense of courses that meet students where they're at.</sup>\",\n",
    "    width=1200,\n",
    "    height=600,\n",
    ").update_layout(\n",
    "    xaxis_title=None,\n",
    "    yaxis_title=\"Percent of High School Students with 1+ Credits\",\n",
    "    # yaxis_title_font_size=10,\n",
    "    yaxis_tickformat=\".0%\",\n",
    "    \n",
    "    legend_title_text=None,\n",
    "    plot_bgcolor=\"#171717\",\n",
    "    paper_bgcolor=\"#171717\",\n",
    ").add_annotation(\n",
    "    x=1.48,\n",
    "    y=-0.15,\n",
    "    xref=\"paper\",\n",
    "    yref=\"paper\",\n",
    "    text=\"<br>\".join(\n",
    "        (\n",
    "            \"Chart by Dominic Tarro | 𝕏 @dominictarro\",\n",
    "            \"Source: NCES High School Transcript Survey (1990, 2000, 2009, 2019)\",\n",
    "        )\n",
    "    ),\n",
    "    align=\"right\",\n",
    "    showarrow=False,\n",
    "    font=dict(\n",
    "        size=10,\n",
    "        color=\"grey\"\n",
    "    ),\n",
    "    opacity=0.7\n",
    ")"
   ]
  },
  {
   "cell_type": "code",
   "execution_count": 13,
   "metadata": {},
   "outputs": [
    {
     "data": {
      "application/vnd.plotly.v1+json": {
       "config": {
        "plotlyServerURL": "https://plot.ly"
       },
       "data": [
        {
         "error_y": {
          "array": [
           0.035,
           0.036,
           0.04,
           0.027,
           0.042,
           0.057,
           0.022
          ]
         },
         "hovertemplate": "group=All Graduates<br>year=%{x}<br>average_credits=%{y}<extra></extra>",
         "legendgroup": "All Graduates",
         "line": {
          "color": "white",
          "dash": "solid"
         },
         "marker": {
          "symbol": "circle"
         },
         "mode": "lines",
         "name": "All Graduates",
         "orientation": "v",
         "showlegend": true,
         "type": "scatter",
         "x": [
          1982,
          1987,
          1990,
          1994,
          1998,
          2000,
          2005
         ],
         "xaxis": "x",
         "y": [
          1.04,
          0.96,
          0.87,
          0.7,
          0.78,
          0.8,
          0.69
         ],
         "yaxis": "y"
        },
        {
         "error_y": {
          "array": [
           0.064,
           0.072,
           0.064,
           0.051,
           0.077,
           0.098,
           0.036
          ]
         },
         "hovertemplate": "group=Male<br>year=%{x}<br>average_credits=%{y}<extra></extra>",
         "legendgroup": "Male",
         "line": {
          "color": "rgb(51,153,255)",
          "dash": "solid"
         },
         "marker": {
          "symbol": "circle"
         },
         "mode": "lines",
         "name": "Male",
         "orientation": "v",
         "showlegend": true,
         "type": "scatter",
         "x": [
          1982,
          1987,
          1990,
          1994,
          1998,
          2000,
          2005
         ],
         "xaxis": "x",
         "y": [
          1.96,
          1.73,
          1.59,
          1.25,
          1.37,
          1.38,
          1.19
         ],
         "yaxis": "y"
        },
        {
         "error_y": {
          "array": [
           0.016,
           0.022,
           0.026,
           0.01,
           0.013,
           0.02,
           0.011
          ]
         },
         "hovertemplate": "group=Female<br>year=%{x}<br>average_credits=%{y}<extra></extra>",
         "legendgroup": "Female",
         "line": {
          "color": "rgb(255,102,204)",
          "dash": "solid"
         },
         "marker": {
          "symbol": "circle"
         },
         "mode": "lines",
         "name": "Female",
         "orientation": "v",
         "showlegend": true,
         "type": "scatter",
         "x": [
          1982,
          1987,
          1990,
          1994,
          1998,
          2000,
          2005
         ],
         "xaxis": "x",
         "y": [
          0.2,
          0.23,
          0.22,
          0.17,
          0.23,
          0.25,
          0.22
         ],
         "yaxis": "y"
        }
       ],
       "layout": {
        "annotations": [
         {
          "align": "right",
          "font": {
           "color": "grey",
           "size": 10
          },
          "opacity": 0.7,
          "showarrow": false,
          "text": "Chart by Dominic Tarro | 𝕏 @dominictarro<br>Sources: NCES High School Transcript Survey (1987, 1990, 1994, 1998, 2000, and 2005)<br>NCES High School and Beyond Longitudinal Study (1980, 1982)<br>NCES Digest of Education Statistics 2007, Table 141",
          "x": 1.257,
          "xref": "paper",
          "y": -0.185,
          "yref": "paper"
         }
        ],
        "height": 600,
        "legend": {
         "title": {},
         "tracegroupgap": 0
        },
        "paper_bgcolor": "#171717",
        "plot_bgcolor": "#171717",
        "template": {
         "data": {
          "bar": [
           {
            "error_x": {
             "color": "#f2f5fa"
            },
            "error_y": {
             "color": "#f2f5fa"
            },
            "marker": {
             "line": {
              "color": "rgb(17,17,17)",
              "width": 0.5
             },
             "pattern": {
              "fillmode": "overlay",
              "size": 10,
              "solidity": 0.2
             }
            },
            "type": "bar"
           }
          ],
          "barpolar": [
           {
            "marker": {
             "line": {
              "color": "rgb(17,17,17)",
              "width": 0.5
             },
             "pattern": {
              "fillmode": "overlay",
              "size": 10,
              "solidity": 0.2
             }
            },
            "type": "barpolar"
           }
          ],
          "carpet": [
           {
            "aaxis": {
             "endlinecolor": "#A2B1C6",
             "gridcolor": "#506784",
             "linecolor": "#506784",
             "minorgridcolor": "#506784",
             "startlinecolor": "#A2B1C6"
            },
            "baxis": {
             "endlinecolor": "#A2B1C6",
             "gridcolor": "#506784",
             "linecolor": "#506784",
             "minorgridcolor": "#506784",
             "startlinecolor": "#A2B1C6"
            },
            "type": "carpet"
           }
          ],
          "choropleth": [
           {
            "colorbar": {
             "outlinewidth": 0,
             "ticks": ""
            },
            "type": "choropleth"
           }
          ],
          "contour": [
           {
            "colorbar": {
             "outlinewidth": 0,
             "ticks": ""
            },
            "colorscale": [
             [
              0,
              "#0d0887"
             ],
             [
              0.1111111111111111,
              "#46039f"
             ],
             [
              0.2222222222222222,
              "#7201a8"
             ],
             [
              0.3333333333333333,
              "#9c179e"
             ],
             [
              0.4444444444444444,
              "#bd3786"
             ],
             [
              0.5555555555555556,
              "#d8576b"
             ],
             [
              0.6666666666666666,
              "#ed7953"
             ],
             [
              0.7777777777777778,
              "#fb9f3a"
             ],
             [
              0.8888888888888888,
              "#fdca26"
             ],
             [
              1,
              "#f0f921"
             ]
            ],
            "type": "contour"
           }
          ],
          "contourcarpet": [
           {
            "colorbar": {
             "outlinewidth": 0,
             "ticks": ""
            },
            "type": "contourcarpet"
           }
          ],
          "heatmap": [
           {
            "colorbar": {
             "outlinewidth": 0,
             "ticks": ""
            },
            "colorscale": [
             [
              0,
              "#0d0887"
             ],
             [
              0.1111111111111111,
              "#46039f"
             ],
             [
              0.2222222222222222,
              "#7201a8"
             ],
             [
              0.3333333333333333,
              "#9c179e"
             ],
             [
              0.4444444444444444,
              "#bd3786"
             ],
             [
              0.5555555555555556,
              "#d8576b"
             ],
             [
              0.6666666666666666,
              "#ed7953"
             ],
             [
              0.7777777777777778,
              "#fb9f3a"
             ],
             [
              0.8888888888888888,
              "#fdca26"
             ],
             [
              1,
              "#f0f921"
             ]
            ],
            "type": "heatmap"
           }
          ],
          "heatmapgl": [
           {
            "colorbar": {
             "outlinewidth": 0,
             "ticks": ""
            },
            "colorscale": [
             [
              0,
              "#0d0887"
             ],
             [
              0.1111111111111111,
              "#46039f"
             ],
             [
              0.2222222222222222,
              "#7201a8"
             ],
             [
              0.3333333333333333,
              "#9c179e"
             ],
             [
              0.4444444444444444,
              "#bd3786"
             ],
             [
              0.5555555555555556,
              "#d8576b"
             ],
             [
              0.6666666666666666,
              "#ed7953"
             ],
             [
              0.7777777777777778,
              "#fb9f3a"
             ],
             [
              0.8888888888888888,
              "#fdca26"
             ],
             [
              1,
              "#f0f921"
             ]
            ],
            "type": "heatmapgl"
           }
          ],
          "histogram": [
           {
            "marker": {
             "pattern": {
              "fillmode": "overlay",
              "size": 10,
              "solidity": 0.2
             }
            },
            "type": "histogram"
           }
          ],
          "histogram2d": [
           {
            "colorbar": {
             "outlinewidth": 0,
             "ticks": ""
            },
            "colorscale": [
             [
              0,
              "#0d0887"
             ],
             [
              0.1111111111111111,
              "#46039f"
             ],
             [
              0.2222222222222222,
              "#7201a8"
             ],
             [
              0.3333333333333333,
              "#9c179e"
             ],
             [
              0.4444444444444444,
              "#bd3786"
             ],
             [
              0.5555555555555556,
              "#d8576b"
             ],
             [
              0.6666666666666666,
              "#ed7953"
             ],
             [
              0.7777777777777778,
              "#fb9f3a"
             ],
             [
              0.8888888888888888,
              "#fdca26"
             ],
             [
              1,
              "#f0f921"
             ]
            ],
            "type": "histogram2d"
           }
          ],
          "histogram2dcontour": [
           {
            "colorbar": {
             "outlinewidth": 0,
             "ticks": ""
            },
            "colorscale": [
             [
              0,
              "#0d0887"
             ],
             [
              0.1111111111111111,
              "#46039f"
             ],
             [
              0.2222222222222222,
              "#7201a8"
             ],
             [
              0.3333333333333333,
              "#9c179e"
             ],
             [
              0.4444444444444444,
              "#bd3786"
             ],
             [
              0.5555555555555556,
              "#d8576b"
             ],
             [
              0.6666666666666666,
              "#ed7953"
             ],
             [
              0.7777777777777778,
              "#fb9f3a"
             ],
             [
              0.8888888888888888,
              "#fdca26"
             ],
             [
              1,
              "#f0f921"
             ]
            ],
            "type": "histogram2dcontour"
           }
          ],
          "mesh3d": [
           {
            "colorbar": {
             "outlinewidth": 0,
             "ticks": ""
            },
            "type": "mesh3d"
           }
          ],
          "parcoords": [
           {
            "line": {
             "colorbar": {
              "outlinewidth": 0,
              "ticks": ""
             }
            },
            "type": "parcoords"
           }
          ],
          "pie": [
           {
            "automargin": true,
            "type": "pie"
           }
          ],
          "scatter": [
           {
            "marker": {
             "line": {
              "color": "#283442"
             }
            },
            "type": "scatter"
           }
          ],
          "scatter3d": [
           {
            "line": {
             "colorbar": {
              "outlinewidth": 0,
              "ticks": ""
             }
            },
            "marker": {
             "colorbar": {
              "outlinewidth": 0,
              "ticks": ""
             }
            },
            "type": "scatter3d"
           }
          ],
          "scattercarpet": [
           {
            "marker": {
             "colorbar": {
              "outlinewidth": 0,
              "ticks": ""
             }
            },
            "type": "scattercarpet"
           }
          ],
          "scattergeo": [
           {
            "marker": {
             "colorbar": {
              "outlinewidth": 0,
              "ticks": ""
             }
            },
            "type": "scattergeo"
           }
          ],
          "scattergl": [
           {
            "marker": {
             "line": {
              "color": "#283442"
             }
            },
            "type": "scattergl"
           }
          ],
          "scattermapbox": [
           {
            "marker": {
             "colorbar": {
              "outlinewidth": 0,
              "ticks": ""
             }
            },
            "type": "scattermapbox"
           }
          ],
          "scatterpolar": [
           {
            "marker": {
             "colorbar": {
              "outlinewidth": 0,
              "ticks": ""
             }
            },
            "type": "scatterpolar"
           }
          ],
          "scatterpolargl": [
           {
            "marker": {
             "colorbar": {
              "outlinewidth": 0,
              "ticks": ""
             }
            },
            "type": "scatterpolargl"
           }
          ],
          "scatterternary": [
           {
            "marker": {
             "colorbar": {
              "outlinewidth": 0,
              "ticks": ""
             }
            },
            "type": "scatterternary"
           }
          ],
          "surface": [
           {
            "colorbar": {
             "outlinewidth": 0,
             "ticks": ""
            },
            "colorscale": [
             [
              0,
              "#0d0887"
             ],
             [
              0.1111111111111111,
              "#46039f"
             ],
             [
              0.2222222222222222,
              "#7201a8"
             ],
             [
              0.3333333333333333,
              "#9c179e"
             ],
             [
              0.4444444444444444,
              "#bd3786"
             ],
             [
              0.5555555555555556,
              "#d8576b"
             ],
             [
              0.6666666666666666,
              "#ed7953"
             ],
             [
              0.7777777777777778,
              "#fb9f3a"
             ],
             [
              0.8888888888888888,
              "#fdca26"
             ],
             [
              1,
              "#f0f921"
             ]
            ],
            "type": "surface"
           }
          ],
          "table": [
           {
            "cells": {
             "fill": {
              "color": "#506784"
             },
             "line": {
              "color": "rgb(17,17,17)"
             }
            },
            "header": {
             "fill": {
              "color": "#2a3f5f"
             },
             "line": {
              "color": "rgb(17,17,17)"
             }
            },
            "type": "table"
           }
          ]
         },
         "layout": {
          "annotationdefaults": {
           "arrowcolor": "#f2f5fa",
           "arrowhead": 0,
           "arrowwidth": 1
          },
          "autotypenumbers": "strict",
          "coloraxis": {
           "colorbar": {
            "outlinewidth": 0,
            "ticks": ""
           }
          },
          "colorscale": {
           "diverging": [
            [
             0,
             "#8e0152"
            ],
            [
             0.1,
             "#c51b7d"
            ],
            [
             0.2,
             "#de77ae"
            ],
            [
             0.3,
             "#f1b6da"
            ],
            [
             0.4,
             "#fde0ef"
            ],
            [
             0.5,
             "#f7f7f7"
            ],
            [
             0.6,
             "#e6f5d0"
            ],
            [
             0.7,
             "#b8e186"
            ],
            [
             0.8,
             "#7fbc41"
            ],
            [
             0.9,
             "#4d9221"
            ],
            [
             1,
             "#276419"
            ]
           ],
           "sequential": [
            [
             0,
             "#0d0887"
            ],
            [
             0.1111111111111111,
             "#46039f"
            ],
            [
             0.2222222222222222,
             "#7201a8"
            ],
            [
             0.3333333333333333,
             "#9c179e"
            ],
            [
             0.4444444444444444,
             "#bd3786"
            ],
            [
             0.5555555555555556,
             "#d8576b"
            ],
            [
             0.6666666666666666,
             "#ed7953"
            ],
            [
             0.7777777777777778,
             "#fb9f3a"
            ],
            [
             0.8888888888888888,
             "#fdca26"
            ],
            [
             1,
             "#f0f921"
            ]
           ],
           "sequentialminus": [
            [
             0,
             "#0d0887"
            ],
            [
             0.1111111111111111,
             "#46039f"
            ],
            [
             0.2222222222222222,
             "#7201a8"
            ],
            [
             0.3333333333333333,
             "#9c179e"
            ],
            [
             0.4444444444444444,
             "#bd3786"
            ],
            [
             0.5555555555555556,
             "#d8576b"
            ],
            [
             0.6666666666666666,
             "#ed7953"
            ],
            [
             0.7777777777777778,
             "#fb9f3a"
            ],
            [
             0.8888888888888888,
             "#fdca26"
            ],
            [
             1,
             "#f0f921"
            ]
           ]
          },
          "colorway": [
           "#636efa",
           "#EF553B",
           "#00cc96",
           "#ab63fa",
           "#FFA15A",
           "#19d3f3",
           "#FF6692",
           "#B6E880",
           "#FF97FF",
           "#FECB52"
          ],
          "font": {
           "color": "#f2f5fa"
          },
          "geo": {
           "bgcolor": "rgb(17,17,17)",
           "lakecolor": "rgb(17,17,17)",
           "landcolor": "rgb(17,17,17)",
           "showlakes": true,
           "showland": true,
           "subunitcolor": "#506784"
          },
          "hoverlabel": {
           "align": "left"
          },
          "hovermode": "closest",
          "mapbox": {
           "style": "dark"
          },
          "paper_bgcolor": "rgb(17,17,17)",
          "plot_bgcolor": "rgb(17,17,17)",
          "polar": {
           "angularaxis": {
            "gridcolor": "#506784",
            "linecolor": "#506784",
            "ticks": ""
           },
           "bgcolor": "rgb(17,17,17)",
           "radialaxis": {
            "gridcolor": "#506784",
            "linecolor": "#506784",
            "ticks": ""
           }
          },
          "scene": {
           "xaxis": {
            "backgroundcolor": "rgb(17,17,17)",
            "gridcolor": "#506784",
            "gridwidth": 2,
            "linecolor": "#506784",
            "showbackground": true,
            "ticks": "",
            "zerolinecolor": "#C8D4E3"
           },
           "yaxis": {
            "backgroundcolor": "rgb(17,17,17)",
            "gridcolor": "#506784",
            "gridwidth": 2,
            "linecolor": "#506784",
            "showbackground": true,
            "ticks": "",
            "zerolinecolor": "#C8D4E3"
           },
           "zaxis": {
            "backgroundcolor": "rgb(17,17,17)",
            "gridcolor": "#506784",
            "gridwidth": 2,
            "linecolor": "#506784",
            "showbackground": true,
            "ticks": "",
            "zerolinecolor": "#C8D4E3"
           }
          },
          "shapedefaults": {
           "line": {
            "color": "#f2f5fa"
           }
          },
          "sliderdefaults": {
           "bgcolor": "#C8D4E3",
           "bordercolor": "rgb(17,17,17)",
           "borderwidth": 1,
           "tickwidth": 0
          },
          "ternary": {
           "aaxis": {
            "gridcolor": "#506784",
            "linecolor": "#506784",
            "ticks": ""
           },
           "baxis": {
            "gridcolor": "#506784",
            "linecolor": "#506784",
            "ticks": ""
           },
           "bgcolor": "rgb(17,17,17)",
           "caxis": {
            "gridcolor": "#506784",
            "linecolor": "#506784",
            "ticks": ""
           }
          },
          "title": {
           "x": 0.05
          },
          "updatemenudefaults": {
           "bgcolor": "#506784",
           "borderwidth": 0
          },
          "xaxis": {
           "automargin": true,
           "gridcolor": "#283442",
           "linecolor": "#506784",
           "ticks": "",
           "title": {
            "standoff": 15
           },
           "zerolinecolor": "#283442",
           "zerolinewidth": 2
          },
          "yaxis": {
           "automargin": true,
           "gridcolor": "#283442",
           "linecolor": "#506784",
           "ticks": "",
           "title": {
            "standoff": 15
           },
           "zerolinecolor": "#283442",
           "zerolinewidth": 2
          }
         }
        },
        "title": {
         "text": "The decline of high school trades education is a male phenomenon<br><sup>The change in \"Trade and Industrial\" course enrollment is driven by male abdication.</sup>"
        },
        "width": 800,
        "xaxis": {
         "anchor": "y",
         "domain": [
          0,
          1
         ],
         "title": {}
        },
        "yaxis": {
         "anchor": "x",
         "domain": [
          0,
          1
         ],
         "title": {
          "text": "Average Graduating Credits"
         }
        }
       }
      }
     },
     "metadata": {},
     "output_type": "display_data"
    }
   ],
   "source": [
    "px.line(\n",
    "    pl.read_csv(\"./data/nces/carnegie-vocational/carnegie_credits_trade_and_industrial.csv\").with_columns(\n",
    "        pl.col(\"group\").replace(\n",
    "            {\n",
    "                \"total\": \"All Graduates\",\n",
    "                \"male\": \"Male\",\n",
    "                \"female\": \"Female\",\n",
    "            }\n",
    "        )\n",
    "    ),\n",
    "    x=\"year\",\n",
    "    y=\"average_credits\",\n",
    "    error_y=\"standard_error\",\n",
    "    color=\"group\",\n",
    "    color_discrete_map={\n",
    "        \"Male\": px.colors.diverging.Picnic[1],\n",
    "        \"Female\": px.colors.diverging.Picnic[8],\n",
    "        \"All Graduates\": \"white\",\n",
    "    },\n",
    "    template=\"plotly_dark\",\n",
    "    title=\"The decline of high school trades education is a male phenomenon<br><sup>The change in \\\"Trade and Industrial\\\" course enrollment is driven by male abdication.</sup>\",\n",
    "    width=800,\n",
    "    height=600,\n",
    ").update_layout(\n",
    "    xaxis_title=None,\n",
    "    yaxis_title=\"Average Graduating Credits\",   \n",
    "    legend_title_text=None,\n",
    "    plot_bgcolor=\"#171717\",\n",
    "    paper_bgcolor=\"#171717\",\n",
    ").add_annotation(\n",
    "    x=1.257,\n",
    "    y=-0.185,\n",
    "    xref=\"paper\",\n",
    "    yref=\"paper\",\n",
    "    text=\"<br>\".join(\n",
    "        (\n",
    "            \"Chart by Dominic Tarro | 𝕏 @dominictarro\",\n",
    "            \"Sources: NCES High School Transcript Survey (1987, 1990, 1994, 1998, 2000, and 2005)\",\n",
    "            \"NCES High School and Beyond Longitudinal Study (1980, 1982)\",\n",
    "            \"NCES Digest of Education Statistics 2007, Table 141\"\n",
    "        )\n",
    "    ),\n",
    "    align=\"right\",\n",
    "    showarrow=False,\n",
    "    font=dict(\n",
    "        size=10,\n",
    "        color=\"grey\"\n",
    "    ),\n",
    "    opacity=0.7\n",
    ")"
   ]
  }
 ],
 "metadata": {
  "kernelspec": {
   "display_name": "education",
   "language": "python",
   "name": "python3"
  },
  "language_info": {
   "codemirror_mode": {
    "name": "ipython",
    "version": 3
   },
   "file_extension": ".py",
   "mimetype": "text/x-python",
   "name": "python",
   "nbconvert_exporter": "python",
   "pygments_lexer": "ipython3",
   "version": "3.12.4"
  }
 },
 "nbformat": 4,
 "nbformat_minor": 2
}
