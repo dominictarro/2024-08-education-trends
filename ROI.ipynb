{
 "cells": [
  {
   "cell_type": "markdown",
   "metadata": {},
   "source": [
    "https://nces.ed.gov/ccd/elsi/tableGenerator.aspx\n",
    "\n",
    "https://www.usinflationcalculator.com/inflation/current-inflation-rates/\n",
    "https://data.bls.gov/pdq/SurveyOutputServlet"
   ]
  },
  {
   "cell_type": "code",
   "execution_count": 1,
   "metadata": {},
   "outputs": [],
   "source": [
    "import polars as pl\n",
    "import plotly.express as px\n",
    "import plotly.graph_objects as go\n",
    "import statsmodels.regression"
   ]
  },
  {
   "cell_type": "code",
   "execution_count": 2,
   "metadata": {},
   "outputs": [
    {
     "data": {
      "text/html": [
       "<div><style>\n",
       ".dataframe > thead > tr,\n",
       ".dataframe > tbody > tr {\n",
       "  text-align: right;\n",
       "  white-space: pre-wrap;\n",
       "}\n",
       "</style>\n",
       "<small>shape: (408, 24)</small><table border=\"1\" class=\"dataframe\"><thead><tr><th>State Name</th><th>SCHOOL_YEAR</th><th>Grades 1-8 Students</th><th>Grade 8 Students</th><th>Grade 7 Students</th><th>Grade 6 Students</th><th>Grade 5 Students</th><th>Grade 4 Students</th><th>Grade 3 Students</th><th>Grade 2 Students</th><th>Grade 1 Students</th><th>Total Expenditures (TE11+E4D+E7A1)</th><th>Total Revenues (TR) per Pupil (MEMBR)</th><th>Local Revenues (STR1+R2) per Pupil (MEMBR)</th><th>State Revenues (R3) per Pupil (MEMBR)</th><th>Federal Revenues (STR4) per Pupil (MEMBR)</th><th>Total Expenditures (TE11+E4D+E7A1) per Pupil (MEMBR)</th><th>Grades 9-12 Students</th><th>Prekindergarten Students</th><th>Kindergarten Students</th><th>Total Students</th><th>Grades 1-12 Students</th><th>SCHOOL_YEAR_START</th><th>SCHOOL_YEAR_END</th></tr><tr><td>str</td><td>str</td><td>i64</td><td>i64</td><td>i64</td><td>i64</td><td>i64</td><td>i64</td><td>i64</td><td>i64</td><td>i64</td><td>i64</td><td>i64</td><td>i64</td><td>i64</td><td>i64</td><td>i64</td><td>i64</td><td>i64</td><td>i64</td><td>i64</td><td>i64</td><td>i64</td><td>i64</td></tr></thead><tbody><tr><td>&quot;Alabama&quot;</td><td>&quot;2011-12&quot;</td><td>461122</td><td>57919</td><td>59050</td><td>59082</td><td>58415</td><td>56491</td><td>55991</td><td>56315</td><td>57859</td><td>7229298957</td><td>9534</td><td>3125</td><td>5284</td><td>1126</td><td>9709</td><td>217615</td><td>8282</td><td>57602</td><td>744621</td><td>678737</td><td>2011</td><td>2012</td></tr><tr><td>&quot;Alabama&quot;</td><td>&quot;2012-13&quot;</td><td>458974</td><td>58151</td><td>59685</td><td>58240</td><td>56523</td><td>55859</td><td>55868</td><td>56361</td><td>58287</td><td>7438871954</td><td>9653</td><td>3225</td><td>5286</td><td>1142</td><td>9990</td><td>217203</td><td>9032</td><td>59428</td><td>744637</td><td>676177</td><td>2012</td><td>2013</td></tr><tr><td>&quot;Alabama&quot;</td><td>&quot;2013-14&quot;</td><td>458327</td><td>58799</td><td>58455</td><td>56428</td><td>55699</td><td>55719</td><td>56003</td><td>56909</td><td>60315</td><td>7591336635</td><td>9913</td><td>3341</td><td>5448</td><td>1124</td><td>10173</td><td>218705</td><td>9415</td><td>59757</td><td>746204</td><td>677032</td><td>2013</td><td>2014</td></tr><tr><td>&quot;Alabama&quot;</td><td>&quot;2014-15&quot;</td><td>454081</td><td>57471</td><td>56251</td><td>54859</td><td>55265</td><td>55479</td><td>56007</td><td>58370</td><td>60379</td><td>7616860366</td><td>9992</td><td>3321</td><td>5549</td><td>1122</td><td>10235</td><td>221068</td><td>11076</td><td>57939</td><td>744164</td><td>675149</td><td>2014</td><td>2015</td></tr><tr><td>&quot;Alabama&quot;</td><td>&quot;2015-16&quot;</td><td>452764</td><td>55792</td><td>55172</td><td>54900</td><td>55340</td><td>55808</td><td>57963</td><td>58766</td><td>59023</td><td>7856051026</td><td>10200</td><td>3485</td><td>5578</td><td>1138</td><td>10562</td><td>222182</td><td>13230</td><td>55613</td><td>743789</td><td>674946</td><td>2015</td><td>2016</td></tr><tr><td>&hellip;</td><td>&hellip;</td><td>&hellip;</td><td>&hellip;</td><td>&hellip;</td><td>&hellip;</td><td>&hellip;</td><td>&hellip;</td><td>&hellip;</td><td>&hellip;</td><td>&hellip;</td><td>&hellip;</td><td>&hellip;</td><td>&hellip;</td><td>&hellip;</td><td>&hellip;</td><td>&hellip;</td><td>&hellip;</td><td>&hellip;</td><td>&hellip;</td><td>&hellip;</td><td>&hellip;</td><td>&hellip;</td><td>&hellip;</td></tr><tr><td>&quot;Wyoming&quot;</td><td>&quot;2014-15&quot;</td><td>58774</td><td>6927</td><td>6903</td><td>7181</td><td>7076</td><td>7438</td><td>7588</td><td>7835</td><td>7826</td><td>1929789830</td><td>20855</td><td>7697</td><td>11874</td><td>1284</td><td>20515</td><td>26732</td><td>564</td><td>7997</td><td>94067</td><td>85506</td><td>2014</td><td>2015</td></tr><tr><td>&quot;Wyoming&quot;</td><td>&quot;2015-16&quot;</td><td>59453</td><td>6902</td><td>7191</td><td>7155</td><td>7451</td><td>7551</td><td>7839</td><td>7704</td><td>7660</td><td>2020050580</td><td>21569</td><td>7851</td><td>12414</td><td>1305</td><td>21327</td><td>26914</td><td>509</td><td>7841</td><td>94717</td><td>86367</td><td>2015</td><td>2016</td></tr><tr><td>&quot;Wyoming&quot;</td><td>&quot;2016-17&quot;</td><td>58998</td><td>7135</td><td>7071</td><td>7352</td><td>7452</td><td>7642</td><td>7616</td><td>7422</td><td>7308</td><td>1913258414</td><td>20508</td><td>7128</td><td>12122</td><td>1258</td><td>20317</td><td>26924</td><td>664</td><td>7584</td><td>94170</td><td>85922</td><td>2016</td><td>2017</td></tr><tr><td>&quot;Wyoming&quot;</td><td>&quot;2017-18&quot;</td><td>58757</td><td>7086</td><td>7373</td><td>7449</td><td>7604</td><td>7537</td><td>7411</td><td>7179</td><td>7118</td><td>1729104112</td><td>19320</td><td>7102</td><td>10983</td><td>1236</td><td>18344</td><td>27361</td><td>671</td><td>7469</td><td>94258</td><td>86118</td><td>2017</td><td>2018</td></tr><tr><td>&quot;Wyoming&quot;</td><td>&quot;2018-19&quot;</td><td>58693</td><td>7419</td><td>7506</td><td>7654</td><td>7534</td><td>7381</td><td>7192</td><td>7001</td><td>7006</td><td>1718339215</td><td>19147</td><td>7516</td><td>10227</td><td>1405</td><td>18220</td><td>27451</td><td>705</td><td>7464</td><td>94313</td><td>86144</td><td>2018</td><td>2019</td></tr></tbody></table></div>"
      ],
      "text/plain": [
       "shape: (408, 24)\n",
       "┌───────────┬───────────┬───────────┬───────────┬───┬───────────┬───────────┬───────────┬──────────┐\n",
       "│ State     ┆ SCHOOL_YE ┆ Grades    ┆ Grade 8   ┆ … ┆ Total     ┆ Grades    ┆ SCHOOL_YE ┆ SCHOOL_Y │\n",
       "│ Name      ┆ AR        ┆ 1-8       ┆ Students  ┆   ┆ Students  ┆ 1-12      ┆ AR_START  ┆ EAR_END  │\n",
       "│ ---       ┆ ---       ┆ Students  ┆ ---       ┆   ┆ ---       ┆ Students  ┆ ---       ┆ ---      │\n",
       "│ str       ┆ str       ┆ ---       ┆ i64       ┆   ┆ i64       ┆ ---       ┆ i64       ┆ i64      │\n",
       "│           ┆           ┆ i64       ┆           ┆   ┆           ┆ i64       ┆           ┆          │\n",
       "╞═══════════╪═══════════╪═══════════╪═══════════╪═══╪═══════════╪═══════════╪═══════════╪══════════╡\n",
       "│ Alabama   ┆ 2011-12   ┆ 461122    ┆ 57919     ┆ … ┆ 744621    ┆ 678737    ┆ 2011      ┆ 2012     │\n",
       "│ Alabama   ┆ 2012-13   ┆ 458974    ┆ 58151     ┆ … ┆ 744637    ┆ 676177    ┆ 2012      ┆ 2013     │\n",
       "│ Alabama   ┆ 2013-14   ┆ 458327    ┆ 58799     ┆ … ┆ 746204    ┆ 677032    ┆ 2013      ┆ 2014     │\n",
       "│ Alabama   ┆ 2014-15   ┆ 454081    ┆ 57471     ┆ … ┆ 744164    ┆ 675149    ┆ 2014      ┆ 2015     │\n",
       "│ Alabama   ┆ 2015-16   ┆ 452764    ┆ 55792     ┆ … ┆ 743789    ┆ 674946    ┆ 2015      ┆ 2016     │\n",
       "│ …         ┆ …         ┆ …         ┆ …         ┆ … ┆ …         ┆ …         ┆ …         ┆ …        │\n",
       "│ Wyoming   ┆ 2014-15   ┆ 58774     ┆ 6927      ┆ … ┆ 94067     ┆ 85506     ┆ 2014      ┆ 2015     │\n",
       "│ Wyoming   ┆ 2015-16   ┆ 59453     ┆ 6902      ┆ … ┆ 94717     ┆ 86367     ┆ 2015      ┆ 2016     │\n",
       "│ Wyoming   ┆ 2016-17   ┆ 58998     ┆ 7135      ┆ … ┆ 94170     ┆ 85922     ┆ 2016      ┆ 2017     │\n",
       "│ Wyoming   ┆ 2017-18   ┆ 58757     ┆ 7086      ┆ … ┆ 94258     ┆ 86118     ┆ 2017      ┆ 2018     │\n",
       "│ Wyoming   ┆ 2018-19   ┆ 58693     ┆ 7419      ┆ … ┆ 94313     ┆ 86144     ┆ 2018      ┆ 2019     │\n",
       "└───────────┴───────────┴───────────┴───────────┴───┴───────────┴───────────┴───────────┴──────────┘"
      ]
     },
     "execution_count": 2,
     "metadata": {},
     "output_type": "execute_result"
    }
   ],
   "source": [
    "df = pl.read_csv(\n",
    "    \"./data/nces/geo/ELSI/state/ELSI_csv_export_6385899184786235507585.csv\",\n",
    "    skip_rows=6,\n",
    "    n_rows=51\n",
    ").drop(\"State Name [State] 2018-19\").with_columns(\n",
    "    pl.col(\"State Name\").str.to_titlecase()\n",
    ")\n",
    "df = df.unpivot(\n",
    "    on=df.columns[1:],\n",
    "    index=\"State Name\",\n",
    "    variable_name=\"VARIABLE\",\n",
    "    value_name=\"VALUE\"\n",
    ").with_columns(\n",
    "    SCHOOL_YEAR=pl.col(\"VARIABLE\").str.extract(r\"(\\d{4}\\-\\d{2})$\"),\n",
    "    VARIABLE=pl.col(\"VARIABLE\").str.replace(r\" \\[(State( Finance)?)\\] (\\d{4}\\-\\d{2})$\", \"\"),\n",
    "    VALUE=pl.col(\"VALUE\").replace(chr(8211), None).str.to_integer(),\n",
    ").pivot(\n",
    "    on=\"VARIABLE\",\n",
    "    index=[\"State Name\", \"SCHOOL_YEAR\"],\n",
    "    values=\"VALUE\",\n",
    "    aggregate_function=\"first\"\n",
    ").with_columns(\n",
    "    pl.sum_horizontal(\"Kindergarten Students\", \"Prekindergarten Students\", \"Grades 1-8 Students\", \"Grades 9-12 Students\").alias(\"Total Students\"),\n",
    "    pl.sum_horizontal(\"Grades 1-8 Students\", \"Grades 9-12 Students\").alias(\"Grades 1-12 Students\")\n",
    ").sort(\"State Name\", \"SCHOOL_YEAR\").with_columns(\n",
    "    pl.col(\"SCHOOL_YEAR\").str.extract(r\"^(\\d{4})\").str.to_integer().alias(\"SCHOOL_YEAR_START\"),\n",
    "    pl.col(\"SCHOOL_YEAR\").str.extract(r\"\\-(\\d{2})$\").str.to_integer().add(2000).alias(\"SCHOOL_YEAR_END\")\n",
    ")\n",
    "df"
   ]
  },
  {
   "cell_type": "code",
   "execution_count": 3,
   "metadata": {},
   "outputs": [
    {
     "data": {
      "text/html": [
       "<div><style>\n",
       ".dataframe > thead > tr,\n",
       ".dataframe > tbody > tr {\n",
       "  text-align: right;\n",
       "  white-space: pre-wrap;\n",
       "}\n",
       "</style>\n",
       "<small>shape: (10, 18)</small><table border=\"1\" class=\"dataframe\"><thead><tr><th>Year</th><th>Jan</th><th>Feb</th><th>Mar</th><th>Apr</th><th>May</th><th>Jun</th><th>Jul</th><th>Aug</th><th>Sep</th><th>Oct</th><th>Nov</th><th>Dec</th><th>Annual</th><th>HALF1</th><th>HALF2</th><th>Annual (Next Year)</th><th>Current to 2020 Dollar Conversion Rate</th></tr><tr><td>i64</td><td>f64</td><td>f64</td><td>f64</td><td>f64</td><td>f64</td><td>f64</td><td>f64</td><td>f64</td><td>f64</td><td>f64</td><td>f64</td><td>f64</td><td>f64</td><td>f64</td><td>f64</td><td>f64</td><td>f64</td></tr></thead><tbody><tr><td>2010</td><td>1.6</td><td>1.3</td><td>1.1</td><td>0.9</td><td>0.9</td><td>0.9</td><td>0.9</td><td>0.9</td><td>0.8</td><td>0.6</td><td>0.8</td><td>0.8</td><td>1.0</td><td>1.1</td><td>0.8</td><td>1.7</td><td>1.208257</td></tr><tr><td>2011</td><td>1.0</td><td>1.1</td><td>1.2</td><td>1.3</td><td>1.5</td><td>1.6</td><td>1.8</td><td>2.0</td><td>2.0</td><td>2.1</td><td>2.2</td><td>2.2</td><td>1.7</td><td>1.3</td><td>2.0</td><td>2.1</td><td>1.18806</td></tr><tr><td>2012</td><td>2.3</td><td>2.2</td><td>2.3</td><td>2.3</td><td>2.3</td><td>2.2</td><td>2.1</td><td>1.9</td><td>2.0</td><td>2.0</td><td>1.9</td><td>1.9</td><td>2.1</td><td>2.2</td><td>2.0</td><td>1.8</td><td>1.163624</td></tr><tr><td>2013</td><td>1.9</td><td>2.0</td><td>1.9</td><td>1.7</td><td>1.7</td><td>1.6</td><td>1.7</td><td>1.8</td><td>1.7</td><td>1.7</td><td>1.7</td><td>1.7</td><td>1.8</td><td>1.8</td><td>1.7</td><td>1.7</td><td>1.143049</td></tr><tr><td>2014</td><td>1.6</td><td>1.6</td><td>1.7</td><td>1.8</td><td>2.0</td><td>1.9</td><td>1.9</td><td>1.7</td><td>1.7</td><td>1.8</td><td>1.7</td><td>1.6</td><td>1.7</td><td>1.8</td><td>1.7</td><td>1.8</td><td>1.123942</td></tr><tr><td>2015</td><td>1.6</td><td>1.7</td><td>1.8</td><td>1.8</td><td>1.7</td><td>1.8</td><td>1.8</td><td>1.8</td><td>1.9</td><td>1.9</td><td>2.0</td><td>2.1</td><td>1.8</td><td>1.7</td><td>1.9</td><td>2.2</td><td>1.104069</td></tr><tr><td>2016</td><td>2.2</td><td>2.3</td><td>2.2</td><td>2.1</td><td>2.2</td><td>2.2</td><td>2.2</td><td>2.3</td><td>2.2</td><td>2.1</td><td>2.1</td><td>2.2</td><td>2.2</td><td>2.2</td><td>2.2</td><td>1.8</td><td>1.080302</td></tr><tr><td>2017</td><td>2.3</td><td>2.2</td><td>2.0</td><td>1.9</td><td>1.7</td><td>1.7</td><td>1.7</td><td>1.7</td><td>1.7</td><td>1.8</td><td>1.7</td><td>1.8</td><td>1.8</td><td>2.0</td><td>1.7</td><td>2.1</td><td>1.061201</td></tr><tr><td>2018</td><td>1.8</td><td>1.8</td><td>2.1</td><td>2.1</td><td>2.2</td><td>2.3</td><td>2.4</td><td>2.2</td><td>2.2</td><td>2.1</td><td>2.2</td><td>2.2</td><td>2.1</td><td>2.1</td><td>2.2</td><td>2.2</td><td>1.039374</td></tr><tr><td>2019</td><td>2.2</td><td>2.1</td><td>2.0</td><td>2.1</td><td>2.0</td><td>2.1</td><td>2.2</td><td>2.4</td><td>2.4</td><td>2.3</td><td>2.3</td><td>2.3</td><td>2.2</td><td>2.1</td><td>2.3</td><td>1.7</td><td>1.017</td></tr></tbody></table></div>"
      ],
      "text/plain": [
       "shape: (10, 18)\n",
       "┌──────┬─────┬─────┬─────┬───┬───────┬───────┬────────────────────┬────────────────────────┐\n",
       "│ Year ┆ Jan ┆ Feb ┆ Mar ┆ … ┆ HALF1 ┆ HALF2 ┆ Annual (Next Year) ┆ Current to 2020 Dollar │\n",
       "│ ---  ┆ --- ┆ --- ┆ --- ┆   ┆ ---   ┆ ---   ┆ ---                ┆ Convers…               │\n",
       "│ i64  ┆ f64 ┆ f64 ┆ f64 ┆   ┆ f64   ┆ f64   ┆ f64                ┆ ---                    │\n",
       "│      ┆     ┆     ┆     ┆   ┆       ┆       ┆                    ┆ f64                    │\n",
       "╞══════╪═════╪═════╪═════╪═══╪═══════╪═══════╪════════════════════╪════════════════════════╡\n",
       "│ 2010 ┆ 1.6 ┆ 1.3 ┆ 1.1 ┆ … ┆ 1.1   ┆ 0.8   ┆ 1.7                ┆ 1.208257               │\n",
       "│ 2011 ┆ 1.0 ┆ 1.1 ┆ 1.2 ┆ … ┆ 1.3   ┆ 2.0   ┆ 2.1                ┆ 1.18806                │\n",
       "│ 2012 ┆ 2.3 ┆ 2.2 ┆ 2.3 ┆ … ┆ 2.2   ┆ 2.0   ┆ 1.8                ┆ 1.163624               │\n",
       "│ 2013 ┆ 1.9 ┆ 2.0 ┆ 1.9 ┆ … ┆ 1.8   ┆ 1.7   ┆ 1.7                ┆ 1.143049               │\n",
       "│ 2014 ┆ 1.6 ┆ 1.6 ┆ 1.7 ┆ … ┆ 1.8   ┆ 1.7   ┆ 1.8                ┆ 1.123942               │\n",
       "│ 2015 ┆ 1.6 ┆ 1.7 ┆ 1.8 ┆ … ┆ 1.7   ┆ 1.9   ┆ 2.2                ┆ 1.104069               │\n",
       "│ 2016 ┆ 2.2 ┆ 2.3 ┆ 2.2 ┆ … ┆ 2.2   ┆ 2.2   ┆ 1.8                ┆ 1.080302               │\n",
       "│ 2017 ┆ 2.3 ┆ 2.2 ┆ 2.0 ┆ … ┆ 2.0   ┆ 1.7   ┆ 2.1                ┆ 1.061201               │\n",
       "│ 2018 ┆ 1.8 ┆ 1.8 ┆ 2.1 ┆ … ┆ 2.1   ┆ 2.2   ┆ 2.2                ┆ 1.039374               │\n",
       "│ 2019 ┆ 2.2 ┆ 2.1 ┆ 2.0 ┆ … ┆ 2.1   ┆ 2.3   ┆ 1.7                ┆ 1.017                  │\n",
       "└──────┴─────┴─────┴─────┴───┴───────┴───────┴────────────────────┴────────────────────────┘"
      ]
     },
     "execution_count": 3,
     "metadata": {},
     "output_type": "execute_result"
    }
   ],
   "source": [
    "inflation = pl.read_excel(\n",
    "    \"./data/bls/inflation/SeriesReport-20240811173715_e1eda9.xlsx\",\n",
    "    read_options=dict(header_row=11),\n",
    ")\n",
    "inflation = inflation.with_columns(\n",
    "    pl.col(\"Annual\").shift(-1).alias(\"Annual (Next Year)\")\n",
    ").filter(pl.col(\"Year\") < 2020).sort(\"Year\", descending=True).with_columns(\n",
    "    (1 + pl.col(\"Annual (Next Year)\") / 100).cum_prod().alias(\"Current to 2020 Dollar Conversion Rate\")\n",
    ").sort(\"Year\")\n",
    "inflation"
   ]
  },
  {
   "cell_type": "code",
   "execution_count": 4,
   "metadata": {},
   "outputs": [
    {
     "data": {
      "text/html": [
       "<div><style>\n",
       ".dataframe > thead > tr,\n",
       ".dataframe > tbody > tr {\n",
       "  text-align: right;\n",
       "  white-space: pre-wrap;\n",
       "}\n",
       "</style>\n",
       "<small>shape: (51, 4)</small><table border=\"1\" class=\"dataframe\"><thead><tr><th>State Name</th><th>2014-15</th><th>2018-19</th><th>Investment Change</th></tr><tr><td>str</td><td>f64</td><td>f64</td><td>f64</td></tr></thead><tbody><tr><td>&quot;Alaska&quot;</td><td>94046.988007</td><td>81784.974805</td><td>-12262.013202</td></tr><tr><td>&quot;Wyoming&quot;</td><td>86562.276805</td><td>82196.045171</td><td>-4366.231634</td></tr><tr><td>&quot;Louisiana&quot;</td><td>54834.153752</td><td>52740.849105</td><td>-2093.304647</td></tr><tr><td>&quot;West Virginia&quot;</td><td>55539.244061</td><td>53498.039359</td><td>-2041.204702</td></tr><tr><td>&quot;Arkansas&quot;</td><td>50161.688322</td><td>48975.172334</td><td>-1186.515988</td></tr><tr><td>&hellip;</td><td>&hellip;</td><td>&hellip;</td><td>&hellip;</td></tr><tr><td>&quot;Hawaii&quot;</td><td>60234.237008</td><td>68145.601147</td><td>7911.364139</td></tr><tr><td>&quot;New York&quot;</td><td>99396.422089</td><td>107649.308984</td><td>8252.886895</td></tr><tr><td>&quot;Oregon&quot;</td><td>50202.867182</td><td>59267.572773</td><td>9064.705592</td></tr><tr><td>&quot;California&quot;</td><td>50770.132622</td><td>60669.177836</td><td>9899.045215</td></tr><tr><td>&quot;Washington&quot;</td><td>54107.219546</td><td>65874.227266</td><td>11767.00772</td></tr></tbody></table></div>"
      ],
      "text/plain": [
       "shape: (51, 4)\n",
       "┌───────────────┬──────────────┬───────────────┬───────────────────┐\n",
       "│ State Name    ┆ 2014-15      ┆ 2018-19       ┆ Investment Change │\n",
       "│ ---           ┆ ---          ┆ ---           ┆ ---               │\n",
       "│ str           ┆ f64          ┆ f64           ┆ f64               │\n",
       "╞═══════════════╪══════════════╪═══════════════╪═══════════════════╡\n",
       "│ Alaska        ┆ 94046.988007 ┆ 81784.974805  ┆ -12262.013202     │\n",
       "│ Wyoming       ┆ 86562.276805 ┆ 82196.045171  ┆ -4366.231634      │\n",
       "│ Louisiana     ┆ 54834.153752 ┆ 52740.849105  ┆ -2093.304647      │\n",
       "│ West Virginia ┆ 55539.244061 ┆ 53498.039359  ┆ -2041.204702      │\n",
       "│ Arkansas      ┆ 50161.688322 ┆ 48975.172334  ┆ -1186.515988      │\n",
       "│ …             ┆ …            ┆ …             ┆ …                 │\n",
       "│ Hawaii        ┆ 60234.237008 ┆ 68145.601147  ┆ 7911.364139       │\n",
       "│ New York      ┆ 99396.422089 ┆ 107649.308984 ┆ 8252.886895       │\n",
       "│ Oregon        ┆ 50202.867182 ┆ 59267.572773  ┆ 9064.705592       │\n",
       "│ California    ┆ 50770.132622 ┆ 60669.177836  ┆ 9899.045215       │\n",
       "│ Washington    ┆ 54107.219546 ┆ 65874.227266  ┆ 11767.00772       │\n",
       "└───────────────┴──────────────┴───────────────┴───────────────────┘"
      ]
     },
     "execution_count": 4,
     "metadata": {},
     "output_type": "execute_result"
    }
   ],
   "source": [
    "student_investment = df.join(\n",
    "    inflation.select(\"Year\", \"Current to 2020 Dollar Conversion Rate\"),\n",
    "    left_on=\"SCHOOL_YEAR_END\",\n",
    "    right_on=\"Year\",\n",
    ").with_columns(\n",
    "    (\n",
    "        pl.col(\"Total Expenditures (TE11+E4D+E7A1) per Pupil (MEMBR)\")\n",
    "        * pl.col(\"Current to 2020 Dollar Conversion Rate\")\n",
    "    ).alias(\"Total Expenditures (TE11+E4D+E7A1) per Pupil (MEMBR) (2020 Dollars)\")\n",
    ").with_columns(\n",
    "    pl.col(\"Total Expenditures (TE11+E4D+E7A1) per Pupil (MEMBR) (2020 Dollars)\")\n",
    "    .rolling_sum(4)\n",
    "    .over(\"State Name\")\n",
    "    .alias(\"Total Expenditures (TE11+E4D+E7A1) per Graduating Pupil (MEMBR) (4-Year Rolling Sum) (2020 Dollars)\"),\n",
    ").select(\n",
    "    [\n",
    "        \"State Name\",\n",
    "        \"SCHOOL_YEAR\",\n",
    "        \"Total Expenditures (TE11+E4D+E7A1) per Graduating Pupil (MEMBR) (4-Year Rolling Sum) (2020 Dollars)\"\n",
    "    ]\n",
    ").filter(\n",
    "    pl.col(\"SCHOOL_YEAR\").is_in([\"2014-15\", \"2018-19\"])\n",
    ").pivot(\n",
    "    on=\"SCHOOL_YEAR\",\n",
    "    index=\"State Name\",\n",
    "    values=\"Total Expenditures (TE11+E4D+E7A1) per Graduating Pupil (MEMBR) (4-Year Rolling Sum) (2020 Dollars)\",\n",
    ").with_columns(\n",
    "    (pl.col(\"2018-19\") - pl.col(\"2014-15\")).alias(\"Investment Change\")\n",
    ").sort(\"Investment Change\")\n",
    "student_investment"
   ]
  },
  {
   "cell_type": "code",
   "execution_count": 5,
   "metadata": {},
   "outputs": [
    {
     "data": {
      "text/html": [
       "<div><style>\n",
       ".dataframe > thead > tr,\n",
       ".dataframe > tbody > tr {\n",
       "  text-align: right;\n",
       "  white-space: pre-wrap;\n",
       "}\n",
       "</style>\n",
       "<small>shape: (54, 4)</small><table border=\"1\" class=\"dataframe\"><thead><tr><th>State Name</th><th>Mean Grade 8 Math Score Change</th><th>At or Above Basic (%) Change</th><th>At or Above Proficient (%) Change</th></tr><tr><td>str</td><td>i64</td><td>i64</td><td>i64</td></tr></thead><tbody><tr><td>&quot;District of Columbia&quot;</td><td>-6</td><td>-4</td><td>-4</td></tr><tr><td>&quot;Florida&quot;</td><td>-4</td><td>-2</td><td>-5</td></tr><tr><td>&quot;Louisiana&quot;</td><td>-4</td><td>-4</td><td>-5</td></tr><tr><td>&quot;North Carolina&quot;</td><td>-3</td><td>-2</td><td>-4</td></tr><tr><td>&quot;Mississippi&quot;</td><td>-3</td><td>-2</td><td>-2</td></tr><tr><td>&hellip;</td><td>&hellip;</td><td>&hellip;</td><td>&hellip;</td></tr><tr><td>&quot;Texas&quot;</td><td>4</td><td>7</td><td>2</td></tr><tr><td>&quot;Hawaii&quot;</td><td>4</td><td>5</td><td>2</td></tr><tr><td>&quot;Rhode Island&quot;</td><td>5</td><td>8</td><td>3</td></tr><tr><td>&quot;Alaska&quot;</td><td>6</td><td>8</td><td>3</td></tr><tr><td>&quot;New Hampshire&quot;</td><td>7</td><td>7</td><td>8</td></tr></tbody></table></div>"
      ],
      "text/plain": [
       "shape: (54, 4)\n",
       "┌──────────────────────┬───────────────────┬───────────────────────┬────────────────────────────┐\n",
       "│ State Name           ┆ Mean Grade 8 Math ┆ At or Above Basic (%) ┆ At or Above Proficient (%) │\n",
       "│ ---                  ┆ Score Change      ┆ Change                ┆ Cha…                       │\n",
       "│ str                  ┆ ---               ┆ ---                   ┆ ---                        │\n",
       "│                      ┆ i64               ┆ i64                   ┆ i64                        │\n",
       "╞══════════════════════╪═══════════════════╪═══════════════════════╪════════════════════════════╡\n",
       "│ District of Columbia ┆ -6                ┆ -4                    ┆ -4                         │\n",
       "│ Florida              ┆ -4                ┆ -2                    ┆ -5                         │\n",
       "│ Louisiana            ┆ -4                ┆ -4                    ┆ -5                         │\n",
       "│ North Carolina       ┆ -3                ┆ -2                    ┆ -4                         │\n",
       "│ Mississippi          ┆ -3                ┆ -2                    ┆ -2                         │\n",
       "│ …                    ┆ …                 ┆ …                     ┆ …                          │\n",
       "│ Texas                ┆ 4                 ┆ 7                     ┆ 2                          │\n",
       "│ Hawaii               ┆ 4                 ┆ 5                     ┆ 2                          │\n",
       "│ Rhode Island         ┆ 5                 ┆ 8                     ┆ 3                          │\n",
       "│ Alaska               ┆ 6                 ┆ 8                     ┆ 3                          │\n",
       "│ New Hampshire        ┆ 7                 ┆ 7                     ┆ 8                          │\n",
       "└──────────────────────┴───────────────────┴───────────────────────┴────────────────────────────┘"
      ]
     },
     "execution_count": 5,
     "metadata": {},
     "output_type": "execute_result"
    }
   ],
   "source": [
    "math_performance = pl.concat(\n",
    "    [\n",
    "        pl.read_csv(\n",
    "            \"data/nces/geo/nations-report-card/2019/state_grade-8_math_SPCsv202408081556.csv\",\n",
    "            columns=[\"Jurisdiction\", \"MN\", \"AB\", \"AP\"],\n",
    "        ).with_columns(\n",
    "            pl.lit(2015).alias(\"Graduating Year\")\n",
    "        ),\n",
    "        pl.read_csv(\n",
    "            \"data/nces/geo/nations-report-card/2015/state_grade-8_math_SPCsv202408081407.csv\",\n",
    "            columns=[\"Jurisdiction\", \"MN\", \"AB\", \"AP\"],\n",
    "        ).with_columns(\n",
    "            pl.lit(2019).alias(\"Graduating Year\"),\n",
    "            pl.col(\"AP\").replace(\"#\", None).str.to_integer()\n",
    "        ),\n",
    "    ]\n",
    ").rename(\n",
    "    {\n",
    "        \"Jurisdiction\": \"State Name\",\n",
    "        \"MN\": \"Mean Grade 8 Math Score\",\n",
    "        \"AB\": \"At or Above Basic (%)\",\n",
    "        \"AP\": \"At or Above Proficient (%)\",\n",
    "    }\n",
    ").pivot(\n",
    "    on=\"Graduating Year\",\n",
    "    index=\"State Name\",\n",
    "    values=[\"Mean Grade 8 Math Score\", \"At or Above Basic (%)\", \"At or Above Proficient (%)\"],\n",
    ").with_columns(\n",
    "    (pl.col(\"Mean Grade 8 Math Score_2019\") - pl.col(\"Mean Grade 8 Math Score_2015\")).alias(\"Mean Grade 8 Math Score Change\"),\n",
    "    (pl.col(\"At or Above Basic (%)_2019\") - pl.col(\"At or Above Basic (%)_2015\")).alias(\"At or Above Basic (%) Change\"),\n",
    "    (pl.col(\"At or Above Proficient (%)_2019\") - pl.col(\"At or Above Proficient (%)_2015\")).alias(\"At or Above Proficient (%) Change\"),\n",
    ").select(\n",
    "    \"State Name\",\n",
    "    \"Mean Grade 8 Math Score Change\",\n",
    "    \"At or Above Basic (%) Change\",\n",
    "    \"At or Above Proficient (%) Change\",\n",
    ").sort(\"Mean Grade 8 Math Score Change\")\n",
    "\n",
    "math_performance"
   ]
  },
  {
   "cell_type": "code",
   "execution_count": 6,
   "metadata": {},
   "outputs": [
    {
     "name": "stdout",
     "output_type": "stream",
     "text": [
      "---------- Investment Change ~ Mean Grade 8 Math Score Change ----------\n"
     ]
    },
    {
     "data": {
      "text/html": [
       "<table class=\"simpletable\">\n",
       "<caption>OLS Regression Results</caption>\n",
       "<tr>\n",
       "  <th>Dep. Variable:</th>            <td>y</td>        <th>  R-squared (uncentered):</th>      <td>   0.024</td>\n",
       "</tr>\n",
       "<tr>\n",
       "  <th>Model:</th>                   <td>OLS</td>       <th>  Adj. R-squared (uncentered):</th> <td>   0.004</td>\n",
       "</tr>\n",
       "<tr>\n",
       "  <th>Method:</th>             <td>Least Squares</td>  <th>  F-statistic:       </th>          <td>   1.220</td>\n",
       "</tr>\n",
       "<tr>\n",
       "  <th>Date:</th>             <td>Tue, 13 Aug 2024</td> <th>  Prob (F-statistic):</th>           <td> 0.275</td> \n",
       "</tr>\n",
       "<tr>\n",
       "  <th>Time:</th>                 <td>00:22:24</td>     <th>  Log-Likelihood:    </th>          <td> -489.34</td>\n",
       "</tr>\n",
       "<tr>\n",
       "  <th>No. Observations:</th>      <td>    50</td>      <th>  AIC:               </th>          <td>   980.7</td>\n",
       "</tr>\n",
       "<tr>\n",
       "  <th>Df Residuals:</th>          <td>    49</td>      <th>  BIC:               </th>          <td>   982.6</td>\n",
       "</tr>\n",
       "<tr>\n",
       "  <th>Df Model:</th>              <td>     1</td>      <th>                     </th>              <td> </td>   \n",
       "</tr>\n",
       "<tr>\n",
       "  <th>Covariance Type:</th>      <td>nonrobust</td>    <th>                     </th>              <td> </td>   \n",
       "</tr>\n",
       "</table>\n",
       "<table class=\"simpletable\">\n",
       "<tr>\n",
       "   <td></td>     <th>coef</th>     <th>std err</th>      <th>t</th>      <th>P>|t|</th>  <th>[0.025</th>    <th>0.975]</th>  \n",
       "</tr>\n",
       "<tr>\n",
       "  <th>x1</th> <td>  260.2126</td> <td>  235.568</td> <td>    1.105</td> <td> 0.275</td> <td> -213.178</td> <td>  733.603</td>\n",
       "</tr>\n",
       "</table>\n",
       "<table class=\"simpletable\">\n",
       "<tr>\n",
       "  <th>Omnibus:</th>       <td>17.477</td> <th>  Durbin-Watson:     </th> <td>   0.159</td>\n",
       "</tr>\n",
       "<tr>\n",
       "  <th>Prob(Omnibus):</th> <td> 0.000</td> <th>  Jarque-Bera (JB):  </th> <td>  48.401</td>\n",
       "</tr>\n",
       "<tr>\n",
       "  <th>Skew:</th>          <td>-0.760</td> <th>  Prob(JB):          </th> <td>3.09e-11</td>\n",
       "</tr>\n",
       "<tr>\n",
       "  <th>Kurtosis:</th>      <td> 7.574</td> <th>  Cond. No.          </th> <td>    1.00</td>\n",
       "</tr>\n",
       "</table><br/><br/>Notes:<br/>[1] R² is computed without centering (uncentered) since the model does not contain a constant.<br/>[2] Standard Errors assume that the covariance matrix of the errors is correctly specified."
      ],
      "text/latex": [
       "\\begin{center}\n",
       "\\begin{tabular}{lclc}\n",
       "\\toprule\n",
       "\\textbf{Dep. Variable:}    &        y         & \\textbf{  R-squared (uncentered):}      &     0.024   \\\\\n",
       "\\textbf{Model:}            &       OLS        & \\textbf{  Adj. R-squared (uncentered):} &     0.004   \\\\\n",
       "\\textbf{Method:}           &  Least Squares   & \\textbf{  F-statistic:       }          &     1.220   \\\\\n",
       "\\textbf{Date:}             & Tue, 13 Aug 2024 & \\textbf{  Prob (F-statistic):}          &    0.275    \\\\\n",
       "\\textbf{Time:}             &     00:22:24     & \\textbf{  Log-Likelihood:    }          &   -489.34   \\\\\n",
       "\\textbf{No. Observations:} &          50      & \\textbf{  AIC:               }          &     980.7   \\\\\n",
       "\\textbf{Df Residuals:}     &          49      & \\textbf{  BIC:               }          &     982.6   \\\\\n",
       "\\textbf{Df Model:}         &           1      & \\textbf{                     }          &             \\\\\n",
       "\\textbf{Covariance Type:}  &    nonrobust     & \\textbf{                     }          &             \\\\\n",
       "\\bottomrule\n",
       "\\end{tabular}\n",
       "\\begin{tabular}{lcccccc}\n",
       "            & \\textbf{coef} & \\textbf{std err} & \\textbf{t} & \\textbf{P$> |$t$|$} & \\textbf{[0.025} & \\textbf{0.975]}  \\\\\n",
       "\\midrule\n",
       "\\textbf{x1} &     260.2126  &      235.568     &     1.105  &         0.275        &     -213.178    &      733.603     \\\\\n",
       "\\bottomrule\n",
       "\\end{tabular}\n",
       "\\begin{tabular}{lclc}\n",
       "\\textbf{Omnibus:}       & 17.477 & \\textbf{  Durbin-Watson:     } &    0.159  \\\\\n",
       "\\textbf{Prob(Omnibus):} &  0.000 & \\textbf{  Jarque-Bera (JB):  } &   48.401  \\\\\n",
       "\\textbf{Skew:}          & -0.760 & \\textbf{  Prob(JB):          } & 3.09e-11  \\\\\n",
       "\\textbf{Kurtosis:}      &  7.574 & \\textbf{  Cond. No.          } &     1.00  \\\\\n",
       "\\bottomrule\n",
       "\\end{tabular}\n",
       "%\\caption{OLS Regression Results}\n",
       "\\end{center}\n",
       "\n",
       "Notes: \\newline\n",
       " [1] R² is computed without centering (uncentered) since the model does not contain a constant. \\newline\n",
       " [2] Standard Errors assume that the covariance matrix of the errors is correctly specified."
      ],
      "text/plain": [
       "<class 'statsmodels.iolib.summary.Summary'>\n",
       "\"\"\"\n",
       "                                 OLS Regression Results                                \n",
       "=======================================================================================\n",
       "Dep. Variable:                      y   R-squared (uncentered):                   0.024\n",
       "Model:                            OLS   Adj. R-squared (uncentered):              0.004\n",
       "Method:                 Least Squares   F-statistic:                              1.220\n",
       "Date:                Tue, 13 Aug 2024   Prob (F-statistic):                       0.275\n",
       "Time:                        00:22:24   Log-Likelihood:                         -489.34\n",
       "No. Observations:                  50   AIC:                                      980.7\n",
       "Df Residuals:                      49   BIC:                                      982.6\n",
       "Df Model:                           1                                                  \n",
       "Covariance Type:            nonrobust                                                  \n",
       "==============================================================================\n",
       "                 coef    std err          t      P>|t|      [0.025      0.975]\n",
       "------------------------------------------------------------------------------\n",
       "x1           260.2126    235.568      1.105      0.275    -213.178     733.603\n",
       "==============================================================================\n",
       "Omnibus:                       17.477   Durbin-Watson:                   0.159\n",
       "Prob(Omnibus):                  0.000   Jarque-Bera (JB):               48.401\n",
       "Skew:                          -0.760   Prob(JB):                     3.09e-11\n",
       "Kurtosis:                       7.574   Cond. No.                         1.00\n",
       "==============================================================================\n",
       "\n",
       "Notes:\n",
       "[1] R² is computed without centering (uncentered) since the model does not contain a constant.\n",
       "[2] Standard Errors assume that the covariance matrix of the errors is correctly specified.\n",
       "\"\"\""
      ]
     },
     "metadata": {},
     "output_type": "display_data"
    },
    {
     "name": "stdout",
     "output_type": "stream",
     "text": [
      "---------- Investment Change ~ At or Above Basic (%) Change ----------\n"
     ]
    },
    {
     "data": {
      "text/html": [
       "<table class=\"simpletable\">\n",
       "<caption>OLS Regression Results</caption>\n",
       "<tr>\n",
       "  <th>Dep. Variable:</th>            <td>y</td>        <th>  R-squared (uncentered):</th>      <td>   0.152</td>\n",
       "</tr>\n",
       "<tr>\n",
       "  <th>Model:</th>                   <td>OLS</td>       <th>  Adj. R-squared (uncentered):</th> <td>   0.135</td>\n",
       "</tr>\n",
       "<tr>\n",
       "  <th>Method:</th>             <td>Least Squares</td>  <th>  F-statistic:       </th>          <td>   8.805</td>\n",
       "</tr>\n",
       "<tr>\n",
       "  <th>Date:</th>             <td>Tue, 13 Aug 2024</td> <th>  Prob (F-statistic):</th>           <td>0.00464</td>\n",
       "</tr>\n",
       "<tr>\n",
       "  <th>Time:</th>                 <td>00:22:24</td>     <th>  Log-Likelihood:    </th>          <td> -485.82</td>\n",
       "</tr>\n",
       "<tr>\n",
       "  <th>No. Observations:</th>      <td>    50</td>      <th>  AIC:               </th>          <td>   973.6</td>\n",
       "</tr>\n",
       "<tr>\n",
       "  <th>Df Residuals:</th>          <td>    49</td>      <th>  BIC:               </th>          <td>   975.6</td>\n",
       "</tr>\n",
       "<tr>\n",
       "  <th>Df Model:</th>              <td>     1</td>      <th>                     </th>              <td> </td>   \n",
       "</tr>\n",
       "<tr>\n",
       "  <th>Covariance Type:</th>      <td>nonrobust</td>    <th>                     </th>              <td> </td>   \n",
       "</tr>\n",
       "</table>\n",
       "<table class=\"simpletable\">\n",
       "<tr>\n",
       "   <td></td>     <th>coef</th>     <th>std err</th>      <th>t</th>      <th>P>|t|</th>  <th>[0.025</th>    <th>0.975]</th>  \n",
       "</tr>\n",
       "<tr>\n",
       "  <th>x1</th> <td>  452.1560</td> <td>  152.382</td> <td>    2.967</td> <td> 0.005</td> <td>  145.933</td> <td>  758.379</td>\n",
       "</tr>\n",
       "</table>\n",
       "<table class=\"simpletable\">\n",
       "<tr>\n",
       "  <th>Omnibus:</th>       <td>23.942</td> <th>  Durbin-Watson:     </th> <td>   0.320</td>\n",
       "</tr>\n",
       "<tr>\n",
       "  <th>Prob(Omnibus):</th> <td> 0.000</td> <th>  Jarque-Bera (JB):  </th> <td>  76.623</td>\n",
       "</tr>\n",
       "<tr>\n",
       "  <th>Skew:</th>          <td>-1.100</td> <th>  Prob(JB):          </th> <td>2.30e-17</td>\n",
       "</tr>\n",
       "<tr>\n",
       "  <th>Kurtosis:</th>      <td> 8.652</td> <th>  Cond. No.          </th> <td>    1.00</td>\n",
       "</tr>\n",
       "</table><br/><br/>Notes:<br/>[1] R² is computed without centering (uncentered) since the model does not contain a constant.<br/>[2] Standard Errors assume that the covariance matrix of the errors is correctly specified."
      ],
      "text/latex": [
       "\\begin{center}\n",
       "\\begin{tabular}{lclc}\n",
       "\\toprule\n",
       "\\textbf{Dep. Variable:}    &        y         & \\textbf{  R-squared (uncentered):}      &     0.152   \\\\\n",
       "\\textbf{Model:}            &       OLS        & \\textbf{  Adj. R-squared (uncentered):} &     0.135   \\\\\n",
       "\\textbf{Method:}           &  Least Squares   & \\textbf{  F-statistic:       }          &     8.805   \\\\\n",
       "\\textbf{Date:}             & Tue, 13 Aug 2024 & \\textbf{  Prob (F-statistic):}          &  0.00464    \\\\\n",
       "\\textbf{Time:}             &     00:22:24     & \\textbf{  Log-Likelihood:    }          &   -485.82   \\\\\n",
       "\\textbf{No. Observations:} &          50      & \\textbf{  AIC:               }          &     973.6   \\\\\n",
       "\\textbf{Df Residuals:}     &          49      & \\textbf{  BIC:               }          &     975.6   \\\\\n",
       "\\textbf{Df Model:}         &           1      & \\textbf{                     }          &             \\\\\n",
       "\\textbf{Covariance Type:}  &    nonrobust     & \\textbf{                     }          &             \\\\\n",
       "\\bottomrule\n",
       "\\end{tabular}\n",
       "\\begin{tabular}{lcccccc}\n",
       "            & \\textbf{coef} & \\textbf{std err} & \\textbf{t} & \\textbf{P$> |$t$|$} & \\textbf{[0.025} & \\textbf{0.975]}  \\\\\n",
       "\\midrule\n",
       "\\textbf{x1} &     452.1560  &      152.382     &     2.967  &         0.005        &      145.933    &      758.379     \\\\\n",
       "\\bottomrule\n",
       "\\end{tabular}\n",
       "\\begin{tabular}{lclc}\n",
       "\\textbf{Omnibus:}       & 23.942 & \\textbf{  Durbin-Watson:     } &    0.320  \\\\\n",
       "\\textbf{Prob(Omnibus):} &  0.000 & \\textbf{  Jarque-Bera (JB):  } &   76.623  \\\\\n",
       "\\textbf{Skew:}          & -1.100 & \\textbf{  Prob(JB):          } & 2.30e-17  \\\\\n",
       "\\textbf{Kurtosis:}      &  8.652 & \\textbf{  Cond. No.          } &     1.00  \\\\\n",
       "\\bottomrule\n",
       "\\end{tabular}\n",
       "%\\caption{OLS Regression Results}\n",
       "\\end{center}\n",
       "\n",
       "Notes: \\newline\n",
       " [1] R² is computed without centering (uncentered) since the model does not contain a constant. \\newline\n",
       " [2] Standard Errors assume that the covariance matrix of the errors is correctly specified."
      ],
      "text/plain": [
       "<class 'statsmodels.iolib.summary.Summary'>\n",
       "\"\"\"\n",
       "                                 OLS Regression Results                                \n",
       "=======================================================================================\n",
       "Dep. Variable:                      y   R-squared (uncentered):                   0.152\n",
       "Model:                            OLS   Adj. R-squared (uncentered):              0.135\n",
       "Method:                 Least Squares   F-statistic:                              8.805\n",
       "Date:                Tue, 13 Aug 2024   Prob (F-statistic):                     0.00464\n",
       "Time:                        00:22:24   Log-Likelihood:                         -485.82\n",
       "No. Observations:                  50   AIC:                                      973.6\n",
       "Df Residuals:                      49   BIC:                                      975.6\n",
       "Df Model:                           1                                                  \n",
       "Covariance Type:            nonrobust                                                  \n",
       "==============================================================================\n",
       "                 coef    std err          t      P>|t|      [0.025      0.975]\n",
       "------------------------------------------------------------------------------\n",
       "x1           452.1560    152.382      2.967      0.005     145.933     758.379\n",
       "==============================================================================\n",
       "Omnibus:                       23.942   Durbin-Watson:                   0.320\n",
       "Prob(Omnibus):                  0.000   Jarque-Bera (JB):               76.623\n",
       "Skew:                          -1.100   Prob(JB):                     2.30e-17\n",
       "Kurtosis:                       8.652   Cond. No.                         1.00\n",
       "==============================================================================\n",
       "\n",
       "Notes:\n",
       "[1] R² is computed without centering (uncentered) since the model does not contain a constant.\n",
       "[2] Standard Errors assume that the covariance matrix of the errors is correctly specified.\n",
       "\"\"\""
      ]
     },
     "metadata": {},
     "output_type": "display_data"
    },
    {
     "name": "stdout",
     "output_type": "stream",
     "text": [
      "---------- Investment Change ~ At or Above Proficient (%) Change ----------\n"
     ]
    },
    {
     "data": {
      "text/html": [
       "<table class=\"simpletable\">\n",
       "<caption>OLS Regression Results</caption>\n",
       "<tr>\n",
       "  <th>Dep. Variable:</th>            <td>y</td>        <th>  R-squared (uncentered):</th>      <td>   0.001</td>\n",
       "</tr>\n",
       "<tr>\n",
       "  <th>Model:</th>                   <td>OLS</td>       <th>  Adj. R-squared (uncentered):</th> <td>  -0.019</td>\n",
       "</tr>\n",
       "<tr>\n",
       "  <th>Method:</th>             <td>Least Squares</td>  <th>  F-statistic:       </th>          <td> 0.04891</td>\n",
       "</tr>\n",
       "<tr>\n",
       "  <th>Date:</th>             <td>Tue, 13 Aug 2024</td> <th>  Prob (F-statistic):</th>           <td> 0.826</td> \n",
       "</tr>\n",
       "<tr>\n",
       "  <th>Time:</th>                 <td>00:22:24</td>     <th>  Log-Likelihood:    </th>          <td> -489.93</td>\n",
       "</tr>\n",
       "<tr>\n",
       "  <th>No. Observations:</th>      <td>    50</td>      <th>  AIC:               </th>          <td>   981.9</td>\n",
       "</tr>\n",
       "<tr>\n",
       "  <th>Df Residuals:</th>          <td>    49</td>      <th>  BIC:               </th>          <td>   983.8</td>\n",
       "</tr>\n",
       "<tr>\n",
       "  <th>Df Model:</th>              <td>     1</td>      <th>                     </th>              <td> </td>   \n",
       "</tr>\n",
       "<tr>\n",
       "  <th>Covariance Type:</th>      <td>nonrobust</td>    <th>                     </th>              <td> </td>   \n",
       "</tr>\n",
       "</table>\n",
       "<table class=\"simpletable\">\n",
       "<tr>\n",
       "   <td></td>     <th>coef</th>     <th>std err</th>      <th>t</th>      <th>P>|t|</th>  <th>[0.025</th>    <th>0.975]</th>  \n",
       "</tr>\n",
       "<tr>\n",
       "  <th>x1</th> <td>   47.1097</td> <td>  213.012</td> <td>    0.221</td> <td> 0.826</td> <td> -380.953</td> <td>  475.173</td>\n",
       "</tr>\n",
       "</table>\n",
       "<table class=\"simpletable\">\n",
       "<tr>\n",
       "  <th>Omnibus:</th>       <td>11.988</td> <th>  Durbin-Watson:     </th> <td>   0.088</td>\n",
       "</tr>\n",
       "<tr>\n",
       "  <th>Prob(Omnibus):</th> <td> 0.002</td> <th>  Jarque-Bera (JB):  </th> <td>  26.879</td>\n",
       "</tr>\n",
       "<tr>\n",
       "  <th>Skew:</th>          <td>-0.479</td> <th>  Prob(JB):          </th> <td>1.46e-06</td>\n",
       "</tr>\n",
       "<tr>\n",
       "  <th>Kurtosis:</th>      <td> 6.462</td> <th>  Cond. No.          </th> <td>    1.00</td>\n",
       "</tr>\n",
       "</table><br/><br/>Notes:<br/>[1] R² is computed without centering (uncentered) since the model does not contain a constant.<br/>[2] Standard Errors assume that the covariance matrix of the errors is correctly specified."
      ],
      "text/latex": [
       "\\begin{center}\n",
       "\\begin{tabular}{lclc}\n",
       "\\toprule\n",
       "\\textbf{Dep. Variable:}    &        y         & \\textbf{  R-squared (uncentered):}      &     0.001   \\\\\n",
       "\\textbf{Model:}            &       OLS        & \\textbf{  Adj. R-squared (uncentered):} &    -0.019   \\\\\n",
       "\\textbf{Method:}           &  Least Squares   & \\textbf{  F-statistic:       }          &   0.04891   \\\\\n",
       "\\textbf{Date:}             & Tue, 13 Aug 2024 & \\textbf{  Prob (F-statistic):}          &    0.826    \\\\\n",
       "\\textbf{Time:}             &     00:22:24     & \\textbf{  Log-Likelihood:    }          &   -489.93   \\\\\n",
       "\\textbf{No. Observations:} &          50      & \\textbf{  AIC:               }          &     981.9   \\\\\n",
       "\\textbf{Df Residuals:}     &          49      & \\textbf{  BIC:               }          &     983.8   \\\\\n",
       "\\textbf{Df Model:}         &           1      & \\textbf{                     }          &             \\\\\n",
       "\\textbf{Covariance Type:}  &    nonrobust     & \\textbf{                     }          &             \\\\\n",
       "\\bottomrule\n",
       "\\end{tabular}\n",
       "\\begin{tabular}{lcccccc}\n",
       "            & \\textbf{coef} & \\textbf{std err} & \\textbf{t} & \\textbf{P$> |$t$|$} & \\textbf{[0.025} & \\textbf{0.975]}  \\\\\n",
       "\\midrule\n",
       "\\textbf{x1} &      47.1097  &      213.012     &     0.221  &         0.826        &     -380.953    &      475.173     \\\\\n",
       "\\bottomrule\n",
       "\\end{tabular}\n",
       "\\begin{tabular}{lclc}\n",
       "\\textbf{Omnibus:}       & 11.988 & \\textbf{  Durbin-Watson:     } &    0.088  \\\\\n",
       "\\textbf{Prob(Omnibus):} &  0.002 & \\textbf{  Jarque-Bera (JB):  } &   26.879  \\\\\n",
       "\\textbf{Skew:}          & -0.479 & \\textbf{  Prob(JB):          } & 1.46e-06  \\\\\n",
       "\\textbf{Kurtosis:}      &  6.462 & \\textbf{  Cond. No.          } &     1.00  \\\\\n",
       "\\bottomrule\n",
       "\\end{tabular}\n",
       "%\\caption{OLS Regression Results}\n",
       "\\end{center}\n",
       "\n",
       "Notes: \\newline\n",
       " [1] R² is computed without centering (uncentered) since the model does not contain a constant. \\newline\n",
       " [2] Standard Errors assume that the covariance matrix of the errors is correctly specified."
      ],
      "text/plain": [
       "<class 'statsmodels.iolib.summary.Summary'>\n",
       "\"\"\"\n",
       "                                 OLS Regression Results                                \n",
       "=======================================================================================\n",
       "Dep. Variable:                      y   R-squared (uncentered):                   0.001\n",
       "Model:                            OLS   Adj. R-squared (uncentered):             -0.019\n",
       "Method:                 Least Squares   F-statistic:                            0.04891\n",
       "Date:                Tue, 13 Aug 2024   Prob (F-statistic):                       0.826\n",
       "Time:                        00:22:24   Log-Likelihood:                         -489.93\n",
       "No. Observations:                  50   AIC:                                      981.9\n",
       "Df Residuals:                      49   BIC:                                      983.8\n",
       "Df Model:                           1                                                  \n",
       "Covariance Type:            nonrobust                                                  \n",
       "==============================================================================\n",
       "                 coef    std err          t      P>|t|      [0.025      0.975]\n",
       "------------------------------------------------------------------------------\n",
       "x1            47.1097    213.012      0.221      0.826    -380.953     475.173\n",
       "==============================================================================\n",
       "Omnibus:                       11.988   Durbin-Watson:                   0.088\n",
       "Prob(Omnibus):                  0.002   Jarque-Bera (JB):               26.879\n",
       "Skew:                          -0.479   Prob(JB):                     1.46e-06\n",
       "Kurtosis:                       6.462   Cond. No.                         1.00\n",
       "==============================================================================\n",
       "\n",
       "Notes:\n",
       "[1] R² is computed without centering (uncentered) since the model does not contain a constant.\n",
       "[2] Standard Errors assume that the covariance matrix of the errors is correctly specified.\n",
       "\"\"\""
      ]
     },
     "metadata": {},
     "output_type": "display_data"
    }
   ],
   "source": [
    "__df = student_investment.join(\n",
    "    math_performance,\n",
    "    on=\"State Name\"\n",
    ").sort(\"Investment Change\")\n",
    "\n",
    "for exog in [\n",
    "    \"Mean Grade 8 Math Score Change\",\n",
    "    \"At or Above Basic (%) Change\",\n",
    "    \"At or Above Proficient (%) Change\",\n",
    "]:\n",
    "    result = statsmodels.regression.linear_model.OLS(\n",
    "        __df[\"Investment Change\"].to_list(),\n",
    "        __df[exog].to_list(),\n",
    "    ).fit()\n",
    "    print(\"-\" * 10, \"Investment Change ~\", exog, \"-\" * 10)\n",
    "    display(result.summary())\n"
   ]
  },
  {
   "cell_type": "code",
   "execution_count": 7,
   "metadata": {},
   "outputs": [
    {
     "data": {
      "application/vnd.plotly.v1+json": {
       "config": {
        "plotlyServerURL": "https://plot.ly"
       },
       "data": [
        {
         "alignmentgroup": "True",
         "hovertemplate": "State=%{x}<br>4-Year Expenditure Change (2020 Dollars)=%{y}<br>Change in NAEP Average Math Score=%{marker.color}<extra></extra>",
         "legendgroup": "",
         "marker": {
          "color": [
           6,
           1,
           -4,
           -1,
           1,
           1,
           3,
           -1,
           3,
           2,
           2,
           -2,
           -2,
           4,
           -4,
           0,
           -3,
           -1,
           1,
           1,
           5,
           -2,
           -2,
           1,
           1,
           0,
           3,
           -3,
           0,
           0,
           0,
           3,
           1,
           -2,
           3,
           -2,
           3,
           4,
           3,
           2,
           1,
           7,
           -1,
           3,
           -1,
           4,
           0,
           3,
           -1,
           1
          ],
          "coloraxis": "coloraxis",
          "pattern": {
           "shape": ""
          }
         },
         "name": "",
         "offsetgroup": "",
         "orientation": "v",
         "showlegend": false,
         "textposition": "auto",
         "type": "bar",
         "x": [
          "Alaska",
          "Wyoming",
          "Louisiana",
          "West Virginia",
          "Arkansas",
          "Indiana",
          "Delaware",
          "Oklahoma",
          "Maryland",
          "New Mexico",
          "Kansas",
          "Alabama",
          "Michigan",
          "Iowa",
          "Florida",
          "Missouri",
          "Mississippi",
          "Ohio",
          "Virginia",
          "New Jersey",
          "Rhode Island",
          "Tennessee",
          "South Dakota",
          "Nebraska",
          "Utah",
          "Kentucky",
          "Arizona",
          "North Carolina",
          "Georgia",
          "South Carolina",
          "Wisconsin",
          "Montana",
          "Nevada",
          "Connecticut",
          "Massachusetts",
          "Idaho",
          "Vermont",
          "Texas",
          "Maine",
          "North Dakota",
          "Colorado",
          "New Hampshire",
          "Pennsylvania",
          "Minnesota",
          "Illinois",
          "Hawaii",
          "New York",
          "Oregon",
          "California",
          "Washington"
         ],
         "xaxis": "x",
         "y": [
          -12262.013201767739,
          -4366.231633608899,
          -2093.304647429286,
          -2041.2047018770609,
          -1186.5159881710715,
          -986.7884109876541,
          -724.0568199513946,
          -685.073152819532,
          -321.99607484499575,
          -149.72545753795566,
          100.01805591401353,
          321.5371947532258,
          425.2633604046641,
          449.42532073447364,
          596.1872562656572,
          610.8610312385426,
          640.7846762202535,
          942.4433536165743,
          981.8175119106891,
          1058.8136460580135,
          1191.9624840444012,
          1255.0343574371218,
          1427.7084360656809,
          1475.8315637047126,
          1554.6674355815849,
          1662.1634483910238,
          1969.6435768508818,
          2248.5775593058643,
          2277.231940041449,
          2643.3270980921225,
          2670.521159723714,
          2817.8136849053044,
          2848.104937887634,
          3035.878333736444,
          3066.331417747162,
          3200.4918322076337,
          3324.6493972717144,
          3815.539702408976,
          4181.441254124424,
          4730.655507288437,
          4739.31063163263,
          4819.226009446211,
          5435.864629388336,
          6346.3234025930215,
          6955.0815723013075,
          7911.364139291072,
          8252.886894872907,
          9064.705591782717,
          9899.045214924532,
          11767.007720005691
         ],
         "yaxis": "y"
        }
       ],
       "layout": {
        "annotations": [
         {
          "align": "right",
          "font": {
           "color": "grey",
           "size": 10
          },
          "opacity": 0.7,
          "showarrow": false,
          "text": "Chart by Dominic Tarro | 𝕏 @dominictarro<br>Sources: NAEP Mathematics Assessments (2015, 2019)<br>CCD National Public Education Financial Survey (2010-2019)",
          "x": 1.07,
          "xref": "paper",
          "y": -0.15,
          "yref": "paper"
         },
         {
          "align": "left",
          "font": {
           "color": "grey",
           "size": 10
          },
          "opacity": 0.7,
          "showarrow": false,
          "text": "The NAEP Mathematics scale ranges from 0 to 500.<br>2020 dollar adjustment for school year expenditures was done with the ending year's inflation rate.<br>Data compares differences in scores and spending, by state, between 8th graders in 2015 and 2019.<br><i>Per Pupil, 4-Year Expenditure</i> is an aggregate from 5th-8th grade.",
          "x": -0.08,
          "xref": "paper",
          "y": -0.15,
          "yref": "paper"
         }
        ],
        "barmode": "relative",
        "coloraxis": {
         "colorbar": {
          "orientation": "h",
          "title": {
           "text": "Change in <i>NAEP Average Math Score</i>"
          }
         },
         "colorscale": [
          [
           0,
           "rgb(103,0,31)"
          ],
          [
           0.1,
           "rgb(178,24,43)"
          ],
          [
           0.2,
           "rgb(214,96,77)"
          ],
          [
           0.3,
           "rgb(244,165,130)"
          ],
          [
           0.4,
           "rgb(253,219,199)"
          ],
          [
           0.5,
           "rgb(247,247,247)"
          ],
          [
           0.6,
           "rgb(209,229,240)"
          ],
          [
           0.7,
           "rgb(146,197,222)"
          ],
          [
           0.8,
           "rgb(67,147,195)"
          ],
          [
           0.9,
           "rgb(33,102,172)"
          ],
          [
           1,
           "rgb(5,48,97)"
          ]
         ]
        },
        "height": 600,
        "legend": {
         "tracegroupgap": 0
        },
        "paper_bgcolor": "#171717",
        "plot_bgcolor": "#171717",
        "template": {
         "data": {
          "bar": [
           {
            "error_x": {
             "color": "#f2f5fa"
            },
            "error_y": {
             "color": "#f2f5fa"
            },
            "marker": {
             "line": {
              "color": "rgb(17,17,17)",
              "width": 0.5
             },
             "pattern": {
              "fillmode": "overlay",
              "size": 10,
              "solidity": 0.2
             }
            },
            "type": "bar"
           }
          ],
          "barpolar": [
           {
            "marker": {
             "line": {
              "color": "rgb(17,17,17)",
              "width": 0.5
             },
             "pattern": {
              "fillmode": "overlay",
              "size": 10,
              "solidity": 0.2
             }
            },
            "type": "barpolar"
           }
          ],
          "carpet": [
           {
            "aaxis": {
             "endlinecolor": "#A2B1C6",
             "gridcolor": "#506784",
             "linecolor": "#506784",
             "minorgridcolor": "#506784",
             "startlinecolor": "#A2B1C6"
            },
            "baxis": {
             "endlinecolor": "#A2B1C6",
             "gridcolor": "#506784",
             "linecolor": "#506784",
             "minorgridcolor": "#506784",
             "startlinecolor": "#A2B1C6"
            },
            "type": "carpet"
           }
          ],
          "choropleth": [
           {
            "colorbar": {
             "outlinewidth": 0,
             "ticks": ""
            },
            "type": "choropleth"
           }
          ],
          "contour": [
           {
            "colorbar": {
             "outlinewidth": 0,
             "ticks": ""
            },
            "colorscale": [
             [
              0,
              "#0d0887"
             ],
             [
              0.1111111111111111,
              "#46039f"
             ],
             [
              0.2222222222222222,
              "#7201a8"
             ],
             [
              0.3333333333333333,
              "#9c179e"
             ],
             [
              0.4444444444444444,
              "#bd3786"
             ],
             [
              0.5555555555555556,
              "#d8576b"
             ],
             [
              0.6666666666666666,
              "#ed7953"
             ],
             [
              0.7777777777777778,
              "#fb9f3a"
             ],
             [
              0.8888888888888888,
              "#fdca26"
             ],
             [
              1,
              "#f0f921"
             ]
            ],
            "type": "contour"
           }
          ],
          "contourcarpet": [
           {
            "colorbar": {
             "outlinewidth": 0,
             "ticks": ""
            },
            "type": "contourcarpet"
           }
          ],
          "heatmap": [
           {
            "colorbar": {
             "outlinewidth": 0,
             "ticks": ""
            },
            "colorscale": [
             [
              0,
              "#0d0887"
             ],
             [
              0.1111111111111111,
              "#46039f"
             ],
             [
              0.2222222222222222,
              "#7201a8"
             ],
             [
              0.3333333333333333,
              "#9c179e"
             ],
             [
              0.4444444444444444,
              "#bd3786"
             ],
             [
              0.5555555555555556,
              "#d8576b"
             ],
             [
              0.6666666666666666,
              "#ed7953"
             ],
             [
              0.7777777777777778,
              "#fb9f3a"
             ],
             [
              0.8888888888888888,
              "#fdca26"
             ],
             [
              1,
              "#f0f921"
             ]
            ],
            "type": "heatmap"
           }
          ],
          "heatmapgl": [
           {
            "colorbar": {
             "outlinewidth": 0,
             "ticks": ""
            },
            "colorscale": [
             [
              0,
              "#0d0887"
             ],
             [
              0.1111111111111111,
              "#46039f"
             ],
             [
              0.2222222222222222,
              "#7201a8"
             ],
             [
              0.3333333333333333,
              "#9c179e"
             ],
             [
              0.4444444444444444,
              "#bd3786"
             ],
             [
              0.5555555555555556,
              "#d8576b"
             ],
             [
              0.6666666666666666,
              "#ed7953"
             ],
             [
              0.7777777777777778,
              "#fb9f3a"
             ],
             [
              0.8888888888888888,
              "#fdca26"
             ],
             [
              1,
              "#f0f921"
             ]
            ],
            "type": "heatmapgl"
           }
          ],
          "histogram": [
           {
            "marker": {
             "pattern": {
              "fillmode": "overlay",
              "size": 10,
              "solidity": 0.2
             }
            },
            "type": "histogram"
           }
          ],
          "histogram2d": [
           {
            "colorbar": {
             "outlinewidth": 0,
             "ticks": ""
            },
            "colorscale": [
             [
              0,
              "#0d0887"
             ],
             [
              0.1111111111111111,
              "#46039f"
             ],
             [
              0.2222222222222222,
              "#7201a8"
             ],
             [
              0.3333333333333333,
              "#9c179e"
             ],
             [
              0.4444444444444444,
              "#bd3786"
             ],
             [
              0.5555555555555556,
              "#d8576b"
             ],
             [
              0.6666666666666666,
              "#ed7953"
             ],
             [
              0.7777777777777778,
              "#fb9f3a"
             ],
             [
              0.8888888888888888,
              "#fdca26"
             ],
             [
              1,
              "#f0f921"
             ]
            ],
            "type": "histogram2d"
           }
          ],
          "histogram2dcontour": [
           {
            "colorbar": {
             "outlinewidth": 0,
             "ticks": ""
            },
            "colorscale": [
             [
              0,
              "#0d0887"
             ],
             [
              0.1111111111111111,
              "#46039f"
             ],
             [
              0.2222222222222222,
              "#7201a8"
             ],
             [
              0.3333333333333333,
              "#9c179e"
             ],
             [
              0.4444444444444444,
              "#bd3786"
             ],
             [
              0.5555555555555556,
              "#d8576b"
             ],
             [
              0.6666666666666666,
              "#ed7953"
             ],
             [
              0.7777777777777778,
              "#fb9f3a"
             ],
             [
              0.8888888888888888,
              "#fdca26"
             ],
             [
              1,
              "#f0f921"
             ]
            ],
            "type": "histogram2dcontour"
           }
          ],
          "mesh3d": [
           {
            "colorbar": {
             "outlinewidth": 0,
             "ticks": ""
            },
            "type": "mesh3d"
           }
          ],
          "parcoords": [
           {
            "line": {
             "colorbar": {
              "outlinewidth": 0,
              "ticks": ""
             }
            },
            "type": "parcoords"
           }
          ],
          "pie": [
           {
            "automargin": true,
            "type": "pie"
           }
          ],
          "scatter": [
           {
            "marker": {
             "line": {
              "color": "#283442"
             }
            },
            "type": "scatter"
           }
          ],
          "scatter3d": [
           {
            "line": {
             "colorbar": {
              "outlinewidth": 0,
              "ticks": ""
             }
            },
            "marker": {
             "colorbar": {
              "outlinewidth": 0,
              "ticks": ""
             }
            },
            "type": "scatter3d"
           }
          ],
          "scattercarpet": [
           {
            "marker": {
             "colorbar": {
              "outlinewidth": 0,
              "ticks": ""
             }
            },
            "type": "scattercarpet"
           }
          ],
          "scattergeo": [
           {
            "marker": {
             "colorbar": {
              "outlinewidth": 0,
              "ticks": ""
             }
            },
            "type": "scattergeo"
           }
          ],
          "scattergl": [
           {
            "marker": {
             "line": {
              "color": "#283442"
             }
            },
            "type": "scattergl"
           }
          ],
          "scattermapbox": [
           {
            "marker": {
             "colorbar": {
              "outlinewidth": 0,
              "ticks": ""
             }
            },
            "type": "scattermapbox"
           }
          ],
          "scatterpolar": [
           {
            "marker": {
             "colorbar": {
              "outlinewidth": 0,
              "ticks": ""
             }
            },
            "type": "scatterpolar"
           }
          ],
          "scatterpolargl": [
           {
            "marker": {
             "colorbar": {
              "outlinewidth": 0,
              "ticks": ""
             }
            },
            "type": "scatterpolargl"
           }
          ],
          "scatterternary": [
           {
            "marker": {
             "colorbar": {
              "outlinewidth": 0,
              "ticks": ""
             }
            },
            "type": "scatterternary"
           }
          ],
          "surface": [
           {
            "colorbar": {
             "outlinewidth": 0,
             "ticks": ""
            },
            "colorscale": [
             [
              0,
              "#0d0887"
             ],
             [
              0.1111111111111111,
              "#46039f"
             ],
             [
              0.2222222222222222,
              "#7201a8"
             ],
             [
              0.3333333333333333,
              "#9c179e"
             ],
             [
              0.4444444444444444,
              "#bd3786"
             ],
             [
              0.5555555555555556,
              "#d8576b"
             ],
             [
              0.6666666666666666,
              "#ed7953"
             ],
             [
              0.7777777777777778,
              "#fb9f3a"
             ],
             [
              0.8888888888888888,
              "#fdca26"
             ],
             [
              1,
              "#f0f921"
             ]
            ],
            "type": "surface"
           }
          ],
          "table": [
           {
            "cells": {
             "fill": {
              "color": "#506784"
             },
             "line": {
              "color": "rgb(17,17,17)"
             }
            },
            "header": {
             "fill": {
              "color": "#2a3f5f"
             },
             "line": {
              "color": "rgb(17,17,17)"
             }
            },
            "type": "table"
           }
          ]
         },
         "layout": {
          "annotationdefaults": {
           "arrowcolor": "#f2f5fa",
           "arrowhead": 0,
           "arrowwidth": 1
          },
          "autotypenumbers": "strict",
          "coloraxis": {
           "colorbar": {
            "outlinewidth": 0,
            "ticks": ""
           }
          },
          "colorscale": {
           "diverging": [
            [
             0,
             "#8e0152"
            ],
            [
             0.1,
             "#c51b7d"
            ],
            [
             0.2,
             "#de77ae"
            ],
            [
             0.3,
             "#f1b6da"
            ],
            [
             0.4,
             "#fde0ef"
            ],
            [
             0.5,
             "#f7f7f7"
            ],
            [
             0.6,
             "#e6f5d0"
            ],
            [
             0.7,
             "#b8e186"
            ],
            [
             0.8,
             "#7fbc41"
            ],
            [
             0.9,
             "#4d9221"
            ],
            [
             1,
             "#276419"
            ]
           ],
           "sequential": [
            [
             0,
             "#0d0887"
            ],
            [
             0.1111111111111111,
             "#46039f"
            ],
            [
             0.2222222222222222,
             "#7201a8"
            ],
            [
             0.3333333333333333,
             "#9c179e"
            ],
            [
             0.4444444444444444,
             "#bd3786"
            ],
            [
             0.5555555555555556,
             "#d8576b"
            ],
            [
             0.6666666666666666,
             "#ed7953"
            ],
            [
             0.7777777777777778,
             "#fb9f3a"
            ],
            [
             0.8888888888888888,
             "#fdca26"
            ],
            [
             1,
             "#f0f921"
            ]
           ],
           "sequentialminus": [
            [
             0,
             "#0d0887"
            ],
            [
             0.1111111111111111,
             "#46039f"
            ],
            [
             0.2222222222222222,
             "#7201a8"
            ],
            [
             0.3333333333333333,
             "#9c179e"
            ],
            [
             0.4444444444444444,
             "#bd3786"
            ],
            [
             0.5555555555555556,
             "#d8576b"
            ],
            [
             0.6666666666666666,
             "#ed7953"
            ],
            [
             0.7777777777777778,
             "#fb9f3a"
            ],
            [
             0.8888888888888888,
             "#fdca26"
            ],
            [
             1,
             "#f0f921"
            ]
           ]
          },
          "colorway": [
           "#636efa",
           "#EF553B",
           "#00cc96",
           "#ab63fa",
           "#FFA15A",
           "#19d3f3",
           "#FF6692",
           "#B6E880",
           "#FF97FF",
           "#FECB52"
          ],
          "font": {
           "color": "#f2f5fa"
          },
          "geo": {
           "bgcolor": "rgb(17,17,17)",
           "lakecolor": "rgb(17,17,17)",
           "landcolor": "rgb(17,17,17)",
           "showlakes": true,
           "showland": true,
           "subunitcolor": "#506784"
          },
          "hoverlabel": {
           "align": "left"
          },
          "hovermode": "closest",
          "mapbox": {
           "style": "dark"
          },
          "paper_bgcolor": "rgb(17,17,17)",
          "plot_bgcolor": "rgb(17,17,17)",
          "polar": {
           "angularaxis": {
            "gridcolor": "#506784",
            "linecolor": "#506784",
            "ticks": ""
           },
           "bgcolor": "rgb(17,17,17)",
           "radialaxis": {
            "gridcolor": "#506784",
            "linecolor": "#506784",
            "ticks": ""
           }
          },
          "scene": {
           "xaxis": {
            "backgroundcolor": "rgb(17,17,17)",
            "gridcolor": "#506784",
            "gridwidth": 2,
            "linecolor": "#506784",
            "showbackground": true,
            "ticks": "",
            "zerolinecolor": "#C8D4E3"
           },
           "yaxis": {
            "backgroundcolor": "rgb(17,17,17)",
            "gridcolor": "#506784",
            "gridwidth": 2,
            "linecolor": "#506784",
            "showbackground": true,
            "ticks": "",
            "zerolinecolor": "#C8D4E3"
           },
           "zaxis": {
            "backgroundcolor": "rgb(17,17,17)",
            "gridcolor": "#506784",
            "gridwidth": 2,
            "linecolor": "#506784",
            "showbackground": true,
            "ticks": "",
            "zerolinecolor": "#C8D4E3"
           }
          },
          "shapedefaults": {
           "line": {
            "color": "#f2f5fa"
           }
          },
          "sliderdefaults": {
           "bgcolor": "#C8D4E3",
           "bordercolor": "rgb(17,17,17)",
           "borderwidth": 1,
           "tickwidth": 0
          },
          "ternary": {
           "aaxis": {
            "gridcolor": "#506784",
            "linecolor": "#506784",
            "ticks": ""
           },
           "baxis": {
            "gridcolor": "#506784",
            "linecolor": "#506784",
            "ticks": ""
           },
           "bgcolor": "rgb(17,17,17)",
           "caxis": {
            "gridcolor": "#506784",
            "linecolor": "#506784",
            "ticks": ""
           }
          },
          "title": {
           "x": 0.05
          },
          "updatemenudefaults": {
           "bgcolor": "#506784",
           "borderwidth": 0
          },
          "xaxis": {
           "automargin": true,
           "gridcolor": "#283442",
           "linecolor": "#506784",
           "ticks": "",
           "title": {
            "standoff": 15
           },
           "zerolinecolor": "#283442",
           "zerolinewidth": 2
          },
          "yaxis": {
           "automargin": true,
           "gridcolor": "#283442",
           "linecolor": "#506784",
           "ticks": "",
           "title": {
            "standoff": 15
           },
           "zerolinecolor": "#283442",
           "zerolinewidth": 2
          }
         }
        },
        "title": {
         "text": "US Primary Education Return on Investment<br><sup><i>States spending more per student from 5th through 8th grade had a negligible relationship with average 8th grade math performance.</i></sup>"
        },
        "width": 1000,
        "xaxis": {
         "anchor": "y",
         "domain": [
          0,
          1
         ],
         "showticklabels": false,
         "title": {}
        },
        "yaxis": {
         "anchor": "x",
         "domain": [
          0,
          1
         ],
         "title": {
          "font": {
           "size": 10
          },
          "text": "Per Pupil, 4-Year Expenditure Change Between 2015 and 2019<br>(2020 Dollars)"
         }
        }
       }
      }
     },
     "metadata": {},
     "output_type": "display_data"
    },
    {
     "data": {
      "application/vnd.plotly.v1+json": {
       "config": {
        "plotlyServerURL": "https://plot.ly"
       },
       "data": [
        {
         "alignmentgroup": "True",
         "hovertemplate": "State=%{x}<br>4-Year Expenditure Change (2020 Dollars)=%{y}<br>Change in NAEP At or Above Basic</i><br><sup>(% Points)</sup>=%{marker.color}<extra></extra>",
         "legendgroup": "",
         "marker": {
          "color": [
           8,
           2,
           -4,
           0,
           3,
           4,
           4,
           1,
           6,
           5,
           5,
           -1,
           0,
           4,
           -2,
           1,
           -2,
           2,
           1,
           3,
           8,
           0,
           1,
           3,
           4,
           1,
           4,
           -2,
           0,
           1,
           2,
           6,
           3,
           0,
           3,
           1,
           4,
           7,
           5,
           5,
           0,
           7,
           2,
           5,
           3,
           5,
           3,
           6,
           3,
           2
          ],
          "coloraxis": "coloraxis",
          "pattern": {
           "shape": ""
          }
         },
         "name": "",
         "offsetgroup": "",
         "orientation": "v",
         "showlegend": false,
         "textposition": "auto",
         "type": "bar",
         "x": [
          "Alaska",
          "Wyoming",
          "Louisiana",
          "West Virginia",
          "Arkansas",
          "Indiana",
          "Delaware",
          "Oklahoma",
          "Maryland",
          "New Mexico",
          "Kansas",
          "Alabama",
          "Michigan",
          "Iowa",
          "Florida",
          "Missouri",
          "Mississippi",
          "Ohio",
          "Virginia",
          "New Jersey",
          "Rhode Island",
          "Tennessee",
          "South Dakota",
          "Nebraska",
          "Utah",
          "Kentucky",
          "Arizona",
          "North Carolina",
          "Georgia",
          "South Carolina",
          "Wisconsin",
          "Montana",
          "Nevada",
          "Connecticut",
          "Massachusetts",
          "Idaho",
          "Vermont",
          "Texas",
          "Maine",
          "North Dakota",
          "Colorado",
          "New Hampshire",
          "Pennsylvania",
          "Minnesota",
          "Illinois",
          "Hawaii",
          "New York",
          "Oregon",
          "California",
          "Washington"
         ],
         "xaxis": "x",
         "y": [
          -12262.013201767739,
          -4366.231633608899,
          -2093.304647429286,
          -2041.2047018770609,
          -1186.5159881710715,
          -986.7884109876541,
          -724.0568199513946,
          -685.073152819532,
          -321.99607484499575,
          -149.72545753795566,
          100.01805591401353,
          321.5371947532258,
          425.2633604046641,
          449.42532073447364,
          596.1872562656572,
          610.8610312385426,
          640.7846762202535,
          942.4433536165743,
          981.8175119106891,
          1058.8136460580135,
          1191.9624840444012,
          1255.0343574371218,
          1427.7084360656809,
          1475.8315637047126,
          1554.6674355815849,
          1662.1634483910238,
          1969.6435768508818,
          2248.5775593058643,
          2277.231940041449,
          2643.3270980921225,
          2670.521159723714,
          2817.8136849053044,
          2848.104937887634,
          3035.878333736444,
          3066.331417747162,
          3200.4918322076337,
          3324.6493972717144,
          3815.539702408976,
          4181.441254124424,
          4730.655507288437,
          4739.31063163263,
          4819.226009446211,
          5435.864629388336,
          6346.3234025930215,
          6955.0815723013075,
          7911.364139291072,
          8252.886894872907,
          9064.705591782717,
          9899.045214924532,
          11767.007720005691
         ],
         "yaxis": "y"
        }
       ],
       "layout": {
        "annotations": [
         {
          "align": "right",
          "font": {
           "color": "grey",
           "size": 10
          },
          "opacity": 0.7,
          "showarrow": false,
          "text": "Chart by Dominic Tarro | 𝕏 @dominictarro<br>Sources: NAEP Mathematics Assessments (2015, 2019)<br>CCD National Public Education Financial Survey (2010-2019)",
          "x": 1.07,
          "xref": "paper",
          "y": -0.15,
          "yref": "paper"
         },
         {
          "align": "left",
          "font": {
           "color": "grey",
           "size": 10
          },
          "opacity": 0.7,
          "showarrow": false,
          "text": "The NAEP Mathematics scale ranges from 0 to 500.<br>2020 dollar adjustment for school year expenditures was done with the ending year's inflation rate.<br>Data compares differences in scores and spending, by state, between 8th graders in 2015 and 2019.<br><i>Per Pupil, 4-Year Expenditure</i> is an aggregate from 5th-8th grade.",
          "x": -0.08,
          "xref": "paper",
          "y": -0.15,
          "yref": "paper"
         }
        ],
        "barmode": "relative",
        "coloraxis": {
         "colorbar": {
          "orientation": "h",
          "title": {
           "text": "Change in <i>NAEP At or Above Basic</i><br><sup>(% Points)</sup></i>"
          }
         },
         "colorscale": [
          [
           0,
           "rgb(103,0,31)"
          ],
          [
           0.1,
           "rgb(178,24,43)"
          ],
          [
           0.2,
           "rgb(214,96,77)"
          ],
          [
           0.3,
           "rgb(244,165,130)"
          ],
          [
           0.4,
           "rgb(253,219,199)"
          ],
          [
           0.5,
           "rgb(247,247,247)"
          ],
          [
           0.6,
           "rgb(209,229,240)"
          ],
          [
           0.7,
           "rgb(146,197,222)"
          ],
          [
           0.8,
           "rgb(67,147,195)"
          ],
          [
           0.9,
           "rgb(33,102,172)"
          ],
          [
           1,
           "rgb(5,48,97)"
          ]
         ]
        },
        "height": 600,
        "legend": {
         "tracegroupgap": 0
        },
        "paper_bgcolor": "#171717",
        "plot_bgcolor": "#171717",
        "template": {
         "data": {
          "bar": [
           {
            "error_x": {
             "color": "#f2f5fa"
            },
            "error_y": {
             "color": "#f2f5fa"
            },
            "marker": {
             "line": {
              "color": "rgb(17,17,17)",
              "width": 0.5
             },
             "pattern": {
              "fillmode": "overlay",
              "size": 10,
              "solidity": 0.2
             }
            },
            "type": "bar"
           }
          ],
          "barpolar": [
           {
            "marker": {
             "line": {
              "color": "rgb(17,17,17)",
              "width": 0.5
             },
             "pattern": {
              "fillmode": "overlay",
              "size": 10,
              "solidity": 0.2
             }
            },
            "type": "barpolar"
           }
          ],
          "carpet": [
           {
            "aaxis": {
             "endlinecolor": "#A2B1C6",
             "gridcolor": "#506784",
             "linecolor": "#506784",
             "minorgridcolor": "#506784",
             "startlinecolor": "#A2B1C6"
            },
            "baxis": {
             "endlinecolor": "#A2B1C6",
             "gridcolor": "#506784",
             "linecolor": "#506784",
             "minorgridcolor": "#506784",
             "startlinecolor": "#A2B1C6"
            },
            "type": "carpet"
           }
          ],
          "choropleth": [
           {
            "colorbar": {
             "outlinewidth": 0,
             "ticks": ""
            },
            "type": "choropleth"
           }
          ],
          "contour": [
           {
            "colorbar": {
             "outlinewidth": 0,
             "ticks": ""
            },
            "colorscale": [
             [
              0,
              "#0d0887"
             ],
             [
              0.1111111111111111,
              "#46039f"
             ],
             [
              0.2222222222222222,
              "#7201a8"
             ],
             [
              0.3333333333333333,
              "#9c179e"
             ],
             [
              0.4444444444444444,
              "#bd3786"
             ],
             [
              0.5555555555555556,
              "#d8576b"
             ],
             [
              0.6666666666666666,
              "#ed7953"
             ],
             [
              0.7777777777777778,
              "#fb9f3a"
             ],
             [
              0.8888888888888888,
              "#fdca26"
             ],
             [
              1,
              "#f0f921"
             ]
            ],
            "type": "contour"
           }
          ],
          "contourcarpet": [
           {
            "colorbar": {
             "outlinewidth": 0,
             "ticks": ""
            },
            "type": "contourcarpet"
           }
          ],
          "heatmap": [
           {
            "colorbar": {
             "outlinewidth": 0,
             "ticks": ""
            },
            "colorscale": [
             [
              0,
              "#0d0887"
             ],
             [
              0.1111111111111111,
              "#46039f"
             ],
             [
              0.2222222222222222,
              "#7201a8"
             ],
             [
              0.3333333333333333,
              "#9c179e"
             ],
             [
              0.4444444444444444,
              "#bd3786"
             ],
             [
              0.5555555555555556,
              "#d8576b"
             ],
             [
              0.6666666666666666,
              "#ed7953"
             ],
             [
              0.7777777777777778,
              "#fb9f3a"
             ],
             [
              0.8888888888888888,
              "#fdca26"
             ],
             [
              1,
              "#f0f921"
             ]
            ],
            "type": "heatmap"
           }
          ],
          "heatmapgl": [
           {
            "colorbar": {
             "outlinewidth": 0,
             "ticks": ""
            },
            "colorscale": [
             [
              0,
              "#0d0887"
             ],
             [
              0.1111111111111111,
              "#46039f"
             ],
             [
              0.2222222222222222,
              "#7201a8"
             ],
             [
              0.3333333333333333,
              "#9c179e"
             ],
             [
              0.4444444444444444,
              "#bd3786"
             ],
             [
              0.5555555555555556,
              "#d8576b"
             ],
             [
              0.6666666666666666,
              "#ed7953"
             ],
             [
              0.7777777777777778,
              "#fb9f3a"
             ],
             [
              0.8888888888888888,
              "#fdca26"
             ],
             [
              1,
              "#f0f921"
             ]
            ],
            "type": "heatmapgl"
           }
          ],
          "histogram": [
           {
            "marker": {
             "pattern": {
              "fillmode": "overlay",
              "size": 10,
              "solidity": 0.2
             }
            },
            "type": "histogram"
           }
          ],
          "histogram2d": [
           {
            "colorbar": {
             "outlinewidth": 0,
             "ticks": ""
            },
            "colorscale": [
             [
              0,
              "#0d0887"
             ],
             [
              0.1111111111111111,
              "#46039f"
             ],
             [
              0.2222222222222222,
              "#7201a8"
             ],
             [
              0.3333333333333333,
              "#9c179e"
             ],
             [
              0.4444444444444444,
              "#bd3786"
             ],
             [
              0.5555555555555556,
              "#d8576b"
             ],
             [
              0.6666666666666666,
              "#ed7953"
             ],
             [
              0.7777777777777778,
              "#fb9f3a"
             ],
             [
              0.8888888888888888,
              "#fdca26"
             ],
             [
              1,
              "#f0f921"
             ]
            ],
            "type": "histogram2d"
           }
          ],
          "histogram2dcontour": [
           {
            "colorbar": {
             "outlinewidth": 0,
             "ticks": ""
            },
            "colorscale": [
             [
              0,
              "#0d0887"
             ],
             [
              0.1111111111111111,
              "#46039f"
             ],
             [
              0.2222222222222222,
              "#7201a8"
             ],
             [
              0.3333333333333333,
              "#9c179e"
             ],
             [
              0.4444444444444444,
              "#bd3786"
             ],
             [
              0.5555555555555556,
              "#d8576b"
             ],
             [
              0.6666666666666666,
              "#ed7953"
             ],
             [
              0.7777777777777778,
              "#fb9f3a"
             ],
             [
              0.8888888888888888,
              "#fdca26"
             ],
             [
              1,
              "#f0f921"
             ]
            ],
            "type": "histogram2dcontour"
           }
          ],
          "mesh3d": [
           {
            "colorbar": {
             "outlinewidth": 0,
             "ticks": ""
            },
            "type": "mesh3d"
           }
          ],
          "parcoords": [
           {
            "line": {
             "colorbar": {
              "outlinewidth": 0,
              "ticks": ""
             }
            },
            "type": "parcoords"
           }
          ],
          "pie": [
           {
            "automargin": true,
            "type": "pie"
           }
          ],
          "scatter": [
           {
            "marker": {
             "line": {
              "color": "#283442"
             }
            },
            "type": "scatter"
           }
          ],
          "scatter3d": [
           {
            "line": {
             "colorbar": {
              "outlinewidth": 0,
              "ticks": ""
             }
            },
            "marker": {
             "colorbar": {
              "outlinewidth": 0,
              "ticks": ""
             }
            },
            "type": "scatter3d"
           }
          ],
          "scattercarpet": [
           {
            "marker": {
             "colorbar": {
              "outlinewidth": 0,
              "ticks": ""
             }
            },
            "type": "scattercarpet"
           }
          ],
          "scattergeo": [
           {
            "marker": {
             "colorbar": {
              "outlinewidth": 0,
              "ticks": ""
             }
            },
            "type": "scattergeo"
           }
          ],
          "scattergl": [
           {
            "marker": {
             "line": {
              "color": "#283442"
             }
            },
            "type": "scattergl"
           }
          ],
          "scattermapbox": [
           {
            "marker": {
             "colorbar": {
              "outlinewidth": 0,
              "ticks": ""
             }
            },
            "type": "scattermapbox"
           }
          ],
          "scatterpolar": [
           {
            "marker": {
             "colorbar": {
              "outlinewidth": 0,
              "ticks": ""
             }
            },
            "type": "scatterpolar"
           }
          ],
          "scatterpolargl": [
           {
            "marker": {
             "colorbar": {
              "outlinewidth": 0,
              "ticks": ""
             }
            },
            "type": "scatterpolargl"
           }
          ],
          "scatterternary": [
           {
            "marker": {
             "colorbar": {
              "outlinewidth": 0,
              "ticks": ""
             }
            },
            "type": "scatterternary"
           }
          ],
          "surface": [
           {
            "colorbar": {
             "outlinewidth": 0,
             "ticks": ""
            },
            "colorscale": [
             [
              0,
              "#0d0887"
             ],
             [
              0.1111111111111111,
              "#46039f"
             ],
             [
              0.2222222222222222,
              "#7201a8"
             ],
             [
              0.3333333333333333,
              "#9c179e"
             ],
             [
              0.4444444444444444,
              "#bd3786"
             ],
             [
              0.5555555555555556,
              "#d8576b"
             ],
             [
              0.6666666666666666,
              "#ed7953"
             ],
             [
              0.7777777777777778,
              "#fb9f3a"
             ],
             [
              0.8888888888888888,
              "#fdca26"
             ],
             [
              1,
              "#f0f921"
             ]
            ],
            "type": "surface"
           }
          ],
          "table": [
           {
            "cells": {
             "fill": {
              "color": "#506784"
             },
             "line": {
              "color": "rgb(17,17,17)"
             }
            },
            "header": {
             "fill": {
              "color": "#2a3f5f"
             },
             "line": {
              "color": "rgb(17,17,17)"
             }
            },
            "type": "table"
           }
          ]
         },
         "layout": {
          "annotationdefaults": {
           "arrowcolor": "#f2f5fa",
           "arrowhead": 0,
           "arrowwidth": 1
          },
          "autotypenumbers": "strict",
          "coloraxis": {
           "colorbar": {
            "outlinewidth": 0,
            "ticks": ""
           }
          },
          "colorscale": {
           "diverging": [
            [
             0,
             "#8e0152"
            ],
            [
             0.1,
             "#c51b7d"
            ],
            [
             0.2,
             "#de77ae"
            ],
            [
             0.3,
             "#f1b6da"
            ],
            [
             0.4,
             "#fde0ef"
            ],
            [
             0.5,
             "#f7f7f7"
            ],
            [
             0.6,
             "#e6f5d0"
            ],
            [
             0.7,
             "#b8e186"
            ],
            [
             0.8,
             "#7fbc41"
            ],
            [
             0.9,
             "#4d9221"
            ],
            [
             1,
             "#276419"
            ]
           ],
           "sequential": [
            [
             0,
             "#0d0887"
            ],
            [
             0.1111111111111111,
             "#46039f"
            ],
            [
             0.2222222222222222,
             "#7201a8"
            ],
            [
             0.3333333333333333,
             "#9c179e"
            ],
            [
             0.4444444444444444,
             "#bd3786"
            ],
            [
             0.5555555555555556,
             "#d8576b"
            ],
            [
             0.6666666666666666,
             "#ed7953"
            ],
            [
             0.7777777777777778,
             "#fb9f3a"
            ],
            [
             0.8888888888888888,
             "#fdca26"
            ],
            [
             1,
             "#f0f921"
            ]
           ],
           "sequentialminus": [
            [
             0,
             "#0d0887"
            ],
            [
             0.1111111111111111,
             "#46039f"
            ],
            [
             0.2222222222222222,
             "#7201a8"
            ],
            [
             0.3333333333333333,
             "#9c179e"
            ],
            [
             0.4444444444444444,
             "#bd3786"
            ],
            [
             0.5555555555555556,
             "#d8576b"
            ],
            [
             0.6666666666666666,
             "#ed7953"
            ],
            [
             0.7777777777777778,
             "#fb9f3a"
            ],
            [
             0.8888888888888888,
             "#fdca26"
            ],
            [
             1,
             "#f0f921"
            ]
           ]
          },
          "colorway": [
           "#636efa",
           "#EF553B",
           "#00cc96",
           "#ab63fa",
           "#FFA15A",
           "#19d3f3",
           "#FF6692",
           "#B6E880",
           "#FF97FF",
           "#FECB52"
          ],
          "font": {
           "color": "#f2f5fa"
          },
          "geo": {
           "bgcolor": "rgb(17,17,17)",
           "lakecolor": "rgb(17,17,17)",
           "landcolor": "rgb(17,17,17)",
           "showlakes": true,
           "showland": true,
           "subunitcolor": "#506784"
          },
          "hoverlabel": {
           "align": "left"
          },
          "hovermode": "closest",
          "mapbox": {
           "style": "dark"
          },
          "paper_bgcolor": "rgb(17,17,17)",
          "plot_bgcolor": "rgb(17,17,17)",
          "polar": {
           "angularaxis": {
            "gridcolor": "#506784",
            "linecolor": "#506784",
            "ticks": ""
           },
           "bgcolor": "rgb(17,17,17)",
           "radialaxis": {
            "gridcolor": "#506784",
            "linecolor": "#506784",
            "ticks": ""
           }
          },
          "scene": {
           "xaxis": {
            "backgroundcolor": "rgb(17,17,17)",
            "gridcolor": "#506784",
            "gridwidth": 2,
            "linecolor": "#506784",
            "showbackground": true,
            "ticks": "",
            "zerolinecolor": "#C8D4E3"
           },
           "yaxis": {
            "backgroundcolor": "rgb(17,17,17)",
            "gridcolor": "#506784",
            "gridwidth": 2,
            "linecolor": "#506784",
            "showbackground": true,
            "ticks": "",
            "zerolinecolor": "#C8D4E3"
           },
           "zaxis": {
            "backgroundcolor": "rgb(17,17,17)",
            "gridcolor": "#506784",
            "gridwidth": 2,
            "linecolor": "#506784",
            "showbackground": true,
            "ticks": "",
            "zerolinecolor": "#C8D4E3"
           }
          },
          "shapedefaults": {
           "line": {
            "color": "#f2f5fa"
           }
          },
          "sliderdefaults": {
           "bgcolor": "#C8D4E3",
           "bordercolor": "rgb(17,17,17)",
           "borderwidth": 1,
           "tickwidth": 0
          },
          "ternary": {
           "aaxis": {
            "gridcolor": "#506784",
            "linecolor": "#506784",
            "ticks": ""
           },
           "baxis": {
            "gridcolor": "#506784",
            "linecolor": "#506784",
            "ticks": ""
           },
           "bgcolor": "rgb(17,17,17)",
           "caxis": {
            "gridcolor": "#506784",
            "linecolor": "#506784",
            "ticks": ""
           }
          },
          "title": {
           "x": 0.05
          },
          "updatemenudefaults": {
           "bgcolor": "#506784",
           "borderwidth": 0
          },
          "xaxis": {
           "automargin": true,
           "gridcolor": "#283442",
           "linecolor": "#506784",
           "ticks": "",
           "title": {
            "standoff": 15
           },
           "zerolinecolor": "#283442",
           "zerolinewidth": 2
          },
          "yaxis": {
           "automargin": true,
           "gridcolor": "#283442",
           "linecolor": "#506784",
           "ticks": "",
           "title": {
            "standoff": 15
           },
           "zerolinecolor": "#283442",
           "zerolinewidth": 2
          }
         }
        },
        "title": {
         "text": "US Primary Education Return on Investment<br><sup><i>States spending more per student from 5th through 8th grade had a small relationship with basic 8th grade math performance.</i></sup>"
        },
        "width": 1000,
        "xaxis": {
         "anchor": "y",
         "domain": [
          0,
          1
         ],
         "showticklabels": false,
         "title": {}
        },
        "yaxis": {
         "anchor": "x",
         "domain": [
          0,
          1
         ],
         "title": {
          "font": {
           "size": 10
          },
          "text": "Per Pupil, 4-Year Expenditure Change Between 2015 and 2019<br>(2020 Dollars)"
         }
        }
       }
      }
     },
     "metadata": {},
     "output_type": "display_data"
    },
    {
     "data": {
      "application/vnd.plotly.v1+json": {
       "config": {
        "plotlyServerURL": "https://plot.ly"
       },
       "data": [
        {
         "alignmentgroup": "True",
         "hovertemplate": "State=%{x}<br>4-Year Expenditure Change (2020 Dollars)=%{y}<br>Change in NAEP At or Above Proficient</i><br><sup>(% Points)</sup>=%{marker.color}<extra></extra>",
         "legendgroup": "",
         "marker": {
          "color": [
           3,
           -2,
           -5,
           -3,
           -2,
           2,
           1,
           -3,
           2,
           0,
           0,
           -4,
           -2,
           4,
           -5,
           -1,
           -2,
           -3,
           0,
           2,
           3,
           -2,
           -5,
           1,
           1,
           -1,
           4,
           -4,
           -3,
           -3,
           0,
           3,
           0,
           -3,
           4,
           -3,
           4,
           2,
           1,
           2,
           0,
           8,
           -3,
           4,
           -2,
           2,
           -3,
           3,
           -2,
           -1
          ],
          "coloraxis": "coloraxis",
          "pattern": {
           "shape": ""
          }
         },
         "name": "",
         "offsetgroup": "",
         "orientation": "v",
         "showlegend": false,
         "textposition": "auto",
         "type": "bar",
         "x": [
          "Alaska",
          "Wyoming",
          "Louisiana",
          "West Virginia",
          "Arkansas",
          "Indiana",
          "Delaware",
          "Oklahoma",
          "Maryland",
          "New Mexico",
          "Kansas",
          "Alabama",
          "Michigan",
          "Iowa",
          "Florida",
          "Missouri",
          "Mississippi",
          "Ohio",
          "Virginia",
          "New Jersey",
          "Rhode Island",
          "Tennessee",
          "South Dakota",
          "Nebraska",
          "Utah",
          "Kentucky",
          "Arizona",
          "North Carolina",
          "Georgia",
          "South Carolina",
          "Wisconsin",
          "Montana",
          "Nevada",
          "Connecticut",
          "Massachusetts",
          "Idaho",
          "Vermont",
          "Texas",
          "Maine",
          "North Dakota",
          "Colorado",
          "New Hampshire",
          "Pennsylvania",
          "Minnesota",
          "Illinois",
          "Hawaii",
          "New York",
          "Oregon",
          "California",
          "Washington"
         ],
         "xaxis": "x",
         "y": [
          -12262.013201767739,
          -4366.231633608899,
          -2093.304647429286,
          -2041.2047018770609,
          -1186.5159881710715,
          -986.7884109876541,
          -724.0568199513946,
          -685.073152819532,
          -321.99607484499575,
          -149.72545753795566,
          100.01805591401353,
          321.5371947532258,
          425.2633604046641,
          449.42532073447364,
          596.1872562656572,
          610.8610312385426,
          640.7846762202535,
          942.4433536165743,
          981.8175119106891,
          1058.8136460580135,
          1191.9624840444012,
          1255.0343574371218,
          1427.7084360656809,
          1475.8315637047126,
          1554.6674355815849,
          1662.1634483910238,
          1969.6435768508818,
          2248.5775593058643,
          2277.231940041449,
          2643.3270980921225,
          2670.521159723714,
          2817.8136849053044,
          2848.104937887634,
          3035.878333736444,
          3066.331417747162,
          3200.4918322076337,
          3324.6493972717144,
          3815.539702408976,
          4181.441254124424,
          4730.655507288437,
          4739.31063163263,
          4819.226009446211,
          5435.864629388336,
          6346.3234025930215,
          6955.0815723013075,
          7911.364139291072,
          8252.886894872907,
          9064.705591782717,
          9899.045214924532,
          11767.007720005691
         ],
         "yaxis": "y"
        }
       ],
       "layout": {
        "annotations": [
         {
          "align": "right",
          "font": {
           "color": "grey",
           "size": 10
          },
          "opacity": 0.7,
          "showarrow": false,
          "text": "Chart by Dominic Tarro | 𝕏 @dominictarro<br>Sources: NAEP Mathematics Assessments (2015, 2019)<br>CCD National Public Education Financial Survey (2010-2019)",
          "x": 1.07,
          "xref": "paper",
          "y": -0.15,
          "yref": "paper"
         },
         {
          "align": "left",
          "font": {
           "color": "grey",
           "size": 10
          },
          "opacity": 0.7,
          "showarrow": false,
          "text": "The NAEP Mathematics scale ranges from 0 to 500.<br>2020 dollar adjustment for school year expenditures was done with the ending year's inflation rate.<br>Data compares differences in scores and spending, by state, between 8th graders in 2015 and 2019.<br><i>Per Pupil, 4-Year Expenditure</i> is an aggregate from 5th-8th grade.",
          "x": -0.08,
          "xref": "paper",
          "y": -0.15,
          "yref": "paper"
         }
        ],
        "barmode": "relative",
        "coloraxis": {
         "colorbar": {
          "orientation": "h",
          "title": {
           "text": "Change in <i>NAEP At or Above Proficient</i><br><sup>(% Points)</sup></i>"
          }
         },
         "colorscale": [
          [
           0,
           "rgb(103,0,31)"
          ],
          [
           0.1,
           "rgb(178,24,43)"
          ],
          [
           0.2,
           "rgb(214,96,77)"
          ],
          [
           0.3,
           "rgb(244,165,130)"
          ],
          [
           0.4,
           "rgb(253,219,199)"
          ],
          [
           0.5,
           "rgb(247,247,247)"
          ],
          [
           0.6,
           "rgb(209,229,240)"
          ],
          [
           0.7,
           "rgb(146,197,222)"
          ],
          [
           0.8,
           "rgb(67,147,195)"
          ],
          [
           0.9,
           "rgb(33,102,172)"
          ],
          [
           1,
           "rgb(5,48,97)"
          ]
         ]
        },
        "height": 600,
        "legend": {
         "tracegroupgap": 0
        },
        "paper_bgcolor": "#171717",
        "plot_bgcolor": "#171717",
        "template": {
         "data": {
          "bar": [
           {
            "error_x": {
             "color": "#f2f5fa"
            },
            "error_y": {
             "color": "#f2f5fa"
            },
            "marker": {
             "line": {
              "color": "rgb(17,17,17)",
              "width": 0.5
             },
             "pattern": {
              "fillmode": "overlay",
              "size": 10,
              "solidity": 0.2
             }
            },
            "type": "bar"
           }
          ],
          "barpolar": [
           {
            "marker": {
             "line": {
              "color": "rgb(17,17,17)",
              "width": 0.5
             },
             "pattern": {
              "fillmode": "overlay",
              "size": 10,
              "solidity": 0.2
             }
            },
            "type": "barpolar"
           }
          ],
          "carpet": [
           {
            "aaxis": {
             "endlinecolor": "#A2B1C6",
             "gridcolor": "#506784",
             "linecolor": "#506784",
             "minorgridcolor": "#506784",
             "startlinecolor": "#A2B1C6"
            },
            "baxis": {
             "endlinecolor": "#A2B1C6",
             "gridcolor": "#506784",
             "linecolor": "#506784",
             "minorgridcolor": "#506784",
             "startlinecolor": "#A2B1C6"
            },
            "type": "carpet"
           }
          ],
          "choropleth": [
           {
            "colorbar": {
             "outlinewidth": 0,
             "ticks": ""
            },
            "type": "choropleth"
           }
          ],
          "contour": [
           {
            "colorbar": {
             "outlinewidth": 0,
             "ticks": ""
            },
            "colorscale": [
             [
              0,
              "#0d0887"
             ],
             [
              0.1111111111111111,
              "#46039f"
             ],
             [
              0.2222222222222222,
              "#7201a8"
             ],
             [
              0.3333333333333333,
              "#9c179e"
             ],
             [
              0.4444444444444444,
              "#bd3786"
             ],
             [
              0.5555555555555556,
              "#d8576b"
             ],
             [
              0.6666666666666666,
              "#ed7953"
             ],
             [
              0.7777777777777778,
              "#fb9f3a"
             ],
             [
              0.8888888888888888,
              "#fdca26"
             ],
             [
              1,
              "#f0f921"
             ]
            ],
            "type": "contour"
           }
          ],
          "contourcarpet": [
           {
            "colorbar": {
             "outlinewidth": 0,
             "ticks": ""
            },
            "type": "contourcarpet"
           }
          ],
          "heatmap": [
           {
            "colorbar": {
             "outlinewidth": 0,
             "ticks": ""
            },
            "colorscale": [
             [
              0,
              "#0d0887"
             ],
             [
              0.1111111111111111,
              "#46039f"
             ],
             [
              0.2222222222222222,
              "#7201a8"
             ],
             [
              0.3333333333333333,
              "#9c179e"
             ],
             [
              0.4444444444444444,
              "#bd3786"
             ],
             [
              0.5555555555555556,
              "#d8576b"
             ],
             [
              0.6666666666666666,
              "#ed7953"
             ],
             [
              0.7777777777777778,
              "#fb9f3a"
             ],
             [
              0.8888888888888888,
              "#fdca26"
             ],
             [
              1,
              "#f0f921"
             ]
            ],
            "type": "heatmap"
           }
          ],
          "heatmapgl": [
           {
            "colorbar": {
             "outlinewidth": 0,
             "ticks": ""
            },
            "colorscale": [
             [
              0,
              "#0d0887"
             ],
             [
              0.1111111111111111,
              "#46039f"
             ],
             [
              0.2222222222222222,
              "#7201a8"
             ],
             [
              0.3333333333333333,
              "#9c179e"
             ],
             [
              0.4444444444444444,
              "#bd3786"
             ],
             [
              0.5555555555555556,
              "#d8576b"
             ],
             [
              0.6666666666666666,
              "#ed7953"
             ],
             [
              0.7777777777777778,
              "#fb9f3a"
             ],
             [
              0.8888888888888888,
              "#fdca26"
             ],
             [
              1,
              "#f0f921"
             ]
            ],
            "type": "heatmapgl"
           }
          ],
          "histogram": [
           {
            "marker": {
             "pattern": {
              "fillmode": "overlay",
              "size": 10,
              "solidity": 0.2
             }
            },
            "type": "histogram"
           }
          ],
          "histogram2d": [
           {
            "colorbar": {
             "outlinewidth": 0,
             "ticks": ""
            },
            "colorscale": [
             [
              0,
              "#0d0887"
             ],
             [
              0.1111111111111111,
              "#46039f"
             ],
             [
              0.2222222222222222,
              "#7201a8"
             ],
             [
              0.3333333333333333,
              "#9c179e"
             ],
             [
              0.4444444444444444,
              "#bd3786"
             ],
             [
              0.5555555555555556,
              "#d8576b"
             ],
             [
              0.6666666666666666,
              "#ed7953"
             ],
             [
              0.7777777777777778,
              "#fb9f3a"
             ],
             [
              0.8888888888888888,
              "#fdca26"
             ],
             [
              1,
              "#f0f921"
             ]
            ],
            "type": "histogram2d"
           }
          ],
          "histogram2dcontour": [
           {
            "colorbar": {
             "outlinewidth": 0,
             "ticks": ""
            },
            "colorscale": [
             [
              0,
              "#0d0887"
             ],
             [
              0.1111111111111111,
              "#46039f"
             ],
             [
              0.2222222222222222,
              "#7201a8"
             ],
             [
              0.3333333333333333,
              "#9c179e"
             ],
             [
              0.4444444444444444,
              "#bd3786"
             ],
             [
              0.5555555555555556,
              "#d8576b"
             ],
             [
              0.6666666666666666,
              "#ed7953"
             ],
             [
              0.7777777777777778,
              "#fb9f3a"
             ],
             [
              0.8888888888888888,
              "#fdca26"
             ],
             [
              1,
              "#f0f921"
             ]
            ],
            "type": "histogram2dcontour"
           }
          ],
          "mesh3d": [
           {
            "colorbar": {
             "outlinewidth": 0,
             "ticks": ""
            },
            "type": "mesh3d"
           }
          ],
          "parcoords": [
           {
            "line": {
             "colorbar": {
              "outlinewidth": 0,
              "ticks": ""
             }
            },
            "type": "parcoords"
           }
          ],
          "pie": [
           {
            "automargin": true,
            "type": "pie"
           }
          ],
          "scatter": [
           {
            "marker": {
             "line": {
              "color": "#283442"
             }
            },
            "type": "scatter"
           }
          ],
          "scatter3d": [
           {
            "line": {
             "colorbar": {
              "outlinewidth": 0,
              "ticks": ""
             }
            },
            "marker": {
             "colorbar": {
              "outlinewidth": 0,
              "ticks": ""
             }
            },
            "type": "scatter3d"
           }
          ],
          "scattercarpet": [
           {
            "marker": {
             "colorbar": {
              "outlinewidth": 0,
              "ticks": ""
             }
            },
            "type": "scattercarpet"
           }
          ],
          "scattergeo": [
           {
            "marker": {
             "colorbar": {
              "outlinewidth": 0,
              "ticks": ""
             }
            },
            "type": "scattergeo"
           }
          ],
          "scattergl": [
           {
            "marker": {
             "line": {
              "color": "#283442"
             }
            },
            "type": "scattergl"
           }
          ],
          "scattermapbox": [
           {
            "marker": {
             "colorbar": {
              "outlinewidth": 0,
              "ticks": ""
             }
            },
            "type": "scattermapbox"
           }
          ],
          "scatterpolar": [
           {
            "marker": {
             "colorbar": {
              "outlinewidth": 0,
              "ticks": ""
             }
            },
            "type": "scatterpolar"
           }
          ],
          "scatterpolargl": [
           {
            "marker": {
             "colorbar": {
              "outlinewidth": 0,
              "ticks": ""
             }
            },
            "type": "scatterpolargl"
           }
          ],
          "scatterternary": [
           {
            "marker": {
             "colorbar": {
              "outlinewidth": 0,
              "ticks": ""
             }
            },
            "type": "scatterternary"
           }
          ],
          "surface": [
           {
            "colorbar": {
             "outlinewidth": 0,
             "ticks": ""
            },
            "colorscale": [
             [
              0,
              "#0d0887"
             ],
             [
              0.1111111111111111,
              "#46039f"
             ],
             [
              0.2222222222222222,
              "#7201a8"
             ],
             [
              0.3333333333333333,
              "#9c179e"
             ],
             [
              0.4444444444444444,
              "#bd3786"
             ],
             [
              0.5555555555555556,
              "#d8576b"
             ],
             [
              0.6666666666666666,
              "#ed7953"
             ],
             [
              0.7777777777777778,
              "#fb9f3a"
             ],
             [
              0.8888888888888888,
              "#fdca26"
             ],
             [
              1,
              "#f0f921"
             ]
            ],
            "type": "surface"
           }
          ],
          "table": [
           {
            "cells": {
             "fill": {
              "color": "#506784"
             },
             "line": {
              "color": "rgb(17,17,17)"
             }
            },
            "header": {
             "fill": {
              "color": "#2a3f5f"
             },
             "line": {
              "color": "rgb(17,17,17)"
             }
            },
            "type": "table"
           }
          ]
         },
         "layout": {
          "annotationdefaults": {
           "arrowcolor": "#f2f5fa",
           "arrowhead": 0,
           "arrowwidth": 1
          },
          "autotypenumbers": "strict",
          "coloraxis": {
           "colorbar": {
            "outlinewidth": 0,
            "ticks": ""
           }
          },
          "colorscale": {
           "diverging": [
            [
             0,
             "#8e0152"
            ],
            [
             0.1,
             "#c51b7d"
            ],
            [
             0.2,
             "#de77ae"
            ],
            [
             0.3,
             "#f1b6da"
            ],
            [
             0.4,
             "#fde0ef"
            ],
            [
             0.5,
             "#f7f7f7"
            ],
            [
             0.6,
             "#e6f5d0"
            ],
            [
             0.7,
             "#b8e186"
            ],
            [
             0.8,
             "#7fbc41"
            ],
            [
             0.9,
             "#4d9221"
            ],
            [
             1,
             "#276419"
            ]
           ],
           "sequential": [
            [
             0,
             "#0d0887"
            ],
            [
             0.1111111111111111,
             "#46039f"
            ],
            [
             0.2222222222222222,
             "#7201a8"
            ],
            [
             0.3333333333333333,
             "#9c179e"
            ],
            [
             0.4444444444444444,
             "#bd3786"
            ],
            [
             0.5555555555555556,
             "#d8576b"
            ],
            [
             0.6666666666666666,
             "#ed7953"
            ],
            [
             0.7777777777777778,
             "#fb9f3a"
            ],
            [
             0.8888888888888888,
             "#fdca26"
            ],
            [
             1,
             "#f0f921"
            ]
           ],
           "sequentialminus": [
            [
             0,
             "#0d0887"
            ],
            [
             0.1111111111111111,
             "#46039f"
            ],
            [
             0.2222222222222222,
             "#7201a8"
            ],
            [
             0.3333333333333333,
             "#9c179e"
            ],
            [
             0.4444444444444444,
             "#bd3786"
            ],
            [
             0.5555555555555556,
             "#d8576b"
            ],
            [
             0.6666666666666666,
             "#ed7953"
            ],
            [
             0.7777777777777778,
             "#fb9f3a"
            ],
            [
             0.8888888888888888,
             "#fdca26"
            ],
            [
             1,
             "#f0f921"
            ]
           ]
          },
          "colorway": [
           "#636efa",
           "#EF553B",
           "#00cc96",
           "#ab63fa",
           "#FFA15A",
           "#19d3f3",
           "#FF6692",
           "#B6E880",
           "#FF97FF",
           "#FECB52"
          ],
          "font": {
           "color": "#f2f5fa"
          },
          "geo": {
           "bgcolor": "rgb(17,17,17)",
           "lakecolor": "rgb(17,17,17)",
           "landcolor": "rgb(17,17,17)",
           "showlakes": true,
           "showland": true,
           "subunitcolor": "#506784"
          },
          "hoverlabel": {
           "align": "left"
          },
          "hovermode": "closest",
          "mapbox": {
           "style": "dark"
          },
          "paper_bgcolor": "rgb(17,17,17)",
          "plot_bgcolor": "rgb(17,17,17)",
          "polar": {
           "angularaxis": {
            "gridcolor": "#506784",
            "linecolor": "#506784",
            "ticks": ""
           },
           "bgcolor": "rgb(17,17,17)",
           "radialaxis": {
            "gridcolor": "#506784",
            "linecolor": "#506784",
            "ticks": ""
           }
          },
          "scene": {
           "xaxis": {
            "backgroundcolor": "rgb(17,17,17)",
            "gridcolor": "#506784",
            "gridwidth": 2,
            "linecolor": "#506784",
            "showbackground": true,
            "ticks": "",
            "zerolinecolor": "#C8D4E3"
           },
           "yaxis": {
            "backgroundcolor": "rgb(17,17,17)",
            "gridcolor": "#506784",
            "gridwidth": 2,
            "linecolor": "#506784",
            "showbackground": true,
            "ticks": "",
            "zerolinecolor": "#C8D4E3"
           },
           "zaxis": {
            "backgroundcolor": "rgb(17,17,17)",
            "gridcolor": "#506784",
            "gridwidth": 2,
            "linecolor": "#506784",
            "showbackground": true,
            "ticks": "",
            "zerolinecolor": "#C8D4E3"
           }
          },
          "shapedefaults": {
           "line": {
            "color": "#f2f5fa"
           }
          },
          "sliderdefaults": {
           "bgcolor": "#C8D4E3",
           "bordercolor": "rgb(17,17,17)",
           "borderwidth": 1,
           "tickwidth": 0
          },
          "ternary": {
           "aaxis": {
            "gridcolor": "#506784",
            "linecolor": "#506784",
            "ticks": ""
           },
           "baxis": {
            "gridcolor": "#506784",
            "linecolor": "#506784",
            "ticks": ""
           },
           "bgcolor": "rgb(17,17,17)",
           "caxis": {
            "gridcolor": "#506784",
            "linecolor": "#506784",
            "ticks": ""
           }
          },
          "title": {
           "x": 0.05
          },
          "updatemenudefaults": {
           "bgcolor": "#506784",
           "borderwidth": 0
          },
          "xaxis": {
           "automargin": true,
           "gridcolor": "#283442",
           "linecolor": "#506784",
           "ticks": "",
           "title": {
            "standoff": 15
           },
           "zerolinecolor": "#283442",
           "zerolinewidth": 2
          },
          "yaxis": {
           "automargin": true,
           "gridcolor": "#283442",
           "linecolor": "#506784",
           "ticks": "",
           "title": {
            "standoff": 15
           },
           "zerolinecolor": "#283442",
           "zerolinewidth": 2
          }
         }
        },
        "title": {
         "text": "US Primary Education Return on Investment<br><sup><i>States spending more per student from 5th through 8th grade had a negligible relationship with 8th grade math profieciency.</i></sup>"
        },
        "width": 1000,
        "xaxis": {
         "anchor": "y",
         "domain": [
          0,
          1
         ],
         "showticklabels": false,
         "title": {}
        },
        "yaxis": {
         "anchor": "x",
         "domain": [
          0,
          1
         ],
         "title": {
          "font": {
           "size": 10
          },
          "text": "Per Pupil, 4-Year Expenditure Change Between 2015 and 2019<br>(2020 Dollars)"
         }
        }
       }
      }
     },
     "metadata": {},
     "output_type": "display_data"
    }
   ],
   "source": [
    "def generate_state_investment_and_math_performance_bar_chart(\n",
    "    column: str, legend_title: str, description: str\n",
    ") -> go.Figure:\n",
    "    return px.bar(\n",
    "        student_investment.join(\n",
    "            math_performance,\n",
    "            on=\"State Name\"\n",
    "        ).sort(\"Investment Change\"),\n",
    "        x=\"State Name\",\n",
    "        y=\"Investment Change\",\n",
    "        color=column,\n",
    "        title=f\"US Primary Education Return on Investment<br><sup><i>{description}</i></sup>\",\n",
    "        template=\"plotly_dark\",\n",
    "        color_continuous_scale=px.colors.sequential.RdBu,\n",
    "        labels={\n",
    "            \"State Name\": \"State\",\n",
    "            \"Investment Change\": \"4-Year Expenditure Change (2020 Dollars)\",\n",
    "            column: f\"Change in NAEP {legend_title}\",\n",
    "        },\n",
    "        width=1000,\n",
    "        height=600,\n",
    "    ).update_layout(\n",
    "        xaxis=dict(showticklabels=False, title=None),\n",
    "        yaxis_title=\"Per Pupil, 4-Year Expenditure Change Between 2015 and 2019<br>(2020 Dollars)\",\n",
    "        yaxis_title_font_size=10,\n",
    "        coloraxis_colorbar_title=f\"Change in <i>NAEP {legend_title}</i>\",\n",
    "        coloraxis_colorbar_orientation=\"h\",\n",
    "        plot_bgcolor=\"#171717\",\n",
    "        paper_bgcolor=\"#171717\",\n",
    "    ).add_annotation(\n",
    "        x=1.07,\n",
    "        y=-0.15,\n",
    "        xref=\"paper\",\n",
    "        yref=\"paper\",\n",
    "        text=\"<br>\".join(\n",
    "            (\n",
    "                \"Chart by Dominic Tarro | 𝕏 @dominictarro\",\n",
    "                \"Sources: NAEP Mathematics Assessments (2015, 2019)\",\n",
    "                \"CCD National Public Education Financial Survey (2010-2019)\"\n",
    "            )\n",
    "        ),\n",
    "        align=\"right\",\n",
    "        showarrow=False,\n",
    "        font=dict(\n",
    "            size=10,\n",
    "            color=\"grey\"\n",
    "        ),\n",
    "        opacity=0.7\n",
    "    ).add_annotation(\n",
    "        x=-0.08,\n",
    "        y=-0.15,\n",
    "        xref=\"paper\",\n",
    "        yref=\"paper\",\n",
    "        text=\"<br>\".join(\n",
    "            (\n",
    "                \"The NAEP Mathematics scale ranges from 0 to 500.\",\n",
    "                \"2020 dollar adjustment for school year expenditures was done with the ending year's inflation rate.\",\n",
    "                \"Data compares differences in scores and spending, by state, between 8th graders in 2015 and 2019.\",\n",
    "                \"<i>Per Pupil, 4-Year Expenditure</i> is an aggregate from 5th-8th grade.\"\n",
    "            )\n",
    "        ),\n",
    "        align=\"left\",\n",
    "        showarrow=False,\n",
    "        font=dict(\n",
    "            size=10,\n",
    "            color=\"grey\"\n",
    "        ),\n",
    "        opacity=0.7\n",
    "    )\n",
    "\n",
    "generate_state_investment_and_math_performance_bar_chart(\n",
    "    \"Mean Grade 8 Math Score Change\",\n",
    "    \"Average Math Score\",\n",
    "    \"States spending more per student from 5th through 8th grade had a negligible relationship with average 8th grade math performance.\"\n",
    ").show()\n",
    "generate_state_investment_and_math_performance_bar_chart(\n",
    "    \"At or Above Basic (%) Change\",\n",
    "    \"At or Above Basic</i><br><sup>(% Points)</sup>\",\n",
    "    \"States spending more per student from 5th through 8th grade had a small relationship with basic 8th grade math performance.\"\n",
    ").show()\n",
    "generate_state_investment_and_math_performance_bar_chart(\n",
    "    \"At or Above Proficient (%) Change\",\n",
    "    \"At or Above Proficient</i><br><sup>(% Points)</sup>\",\n",
    "    \"States spending more per student from 5th through 8th grade had a negligible relationship with 8th grade math profieciency.\"\n",
    ").show()"
   ]
  },
  {
   "cell_type": "code",
   "execution_count": 8,
   "metadata": {},
   "outputs": [
    {
     "data": {
      "text/html": [
       "<div><style>\n",
       ".dataframe > thead > tr,\n",
       ".dataframe > tbody > tr {\n",
       "  text-align: right;\n",
       "  white-space: pre-wrap;\n",
       "}\n",
       "</style>\n",
       "<small>shape: (54, 4)</small><table border=\"1\" class=\"dataframe\"><thead><tr><th>State Name</th><th>Mean Grade 8 Reading Score Change</th><th>At or Above Basic (%) Change</th><th>At or Above Proficient (%) Change</th></tr><tr><td>str</td><td>i64</td><td>i64</td><td>i64</td></tr></thead><tbody><tr><td>&quot;Puerto Rico&quot;</td><td>null</td><td>null</td><td>null</td></tr><tr><td>&quot;Mississippi&quot;</td><td>-4</td><td>-4</td><td>-5</td></tr><tr><td>&quot;DoDEA&quot;</td><td>-3</td><td>-1</td><td>-5</td></tr><tr><td>&quot;North Carolina&quot;</td><td>-2</td><td>0</td><td>-3</td></tr><tr><td>&quot;Louisiana&quot;</td><td>-2</td><td>-2</td><td>-4</td></tr><tr><td>&hellip;</td><td>&hellip;</td><td>&hellip;</td><td>&hellip;</td></tr><tr><td>&quot;Minnesota&quot;</td><td>6</td><td>7</td><td>6</td></tr><tr><td>&quot;Iowa&quot;</td><td>6</td><td>8</td><td>3</td></tr><tr><td>&quot;Alabama&quot;</td><td>6</td><td>7</td><td>2</td></tr><tr><td>&quot;New Hampshire&quot;</td><td>7</td><td>7</td><td>7</td></tr><tr><td>&quot;Alaska&quot;</td><td>8</td><td>8</td><td>8</td></tr></tbody></table></div>"
      ],
      "text/plain": [
       "shape: (54, 4)\n",
       "┌────────────────┬──────────────────────┬───────────────────────┬──────────────────────────────────┐\n",
       "│ State Name     ┆ Mean Grade 8 Reading ┆ At or Above Basic (%) ┆ At or Above Proficient (%) Cha…  │\n",
       "│ ---            ┆ Score Cha…           ┆ Change                ┆ ---                              │\n",
       "│ str            ┆ ---                  ┆ ---                   ┆ i64                              │\n",
       "│                ┆ i64                  ┆ i64                   ┆                                  │\n",
       "╞════════════════╪══════════════════════╪═══════════════════════╪══════════════════════════════════╡\n",
       "│ Puerto Rico    ┆ null                 ┆ null                  ┆ null                             │\n",
       "│ Mississippi    ┆ -4                   ┆ -4                    ┆ -5                               │\n",
       "│ DoDEA          ┆ -3                   ┆ -1                    ┆ -5                               │\n",
       "│ North Carolina ┆ -2                   ┆ 0                     ┆ -3                               │\n",
       "│ Louisiana      ┆ -2                   ┆ -2                    ┆ -4                               │\n",
       "│ …              ┆ …                    ┆ …                     ┆ …                                │\n",
       "│ Minnesota      ┆ 6                    ┆ 7                     ┆ 6                                │\n",
       "│ Iowa           ┆ 6                    ┆ 8                     ┆ 3                                │\n",
       "│ Alabama        ┆ 6                    ┆ 7                     ┆ 2                                │\n",
       "│ New Hampshire  ┆ 7                    ┆ 7                     ┆ 7                                │\n",
       "│ Alaska         ┆ 8                    ┆ 8                     ┆ 8                                │\n",
       "└────────────────┴──────────────────────┴───────────────────────┴──────────────────────────────────┘"
      ]
     },
     "execution_count": 8,
     "metadata": {},
     "output_type": "execute_result"
    }
   ],
   "source": [
    "reading_performance = pl.concat(\n",
    "    [\n",
    "        pl.read_csv(\n",
    "            \"data/nces/geo/nations-report-card/2019/state_grade-8_reading_SPCsv202408081536.csv\",\n",
    "            columns=[\"Jurisdiction\", \"MN\", \"AB\", \"AP\"],\n",
    "        ).with_columns(\n",
    "            pl.lit(2015).alias(\"Graduating Year\")\n",
    "        ),\n",
    "        pl.read_csv(\n",
    "            \"data/nces/geo/nations-report-card/2015/state_grade-8_reading_SPCsv202408081449.csv\",\n",
    "            columns=[\"Jurisdiction\", \"MN\", \"AB\", \"AP\"],\n",
    "        ).with_columns(\n",
    "            pl.lit(2019).alias(\"Graduating Year\"),\n",
    "        ),\n",
    "    ]\n",
    ").with_columns(\n",
    "            pl.col(\"MN\").replace(chr(8212), None).str.to_integer(),\n",
    "            pl.col(\"AB\").replace(chr(8212), None).str.to_integer(),\n",
    "            pl.col(\"AP\").replace(chr(8212), None).str.to_integer(),\n",
    "\n",
    ").rename(\n",
    "    {\n",
    "        \"Jurisdiction\": \"State Name\",\n",
    "        \"MN\": \"Mean Grade 8 Reading Score\",\n",
    "        \"AB\": \"At or Above Basic (%)\",\n",
    "        \"AP\": \"At or Above Proficient (%)\",\n",
    "    }\n",
    ").pivot(\n",
    "    on=\"Graduating Year\",\n",
    "    index=\"State Name\",\n",
    "    values=[\"Mean Grade 8 Reading Score\", \"At or Above Basic (%)\", \"At or Above Proficient (%)\"],\n",
    ").with_columns(\n",
    "    (pl.col(\"Mean Grade 8 Reading Score_2019\") - pl.col(\"Mean Grade 8 Reading Score_2015\")).alias(\"Mean Grade 8 Reading Score Change\"),\n",
    "    (pl.col(\"At or Above Basic (%)_2019\") - pl.col(\"At or Above Basic (%)_2015\")).alias(\"At or Above Basic (%) Change\"),\n",
    "    (pl.col(\"At or Above Proficient (%)_2019\") - pl.col(\"At or Above Proficient (%)_2015\")).alias(\"At or Above Proficient (%) Change\"),\n",
    ").select(\n",
    "    \"State Name\",\n",
    "    \"Mean Grade 8 Reading Score Change\",\n",
    "    \"At or Above Basic (%) Change\",\n",
    "    \"At or Above Proficient (%) Change\",\n",
    ").sort(\"Mean Grade 8 Reading Score Change\")\n",
    "\n",
    "reading_performance"
   ]
  },
  {
   "cell_type": "code",
   "execution_count": 9,
   "metadata": {},
   "outputs": [
    {
     "name": "stdout",
     "output_type": "stream",
     "text": [
      "---------- Investment Change ~ Mean Grade 8 Reading Score Change ----------\n"
     ]
    },
    {
     "data": {
      "text/html": [
       "<table class=\"simpletable\">\n",
       "<caption>OLS Regression Results</caption>\n",
       "<tr>\n",
       "  <th>Dep. Variable:</th>            <td>y</td>        <th>  R-squared (uncentered):</th>      <td>   0.063</td>\n",
       "</tr>\n",
       "<tr>\n",
       "  <th>Model:</th>                   <td>OLS</td>       <th>  Adj. R-squared (uncentered):</th> <td>   0.044</td>\n",
       "</tr>\n",
       "<tr>\n",
       "  <th>Method:</th>             <td>Least Squares</td>  <th>  F-statistic:       </th>          <td>   3.303</td>\n",
       "</tr>\n",
       "<tr>\n",
       "  <th>Date:</th>             <td>Tue, 13 Aug 2024</td> <th>  Prob (F-statistic):</th>           <td>0.0753</td> \n",
       "</tr>\n",
       "<tr>\n",
       "  <th>Time:</th>                 <td>00:22:25</td>     <th>  Log-Likelihood:    </th>          <td> -488.32</td>\n",
       "</tr>\n",
       "<tr>\n",
       "  <th>No. Observations:</th>      <td>    50</td>      <th>  AIC:               </th>          <td>   978.6</td>\n",
       "</tr>\n",
       "<tr>\n",
       "  <th>Df Residuals:</th>          <td>    49</td>      <th>  BIC:               </th>          <td>   980.6</td>\n",
       "</tr>\n",
       "<tr>\n",
       "  <th>Df Model:</th>              <td>     1</td>      <th>                     </th>              <td> </td>   \n",
       "</tr>\n",
       "<tr>\n",
       "  <th>Covariance Type:</th>      <td>nonrobust</td>    <th>                     </th>              <td> </td>   \n",
       "</tr>\n",
       "</table>\n",
       "<table class=\"simpletable\">\n",
       "<tr>\n",
       "   <td></td>     <th>coef</th>     <th>std err</th>      <th>t</th>      <th>P>|t|</th>  <th>[0.025</th>    <th>0.975]</th>  \n",
       "</tr>\n",
       "<tr>\n",
       "  <th>x1</th> <td>  295.7873</td> <td>  162.744</td> <td>    1.817</td> <td> 0.075</td> <td>  -31.259</td> <td>  622.834</td>\n",
       "</tr>\n",
       "</table>\n",
       "<table class=\"simpletable\">\n",
       "<tr>\n",
       "  <th>Omnibus:</th>       <td>14.945</td> <th>  Durbin-Watson:     </th> <td>   0.179</td>\n",
       "</tr>\n",
       "<tr>\n",
       "  <th>Prob(Omnibus):</th> <td> 0.001</td> <th>  Jarque-Bera (JB):  </th> <td>  39.123</td>\n",
       "</tr>\n",
       "<tr>\n",
       "  <th>Skew:</th>          <td>-0.615</td> <th>  Prob(JB):          </th> <td>3.20e-09</td>\n",
       "</tr>\n",
       "<tr>\n",
       "  <th>Kurtosis:</th>      <td> 7.155</td> <th>  Cond. No.          </th> <td>    1.00</td>\n",
       "</tr>\n",
       "</table><br/><br/>Notes:<br/>[1] R² is computed without centering (uncentered) since the model does not contain a constant.<br/>[2] Standard Errors assume that the covariance matrix of the errors is correctly specified."
      ],
      "text/latex": [
       "\\begin{center}\n",
       "\\begin{tabular}{lclc}\n",
       "\\toprule\n",
       "\\textbf{Dep. Variable:}    &        y         & \\textbf{  R-squared (uncentered):}      &     0.063   \\\\\n",
       "\\textbf{Model:}            &       OLS        & \\textbf{  Adj. R-squared (uncentered):} &     0.044   \\\\\n",
       "\\textbf{Method:}           &  Least Squares   & \\textbf{  F-statistic:       }          &     3.303   \\\\\n",
       "\\textbf{Date:}             & Tue, 13 Aug 2024 & \\textbf{  Prob (F-statistic):}          &   0.0753    \\\\\n",
       "\\textbf{Time:}             &     00:22:25     & \\textbf{  Log-Likelihood:    }          &   -488.32   \\\\\n",
       "\\textbf{No. Observations:} &          50      & \\textbf{  AIC:               }          &     978.6   \\\\\n",
       "\\textbf{Df Residuals:}     &          49      & \\textbf{  BIC:               }          &     980.6   \\\\\n",
       "\\textbf{Df Model:}         &           1      & \\textbf{                     }          &             \\\\\n",
       "\\textbf{Covariance Type:}  &    nonrobust     & \\textbf{                     }          &             \\\\\n",
       "\\bottomrule\n",
       "\\end{tabular}\n",
       "\\begin{tabular}{lcccccc}\n",
       "            & \\textbf{coef} & \\textbf{std err} & \\textbf{t} & \\textbf{P$> |$t$|$} & \\textbf{[0.025} & \\textbf{0.975]}  \\\\\n",
       "\\midrule\n",
       "\\textbf{x1} &     295.7873  &      162.744     &     1.817  &         0.075        &      -31.259    &      622.834     \\\\\n",
       "\\bottomrule\n",
       "\\end{tabular}\n",
       "\\begin{tabular}{lclc}\n",
       "\\textbf{Omnibus:}       & 14.945 & \\textbf{  Durbin-Watson:     } &    0.179  \\\\\n",
       "\\textbf{Prob(Omnibus):} &  0.001 & \\textbf{  Jarque-Bera (JB):  } &   39.123  \\\\\n",
       "\\textbf{Skew:}          & -0.615 & \\textbf{  Prob(JB):          } & 3.20e-09  \\\\\n",
       "\\textbf{Kurtosis:}      &  7.155 & \\textbf{  Cond. No.          } &     1.00  \\\\\n",
       "\\bottomrule\n",
       "\\end{tabular}\n",
       "%\\caption{OLS Regression Results}\n",
       "\\end{center}\n",
       "\n",
       "Notes: \\newline\n",
       " [1] R² is computed without centering (uncentered) since the model does not contain a constant. \\newline\n",
       " [2] Standard Errors assume that the covariance matrix of the errors is correctly specified."
      ],
      "text/plain": [
       "<class 'statsmodels.iolib.summary.Summary'>\n",
       "\"\"\"\n",
       "                                 OLS Regression Results                                \n",
       "=======================================================================================\n",
       "Dep. Variable:                      y   R-squared (uncentered):                   0.063\n",
       "Model:                            OLS   Adj. R-squared (uncentered):              0.044\n",
       "Method:                 Least Squares   F-statistic:                              3.303\n",
       "Date:                Tue, 13 Aug 2024   Prob (F-statistic):                      0.0753\n",
       "Time:                        00:22:25   Log-Likelihood:                         -488.32\n",
       "No. Observations:                  50   AIC:                                      978.6\n",
       "Df Residuals:                      49   BIC:                                      980.6\n",
       "Df Model:                           1                                                  \n",
       "Covariance Type:            nonrobust                                                  \n",
       "==============================================================================\n",
       "                 coef    std err          t      P>|t|      [0.025      0.975]\n",
       "------------------------------------------------------------------------------\n",
       "x1           295.7873    162.744      1.817      0.075     -31.259     622.834\n",
       "==============================================================================\n",
       "Omnibus:                       14.945   Durbin-Watson:                   0.179\n",
       "Prob(Omnibus):                  0.001   Jarque-Bera (JB):               39.123\n",
       "Skew:                          -0.615   Prob(JB):                     3.20e-09\n",
       "Kurtosis:                       7.155   Cond. No.                         1.00\n",
       "==============================================================================\n",
       "\n",
       "Notes:\n",
       "[1] R² is computed without centering (uncentered) since the model does not contain a constant.\n",
       "[2] Standard Errors assume that the covariance matrix of the errors is correctly specified.\n",
       "\"\"\""
      ]
     },
     "metadata": {},
     "output_type": "display_data"
    },
    {
     "name": "stdout",
     "output_type": "stream",
     "text": [
      "---------- Investment Change ~ At or Above Basic (%) Change ----------\n"
     ]
    },
    {
     "data": {
      "text/html": [
       "<table class=\"simpletable\">\n",
       "<caption>OLS Regression Results</caption>\n",
       "<tr>\n",
       "  <th>Dep. Variable:</th>            <td>y</td>        <th>  R-squared (uncentered):</th>      <td>   0.123</td>\n",
       "</tr>\n",
       "<tr>\n",
       "  <th>Model:</th>                   <td>OLS</td>       <th>  Adj. R-squared (uncentered):</th> <td>   0.105</td>\n",
       "</tr>\n",
       "<tr>\n",
       "  <th>Method:</th>             <td>Least Squares</td>  <th>  F-statistic:       </th>          <td>   6.847</td>\n",
       "</tr>\n",
       "<tr>\n",
       "  <th>Date:</th>             <td>Tue, 13 Aug 2024</td> <th>  Prob (F-statistic):</th>           <td>0.0118</td> \n",
       "</tr>\n",
       "<tr>\n",
       "  <th>Time:</th>                 <td>00:22:25</td>     <th>  Log-Likelihood:    </th>          <td> -486.68</td>\n",
       "</tr>\n",
       "<tr>\n",
       "  <th>No. Observations:</th>      <td>    50</td>      <th>  AIC:               </th>          <td>   975.4</td>\n",
       "</tr>\n",
       "<tr>\n",
       "  <th>Df Residuals:</th>          <td>    49</td>      <th>  BIC:               </th>          <td>   977.3</td>\n",
       "</tr>\n",
       "<tr>\n",
       "  <th>Df Model:</th>              <td>     1</td>      <th>                     </th>              <td> </td>   \n",
       "</tr>\n",
       "<tr>\n",
       "  <th>Covariance Type:</th>      <td>nonrobust</td>    <th>                     </th>              <td> </td>   \n",
       "</tr>\n",
       "</table>\n",
       "<table class=\"simpletable\">\n",
       "<tr>\n",
       "   <td></td>     <th>coef</th>     <th>std err</th>      <th>t</th>      <th>P>|t|</th>  <th>[0.025</th>    <th>0.975]</th>  \n",
       "</tr>\n",
       "<tr>\n",
       "  <th>x1</th> <td>  336.3364</td> <td>  128.532</td> <td>    2.617</td> <td> 0.012</td> <td>   78.041</td> <td>  594.631</td>\n",
       "</tr>\n",
       "</table>\n",
       "<table class=\"simpletable\">\n",
       "<tr>\n",
       "  <th>Omnibus:</th>       <td>14.623</td> <th>  Durbin-Watson:     </th> <td>   0.195</td>\n",
       "</tr>\n",
       "<tr>\n",
       "  <th>Prob(Omnibus):</th> <td> 0.001</td> <th>  Jarque-Bera (JB):  </th> <td>  35.256</td>\n",
       "</tr>\n",
       "<tr>\n",
       "  <th>Skew:</th>          <td>-0.639</td> <th>  Prob(JB):          </th> <td>2.21e-08</td>\n",
       "</tr>\n",
       "<tr>\n",
       "  <th>Kurtosis:</th>      <td> 6.910</td> <th>  Cond. No.          </th> <td>    1.00</td>\n",
       "</tr>\n",
       "</table><br/><br/>Notes:<br/>[1] R² is computed without centering (uncentered) since the model does not contain a constant.<br/>[2] Standard Errors assume that the covariance matrix of the errors is correctly specified."
      ],
      "text/latex": [
       "\\begin{center}\n",
       "\\begin{tabular}{lclc}\n",
       "\\toprule\n",
       "\\textbf{Dep. Variable:}    &        y         & \\textbf{  R-squared (uncentered):}      &     0.123   \\\\\n",
       "\\textbf{Model:}            &       OLS        & \\textbf{  Adj. R-squared (uncentered):} &     0.105   \\\\\n",
       "\\textbf{Method:}           &  Least Squares   & \\textbf{  F-statistic:       }          &     6.847   \\\\\n",
       "\\textbf{Date:}             & Tue, 13 Aug 2024 & \\textbf{  Prob (F-statistic):}          &   0.0118    \\\\\n",
       "\\textbf{Time:}             &     00:22:25     & \\textbf{  Log-Likelihood:    }          &   -486.68   \\\\\n",
       "\\textbf{No. Observations:} &          50      & \\textbf{  AIC:               }          &     975.4   \\\\\n",
       "\\textbf{Df Residuals:}     &          49      & \\textbf{  BIC:               }          &     977.3   \\\\\n",
       "\\textbf{Df Model:}         &           1      & \\textbf{                     }          &             \\\\\n",
       "\\textbf{Covariance Type:}  &    nonrobust     & \\textbf{                     }          &             \\\\\n",
       "\\bottomrule\n",
       "\\end{tabular}\n",
       "\\begin{tabular}{lcccccc}\n",
       "            & \\textbf{coef} & \\textbf{std err} & \\textbf{t} & \\textbf{P$> |$t$|$} & \\textbf{[0.025} & \\textbf{0.975]}  \\\\\n",
       "\\midrule\n",
       "\\textbf{x1} &     336.3364  &      128.532     &     2.617  &         0.012        &       78.041    &      594.631     \\\\\n",
       "\\bottomrule\n",
       "\\end{tabular}\n",
       "\\begin{tabular}{lclc}\n",
       "\\textbf{Omnibus:}       & 14.623 & \\textbf{  Durbin-Watson:     } &    0.195  \\\\\n",
       "\\textbf{Prob(Omnibus):} &  0.001 & \\textbf{  Jarque-Bera (JB):  } &   35.256  \\\\\n",
       "\\textbf{Skew:}          & -0.639 & \\textbf{  Prob(JB):          } & 2.21e-08  \\\\\n",
       "\\textbf{Kurtosis:}      &  6.910 & \\textbf{  Cond. No.          } &     1.00  \\\\\n",
       "\\bottomrule\n",
       "\\end{tabular}\n",
       "%\\caption{OLS Regression Results}\n",
       "\\end{center}\n",
       "\n",
       "Notes: \\newline\n",
       " [1] R² is computed without centering (uncentered) since the model does not contain a constant. \\newline\n",
       " [2] Standard Errors assume that the covariance matrix of the errors is correctly specified."
      ],
      "text/plain": [
       "<class 'statsmodels.iolib.summary.Summary'>\n",
       "\"\"\"\n",
       "                                 OLS Regression Results                                \n",
       "=======================================================================================\n",
       "Dep. Variable:                      y   R-squared (uncentered):                   0.123\n",
       "Model:                            OLS   Adj. R-squared (uncentered):              0.105\n",
       "Method:                 Least Squares   F-statistic:                              6.847\n",
       "Date:                Tue, 13 Aug 2024   Prob (F-statistic):                      0.0118\n",
       "Time:                        00:22:25   Log-Likelihood:                         -486.68\n",
       "No. Observations:                  50   AIC:                                      975.4\n",
       "Df Residuals:                      49   BIC:                                      977.3\n",
       "Df Model:                           1                                                  \n",
       "Covariance Type:            nonrobust                                                  \n",
       "==============================================================================\n",
       "                 coef    std err          t      P>|t|      [0.025      0.975]\n",
       "------------------------------------------------------------------------------\n",
       "x1           336.3364    128.532      2.617      0.012      78.041     594.631\n",
       "==============================================================================\n",
       "Omnibus:                       14.623   Durbin-Watson:                   0.195\n",
       "Prob(Omnibus):                  0.001   Jarque-Bera (JB):               35.256\n",
       "Skew:                          -0.639   Prob(JB):                     2.21e-08\n",
       "Kurtosis:                       6.910   Cond. No.                         1.00\n",
       "==============================================================================\n",
       "\n",
       "Notes:\n",
       "[1] R² is computed without centering (uncentered) since the model does not contain a constant.\n",
       "[2] Standard Errors assume that the covariance matrix of the errors is correctly specified.\n",
       "\"\"\""
      ]
     },
     "metadata": {},
     "output_type": "display_data"
    },
    {
     "name": "stdout",
     "output_type": "stream",
     "text": [
      "---------- Investment Change ~ At or Above Proficient (%) Change ----------\n"
     ]
    },
    {
     "data": {
      "text/html": [
       "<table class=\"simpletable\">\n",
       "<caption>OLS Regression Results</caption>\n",
       "<tr>\n",
       "  <th>Dep. Variable:</th>            <td>y</td>        <th>  R-squared (uncentered):</th>      <td>   0.001</td>\n",
       "</tr>\n",
       "<tr>\n",
       "  <th>Model:</th>                   <td>OLS</td>       <th>  Adj. R-squared (uncentered):</th> <td>  -0.020</td>\n",
       "</tr>\n",
       "<tr>\n",
       "  <th>Method:</th>             <td>Least Squares</td>  <th>  F-statistic:       </th>          <td> 0.02618</td>\n",
       "</tr>\n",
       "<tr>\n",
       "  <th>Date:</th>             <td>Tue, 13 Aug 2024</td> <th>  Prob (F-statistic):</th>           <td> 0.872</td> \n",
       "</tr>\n",
       "<tr>\n",
       "  <th>Time:</th>                 <td>00:22:25</td>     <th>  Log-Likelihood:    </th>          <td> -489.94</td>\n",
       "</tr>\n",
       "<tr>\n",
       "  <th>No. Observations:</th>      <td>    50</td>      <th>  AIC:               </th>          <td>   981.9</td>\n",
       "</tr>\n",
       "<tr>\n",
       "  <th>Df Residuals:</th>          <td>    49</td>      <th>  BIC:               </th>          <td>   983.8</td>\n",
       "</tr>\n",
       "<tr>\n",
       "  <th>Df Model:</th>              <td>     1</td>      <th>                     </th>              <td> </td>   \n",
       "</tr>\n",
       "<tr>\n",
       "  <th>Covariance Type:</th>      <td>nonrobust</td>    <th>                     </th>              <td> </td>   \n",
       "</tr>\n",
       "</table>\n",
       "<table class=\"simpletable\">\n",
       "<tr>\n",
       "   <td></td>     <th>coef</th>     <th>std err</th>      <th>t</th>      <th>P>|t|</th>  <th>[0.025</th>    <th>0.975]</th>  \n",
       "</tr>\n",
       "<tr>\n",
       "  <th>x1</th> <td>   34.5161</td> <td>  213.311</td> <td>    0.162</td> <td> 0.872</td> <td> -394.148</td> <td>  463.180</td>\n",
       "</tr>\n",
       "</table>\n",
       "<table class=\"simpletable\">\n",
       "<tr>\n",
       "  <th>Omnibus:</th>       <td>12.086</td> <th>  Durbin-Watson:     </th> <td>   0.087</td>\n",
       "</tr>\n",
       "<tr>\n",
       "  <th>Prob(Omnibus):</th> <td> 0.002</td> <th>  Jarque-Bera (JB):  </th> <td>  26.975</td>\n",
       "</tr>\n",
       "<tr>\n",
       "  <th>Skew:</th>          <td>-0.490</td> <th>  Prob(JB):          </th> <td>1.39e-06</td>\n",
       "</tr>\n",
       "<tr>\n",
       "  <th>Kurtosis:</th>      <td> 6.462</td> <th>  Cond. No.          </th> <td>    1.00</td>\n",
       "</tr>\n",
       "</table><br/><br/>Notes:<br/>[1] R² is computed without centering (uncentered) since the model does not contain a constant.<br/>[2] Standard Errors assume that the covariance matrix of the errors is correctly specified."
      ],
      "text/latex": [
       "\\begin{center}\n",
       "\\begin{tabular}{lclc}\n",
       "\\toprule\n",
       "\\textbf{Dep. Variable:}    &        y         & \\textbf{  R-squared (uncentered):}      &     0.001   \\\\\n",
       "\\textbf{Model:}            &       OLS        & \\textbf{  Adj. R-squared (uncentered):} &    -0.020   \\\\\n",
       "\\textbf{Method:}           &  Least Squares   & \\textbf{  F-statistic:       }          &   0.02618   \\\\\n",
       "\\textbf{Date:}             & Tue, 13 Aug 2024 & \\textbf{  Prob (F-statistic):}          &    0.872    \\\\\n",
       "\\textbf{Time:}             &     00:22:25     & \\textbf{  Log-Likelihood:    }          &   -489.94   \\\\\n",
       "\\textbf{No. Observations:} &          50      & \\textbf{  AIC:               }          &     981.9   \\\\\n",
       "\\textbf{Df Residuals:}     &          49      & \\textbf{  BIC:               }          &     983.8   \\\\\n",
       "\\textbf{Df Model:}         &           1      & \\textbf{                     }          &             \\\\\n",
       "\\textbf{Covariance Type:}  &    nonrobust     & \\textbf{                     }          &             \\\\\n",
       "\\bottomrule\n",
       "\\end{tabular}\n",
       "\\begin{tabular}{lcccccc}\n",
       "            & \\textbf{coef} & \\textbf{std err} & \\textbf{t} & \\textbf{P$> |$t$|$} & \\textbf{[0.025} & \\textbf{0.975]}  \\\\\n",
       "\\midrule\n",
       "\\textbf{x1} &      34.5161  &      213.311     &     0.162  &         0.872        &     -394.148    &      463.180     \\\\\n",
       "\\bottomrule\n",
       "\\end{tabular}\n",
       "\\begin{tabular}{lclc}\n",
       "\\textbf{Omnibus:}       & 12.086 & \\textbf{  Durbin-Watson:     } &    0.087  \\\\\n",
       "\\textbf{Prob(Omnibus):} &  0.002 & \\textbf{  Jarque-Bera (JB):  } &   26.975  \\\\\n",
       "\\textbf{Skew:}          & -0.490 & \\textbf{  Prob(JB):          } & 1.39e-06  \\\\\n",
       "\\textbf{Kurtosis:}      &  6.462 & \\textbf{  Cond. No.          } &     1.00  \\\\\n",
       "\\bottomrule\n",
       "\\end{tabular}\n",
       "%\\caption{OLS Regression Results}\n",
       "\\end{center}\n",
       "\n",
       "Notes: \\newline\n",
       " [1] R² is computed without centering (uncentered) since the model does not contain a constant. \\newline\n",
       " [2] Standard Errors assume that the covariance matrix of the errors is correctly specified."
      ],
      "text/plain": [
       "<class 'statsmodels.iolib.summary.Summary'>\n",
       "\"\"\"\n",
       "                                 OLS Regression Results                                \n",
       "=======================================================================================\n",
       "Dep. Variable:                      y   R-squared (uncentered):                   0.001\n",
       "Model:                            OLS   Adj. R-squared (uncentered):             -0.020\n",
       "Method:                 Least Squares   F-statistic:                            0.02618\n",
       "Date:                Tue, 13 Aug 2024   Prob (F-statistic):                       0.872\n",
       "Time:                        00:22:25   Log-Likelihood:                         -489.94\n",
       "No. Observations:                  50   AIC:                                      981.9\n",
       "Df Residuals:                      49   BIC:                                      983.8\n",
       "Df Model:                           1                                                  \n",
       "Covariance Type:            nonrobust                                                  \n",
       "==============================================================================\n",
       "                 coef    std err          t      P>|t|      [0.025      0.975]\n",
       "------------------------------------------------------------------------------\n",
       "x1            34.5161    213.311      0.162      0.872    -394.148     463.180\n",
       "==============================================================================\n",
       "Omnibus:                       12.086   Durbin-Watson:                   0.087\n",
       "Prob(Omnibus):                  0.002   Jarque-Bera (JB):               26.975\n",
       "Skew:                          -0.490   Prob(JB):                     1.39e-06\n",
       "Kurtosis:                       6.462   Cond. No.                         1.00\n",
       "==============================================================================\n",
       "\n",
       "Notes:\n",
       "[1] R² is computed without centering (uncentered) since the model does not contain a constant.\n",
       "[2] Standard Errors assume that the covariance matrix of the errors is correctly specified.\n",
       "\"\"\""
      ]
     },
     "metadata": {},
     "output_type": "display_data"
    }
   ],
   "source": [
    "__df = student_investment.join(\n",
    "    reading_performance,\n",
    "    on=\"State Name\"\n",
    ").sort(\"Investment Change\")\n",
    "\n",
    "for exog in [\n",
    "    \"Mean Grade 8 Reading Score Change\",\n",
    "    \"At or Above Basic (%) Change\",\n",
    "    \"At or Above Proficient (%) Change\",\n",
    "]:\n",
    "    result = statsmodels.regression.linear_model.OLS(\n",
    "        __df[\"Investment Change\"].to_list(),\n",
    "        __df[exog].to_list(),\n",
    "    ).fit()\n",
    "    print(\"-\" * 10, \"Investment Change ~\", exog, \"-\" * 10)\n",
    "    display(result.summary())\n"
   ]
  },
  {
   "cell_type": "code",
   "execution_count": 10,
   "metadata": {},
   "outputs": [
    {
     "data": {
      "application/vnd.plotly.v1+json": {
       "config": {
        "plotlyServerURL": "https://plot.ly"
       },
       "data": [
        {
         "alignmentgroup": "True",
         "hovertemplate": "State=%{x}<br>4-Year Expenditure Change (2020 Dollars)=%{y}<br>Change in NAEP Average Reading Score=%{marker.color}<extra></extra>",
         "legendgroup": "",
         "marker": {
          "color": [
           8,
           4,
           -2,
           4,
           0,
           2,
           3,
           5,
           4,
           1,
           4,
           6,
           1,
           6,
           0,
           4,
           -4,
           -1,
           5,
           1,
           3,
           3,
           4,
           5,
           2,
           5,
           4,
           -2,
           0,
           1,
           3,
           5,
           1,
           3,
           1,
           3,
           6,
           5,
           3,
           4,
           1,
           7,
           5,
           6,
           2,
           -1,
           1,
           4,
           0,
           1
          ],
          "coloraxis": "coloraxis",
          "pattern": {
           "shape": ""
          }
         },
         "name": "",
         "offsetgroup": "",
         "orientation": "v",
         "showlegend": false,
         "textposition": "auto",
         "type": "bar",
         "x": [
          "Alaska",
          "Wyoming",
          "Louisiana",
          "West Virginia",
          "Arkansas",
          "Indiana",
          "Delaware",
          "Oklahoma",
          "Maryland",
          "New Mexico",
          "Kansas",
          "Alabama",
          "Michigan",
          "Iowa",
          "Florida",
          "Missouri",
          "Mississippi",
          "Ohio",
          "Virginia",
          "New Jersey",
          "Rhode Island",
          "Tennessee",
          "South Dakota",
          "Nebraska",
          "Utah",
          "Kentucky",
          "Arizona",
          "North Carolina",
          "Georgia",
          "South Carolina",
          "Wisconsin",
          "Montana",
          "Nevada",
          "Connecticut",
          "Massachusetts",
          "Idaho",
          "Vermont",
          "Texas",
          "Maine",
          "North Dakota",
          "Colorado",
          "New Hampshire",
          "Pennsylvania",
          "Minnesota",
          "Illinois",
          "Hawaii",
          "New York",
          "Oregon",
          "California",
          "Washington"
         ],
         "xaxis": "x",
         "y": [
          -12262.013201767739,
          -4366.231633608899,
          -2093.304647429286,
          -2041.2047018770609,
          -1186.5159881710715,
          -986.7884109876541,
          -724.0568199513946,
          -685.073152819532,
          -321.99607484499575,
          -149.72545753795566,
          100.01805591401353,
          321.5371947532258,
          425.2633604046641,
          449.42532073447364,
          596.1872562656572,
          610.8610312385426,
          640.7846762202535,
          942.4433536165743,
          981.8175119106891,
          1058.8136460580135,
          1191.9624840444012,
          1255.0343574371218,
          1427.7084360656809,
          1475.8315637047126,
          1554.6674355815849,
          1662.1634483910238,
          1969.6435768508818,
          2248.5775593058643,
          2277.231940041449,
          2643.3270980921225,
          2670.521159723714,
          2817.8136849053044,
          2848.104937887634,
          3035.878333736444,
          3066.331417747162,
          3200.4918322076337,
          3324.6493972717144,
          3815.539702408976,
          4181.441254124424,
          4730.655507288437,
          4739.31063163263,
          4819.226009446211,
          5435.864629388336,
          6346.3234025930215,
          6955.0815723013075,
          7911.364139291072,
          8252.886894872907,
          9064.705591782717,
          9899.045214924532,
          11767.007720005691
         ],
         "yaxis": "y"
        }
       ],
       "layout": {
        "annotations": [
         {
          "align": "right",
          "font": {
           "color": "grey",
           "size": 10
          },
          "opacity": 0.7,
          "showarrow": false,
          "text": "Chart by Dominic Tarro | 𝕏 @dominictarro<br>Sources: NAEP Reading Assessments (2015, 2019)<br>CCD National Public Education Financial Survey (2010-2019)",
          "x": 1.07,
          "xref": "paper",
          "y": -0.15,
          "yref": "paper"
         },
         {
          "align": "left",
          "font": {
           "color": "grey",
           "size": 10
          },
          "opacity": 0.7,
          "showarrow": false,
          "text": "The NAEP Reading scale ranges from 0 to 500.<br>2020 dollar adjustment for school year expenditures was done with the ending year's inflation rate.<br>Data compares differences in scores and spending, by state, between 8th graders in 2015 and 2019.<br><i>Per Pupil, 4-Year Expenditure</i> is an aggregate from 5th-8th grade.",
          "x": -0.08,
          "xref": "paper",
          "y": -0.15,
          "yref": "paper"
         }
        ],
        "barmode": "relative",
        "coloraxis": {
         "colorbar": {
          "orientation": "h",
          "title": {
           "text": "Change in <i>NAEP Average Reading Score</i>"
          }
         },
         "colorscale": [
          [
           0,
           "rgb(103,0,31)"
          ],
          [
           0.1,
           "rgb(178,24,43)"
          ],
          [
           0.2,
           "rgb(214,96,77)"
          ],
          [
           0.3,
           "rgb(244,165,130)"
          ],
          [
           0.4,
           "rgb(253,219,199)"
          ],
          [
           0.5,
           "rgb(247,247,247)"
          ],
          [
           0.6,
           "rgb(209,229,240)"
          ],
          [
           0.7,
           "rgb(146,197,222)"
          ],
          [
           0.8,
           "rgb(67,147,195)"
          ],
          [
           0.9,
           "rgb(33,102,172)"
          ],
          [
           1,
           "rgb(5,48,97)"
          ]
         ]
        },
        "height": 600,
        "legend": {
         "tracegroupgap": 0
        },
        "paper_bgcolor": "#171717",
        "plot_bgcolor": "#171717",
        "template": {
         "data": {
          "bar": [
           {
            "error_x": {
             "color": "#f2f5fa"
            },
            "error_y": {
             "color": "#f2f5fa"
            },
            "marker": {
             "line": {
              "color": "rgb(17,17,17)",
              "width": 0.5
             },
             "pattern": {
              "fillmode": "overlay",
              "size": 10,
              "solidity": 0.2
             }
            },
            "type": "bar"
           }
          ],
          "barpolar": [
           {
            "marker": {
             "line": {
              "color": "rgb(17,17,17)",
              "width": 0.5
             },
             "pattern": {
              "fillmode": "overlay",
              "size": 10,
              "solidity": 0.2
             }
            },
            "type": "barpolar"
           }
          ],
          "carpet": [
           {
            "aaxis": {
             "endlinecolor": "#A2B1C6",
             "gridcolor": "#506784",
             "linecolor": "#506784",
             "minorgridcolor": "#506784",
             "startlinecolor": "#A2B1C6"
            },
            "baxis": {
             "endlinecolor": "#A2B1C6",
             "gridcolor": "#506784",
             "linecolor": "#506784",
             "minorgridcolor": "#506784",
             "startlinecolor": "#A2B1C6"
            },
            "type": "carpet"
           }
          ],
          "choropleth": [
           {
            "colorbar": {
             "outlinewidth": 0,
             "ticks": ""
            },
            "type": "choropleth"
           }
          ],
          "contour": [
           {
            "colorbar": {
             "outlinewidth": 0,
             "ticks": ""
            },
            "colorscale": [
             [
              0,
              "#0d0887"
             ],
             [
              0.1111111111111111,
              "#46039f"
             ],
             [
              0.2222222222222222,
              "#7201a8"
             ],
             [
              0.3333333333333333,
              "#9c179e"
             ],
             [
              0.4444444444444444,
              "#bd3786"
             ],
             [
              0.5555555555555556,
              "#d8576b"
             ],
             [
              0.6666666666666666,
              "#ed7953"
             ],
             [
              0.7777777777777778,
              "#fb9f3a"
             ],
             [
              0.8888888888888888,
              "#fdca26"
             ],
             [
              1,
              "#f0f921"
             ]
            ],
            "type": "contour"
           }
          ],
          "contourcarpet": [
           {
            "colorbar": {
             "outlinewidth": 0,
             "ticks": ""
            },
            "type": "contourcarpet"
           }
          ],
          "heatmap": [
           {
            "colorbar": {
             "outlinewidth": 0,
             "ticks": ""
            },
            "colorscale": [
             [
              0,
              "#0d0887"
             ],
             [
              0.1111111111111111,
              "#46039f"
             ],
             [
              0.2222222222222222,
              "#7201a8"
             ],
             [
              0.3333333333333333,
              "#9c179e"
             ],
             [
              0.4444444444444444,
              "#bd3786"
             ],
             [
              0.5555555555555556,
              "#d8576b"
             ],
             [
              0.6666666666666666,
              "#ed7953"
             ],
             [
              0.7777777777777778,
              "#fb9f3a"
             ],
             [
              0.8888888888888888,
              "#fdca26"
             ],
             [
              1,
              "#f0f921"
             ]
            ],
            "type": "heatmap"
           }
          ],
          "heatmapgl": [
           {
            "colorbar": {
             "outlinewidth": 0,
             "ticks": ""
            },
            "colorscale": [
             [
              0,
              "#0d0887"
             ],
             [
              0.1111111111111111,
              "#46039f"
             ],
             [
              0.2222222222222222,
              "#7201a8"
             ],
             [
              0.3333333333333333,
              "#9c179e"
             ],
             [
              0.4444444444444444,
              "#bd3786"
             ],
             [
              0.5555555555555556,
              "#d8576b"
             ],
             [
              0.6666666666666666,
              "#ed7953"
             ],
             [
              0.7777777777777778,
              "#fb9f3a"
             ],
             [
              0.8888888888888888,
              "#fdca26"
             ],
             [
              1,
              "#f0f921"
             ]
            ],
            "type": "heatmapgl"
           }
          ],
          "histogram": [
           {
            "marker": {
             "pattern": {
              "fillmode": "overlay",
              "size": 10,
              "solidity": 0.2
             }
            },
            "type": "histogram"
           }
          ],
          "histogram2d": [
           {
            "colorbar": {
             "outlinewidth": 0,
             "ticks": ""
            },
            "colorscale": [
             [
              0,
              "#0d0887"
             ],
             [
              0.1111111111111111,
              "#46039f"
             ],
             [
              0.2222222222222222,
              "#7201a8"
             ],
             [
              0.3333333333333333,
              "#9c179e"
             ],
             [
              0.4444444444444444,
              "#bd3786"
             ],
             [
              0.5555555555555556,
              "#d8576b"
             ],
             [
              0.6666666666666666,
              "#ed7953"
             ],
             [
              0.7777777777777778,
              "#fb9f3a"
             ],
             [
              0.8888888888888888,
              "#fdca26"
             ],
             [
              1,
              "#f0f921"
             ]
            ],
            "type": "histogram2d"
           }
          ],
          "histogram2dcontour": [
           {
            "colorbar": {
             "outlinewidth": 0,
             "ticks": ""
            },
            "colorscale": [
             [
              0,
              "#0d0887"
             ],
             [
              0.1111111111111111,
              "#46039f"
             ],
             [
              0.2222222222222222,
              "#7201a8"
             ],
             [
              0.3333333333333333,
              "#9c179e"
             ],
             [
              0.4444444444444444,
              "#bd3786"
             ],
             [
              0.5555555555555556,
              "#d8576b"
             ],
             [
              0.6666666666666666,
              "#ed7953"
             ],
             [
              0.7777777777777778,
              "#fb9f3a"
             ],
             [
              0.8888888888888888,
              "#fdca26"
             ],
             [
              1,
              "#f0f921"
             ]
            ],
            "type": "histogram2dcontour"
           }
          ],
          "mesh3d": [
           {
            "colorbar": {
             "outlinewidth": 0,
             "ticks": ""
            },
            "type": "mesh3d"
           }
          ],
          "parcoords": [
           {
            "line": {
             "colorbar": {
              "outlinewidth": 0,
              "ticks": ""
             }
            },
            "type": "parcoords"
           }
          ],
          "pie": [
           {
            "automargin": true,
            "type": "pie"
           }
          ],
          "scatter": [
           {
            "marker": {
             "line": {
              "color": "#283442"
             }
            },
            "type": "scatter"
           }
          ],
          "scatter3d": [
           {
            "line": {
             "colorbar": {
              "outlinewidth": 0,
              "ticks": ""
             }
            },
            "marker": {
             "colorbar": {
              "outlinewidth": 0,
              "ticks": ""
             }
            },
            "type": "scatter3d"
           }
          ],
          "scattercarpet": [
           {
            "marker": {
             "colorbar": {
              "outlinewidth": 0,
              "ticks": ""
             }
            },
            "type": "scattercarpet"
           }
          ],
          "scattergeo": [
           {
            "marker": {
             "colorbar": {
              "outlinewidth": 0,
              "ticks": ""
             }
            },
            "type": "scattergeo"
           }
          ],
          "scattergl": [
           {
            "marker": {
             "line": {
              "color": "#283442"
             }
            },
            "type": "scattergl"
           }
          ],
          "scattermapbox": [
           {
            "marker": {
             "colorbar": {
              "outlinewidth": 0,
              "ticks": ""
             }
            },
            "type": "scattermapbox"
           }
          ],
          "scatterpolar": [
           {
            "marker": {
             "colorbar": {
              "outlinewidth": 0,
              "ticks": ""
             }
            },
            "type": "scatterpolar"
           }
          ],
          "scatterpolargl": [
           {
            "marker": {
             "colorbar": {
              "outlinewidth": 0,
              "ticks": ""
             }
            },
            "type": "scatterpolargl"
           }
          ],
          "scatterternary": [
           {
            "marker": {
             "colorbar": {
              "outlinewidth": 0,
              "ticks": ""
             }
            },
            "type": "scatterternary"
           }
          ],
          "surface": [
           {
            "colorbar": {
             "outlinewidth": 0,
             "ticks": ""
            },
            "colorscale": [
             [
              0,
              "#0d0887"
             ],
             [
              0.1111111111111111,
              "#46039f"
             ],
             [
              0.2222222222222222,
              "#7201a8"
             ],
             [
              0.3333333333333333,
              "#9c179e"
             ],
             [
              0.4444444444444444,
              "#bd3786"
             ],
             [
              0.5555555555555556,
              "#d8576b"
             ],
             [
              0.6666666666666666,
              "#ed7953"
             ],
             [
              0.7777777777777778,
              "#fb9f3a"
             ],
             [
              0.8888888888888888,
              "#fdca26"
             ],
             [
              1,
              "#f0f921"
             ]
            ],
            "type": "surface"
           }
          ],
          "table": [
           {
            "cells": {
             "fill": {
              "color": "#506784"
             },
             "line": {
              "color": "rgb(17,17,17)"
             }
            },
            "header": {
             "fill": {
              "color": "#2a3f5f"
             },
             "line": {
              "color": "rgb(17,17,17)"
             }
            },
            "type": "table"
           }
          ]
         },
         "layout": {
          "annotationdefaults": {
           "arrowcolor": "#f2f5fa",
           "arrowhead": 0,
           "arrowwidth": 1
          },
          "autotypenumbers": "strict",
          "coloraxis": {
           "colorbar": {
            "outlinewidth": 0,
            "ticks": ""
           }
          },
          "colorscale": {
           "diverging": [
            [
             0,
             "#8e0152"
            ],
            [
             0.1,
             "#c51b7d"
            ],
            [
             0.2,
             "#de77ae"
            ],
            [
             0.3,
             "#f1b6da"
            ],
            [
             0.4,
             "#fde0ef"
            ],
            [
             0.5,
             "#f7f7f7"
            ],
            [
             0.6,
             "#e6f5d0"
            ],
            [
             0.7,
             "#b8e186"
            ],
            [
             0.8,
             "#7fbc41"
            ],
            [
             0.9,
             "#4d9221"
            ],
            [
             1,
             "#276419"
            ]
           ],
           "sequential": [
            [
             0,
             "#0d0887"
            ],
            [
             0.1111111111111111,
             "#46039f"
            ],
            [
             0.2222222222222222,
             "#7201a8"
            ],
            [
             0.3333333333333333,
             "#9c179e"
            ],
            [
             0.4444444444444444,
             "#bd3786"
            ],
            [
             0.5555555555555556,
             "#d8576b"
            ],
            [
             0.6666666666666666,
             "#ed7953"
            ],
            [
             0.7777777777777778,
             "#fb9f3a"
            ],
            [
             0.8888888888888888,
             "#fdca26"
            ],
            [
             1,
             "#f0f921"
            ]
           ],
           "sequentialminus": [
            [
             0,
             "#0d0887"
            ],
            [
             0.1111111111111111,
             "#46039f"
            ],
            [
             0.2222222222222222,
             "#7201a8"
            ],
            [
             0.3333333333333333,
             "#9c179e"
            ],
            [
             0.4444444444444444,
             "#bd3786"
            ],
            [
             0.5555555555555556,
             "#d8576b"
            ],
            [
             0.6666666666666666,
             "#ed7953"
            ],
            [
             0.7777777777777778,
             "#fb9f3a"
            ],
            [
             0.8888888888888888,
             "#fdca26"
            ],
            [
             1,
             "#f0f921"
            ]
           ]
          },
          "colorway": [
           "#636efa",
           "#EF553B",
           "#00cc96",
           "#ab63fa",
           "#FFA15A",
           "#19d3f3",
           "#FF6692",
           "#B6E880",
           "#FF97FF",
           "#FECB52"
          ],
          "font": {
           "color": "#f2f5fa"
          },
          "geo": {
           "bgcolor": "rgb(17,17,17)",
           "lakecolor": "rgb(17,17,17)",
           "landcolor": "rgb(17,17,17)",
           "showlakes": true,
           "showland": true,
           "subunitcolor": "#506784"
          },
          "hoverlabel": {
           "align": "left"
          },
          "hovermode": "closest",
          "mapbox": {
           "style": "dark"
          },
          "paper_bgcolor": "rgb(17,17,17)",
          "plot_bgcolor": "rgb(17,17,17)",
          "polar": {
           "angularaxis": {
            "gridcolor": "#506784",
            "linecolor": "#506784",
            "ticks": ""
           },
           "bgcolor": "rgb(17,17,17)",
           "radialaxis": {
            "gridcolor": "#506784",
            "linecolor": "#506784",
            "ticks": ""
           }
          },
          "scene": {
           "xaxis": {
            "backgroundcolor": "rgb(17,17,17)",
            "gridcolor": "#506784",
            "gridwidth": 2,
            "linecolor": "#506784",
            "showbackground": true,
            "ticks": "",
            "zerolinecolor": "#C8D4E3"
           },
           "yaxis": {
            "backgroundcolor": "rgb(17,17,17)",
            "gridcolor": "#506784",
            "gridwidth": 2,
            "linecolor": "#506784",
            "showbackground": true,
            "ticks": "",
            "zerolinecolor": "#C8D4E3"
           },
           "zaxis": {
            "backgroundcolor": "rgb(17,17,17)",
            "gridcolor": "#506784",
            "gridwidth": 2,
            "linecolor": "#506784",
            "showbackground": true,
            "ticks": "",
            "zerolinecolor": "#C8D4E3"
           }
          },
          "shapedefaults": {
           "line": {
            "color": "#f2f5fa"
           }
          },
          "sliderdefaults": {
           "bgcolor": "#C8D4E3",
           "bordercolor": "rgb(17,17,17)",
           "borderwidth": 1,
           "tickwidth": 0
          },
          "ternary": {
           "aaxis": {
            "gridcolor": "#506784",
            "linecolor": "#506784",
            "ticks": ""
           },
           "baxis": {
            "gridcolor": "#506784",
            "linecolor": "#506784",
            "ticks": ""
           },
           "bgcolor": "rgb(17,17,17)",
           "caxis": {
            "gridcolor": "#506784",
            "linecolor": "#506784",
            "ticks": ""
           }
          },
          "title": {
           "x": 0.05
          },
          "updatemenudefaults": {
           "bgcolor": "#506784",
           "borderwidth": 0
          },
          "xaxis": {
           "automargin": true,
           "gridcolor": "#283442",
           "linecolor": "#506784",
           "ticks": "",
           "title": {
            "standoff": 15
           },
           "zerolinecolor": "#283442",
           "zerolinewidth": 2
          },
          "yaxis": {
           "automargin": true,
           "gridcolor": "#283442",
           "linecolor": "#506784",
           "ticks": "",
           "title": {
            "standoff": 15
           },
           "zerolinecolor": "#283442",
           "zerolinewidth": 2
          }
         }
        },
        "title": {
         "text": "US Primary Education Return on Investment<br><sup><i>States spending more per student from 5th through 8th grade had a negligible relationship with average 8th grade reading performance.</i></sup>"
        },
        "width": 1000,
        "xaxis": {
         "anchor": "y",
         "domain": [
          0,
          1
         ],
         "showticklabels": false,
         "title": {}
        },
        "yaxis": {
         "anchor": "x",
         "domain": [
          0,
          1
         ],
         "title": {
          "font": {
           "size": 10
          },
          "text": "Per Pupil, 4-Year Expenditure Change Between 2015 and 2019<br>(2020 Dollars)"
         }
        }
       }
      }
     },
     "metadata": {},
     "output_type": "display_data"
    },
    {
     "data": {
      "application/vnd.plotly.v1+json": {
       "config": {
        "plotlyServerURL": "https://plot.ly"
       },
       "data": [
        {
         "alignmentgroup": "True",
         "hovertemplate": "State=%{x}<br>4-Year Expenditure Change (2020 Dollars)=%{y}<br>Change in NAEP At or Above Basic</i><br><sup>(% Points)</sup>=%{marker.color}<extra></extra>",
         "legendgroup": "",
         "marker": {
          "color": [
           8,
           6,
           -2,
           5,
           2,
           5,
           4,
           5,
           3,
           4,
           5,
           7,
           3,
           8,
           3,
           3,
           -4,
           1,
           6,
           3,
           5,
           3,
           6,
           7,
           4,
           5,
           4,
           0,
           1,
           2,
           3,
           6,
           2,
           4,
           2,
           4,
           6,
           5,
           6,
           5,
           1,
           7,
           5,
           7,
           3,
           0,
           3,
           6,
           2,
           3
          ],
          "coloraxis": "coloraxis",
          "pattern": {
           "shape": ""
          }
         },
         "name": "",
         "offsetgroup": "",
         "orientation": "v",
         "showlegend": false,
         "textposition": "auto",
         "type": "bar",
         "x": [
          "Alaska",
          "Wyoming",
          "Louisiana",
          "West Virginia",
          "Arkansas",
          "Indiana",
          "Delaware",
          "Oklahoma",
          "Maryland",
          "New Mexico",
          "Kansas",
          "Alabama",
          "Michigan",
          "Iowa",
          "Florida",
          "Missouri",
          "Mississippi",
          "Ohio",
          "Virginia",
          "New Jersey",
          "Rhode Island",
          "Tennessee",
          "South Dakota",
          "Nebraska",
          "Utah",
          "Kentucky",
          "Arizona",
          "North Carolina",
          "Georgia",
          "South Carolina",
          "Wisconsin",
          "Montana",
          "Nevada",
          "Connecticut",
          "Massachusetts",
          "Idaho",
          "Vermont",
          "Texas",
          "Maine",
          "North Dakota",
          "Colorado",
          "New Hampshire",
          "Pennsylvania",
          "Minnesota",
          "Illinois",
          "Hawaii",
          "New York",
          "Oregon",
          "California",
          "Washington"
         ],
         "xaxis": "x",
         "y": [
          -12262.013201767739,
          -4366.231633608899,
          -2093.304647429286,
          -2041.2047018770609,
          -1186.5159881710715,
          -986.7884109876541,
          -724.0568199513946,
          -685.073152819532,
          -321.99607484499575,
          -149.72545753795566,
          100.01805591401353,
          321.5371947532258,
          425.2633604046641,
          449.42532073447364,
          596.1872562656572,
          610.8610312385426,
          640.7846762202535,
          942.4433536165743,
          981.8175119106891,
          1058.8136460580135,
          1191.9624840444012,
          1255.0343574371218,
          1427.7084360656809,
          1475.8315637047126,
          1554.6674355815849,
          1662.1634483910238,
          1969.6435768508818,
          2248.5775593058643,
          2277.231940041449,
          2643.3270980921225,
          2670.521159723714,
          2817.8136849053044,
          2848.104937887634,
          3035.878333736444,
          3066.331417747162,
          3200.4918322076337,
          3324.6493972717144,
          3815.539702408976,
          4181.441254124424,
          4730.655507288437,
          4739.31063163263,
          4819.226009446211,
          5435.864629388336,
          6346.3234025930215,
          6955.0815723013075,
          7911.364139291072,
          8252.886894872907,
          9064.705591782717,
          9899.045214924532,
          11767.007720005691
         ],
         "yaxis": "y"
        }
       ],
       "layout": {
        "annotations": [
         {
          "align": "right",
          "font": {
           "color": "grey",
           "size": 10
          },
          "opacity": 0.7,
          "showarrow": false,
          "text": "Chart by Dominic Tarro | 𝕏 @dominictarro<br>Sources: NAEP Reading Assessments (2015, 2019)<br>CCD National Public Education Financial Survey (2010-2019)",
          "x": 1.07,
          "xref": "paper",
          "y": -0.15,
          "yref": "paper"
         },
         {
          "align": "left",
          "font": {
           "color": "grey",
           "size": 10
          },
          "opacity": 0.7,
          "showarrow": false,
          "text": "The NAEP Reading scale ranges from 0 to 500.<br>2020 dollar adjustment for school year expenditures was done with the ending year's inflation rate.<br>Data compares differences in scores and spending, by state, between 8th graders in 2015 and 2019.<br><i>Per Pupil, 4-Year Expenditure</i> is an aggregate from 5th-8th grade.",
          "x": -0.08,
          "xref": "paper",
          "y": -0.15,
          "yref": "paper"
         }
        ],
        "barmode": "relative",
        "coloraxis": {
         "colorbar": {
          "orientation": "h",
          "title": {
           "text": "Change in <i>NAEP At or Above Basic</i><br><sup>(% Points)</sup></i>"
          }
         },
         "colorscale": [
          [
           0,
           "rgb(103,0,31)"
          ],
          [
           0.1,
           "rgb(178,24,43)"
          ],
          [
           0.2,
           "rgb(214,96,77)"
          ],
          [
           0.3,
           "rgb(244,165,130)"
          ],
          [
           0.4,
           "rgb(253,219,199)"
          ],
          [
           0.5,
           "rgb(247,247,247)"
          ],
          [
           0.6,
           "rgb(209,229,240)"
          ],
          [
           0.7,
           "rgb(146,197,222)"
          ],
          [
           0.8,
           "rgb(67,147,195)"
          ],
          [
           0.9,
           "rgb(33,102,172)"
          ],
          [
           1,
           "rgb(5,48,97)"
          ]
         ]
        },
        "height": 600,
        "legend": {
         "tracegroupgap": 0
        },
        "paper_bgcolor": "#171717",
        "plot_bgcolor": "#171717",
        "template": {
         "data": {
          "bar": [
           {
            "error_x": {
             "color": "#f2f5fa"
            },
            "error_y": {
             "color": "#f2f5fa"
            },
            "marker": {
             "line": {
              "color": "rgb(17,17,17)",
              "width": 0.5
             },
             "pattern": {
              "fillmode": "overlay",
              "size": 10,
              "solidity": 0.2
             }
            },
            "type": "bar"
           }
          ],
          "barpolar": [
           {
            "marker": {
             "line": {
              "color": "rgb(17,17,17)",
              "width": 0.5
             },
             "pattern": {
              "fillmode": "overlay",
              "size": 10,
              "solidity": 0.2
             }
            },
            "type": "barpolar"
           }
          ],
          "carpet": [
           {
            "aaxis": {
             "endlinecolor": "#A2B1C6",
             "gridcolor": "#506784",
             "linecolor": "#506784",
             "minorgridcolor": "#506784",
             "startlinecolor": "#A2B1C6"
            },
            "baxis": {
             "endlinecolor": "#A2B1C6",
             "gridcolor": "#506784",
             "linecolor": "#506784",
             "minorgridcolor": "#506784",
             "startlinecolor": "#A2B1C6"
            },
            "type": "carpet"
           }
          ],
          "choropleth": [
           {
            "colorbar": {
             "outlinewidth": 0,
             "ticks": ""
            },
            "type": "choropleth"
           }
          ],
          "contour": [
           {
            "colorbar": {
             "outlinewidth": 0,
             "ticks": ""
            },
            "colorscale": [
             [
              0,
              "#0d0887"
             ],
             [
              0.1111111111111111,
              "#46039f"
             ],
             [
              0.2222222222222222,
              "#7201a8"
             ],
             [
              0.3333333333333333,
              "#9c179e"
             ],
             [
              0.4444444444444444,
              "#bd3786"
             ],
             [
              0.5555555555555556,
              "#d8576b"
             ],
             [
              0.6666666666666666,
              "#ed7953"
             ],
             [
              0.7777777777777778,
              "#fb9f3a"
             ],
             [
              0.8888888888888888,
              "#fdca26"
             ],
             [
              1,
              "#f0f921"
             ]
            ],
            "type": "contour"
           }
          ],
          "contourcarpet": [
           {
            "colorbar": {
             "outlinewidth": 0,
             "ticks": ""
            },
            "type": "contourcarpet"
           }
          ],
          "heatmap": [
           {
            "colorbar": {
             "outlinewidth": 0,
             "ticks": ""
            },
            "colorscale": [
             [
              0,
              "#0d0887"
             ],
             [
              0.1111111111111111,
              "#46039f"
             ],
             [
              0.2222222222222222,
              "#7201a8"
             ],
             [
              0.3333333333333333,
              "#9c179e"
             ],
             [
              0.4444444444444444,
              "#bd3786"
             ],
             [
              0.5555555555555556,
              "#d8576b"
             ],
             [
              0.6666666666666666,
              "#ed7953"
             ],
             [
              0.7777777777777778,
              "#fb9f3a"
             ],
             [
              0.8888888888888888,
              "#fdca26"
             ],
             [
              1,
              "#f0f921"
             ]
            ],
            "type": "heatmap"
           }
          ],
          "heatmapgl": [
           {
            "colorbar": {
             "outlinewidth": 0,
             "ticks": ""
            },
            "colorscale": [
             [
              0,
              "#0d0887"
             ],
             [
              0.1111111111111111,
              "#46039f"
             ],
             [
              0.2222222222222222,
              "#7201a8"
             ],
             [
              0.3333333333333333,
              "#9c179e"
             ],
             [
              0.4444444444444444,
              "#bd3786"
             ],
             [
              0.5555555555555556,
              "#d8576b"
             ],
             [
              0.6666666666666666,
              "#ed7953"
             ],
             [
              0.7777777777777778,
              "#fb9f3a"
             ],
             [
              0.8888888888888888,
              "#fdca26"
             ],
             [
              1,
              "#f0f921"
             ]
            ],
            "type": "heatmapgl"
           }
          ],
          "histogram": [
           {
            "marker": {
             "pattern": {
              "fillmode": "overlay",
              "size": 10,
              "solidity": 0.2
             }
            },
            "type": "histogram"
           }
          ],
          "histogram2d": [
           {
            "colorbar": {
             "outlinewidth": 0,
             "ticks": ""
            },
            "colorscale": [
             [
              0,
              "#0d0887"
             ],
             [
              0.1111111111111111,
              "#46039f"
             ],
             [
              0.2222222222222222,
              "#7201a8"
             ],
             [
              0.3333333333333333,
              "#9c179e"
             ],
             [
              0.4444444444444444,
              "#bd3786"
             ],
             [
              0.5555555555555556,
              "#d8576b"
             ],
             [
              0.6666666666666666,
              "#ed7953"
             ],
             [
              0.7777777777777778,
              "#fb9f3a"
             ],
             [
              0.8888888888888888,
              "#fdca26"
             ],
             [
              1,
              "#f0f921"
             ]
            ],
            "type": "histogram2d"
           }
          ],
          "histogram2dcontour": [
           {
            "colorbar": {
             "outlinewidth": 0,
             "ticks": ""
            },
            "colorscale": [
             [
              0,
              "#0d0887"
             ],
             [
              0.1111111111111111,
              "#46039f"
             ],
             [
              0.2222222222222222,
              "#7201a8"
             ],
             [
              0.3333333333333333,
              "#9c179e"
             ],
             [
              0.4444444444444444,
              "#bd3786"
             ],
             [
              0.5555555555555556,
              "#d8576b"
             ],
             [
              0.6666666666666666,
              "#ed7953"
             ],
             [
              0.7777777777777778,
              "#fb9f3a"
             ],
             [
              0.8888888888888888,
              "#fdca26"
             ],
             [
              1,
              "#f0f921"
             ]
            ],
            "type": "histogram2dcontour"
           }
          ],
          "mesh3d": [
           {
            "colorbar": {
             "outlinewidth": 0,
             "ticks": ""
            },
            "type": "mesh3d"
           }
          ],
          "parcoords": [
           {
            "line": {
             "colorbar": {
              "outlinewidth": 0,
              "ticks": ""
             }
            },
            "type": "parcoords"
           }
          ],
          "pie": [
           {
            "automargin": true,
            "type": "pie"
           }
          ],
          "scatter": [
           {
            "marker": {
             "line": {
              "color": "#283442"
             }
            },
            "type": "scatter"
           }
          ],
          "scatter3d": [
           {
            "line": {
             "colorbar": {
              "outlinewidth": 0,
              "ticks": ""
             }
            },
            "marker": {
             "colorbar": {
              "outlinewidth": 0,
              "ticks": ""
             }
            },
            "type": "scatter3d"
           }
          ],
          "scattercarpet": [
           {
            "marker": {
             "colorbar": {
              "outlinewidth": 0,
              "ticks": ""
             }
            },
            "type": "scattercarpet"
           }
          ],
          "scattergeo": [
           {
            "marker": {
             "colorbar": {
              "outlinewidth": 0,
              "ticks": ""
             }
            },
            "type": "scattergeo"
           }
          ],
          "scattergl": [
           {
            "marker": {
             "line": {
              "color": "#283442"
             }
            },
            "type": "scattergl"
           }
          ],
          "scattermapbox": [
           {
            "marker": {
             "colorbar": {
              "outlinewidth": 0,
              "ticks": ""
             }
            },
            "type": "scattermapbox"
           }
          ],
          "scatterpolar": [
           {
            "marker": {
             "colorbar": {
              "outlinewidth": 0,
              "ticks": ""
             }
            },
            "type": "scatterpolar"
           }
          ],
          "scatterpolargl": [
           {
            "marker": {
             "colorbar": {
              "outlinewidth": 0,
              "ticks": ""
             }
            },
            "type": "scatterpolargl"
           }
          ],
          "scatterternary": [
           {
            "marker": {
             "colorbar": {
              "outlinewidth": 0,
              "ticks": ""
             }
            },
            "type": "scatterternary"
           }
          ],
          "surface": [
           {
            "colorbar": {
             "outlinewidth": 0,
             "ticks": ""
            },
            "colorscale": [
             [
              0,
              "#0d0887"
             ],
             [
              0.1111111111111111,
              "#46039f"
             ],
             [
              0.2222222222222222,
              "#7201a8"
             ],
             [
              0.3333333333333333,
              "#9c179e"
             ],
             [
              0.4444444444444444,
              "#bd3786"
             ],
             [
              0.5555555555555556,
              "#d8576b"
             ],
             [
              0.6666666666666666,
              "#ed7953"
             ],
             [
              0.7777777777777778,
              "#fb9f3a"
             ],
             [
              0.8888888888888888,
              "#fdca26"
             ],
             [
              1,
              "#f0f921"
             ]
            ],
            "type": "surface"
           }
          ],
          "table": [
           {
            "cells": {
             "fill": {
              "color": "#506784"
             },
             "line": {
              "color": "rgb(17,17,17)"
             }
            },
            "header": {
             "fill": {
              "color": "#2a3f5f"
             },
             "line": {
              "color": "rgb(17,17,17)"
             }
            },
            "type": "table"
           }
          ]
         },
         "layout": {
          "annotationdefaults": {
           "arrowcolor": "#f2f5fa",
           "arrowhead": 0,
           "arrowwidth": 1
          },
          "autotypenumbers": "strict",
          "coloraxis": {
           "colorbar": {
            "outlinewidth": 0,
            "ticks": ""
           }
          },
          "colorscale": {
           "diverging": [
            [
             0,
             "#8e0152"
            ],
            [
             0.1,
             "#c51b7d"
            ],
            [
             0.2,
             "#de77ae"
            ],
            [
             0.3,
             "#f1b6da"
            ],
            [
             0.4,
             "#fde0ef"
            ],
            [
             0.5,
             "#f7f7f7"
            ],
            [
             0.6,
             "#e6f5d0"
            ],
            [
             0.7,
             "#b8e186"
            ],
            [
             0.8,
             "#7fbc41"
            ],
            [
             0.9,
             "#4d9221"
            ],
            [
             1,
             "#276419"
            ]
           ],
           "sequential": [
            [
             0,
             "#0d0887"
            ],
            [
             0.1111111111111111,
             "#46039f"
            ],
            [
             0.2222222222222222,
             "#7201a8"
            ],
            [
             0.3333333333333333,
             "#9c179e"
            ],
            [
             0.4444444444444444,
             "#bd3786"
            ],
            [
             0.5555555555555556,
             "#d8576b"
            ],
            [
             0.6666666666666666,
             "#ed7953"
            ],
            [
             0.7777777777777778,
             "#fb9f3a"
            ],
            [
             0.8888888888888888,
             "#fdca26"
            ],
            [
             1,
             "#f0f921"
            ]
           ],
           "sequentialminus": [
            [
             0,
             "#0d0887"
            ],
            [
             0.1111111111111111,
             "#46039f"
            ],
            [
             0.2222222222222222,
             "#7201a8"
            ],
            [
             0.3333333333333333,
             "#9c179e"
            ],
            [
             0.4444444444444444,
             "#bd3786"
            ],
            [
             0.5555555555555556,
             "#d8576b"
            ],
            [
             0.6666666666666666,
             "#ed7953"
            ],
            [
             0.7777777777777778,
             "#fb9f3a"
            ],
            [
             0.8888888888888888,
             "#fdca26"
            ],
            [
             1,
             "#f0f921"
            ]
           ]
          },
          "colorway": [
           "#636efa",
           "#EF553B",
           "#00cc96",
           "#ab63fa",
           "#FFA15A",
           "#19d3f3",
           "#FF6692",
           "#B6E880",
           "#FF97FF",
           "#FECB52"
          ],
          "font": {
           "color": "#f2f5fa"
          },
          "geo": {
           "bgcolor": "rgb(17,17,17)",
           "lakecolor": "rgb(17,17,17)",
           "landcolor": "rgb(17,17,17)",
           "showlakes": true,
           "showland": true,
           "subunitcolor": "#506784"
          },
          "hoverlabel": {
           "align": "left"
          },
          "hovermode": "closest",
          "mapbox": {
           "style": "dark"
          },
          "paper_bgcolor": "rgb(17,17,17)",
          "plot_bgcolor": "rgb(17,17,17)",
          "polar": {
           "angularaxis": {
            "gridcolor": "#506784",
            "linecolor": "#506784",
            "ticks": ""
           },
           "bgcolor": "rgb(17,17,17)",
           "radialaxis": {
            "gridcolor": "#506784",
            "linecolor": "#506784",
            "ticks": ""
           }
          },
          "scene": {
           "xaxis": {
            "backgroundcolor": "rgb(17,17,17)",
            "gridcolor": "#506784",
            "gridwidth": 2,
            "linecolor": "#506784",
            "showbackground": true,
            "ticks": "",
            "zerolinecolor": "#C8D4E3"
           },
           "yaxis": {
            "backgroundcolor": "rgb(17,17,17)",
            "gridcolor": "#506784",
            "gridwidth": 2,
            "linecolor": "#506784",
            "showbackground": true,
            "ticks": "",
            "zerolinecolor": "#C8D4E3"
           },
           "zaxis": {
            "backgroundcolor": "rgb(17,17,17)",
            "gridcolor": "#506784",
            "gridwidth": 2,
            "linecolor": "#506784",
            "showbackground": true,
            "ticks": "",
            "zerolinecolor": "#C8D4E3"
           }
          },
          "shapedefaults": {
           "line": {
            "color": "#f2f5fa"
           }
          },
          "sliderdefaults": {
           "bgcolor": "#C8D4E3",
           "bordercolor": "rgb(17,17,17)",
           "borderwidth": 1,
           "tickwidth": 0
          },
          "ternary": {
           "aaxis": {
            "gridcolor": "#506784",
            "linecolor": "#506784",
            "ticks": ""
           },
           "baxis": {
            "gridcolor": "#506784",
            "linecolor": "#506784",
            "ticks": ""
           },
           "bgcolor": "rgb(17,17,17)",
           "caxis": {
            "gridcolor": "#506784",
            "linecolor": "#506784",
            "ticks": ""
           }
          },
          "title": {
           "x": 0.05
          },
          "updatemenudefaults": {
           "bgcolor": "#506784",
           "borderwidth": 0
          },
          "xaxis": {
           "automargin": true,
           "gridcolor": "#283442",
           "linecolor": "#506784",
           "ticks": "",
           "title": {
            "standoff": 15
           },
           "zerolinecolor": "#283442",
           "zerolinewidth": 2
          },
          "yaxis": {
           "automargin": true,
           "gridcolor": "#283442",
           "linecolor": "#506784",
           "ticks": "",
           "title": {
            "standoff": 15
           },
           "zerolinecolor": "#283442",
           "zerolinewidth": 2
          }
         }
        },
        "title": {
         "text": "US Primary Education Return on Investment<br><sup><i>States spending more per student from 5th through 8th grade had a small relationship with basic 8th grade reading performance.</i></sup>"
        },
        "width": 1000,
        "xaxis": {
         "anchor": "y",
         "domain": [
          0,
          1
         ],
         "showticklabels": false,
         "title": {}
        },
        "yaxis": {
         "anchor": "x",
         "domain": [
          0,
          1
         ],
         "title": {
          "font": {
           "size": 10
          },
          "text": "Per Pupil, 4-Year Expenditure Change Between 2015 and 2019<br>(2020 Dollars)"
         }
        }
       }
      }
     },
     "metadata": {},
     "output_type": "display_data"
    },
    {
     "data": {
      "application/vnd.plotly.v1+json": {
       "config": {
        "plotlyServerURL": "https://plot.ly"
       },
       "data": [
        {
         "alignmentgroup": "True",
         "hovertemplate": "State=%{x}<br>4-Year Expenditure Change (2020 Dollars)=%{y}<br>Change in NAEP At or Above Proficient</i><br><sup>(% Points)</sup>=%{marker.color}<extra></extra>",
         "legendgroup": "",
         "marker": {
          "color": [
           8,
           2,
           -4,
           2,
           -3,
           0,
           0,
           3,
           1,
           -3,
           3,
           2,
           1,
           3,
           -4,
           3,
           -5,
           -2,
           3,
           -2,
           0,
           1,
           2,
           4,
           0,
           3,
           3,
           -3,
           -2,
           -1,
           0,
           3,
           -2,
           2,
           1,
           0,
           4,
           3,
           0,
           2,
           0,
           7,
           4,
           6,
           0,
           -3,
           1,
           2,
           -2,
           -1
          ],
          "coloraxis": "coloraxis",
          "pattern": {
           "shape": ""
          }
         },
         "name": "",
         "offsetgroup": "",
         "orientation": "v",
         "showlegend": false,
         "textposition": "auto",
         "type": "bar",
         "x": [
          "Alaska",
          "Wyoming",
          "Louisiana",
          "West Virginia",
          "Arkansas",
          "Indiana",
          "Delaware",
          "Oklahoma",
          "Maryland",
          "New Mexico",
          "Kansas",
          "Alabama",
          "Michigan",
          "Iowa",
          "Florida",
          "Missouri",
          "Mississippi",
          "Ohio",
          "Virginia",
          "New Jersey",
          "Rhode Island",
          "Tennessee",
          "South Dakota",
          "Nebraska",
          "Utah",
          "Kentucky",
          "Arizona",
          "North Carolina",
          "Georgia",
          "South Carolina",
          "Wisconsin",
          "Montana",
          "Nevada",
          "Connecticut",
          "Massachusetts",
          "Idaho",
          "Vermont",
          "Texas",
          "Maine",
          "North Dakota",
          "Colorado",
          "New Hampshire",
          "Pennsylvania",
          "Minnesota",
          "Illinois",
          "Hawaii",
          "New York",
          "Oregon",
          "California",
          "Washington"
         ],
         "xaxis": "x",
         "y": [
          -12262.013201767739,
          -4366.231633608899,
          -2093.304647429286,
          -2041.2047018770609,
          -1186.5159881710715,
          -986.7884109876541,
          -724.0568199513946,
          -685.073152819532,
          -321.99607484499575,
          -149.72545753795566,
          100.01805591401353,
          321.5371947532258,
          425.2633604046641,
          449.42532073447364,
          596.1872562656572,
          610.8610312385426,
          640.7846762202535,
          942.4433536165743,
          981.8175119106891,
          1058.8136460580135,
          1191.9624840444012,
          1255.0343574371218,
          1427.7084360656809,
          1475.8315637047126,
          1554.6674355815849,
          1662.1634483910238,
          1969.6435768508818,
          2248.5775593058643,
          2277.231940041449,
          2643.3270980921225,
          2670.521159723714,
          2817.8136849053044,
          2848.104937887634,
          3035.878333736444,
          3066.331417747162,
          3200.4918322076337,
          3324.6493972717144,
          3815.539702408976,
          4181.441254124424,
          4730.655507288437,
          4739.31063163263,
          4819.226009446211,
          5435.864629388336,
          6346.3234025930215,
          6955.0815723013075,
          7911.364139291072,
          8252.886894872907,
          9064.705591782717,
          9899.045214924532,
          11767.007720005691
         ],
         "yaxis": "y"
        }
       ],
       "layout": {
        "annotations": [
         {
          "align": "right",
          "font": {
           "color": "grey",
           "size": 10
          },
          "opacity": 0.7,
          "showarrow": false,
          "text": "Chart by Dominic Tarro | 𝕏 @dominictarro<br>Sources: NAEP Reading Assessments (2015, 2019)<br>CCD National Public Education Financial Survey (2010-2019)",
          "x": 1.07,
          "xref": "paper",
          "y": -0.15,
          "yref": "paper"
         },
         {
          "align": "left",
          "font": {
           "color": "grey",
           "size": 10
          },
          "opacity": 0.7,
          "showarrow": false,
          "text": "The NAEP Reading scale ranges from 0 to 500.<br>2020 dollar adjustment for school year expenditures was done with the ending year's inflation rate.<br>Data compares differences in scores and spending, by state, between 8th graders in 2015 and 2019.<br><i>Per Pupil, 4-Year Expenditure</i> is an aggregate from 5th-8th grade.",
          "x": -0.08,
          "xref": "paper",
          "y": -0.15,
          "yref": "paper"
         }
        ],
        "barmode": "relative",
        "coloraxis": {
         "colorbar": {
          "orientation": "h",
          "title": {
           "text": "Change in <i>NAEP At or Above Proficient</i><br><sup>(% Points)</sup></i>"
          }
         },
         "colorscale": [
          [
           0,
           "rgb(103,0,31)"
          ],
          [
           0.1,
           "rgb(178,24,43)"
          ],
          [
           0.2,
           "rgb(214,96,77)"
          ],
          [
           0.3,
           "rgb(244,165,130)"
          ],
          [
           0.4,
           "rgb(253,219,199)"
          ],
          [
           0.5,
           "rgb(247,247,247)"
          ],
          [
           0.6,
           "rgb(209,229,240)"
          ],
          [
           0.7,
           "rgb(146,197,222)"
          ],
          [
           0.8,
           "rgb(67,147,195)"
          ],
          [
           0.9,
           "rgb(33,102,172)"
          ],
          [
           1,
           "rgb(5,48,97)"
          ]
         ]
        },
        "height": 600,
        "legend": {
         "tracegroupgap": 0
        },
        "paper_bgcolor": "#171717",
        "plot_bgcolor": "#171717",
        "template": {
         "data": {
          "bar": [
           {
            "error_x": {
             "color": "#f2f5fa"
            },
            "error_y": {
             "color": "#f2f5fa"
            },
            "marker": {
             "line": {
              "color": "rgb(17,17,17)",
              "width": 0.5
             },
             "pattern": {
              "fillmode": "overlay",
              "size": 10,
              "solidity": 0.2
             }
            },
            "type": "bar"
           }
          ],
          "barpolar": [
           {
            "marker": {
             "line": {
              "color": "rgb(17,17,17)",
              "width": 0.5
             },
             "pattern": {
              "fillmode": "overlay",
              "size": 10,
              "solidity": 0.2
             }
            },
            "type": "barpolar"
           }
          ],
          "carpet": [
           {
            "aaxis": {
             "endlinecolor": "#A2B1C6",
             "gridcolor": "#506784",
             "linecolor": "#506784",
             "minorgridcolor": "#506784",
             "startlinecolor": "#A2B1C6"
            },
            "baxis": {
             "endlinecolor": "#A2B1C6",
             "gridcolor": "#506784",
             "linecolor": "#506784",
             "minorgridcolor": "#506784",
             "startlinecolor": "#A2B1C6"
            },
            "type": "carpet"
           }
          ],
          "choropleth": [
           {
            "colorbar": {
             "outlinewidth": 0,
             "ticks": ""
            },
            "type": "choropleth"
           }
          ],
          "contour": [
           {
            "colorbar": {
             "outlinewidth": 0,
             "ticks": ""
            },
            "colorscale": [
             [
              0,
              "#0d0887"
             ],
             [
              0.1111111111111111,
              "#46039f"
             ],
             [
              0.2222222222222222,
              "#7201a8"
             ],
             [
              0.3333333333333333,
              "#9c179e"
             ],
             [
              0.4444444444444444,
              "#bd3786"
             ],
             [
              0.5555555555555556,
              "#d8576b"
             ],
             [
              0.6666666666666666,
              "#ed7953"
             ],
             [
              0.7777777777777778,
              "#fb9f3a"
             ],
             [
              0.8888888888888888,
              "#fdca26"
             ],
             [
              1,
              "#f0f921"
             ]
            ],
            "type": "contour"
           }
          ],
          "contourcarpet": [
           {
            "colorbar": {
             "outlinewidth": 0,
             "ticks": ""
            },
            "type": "contourcarpet"
           }
          ],
          "heatmap": [
           {
            "colorbar": {
             "outlinewidth": 0,
             "ticks": ""
            },
            "colorscale": [
             [
              0,
              "#0d0887"
             ],
             [
              0.1111111111111111,
              "#46039f"
             ],
             [
              0.2222222222222222,
              "#7201a8"
             ],
             [
              0.3333333333333333,
              "#9c179e"
             ],
             [
              0.4444444444444444,
              "#bd3786"
             ],
             [
              0.5555555555555556,
              "#d8576b"
             ],
             [
              0.6666666666666666,
              "#ed7953"
             ],
             [
              0.7777777777777778,
              "#fb9f3a"
             ],
             [
              0.8888888888888888,
              "#fdca26"
             ],
             [
              1,
              "#f0f921"
             ]
            ],
            "type": "heatmap"
           }
          ],
          "heatmapgl": [
           {
            "colorbar": {
             "outlinewidth": 0,
             "ticks": ""
            },
            "colorscale": [
             [
              0,
              "#0d0887"
             ],
             [
              0.1111111111111111,
              "#46039f"
             ],
             [
              0.2222222222222222,
              "#7201a8"
             ],
             [
              0.3333333333333333,
              "#9c179e"
             ],
             [
              0.4444444444444444,
              "#bd3786"
             ],
             [
              0.5555555555555556,
              "#d8576b"
             ],
             [
              0.6666666666666666,
              "#ed7953"
             ],
             [
              0.7777777777777778,
              "#fb9f3a"
             ],
             [
              0.8888888888888888,
              "#fdca26"
             ],
             [
              1,
              "#f0f921"
             ]
            ],
            "type": "heatmapgl"
           }
          ],
          "histogram": [
           {
            "marker": {
             "pattern": {
              "fillmode": "overlay",
              "size": 10,
              "solidity": 0.2
             }
            },
            "type": "histogram"
           }
          ],
          "histogram2d": [
           {
            "colorbar": {
             "outlinewidth": 0,
             "ticks": ""
            },
            "colorscale": [
             [
              0,
              "#0d0887"
             ],
             [
              0.1111111111111111,
              "#46039f"
             ],
             [
              0.2222222222222222,
              "#7201a8"
             ],
             [
              0.3333333333333333,
              "#9c179e"
             ],
             [
              0.4444444444444444,
              "#bd3786"
             ],
             [
              0.5555555555555556,
              "#d8576b"
             ],
             [
              0.6666666666666666,
              "#ed7953"
             ],
             [
              0.7777777777777778,
              "#fb9f3a"
             ],
             [
              0.8888888888888888,
              "#fdca26"
             ],
             [
              1,
              "#f0f921"
             ]
            ],
            "type": "histogram2d"
           }
          ],
          "histogram2dcontour": [
           {
            "colorbar": {
             "outlinewidth": 0,
             "ticks": ""
            },
            "colorscale": [
             [
              0,
              "#0d0887"
             ],
             [
              0.1111111111111111,
              "#46039f"
             ],
             [
              0.2222222222222222,
              "#7201a8"
             ],
             [
              0.3333333333333333,
              "#9c179e"
             ],
             [
              0.4444444444444444,
              "#bd3786"
             ],
             [
              0.5555555555555556,
              "#d8576b"
             ],
             [
              0.6666666666666666,
              "#ed7953"
             ],
             [
              0.7777777777777778,
              "#fb9f3a"
             ],
             [
              0.8888888888888888,
              "#fdca26"
             ],
             [
              1,
              "#f0f921"
             ]
            ],
            "type": "histogram2dcontour"
           }
          ],
          "mesh3d": [
           {
            "colorbar": {
             "outlinewidth": 0,
             "ticks": ""
            },
            "type": "mesh3d"
           }
          ],
          "parcoords": [
           {
            "line": {
             "colorbar": {
              "outlinewidth": 0,
              "ticks": ""
             }
            },
            "type": "parcoords"
           }
          ],
          "pie": [
           {
            "automargin": true,
            "type": "pie"
           }
          ],
          "scatter": [
           {
            "marker": {
             "line": {
              "color": "#283442"
             }
            },
            "type": "scatter"
           }
          ],
          "scatter3d": [
           {
            "line": {
             "colorbar": {
              "outlinewidth": 0,
              "ticks": ""
             }
            },
            "marker": {
             "colorbar": {
              "outlinewidth": 0,
              "ticks": ""
             }
            },
            "type": "scatter3d"
           }
          ],
          "scattercarpet": [
           {
            "marker": {
             "colorbar": {
              "outlinewidth": 0,
              "ticks": ""
             }
            },
            "type": "scattercarpet"
           }
          ],
          "scattergeo": [
           {
            "marker": {
             "colorbar": {
              "outlinewidth": 0,
              "ticks": ""
             }
            },
            "type": "scattergeo"
           }
          ],
          "scattergl": [
           {
            "marker": {
             "line": {
              "color": "#283442"
             }
            },
            "type": "scattergl"
           }
          ],
          "scattermapbox": [
           {
            "marker": {
             "colorbar": {
              "outlinewidth": 0,
              "ticks": ""
             }
            },
            "type": "scattermapbox"
           }
          ],
          "scatterpolar": [
           {
            "marker": {
             "colorbar": {
              "outlinewidth": 0,
              "ticks": ""
             }
            },
            "type": "scatterpolar"
           }
          ],
          "scatterpolargl": [
           {
            "marker": {
             "colorbar": {
              "outlinewidth": 0,
              "ticks": ""
             }
            },
            "type": "scatterpolargl"
           }
          ],
          "scatterternary": [
           {
            "marker": {
             "colorbar": {
              "outlinewidth": 0,
              "ticks": ""
             }
            },
            "type": "scatterternary"
           }
          ],
          "surface": [
           {
            "colorbar": {
             "outlinewidth": 0,
             "ticks": ""
            },
            "colorscale": [
             [
              0,
              "#0d0887"
             ],
             [
              0.1111111111111111,
              "#46039f"
             ],
             [
              0.2222222222222222,
              "#7201a8"
             ],
             [
              0.3333333333333333,
              "#9c179e"
             ],
             [
              0.4444444444444444,
              "#bd3786"
             ],
             [
              0.5555555555555556,
              "#d8576b"
             ],
             [
              0.6666666666666666,
              "#ed7953"
             ],
             [
              0.7777777777777778,
              "#fb9f3a"
             ],
             [
              0.8888888888888888,
              "#fdca26"
             ],
             [
              1,
              "#f0f921"
             ]
            ],
            "type": "surface"
           }
          ],
          "table": [
           {
            "cells": {
             "fill": {
              "color": "#506784"
             },
             "line": {
              "color": "rgb(17,17,17)"
             }
            },
            "header": {
             "fill": {
              "color": "#2a3f5f"
             },
             "line": {
              "color": "rgb(17,17,17)"
             }
            },
            "type": "table"
           }
          ]
         },
         "layout": {
          "annotationdefaults": {
           "arrowcolor": "#f2f5fa",
           "arrowhead": 0,
           "arrowwidth": 1
          },
          "autotypenumbers": "strict",
          "coloraxis": {
           "colorbar": {
            "outlinewidth": 0,
            "ticks": ""
           }
          },
          "colorscale": {
           "diverging": [
            [
             0,
             "#8e0152"
            ],
            [
             0.1,
             "#c51b7d"
            ],
            [
             0.2,
             "#de77ae"
            ],
            [
             0.3,
             "#f1b6da"
            ],
            [
             0.4,
             "#fde0ef"
            ],
            [
             0.5,
             "#f7f7f7"
            ],
            [
             0.6,
             "#e6f5d0"
            ],
            [
             0.7,
             "#b8e186"
            ],
            [
             0.8,
             "#7fbc41"
            ],
            [
             0.9,
             "#4d9221"
            ],
            [
             1,
             "#276419"
            ]
           ],
           "sequential": [
            [
             0,
             "#0d0887"
            ],
            [
             0.1111111111111111,
             "#46039f"
            ],
            [
             0.2222222222222222,
             "#7201a8"
            ],
            [
             0.3333333333333333,
             "#9c179e"
            ],
            [
             0.4444444444444444,
             "#bd3786"
            ],
            [
             0.5555555555555556,
             "#d8576b"
            ],
            [
             0.6666666666666666,
             "#ed7953"
            ],
            [
             0.7777777777777778,
             "#fb9f3a"
            ],
            [
             0.8888888888888888,
             "#fdca26"
            ],
            [
             1,
             "#f0f921"
            ]
           ],
           "sequentialminus": [
            [
             0,
             "#0d0887"
            ],
            [
             0.1111111111111111,
             "#46039f"
            ],
            [
             0.2222222222222222,
             "#7201a8"
            ],
            [
             0.3333333333333333,
             "#9c179e"
            ],
            [
             0.4444444444444444,
             "#bd3786"
            ],
            [
             0.5555555555555556,
             "#d8576b"
            ],
            [
             0.6666666666666666,
             "#ed7953"
            ],
            [
             0.7777777777777778,
             "#fb9f3a"
            ],
            [
             0.8888888888888888,
             "#fdca26"
            ],
            [
             1,
             "#f0f921"
            ]
           ]
          },
          "colorway": [
           "#636efa",
           "#EF553B",
           "#00cc96",
           "#ab63fa",
           "#FFA15A",
           "#19d3f3",
           "#FF6692",
           "#B6E880",
           "#FF97FF",
           "#FECB52"
          ],
          "font": {
           "color": "#f2f5fa"
          },
          "geo": {
           "bgcolor": "rgb(17,17,17)",
           "lakecolor": "rgb(17,17,17)",
           "landcolor": "rgb(17,17,17)",
           "showlakes": true,
           "showland": true,
           "subunitcolor": "#506784"
          },
          "hoverlabel": {
           "align": "left"
          },
          "hovermode": "closest",
          "mapbox": {
           "style": "dark"
          },
          "paper_bgcolor": "rgb(17,17,17)",
          "plot_bgcolor": "rgb(17,17,17)",
          "polar": {
           "angularaxis": {
            "gridcolor": "#506784",
            "linecolor": "#506784",
            "ticks": ""
           },
           "bgcolor": "rgb(17,17,17)",
           "radialaxis": {
            "gridcolor": "#506784",
            "linecolor": "#506784",
            "ticks": ""
           }
          },
          "scene": {
           "xaxis": {
            "backgroundcolor": "rgb(17,17,17)",
            "gridcolor": "#506784",
            "gridwidth": 2,
            "linecolor": "#506784",
            "showbackground": true,
            "ticks": "",
            "zerolinecolor": "#C8D4E3"
           },
           "yaxis": {
            "backgroundcolor": "rgb(17,17,17)",
            "gridcolor": "#506784",
            "gridwidth": 2,
            "linecolor": "#506784",
            "showbackground": true,
            "ticks": "",
            "zerolinecolor": "#C8D4E3"
           },
           "zaxis": {
            "backgroundcolor": "rgb(17,17,17)",
            "gridcolor": "#506784",
            "gridwidth": 2,
            "linecolor": "#506784",
            "showbackground": true,
            "ticks": "",
            "zerolinecolor": "#C8D4E3"
           }
          },
          "shapedefaults": {
           "line": {
            "color": "#f2f5fa"
           }
          },
          "sliderdefaults": {
           "bgcolor": "#C8D4E3",
           "bordercolor": "rgb(17,17,17)",
           "borderwidth": 1,
           "tickwidth": 0
          },
          "ternary": {
           "aaxis": {
            "gridcolor": "#506784",
            "linecolor": "#506784",
            "ticks": ""
           },
           "baxis": {
            "gridcolor": "#506784",
            "linecolor": "#506784",
            "ticks": ""
           },
           "bgcolor": "rgb(17,17,17)",
           "caxis": {
            "gridcolor": "#506784",
            "linecolor": "#506784",
            "ticks": ""
           }
          },
          "title": {
           "x": 0.05
          },
          "updatemenudefaults": {
           "bgcolor": "#506784",
           "borderwidth": 0
          },
          "xaxis": {
           "automargin": true,
           "gridcolor": "#283442",
           "linecolor": "#506784",
           "ticks": "",
           "title": {
            "standoff": 15
           },
           "zerolinecolor": "#283442",
           "zerolinewidth": 2
          },
          "yaxis": {
           "automargin": true,
           "gridcolor": "#283442",
           "linecolor": "#506784",
           "ticks": "",
           "title": {
            "standoff": 15
           },
           "zerolinecolor": "#283442",
           "zerolinewidth": 2
          }
         }
        },
        "title": {
         "text": "US Primary Education Return on Investment<br><sup><i>States spending more per student from 5th through 8th grade had a negligible relationship with 8th grade reading proficiency.</i></sup>"
        },
        "width": 1000,
        "xaxis": {
         "anchor": "y",
         "domain": [
          0,
          1
         ],
         "showticklabels": false,
         "title": {}
        },
        "yaxis": {
         "anchor": "x",
         "domain": [
          0,
          1
         ],
         "title": {
          "font": {
           "size": 10
          },
          "text": "Per Pupil, 4-Year Expenditure Change Between 2015 and 2019<br>(2020 Dollars)"
         }
        }
       }
      }
     },
     "metadata": {},
     "output_type": "display_data"
    }
   ],
   "source": [
    "def generate_state_investment_and_reading_performance_bar_chart(\n",
    "    column: str, legend_title: str, description: str\n",
    ") -> go.Figure:\n",
    "    return px.bar(\n",
    "        student_investment.join(\n",
    "            reading_performance,\n",
    "            on=\"State Name\"\n",
    "        ).sort(\"Investment Change\"),\n",
    "        x=\"State Name\",\n",
    "        y=\"Investment Change\",\n",
    "        color=column,\n",
    "        title=f\"US Primary Education Return on Investment<br><sup><i>{description}</i></sup>\",\n",
    "        template=\"plotly_dark\",\n",
    "        color_continuous_scale=px.colors.sequential.RdBu,\n",
    "        labels={\n",
    "            \"State Name\": \"State\",\n",
    "            \"Investment Change\": \"4-Year Expenditure Change (2020 Dollars)\",\n",
    "            column: f\"Change in NAEP {legend_title}\",\n",
    "        },\n",
    "        width=1000,\n",
    "        height=600,\n",
    "    ).update_layout(\n",
    "        xaxis=dict(showticklabels=False, title=None),\n",
    "        yaxis_title=\"Per Pupil, 4-Year Expenditure Change Between 2015 and 2019<br>(2020 Dollars)\",\n",
    "        yaxis_title_font_size=10,\n",
    "        coloraxis_colorbar_title=f\"Change in <i>NAEP {legend_title}</i>\",\n",
    "        coloraxis_colorbar_orientation=\"h\",\n",
    "        plot_bgcolor=\"#171717\",\n",
    "        paper_bgcolor=\"#171717\",\n",
    "    ).add_annotation(\n",
    "        x=1.07,\n",
    "        y=-0.15,\n",
    "        xref=\"paper\",\n",
    "        yref=\"paper\",\n",
    "        text=\"<br>\".join(\n",
    "            (\n",
    "                \"Chart by Dominic Tarro | 𝕏 @dominictarro\",\n",
    "                \"Sources: NAEP Reading Assessments (2015, 2019)\",\n",
    "                \"CCD National Public Education Financial Survey (2010-2019)\"\n",
    "            )\n",
    "        ),\n",
    "        align=\"right\",\n",
    "        showarrow=False,\n",
    "        font=dict(\n",
    "            size=10,\n",
    "            color=\"grey\"\n",
    "        ),\n",
    "        opacity=0.7\n",
    "    ).add_annotation(\n",
    "        x=-0.08,\n",
    "        y=-0.15,\n",
    "        xref=\"paper\",\n",
    "        yref=\"paper\",\n",
    "        text=\"<br>\".join(\n",
    "            (\n",
    "                \"The NAEP Reading scale ranges from 0 to 500.\",\n",
    "                \"2020 dollar adjustment for school year expenditures was done with the ending year's inflation rate.\",\n",
    "                \"Data compares differences in scores and spending, by state, between 8th graders in 2015 and 2019.\",\n",
    "                \"<i>Per Pupil, 4-Year Expenditure</i> is an aggregate from 5th-8th grade.\"\n",
    "            )\n",
    "        ),\n",
    "        align=\"left\",\n",
    "        showarrow=False,\n",
    "        font=dict(\n",
    "            size=10,\n",
    "            color=\"grey\"\n",
    "        ),\n",
    "        opacity=0.7\n",
    "    )\n",
    "\n",
    "generate_state_investment_and_reading_performance_bar_chart(\n",
    "    \"Mean Grade 8 Reading Score Change\",\n",
    "    \"Average Reading Score\",\n",
    "    \"States spending more per student from 5th through 8th grade had a negligible relationship with average 8th grade reading performance.\"\n",
    ").show()\n",
    "generate_state_investment_and_reading_performance_bar_chart(\n",
    "    \"At or Above Basic (%) Change\",\n",
    "    \"At or Above Basic</i><br><sup>(% Points)</sup>\",\n",
    "    \"States spending more per student from 5th through 8th grade had a small relationship with basic 8th grade reading performance.\"\n",
    ").show()\n",
    "generate_state_investment_and_reading_performance_bar_chart(\n",
    "    \"At or Above Proficient (%) Change\",\n",
    "    \"At or Above Proficient</i><br><sup>(% Points)</sup>\",\n",
    "    \"States spending more per student from 5th through 8th grade had a negligible relationship with 8th grade reading proficiency.\"\n",
    ").show()"
   ]
  },
  {
   "cell_type": "code",
   "execution_count": 11,
   "metadata": {},
   "outputs": [
    {
     "data": {
      "text/plain": [
       "'$14,141,710,573.34'"
      ]
     },
     "execution_count": 11,
     "metadata": {},
     "output_type": "execute_result"
    }
   ],
   "source": [
    "\"${:,.2f}\".format(\n",
    "    student_investment.join(\n",
    "        df.filter(pl.col(\"SCHOOL_YEAR\") == \"2018-19\").select(\"State Name\", \"Grade 8 Students\"),\n",
    "        on=\"State Name\"\n",
    "    ).with_columns(\n",
    "        (pl.col(\"Investment Change\") * pl.col(\"Grade 8 Students\")).alias(\"Total Investment Change\"),\n",
    "    )[\"Total Investment Change\"].sum()\n",
    ")"
   ]
  },
  {
   "cell_type": "code",
   "execution_count": 12,
   "metadata": {},
   "outputs": [
    {
     "data": {
      "text/plain": [
       "(0.6296296296296297, 2.509433962264151)"
      ]
     },
     "execution_count": 12,
     "metadata": {},
     "output_type": "execute_result"
    }
   ],
   "source": [
    "math_performance[\"Mean Grade 8 Math Score Change\"].mean(), reading_performance[\"Mean Grade 8 Reading Score Change\"].mean()"
   ]
  },
  {
   "cell_type": "code",
   "execution_count": 13,
   "metadata": {},
   "outputs": [
    {
     "data": {
      "text/plain": [
       "(2.3518518518518516, 3.6226415094339623)"
      ]
     },
     "execution_count": 13,
     "metadata": {},
     "output_type": "execute_result"
    }
   ],
   "source": [
    "math_performance[\"At or Above Basic (%) Change\"].mean(), reading_performance[\"At or Above Basic (%) Change\"].mean()"
   ]
  },
  {
   "cell_type": "code",
   "execution_count": 14,
   "metadata": {},
   "outputs": [
    {
     "data": {
      "text/plain": [
       "(-0.32075471698113206, 0.6415094339622641)"
      ]
     },
     "execution_count": 14,
     "metadata": {},
     "output_type": "execute_result"
    }
   ],
   "source": [
    "math_performance[\"At or Above Proficient (%) Change\"].mean(), reading_performance[\"At or Above Proficient (%) Change\"].mean()"
   ]
  }
 ],
 "metadata": {
  "kernelspec": {
   "display_name": "education",
   "language": "python",
   "name": "python3"
  },
  "language_info": {
   "codemirror_mode": {
    "name": "ipython",
    "version": 3
   },
   "file_extension": ".py",
   "mimetype": "text/x-python",
   "name": "python",
   "nbconvert_exporter": "python",
   "pygments_lexer": "ipython3",
   "version": "3.12.4"
  }
 },
 "nbformat": 4,
 "nbformat_minor": 2
}
