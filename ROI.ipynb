{
 "cells": [
  {
   "cell_type": "markdown",
   "metadata": {},
   "source": [
    "https://nces.ed.gov/ccd/elsi/tableGenerator.aspx\n",
    "\n",
    "https://www.usinflationcalculator.com/inflation/current-inflation-rates/\n",
    "https://data.bls.gov/pdq/SurveyOutputServlet"
   ]
  },
  {
   "cell_type": "code",
   "execution_count": 1,
   "metadata": {},
   "outputs": [],
   "source": [
    "from collections import namedtuple\n",
    "\n",
    "import polars as pl\n",
    "import plotly.express as px\n",
    "import plotly.graph_objects as go\n",
    "import statsmodels.regression"
   ]
  },
  {
   "cell_type": "code",
   "execution_count": 2,
   "metadata": {},
   "outputs": [
    {
     "data": {
      "text/html": [
       "<div><style>\n",
       ".dataframe > thead > tr,\n",
       ".dataframe > tbody > tr {\n",
       "  text-align: right;\n",
       "  white-space: pre-wrap;\n",
       "}\n",
       "</style>\n",
       "<small>shape: (408, 24)</small><table border=\"1\" class=\"dataframe\"><thead><tr><th>State Name</th><th>SCHOOL_YEAR</th><th>Grades 1-8 Students</th><th>Grade 8 Students</th><th>Grade 7 Students</th><th>Grade 6 Students</th><th>Grade 5 Students</th><th>Grade 4 Students</th><th>Grade 3 Students</th><th>Grade 2 Students</th><th>Grade 1 Students</th><th>Total Expenditures (TE11+E4D+E7A1)</th><th>Total Revenues (TR) per Pupil (MEMBR)</th><th>Local Revenues (STR1+R2) per Pupil (MEMBR)</th><th>State Revenues (R3) per Pupil (MEMBR)</th><th>Federal Revenues (STR4) per Pupil (MEMBR)</th><th>Total Expenditures (TE11+E4D+E7A1) per Pupil (MEMBR)</th><th>Grades 9-12 Students</th><th>Prekindergarten Students</th><th>Kindergarten Students</th><th>Total Students</th><th>Grades 1-12 Students</th><th>SCHOOL_YEAR_START</th><th>SCHOOL_YEAR_END</th></tr><tr><td>str</td><td>str</td><td>i64</td><td>i64</td><td>i64</td><td>i64</td><td>i64</td><td>i64</td><td>i64</td><td>i64</td><td>i64</td><td>i64</td><td>i64</td><td>i64</td><td>i64</td><td>i64</td><td>i64</td><td>i64</td><td>i64</td><td>i64</td><td>i64</td><td>i64</td><td>i64</td><td>i64</td></tr></thead><tbody><tr><td>&quot;Alabama&quot;</td><td>&quot;2011-12&quot;</td><td>461122</td><td>57919</td><td>59050</td><td>59082</td><td>58415</td><td>56491</td><td>55991</td><td>56315</td><td>57859</td><td>7229298957</td><td>9534</td><td>3125</td><td>5284</td><td>1126</td><td>9709</td><td>217615</td><td>8282</td><td>57602</td><td>744621</td><td>678737</td><td>2011</td><td>2012</td></tr><tr><td>&quot;Alabama&quot;</td><td>&quot;2012-13&quot;</td><td>458974</td><td>58151</td><td>59685</td><td>58240</td><td>56523</td><td>55859</td><td>55868</td><td>56361</td><td>58287</td><td>7438871954</td><td>9653</td><td>3225</td><td>5286</td><td>1142</td><td>9990</td><td>217203</td><td>9032</td><td>59428</td><td>744637</td><td>676177</td><td>2012</td><td>2013</td></tr><tr><td>&quot;Alabama&quot;</td><td>&quot;2013-14&quot;</td><td>458327</td><td>58799</td><td>58455</td><td>56428</td><td>55699</td><td>55719</td><td>56003</td><td>56909</td><td>60315</td><td>7591336635</td><td>9913</td><td>3341</td><td>5448</td><td>1124</td><td>10173</td><td>218705</td><td>9415</td><td>59757</td><td>746204</td><td>677032</td><td>2013</td><td>2014</td></tr><tr><td>&quot;Alabama&quot;</td><td>&quot;2014-15&quot;</td><td>454081</td><td>57471</td><td>56251</td><td>54859</td><td>55265</td><td>55479</td><td>56007</td><td>58370</td><td>60379</td><td>7616860366</td><td>9992</td><td>3321</td><td>5549</td><td>1122</td><td>10235</td><td>221068</td><td>11076</td><td>57939</td><td>744164</td><td>675149</td><td>2014</td><td>2015</td></tr><tr><td>&quot;Alabama&quot;</td><td>&quot;2015-16&quot;</td><td>452764</td><td>55792</td><td>55172</td><td>54900</td><td>55340</td><td>55808</td><td>57963</td><td>58766</td><td>59023</td><td>7856051026</td><td>10200</td><td>3485</td><td>5578</td><td>1138</td><td>10562</td><td>222182</td><td>13230</td><td>55613</td><td>743789</td><td>674946</td><td>2015</td><td>2016</td></tr><tr><td>&hellip;</td><td>&hellip;</td><td>&hellip;</td><td>&hellip;</td><td>&hellip;</td><td>&hellip;</td><td>&hellip;</td><td>&hellip;</td><td>&hellip;</td><td>&hellip;</td><td>&hellip;</td><td>&hellip;</td><td>&hellip;</td><td>&hellip;</td><td>&hellip;</td><td>&hellip;</td><td>&hellip;</td><td>&hellip;</td><td>&hellip;</td><td>&hellip;</td><td>&hellip;</td><td>&hellip;</td><td>&hellip;</td><td>&hellip;</td></tr><tr><td>&quot;Wyoming&quot;</td><td>&quot;2014-15&quot;</td><td>58774</td><td>6927</td><td>6903</td><td>7181</td><td>7076</td><td>7438</td><td>7588</td><td>7835</td><td>7826</td><td>1929789830</td><td>20855</td><td>7697</td><td>11874</td><td>1284</td><td>20515</td><td>26732</td><td>564</td><td>7997</td><td>94067</td><td>85506</td><td>2014</td><td>2015</td></tr><tr><td>&quot;Wyoming&quot;</td><td>&quot;2015-16&quot;</td><td>59453</td><td>6902</td><td>7191</td><td>7155</td><td>7451</td><td>7551</td><td>7839</td><td>7704</td><td>7660</td><td>2020050580</td><td>21569</td><td>7851</td><td>12414</td><td>1305</td><td>21327</td><td>26914</td><td>509</td><td>7841</td><td>94717</td><td>86367</td><td>2015</td><td>2016</td></tr><tr><td>&quot;Wyoming&quot;</td><td>&quot;2016-17&quot;</td><td>58998</td><td>7135</td><td>7071</td><td>7352</td><td>7452</td><td>7642</td><td>7616</td><td>7422</td><td>7308</td><td>1913258414</td><td>20508</td><td>7128</td><td>12122</td><td>1258</td><td>20317</td><td>26924</td><td>664</td><td>7584</td><td>94170</td><td>85922</td><td>2016</td><td>2017</td></tr><tr><td>&quot;Wyoming&quot;</td><td>&quot;2017-18&quot;</td><td>58757</td><td>7086</td><td>7373</td><td>7449</td><td>7604</td><td>7537</td><td>7411</td><td>7179</td><td>7118</td><td>1729104112</td><td>19320</td><td>7102</td><td>10983</td><td>1236</td><td>18344</td><td>27361</td><td>671</td><td>7469</td><td>94258</td><td>86118</td><td>2017</td><td>2018</td></tr><tr><td>&quot;Wyoming&quot;</td><td>&quot;2018-19&quot;</td><td>58693</td><td>7419</td><td>7506</td><td>7654</td><td>7534</td><td>7381</td><td>7192</td><td>7001</td><td>7006</td><td>1718339215</td><td>19147</td><td>7516</td><td>10227</td><td>1405</td><td>18220</td><td>27451</td><td>705</td><td>7464</td><td>94313</td><td>86144</td><td>2018</td><td>2019</td></tr></tbody></table></div>"
      ],
      "text/plain": [
       "shape: (408, 24)\n",
       "┌───────────┬───────────┬───────────┬───────────┬───┬───────────┬───────────┬───────────┬──────────┐\n",
       "│ State     ┆ SCHOOL_YE ┆ Grades    ┆ Grade 8   ┆ … ┆ Total     ┆ Grades    ┆ SCHOOL_YE ┆ SCHOOL_Y │\n",
       "│ Name      ┆ AR        ┆ 1-8       ┆ Students  ┆   ┆ Students  ┆ 1-12      ┆ AR_START  ┆ EAR_END  │\n",
       "│ ---       ┆ ---       ┆ Students  ┆ ---       ┆   ┆ ---       ┆ Students  ┆ ---       ┆ ---      │\n",
       "│ str       ┆ str       ┆ ---       ┆ i64       ┆   ┆ i64       ┆ ---       ┆ i64       ┆ i64      │\n",
       "│           ┆           ┆ i64       ┆           ┆   ┆           ┆ i64       ┆           ┆          │\n",
       "╞═══════════╪═══════════╪═══════════╪═══════════╪═══╪═══════════╪═══════════╪═══════════╪══════════╡\n",
       "│ Alabama   ┆ 2011-12   ┆ 461122    ┆ 57919     ┆ … ┆ 744621    ┆ 678737    ┆ 2011      ┆ 2012     │\n",
       "│ Alabama   ┆ 2012-13   ┆ 458974    ┆ 58151     ┆ … ┆ 744637    ┆ 676177    ┆ 2012      ┆ 2013     │\n",
       "│ Alabama   ┆ 2013-14   ┆ 458327    ┆ 58799     ┆ … ┆ 746204    ┆ 677032    ┆ 2013      ┆ 2014     │\n",
       "│ Alabama   ┆ 2014-15   ┆ 454081    ┆ 57471     ┆ … ┆ 744164    ┆ 675149    ┆ 2014      ┆ 2015     │\n",
       "│ Alabama   ┆ 2015-16   ┆ 452764    ┆ 55792     ┆ … ┆ 743789    ┆ 674946    ┆ 2015      ┆ 2016     │\n",
       "│ …         ┆ …         ┆ …         ┆ …         ┆ … ┆ …         ┆ …         ┆ …         ┆ …        │\n",
       "│ Wyoming   ┆ 2014-15   ┆ 58774     ┆ 6927      ┆ … ┆ 94067     ┆ 85506     ┆ 2014      ┆ 2015     │\n",
       "│ Wyoming   ┆ 2015-16   ┆ 59453     ┆ 6902      ┆ … ┆ 94717     ┆ 86367     ┆ 2015      ┆ 2016     │\n",
       "│ Wyoming   ┆ 2016-17   ┆ 58998     ┆ 7135      ┆ … ┆ 94170     ┆ 85922     ┆ 2016      ┆ 2017     │\n",
       "│ Wyoming   ┆ 2017-18   ┆ 58757     ┆ 7086      ┆ … ┆ 94258     ┆ 86118     ┆ 2017      ┆ 2018     │\n",
       "│ Wyoming   ┆ 2018-19   ┆ 58693     ┆ 7419      ┆ … ┆ 94313     ┆ 86144     ┆ 2018      ┆ 2019     │\n",
       "└───────────┴───────────┴───────────┴───────────┴───┴───────────┴───────────┴───────────┴──────────┘"
      ]
     },
     "execution_count": 2,
     "metadata": {},
     "output_type": "execute_result"
    }
   ],
   "source": [
    "df = pl.read_csv(\n",
    "    \"./data/nces/geo/ELSI/state/ELSI_csv_export_6385899184786235507585.csv\",\n",
    "    skip_rows=6,\n",
    "    n_rows=51\n",
    ").drop(\"State Name [State] 2018-19\").with_columns(\n",
    "    pl.col(\"State Name\").str.to_titlecase()\n",
    ")\n",
    "df = df.unpivot(\n",
    "    on=df.columns[1:],\n",
    "    index=\"State Name\",\n",
    "    variable_name=\"VARIABLE\",\n",
    "    value_name=\"VALUE\"\n",
    ").with_columns(\n",
    "    SCHOOL_YEAR=pl.col(\"VARIABLE\").str.extract(r\"(\\d{4}\\-\\d{2})$\"),\n",
    "    VARIABLE=pl.col(\"VARIABLE\").str.replace(r\" \\[(State( Finance)?)\\] (\\d{4}\\-\\d{2})$\", \"\"),\n",
    "    VALUE=pl.col(\"VALUE\").replace(chr(8211), None).str.to_integer(),\n",
    ").pivot(\n",
    "    on=\"VARIABLE\",\n",
    "    index=[\"State Name\", \"SCHOOL_YEAR\"],\n",
    "    values=\"VALUE\",\n",
    "    aggregate_function=\"first\"\n",
    ").with_columns(\n",
    "    pl.sum_horizontal(\"Kindergarten Students\", \"Prekindergarten Students\", \"Grades 1-8 Students\", \"Grades 9-12 Students\").alias(\"Total Students\"),\n",
    "    pl.sum_horizontal(\"Grades 1-8 Students\", \"Grades 9-12 Students\").alias(\"Grades 1-12 Students\")\n",
    ").sort(\"State Name\", \"SCHOOL_YEAR\").with_columns(\n",
    "    pl.col(\"SCHOOL_YEAR\").str.extract(r\"^(\\d{4})\").str.to_integer().alias(\"SCHOOL_YEAR_START\"),\n",
    "    pl.col(\"SCHOOL_YEAR\").str.extract(r\"\\-(\\d{2})$\").str.to_integer().add(2000).alias(\"SCHOOL_YEAR_END\")\n",
    ")\n",
    "df"
   ]
  },
  {
   "cell_type": "code",
   "execution_count": 3,
   "metadata": {},
   "outputs": [
    {
     "data": {
      "text/html": [
       "<div><style>\n",
       ".dataframe > thead > tr,\n",
       ".dataframe > tbody > tr {\n",
       "  text-align: right;\n",
       "  white-space: pre-wrap;\n",
       "}\n",
       "</style>\n",
       "<small>shape: (14, 18)</small><table border=\"1\" class=\"dataframe\"><thead><tr><th>Year</th><th>Jan</th><th>Feb</th><th>Mar</th><th>Apr</th><th>May</th><th>Jun</th><th>Jul</th><th>Aug</th><th>Sep</th><th>Oct</th><th>Nov</th><th>Dec</th><th>Annual</th><th>HALF1</th><th>HALF2</th><th>HALF1 (Next Year)</th><th>Current to 2024 Dollar Conversion Rate</th></tr><tr><td>i64</td><td>f64</td><td>f64</td><td>f64</td><td>f64</td><td>f64</td><td>f64</td><td>f64</td><td>f64</td><td>f64</td><td>f64</td><td>f64</td><td>f64</td><td>f64</td><td>f64</td><td>f64</td><td>f64</td><td>f64</td></tr></thead><tbody><tr><td>2010</td><td>1.6</td><td>1.3</td><td>1.1</td><td>0.9</td><td>0.9</td><td>0.9</td><td>0.9</td><td>0.9</td><td>0.8</td><td>0.6</td><td>0.8</td><td>0.8</td><td>1.0</td><td>1.1</td><td>0.8</td><td>1.3</td><td>1.436149</td></tr><tr><td>2011</td><td>1.0</td><td>1.1</td><td>1.2</td><td>1.3</td><td>1.5</td><td>1.6</td><td>1.8</td><td>2.0</td><td>2.0</td><td>2.1</td><td>2.2</td><td>2.2</td><td>1.7</td><td>1.3</td><td>2.0</td><td>2.2</td><td>1.417718</td></tr><tr><td>2012</td><td>2.3</td><td>2.2</td><td>2.3</td><td>2.3</td><td>2.3</td><td>2.2</td><td>2.1</td><td>1.9</td><td>2.0</td><td>2.0</td><td>1.9</td><td>1.9</td><td>2.1</td><td>2.2</td><td>2.0</td><td>1.8</td><td>1.3872</td></tr><tr><td>2013</td><td>1.9</td><td>2.0</td><td>1.9</td><td>1.7</td><td>1.7</td><td>1.6</td><td>1.7</td><td>1.8</td><td>1.7</td><td>1.7</td><td>1.7</td><td>1.7</td><td>1.8</td><td>1.8</td><td>1.7</td><td>1.8</td><td>1.362672</td></tr><tr><td>2014</td><td>1.6</td><td>1.6</td><td>1.7</td><td>1.8</td><td>2.0</td><td>1.9</td><td>1.9</td><td>1.7</td><td>1.7</td><td>1.8</td><td>1.7</td><td>1.6</td><td>1.7</td><td>1.8</td><td>1.7</td><td>1.7</td><td>1.338578</td></tr><tr><td>&hellip;</td><td>&hellip;</td><td>&hellip;</td><td>&hellip;</td><td>&hellip;</td><td>&hellip;</td><td>&hellip;</td><td>&hellip;</td><td>&hellip;</td><td>&hellip;</td><td>&hellip;</td><td>&hellip;</td><td>&hellip;</td><td>&hellip;</td><td>&hellip;</td><td>&hellip;</td><td>&hellip;</td><td>&hellip;</td></tr><tr><td>2019</td><td>2.2</td><td>2.1</td><td>2.0</td><td>2.1</td><td>2.0</td><td>2.1</td><td>2.2</td><td>2.4</td><td>2.4</td><td>2.3</td><td>2.3</td><td>2.3</td><td>2.2</td><td>2.1</td><td>2.3</td><td>1.8</td><td>1.211212</td></tr><tr><td>2020</td><td>2.3</td><td>2.4</td><td>2.1</td><td>1.4</td><td>1.2</td><td>1.2</td><td>1.6</td><td>1.7</td><td>1.7</td><td>1.6</td><td>1.6</td><td>1.6</td><td>1.7</td><td>1.8</td><td>1.6</td><td>2.6</td><td>1.189795</td></tr><tr><td>2021</td><td>1.4</td><td>1.3</td><td>1.6</td><td>3.0</td><td>3.8</td><td>4.5</td><td>4.3</td><td>4.0</td><td>4.0</td><td>4.6</td><td>4.9</td><td>5.5</td><td>3.6</td><td>2.6</td><td>4.5</td><td>6.2</td><td>1.159645</td></tr><tr><td>2022</td><td>6.0</td><td>6.4</td><td>6.5</td><td>6.2</td><td>6.0</td><td>5.9</td><td>5.9</td><td>6.3</td><td>6.6</td><td>6.3</td><td>6.0</td><td>5.7</td><td>6.2</td><td>6.2</td><td>6.1</td><td>5.4</td><td>1.091944</td></tr><tr><td>2023</td><td>5.6</td><td>5.5</td><td>5.6</td><td>5.5</td><td>5.3</td><td>4.8</td><td>4.7</td><td>4.3</td><td>4.1</td><td>4.0</td><td>4.0</td><td>3.9</td><td>4.8</td><td>5.4</td><td>4.2</td><td>3.6</td><td>1.036</td></tr></tbody></table></div>"
      ],
      "text/plain": [
       "shape: (14, 18)\n",
       "┌──────┬─────┬─────┬─────┬───┬───────┬───────┬───────────────────┬─────────────────────────────────┐\n",
       "│ Year ┆ Jan ┆ Feb ┆ Mar ┆ … ┆ HALF1 ┆ HALF2 ┆ HALF1 (Next Year) ┆ Current to 2024 Dollar Convers… │\n",
       "│ ---  ┆ --- ┆ --- ┆ --- ┆   ┆ ---   ┆ ---   ┆ ---               ┆ ---                             │\n",
       "│ i64  ┆ f64 ┆ f64 ┆ f64 ┆   ┆ f64   ┆ f64   ┆ f64               ┆ f64                             │\n",
       "╞══════╪═════╪═════╪═════╪═══╪═══════╪═══════╪═══════════════════╪═════════════════════════════════╡\n",
       "│ 2010 ┆ 1.6 ┆ 1.3 ┆ 1.1 ┆ … ┆ 1.1   ┆ 0.8   ┆ 1.3               ┆ 1.436149                        │\n",
       "│ 2011 ┆ 1.0 ┆ 1.1 ┆ 1.2 ┆ … ┆ 1.3   ┆ 2.0   ┆ 2.2               ┆ 1.417718                        │\n",
       "│ 2012 ┆ 2.3 ┆ 2.2 ┆ 2.3 ┆ … ┆ 2.2   ┆ 2.0   ┆ 1.8               ┆ 1.3872                          │\n",
       "│ 2013 ┆ 1.9 ┆ 2.0 ┆ 1.9 ┆ … ┆ 1.8   ┆ 1.7   ┆ 1.8               ┆ 1.362672                        │\n",
       "│ 2014 ┆ 1.6 ┆ 1.6 ┆ 1.7 ┆ … ┆ 1.8   ┆ 1.7   ┆ 1.7               ┆ 1.338578                        │\n",
       "│ …    ┆ …   ┆ …   ┆ …   ┆ … ┆ …     ┆ …     ┆ …                 ┆ …                               │\n",
       "│ 2019 ┆ 2.2 ┆ 2.1 ┆ 2.0 ┆ … ┆ 2.1   ┆ 2.3   ┆ 1.8               ┆ 1.211212                        │\n",
       "│ 2020 ┆ 2.3 ┆ 2.4 ┆ 2.1 ┆ … ┆ 1.8   ┆ 1.6   ┆ 2.6               ┆ 1.189795                        │\n",
       "│ 2021 ┆ 1.4 ┆ 1.3 ┆ 1.6 ┆ … ┆ 2.6   ┆ 4.5   ┆ 6.2               ┆ 1.159645                        │\n",
       "│ 2022 ┆ 6.0 ┆ 6.4 ┆ 6.5 ┆ … ┆ 6.2   ┆ 6.1   ┆ 5.4               ┆ 1.091944                        │\n",
       "│ 2023 ┆ 5.6 ┆ 5.5 ┆ 5.6 ┆ … ┆ 5.4   ┆ 4.2   ┆ 3.6               ┆ 1.036                           │\n",
       "└──────┴─────┴─────┴─────┴───┴───────┴───────┴───────────────────┴─────────────────────────────────┘"
      ]
     },
     "execution_count": 3,
     "metadata": {},
     "output_type": "execute_result"
    }
   ],
   "source": [
    "inflation = pl.read_excel(\n",
    "    \"./data/bls/inflation/SeriesReport-20240811173715_e1eda9.xlsx\",\n",
    "    read_options=dict(header_row=11),\n",
    ")\n",
    "inflation = inflation.with_columns(\n",
    "    pl.col(\"HALF1\").shift(-1).alias(\"HALF1 (Next Year)\")\n",
    ").filter(pl.col(\"Year\") < 2024).sort(\"Year\", descending=True).with_columns(\n",
    "    (1 + pl.col(\"HALF1 (Next Year)\") / 100).cum_prod().alias(\"Current to 2024 Dollar Conversion Rate\")\n",
    ").sort(\"Year\")\n",
    "inflation"
   ]
  },
  {
   "cell_type": "code",
   "execution_count": 4,
   "metadata": {},
   "outputs": [
    {
     "data": {
      "text/html": [
       "<div><style>\n",
       ".dataframe > thead > tr,\n",
       ".dataframe > tbody > tr {\n",
       "  text-align: right;\n",
       "  white-space: pre-wrap;\n",
       "}\n",
       "</style>\n",
       "<small>shape: (51, 4)</small><table border=\"1\" class=\"dataframe\"><thead><tr><th>State Name</th><th>2014-15</th><th>2018-19</th><th>Investment Change</th></tr><tr><td>str</td><td>f64</td><td>f64</td><td>f64</td></tr></thead><tbody><tr><td>&quot;Alaska&quot;</td><td>112089.426043</td><td>97380.968735</td><td>-14708.457307</td></tr><tr><td>&quot;Wyoming&quot;</td><td>103168.939805</td><td>97872.292291</td><td>-5296.647514</td></tr><tr><td>&quot;Louisiana&quot;</td><td>65353.876714</td><td>62797.163784</td><td>-2556.71293</td></tr><tr><td>&quot;West Virginia&quot;</td><td>66193.735749</td><td>63698.943066</td><td>-2494.792684</td></tr><tr><td>&quot;Arkansas&quot;</td><td>59785.216991</td><td>58313.792864</td><td>-1471.424127</td></tr><tr><td>&hellip;</td><td>&hellip;</td><td>&hellip;</td><td>&hellip;</td></tr><tr><td>&quot;Hawaii&quot;</td><td>71789.843657</td><td>81138.560954</td><td>9348.717297</td></tr><tr><td>&quot;New York&quot;</td><td>118465.234651</td><td>128174.444009</td><td>9709.209358</td></tr><tr><td>&quot;Oregon&quot;</td><td>59834.132795</td><td>70567.546915</td><td>10733.41412</td></tr><tr><td>&quot;California&quot;</td><td>60510.288472</td><td>72236.325703</td><td>11726.037231</td></tr><tr><td>&quot;Washington&quot;</td><td>64487.264686</td><td>78433.879056</td><td>13946.61437</td></tr></tbody></table></div>"
      ],
      "text/plain": [
       "shape: (51, 4)\n",
       "┌───────────────┬───────────────┬───────────────┬───────────────────┐\n",
       "│ State Name    ┆ 2014-15       ┆ 2018-19       ┆ Investment Change │\n",
       "│ ---           ┆ ---           ┆ ---           ┆ ---               │\n",
       "│ str           ┆ f64           ┆ f64           ┆ f64               │\n",
       "╞═══════════════╪═══════════════╪═══════════════╪═══════════════════╡\n",
       "│ Alaska        ┆ 112089.426043 ┆ 97380.968735  ┆ -14708.457307     │\n",
       "│ Wyoming       ┆ 103168.939805 ┆ 97872.292291  ┆ -5296.647514      │\n",
       "│ Louisiana     ┆ 65353.876714  ┆ 62797.163784  ┆ -2556.71293       │\n",
       "│ West Virginia ┆ 66193.735749  ┆ 63698.943066  ┆ -2494.792684      │\n",
       "│ Arkansas      ┆ 59785.216991  ┆ 58313.792864  ┆ -1471.424127      │\n",
       "│ …             ┆ …             ┆ …             ┆ …                 │\n",
       "│ Hawaii        ┆ 71789.843657  ┆ 81138.560954  ┆ 9348.717297       │\n",
       "│ New York      ┆ 118465.234651 ┆ 128174.444009 ┆ 9709.209358       │\n",
       "│ Oregon        ┆ 59834.132795  ┆ 70567.546915  ┆ 10733.41412       │\n",
       "│ California    ┆ 60510.288472  ┆ 72236.325703  ┆ 11726.037231      │\n",
       "│ Washington    ┆ 64487.264686  ┆ 78433.879056  ┆ 13946.61437       │\n",
       "└───────────────┴───────────────┴───────────────┴───────────────────┘"
      ]
     },
     "execution_count": 4,
     "metadata": {},
     "output_type": "execute_result"
    }
   ],
   "source": [
    "student_investment = df.join(\n",
    "    inflation.select(\"Year\", \"Current to 2024 Dollar Conversion Rate\"),\n",
    "    left_on=\"SCHOOL_YEAR_END\",\n",
    "    right_on=\"Year\",\n",
    ").with_columns(\n",
    "    (\n",
    "        pl.col(\"Total Expenditures (TE11+E4D+E7A1) per Pupil (MEMBR)\")\n",
    "        * pl.col(\"Current to 2024 Dollar Conversion Rate\")\n",
    "    ).alias(\"Total Expenditures (TE11+E4D+E7A1) per Pupil (MEMBR) (2024 Dollars)\")\n",
    ").with_columns(\n",
    "    pl.col(\"Total Expenditures (TE11+E4D+E7A1) per Pupil (MEMBR) (2024 Dollars)\")\n",
    "    .rolling_sum(4)\n",
    "    .over(\"State Name\")\n",
    "    .alias(\"Total Expenditures (TE11+E4D+E7A1) per Graduating Pupil (MEMBR) (4-Year Rolling Sum) (2024 Dollars)\"),\n",
    ").select(\n",
    "    [\n",
    "        \"State Name\",\n",
    "        \"SCHOOL_YEAR\",\n",
    "        \"Total Expenditures (TE11+E4D+E7A1) per Graduating Pupil (MEMBR) (4-Year Rolling Sum) (2024 Dollars)\"\n",
    "    ]\n",
    ").filter(\n",
    "    pl.col(\"SCHOOL_YEAR\").is_in([\"2014-15\", \"2018-19\"])\n",
    ").pivot(\n",
    "    on=\"SCHOOL_YEAR\",\n",
    "    index=\"State Name\",\n",
    "    values=\"Total Expenditures (TE11+E4D+E7A1) per Graduating Pupil (MEMBR) (4-Year Rolling Sum) (2024 Dollars)\",\n",
    ").with_columns(\n",
    "    (pl.col(\"2018-19\") - pl.col(\"2014-15\")).alias(\"Investment Change\")\n",
    ").sort(\"Investment Change\")\n",
    "student_investment"
   ]
  },
  {
   "cell_type": "code",
   "execution_count": 5,
   "metadata": {},
   "outputs": [
    {
     "data": {
      "text/html": [
       "<div><style>\n",
       ".dataframe > thead > tr,\n",
       ".dataframe > tbody > tr {\n",
       "  text-align: right;\n",
       "  white-space: pre-wrap;\n",
       "}\n",
       "</style>\n",
       "<small>shape: (54, 4)</small><table border=\"1\" class=\"dataframe\"><thead><tr><th>State Name</th><th>Mean Grade 8 Math Score Change</th><th>At or Above Basic (%) Change</th><th>At or Above Proficient (%) Change</th></tr><tr><td>str</td><td>i64</td><td>i64</td><td>i64</td></tr></thead><tbody><tr><td>&quot;District of Columbia&quot;</td><td>-6</td><td>-4</td><td>-4</td></tr><tr><td>&quot;Florida&quot;</td><td>-4</td><td>-2</td><td>-5</td></tr><tr><td>&quot;Louisiana&quot;</td><td>-4</td><td>-4</td><td>-5</td></tr><tr><td>&quot;North Carolina&quot;</td><td>-3</td><td>-2</td><td>-4</td></tr><tr><td>&quot;Mississippi&quot;</td><td>-3</td><td>-2</td><td>-2</td></tr><tr><td>&hellip;</td><td>&hellip;</td><td>&hellip;</td><td>&hellip;</td></tr><tr><td>&quot;Texas&quot;</td><td>4</td><td>7</td><td>2</td></tr><tr><td>&quot;Hawaii&quot;</td><td>4</td><td>5</td><td>2</td></tr><tr><td>&quot;Rhode Island&quot;</td><td>5</td><td>8</td><td>3</td></tr><tr><td>&quot;Alaska&quot;</td><td>6</td><td>8</td><td>3</td></tr><tr><td>&quot;New Hampshire&quot;</td><td>7</td><td>7</td><td>8</td></tr></tbody></table></div>"
      ],
      "text/plain": [
       "shape: (54, 4)\n",
       "┌──────────────────────┬───────────────────┬───────────────────────┬────────────────────────────┐\n",
       "│ State Name           ┆ Mean Grade 8 Math ┆ At or Above Basic (%) ┆ At or Above Proficient (%) │\n",
       "│ ---                  ┆ Score Change      ┆ Change                ┆ Cha…                       │\n",
       "│ str                  ┆ ---               ┆ ---                   ┆ ---                        │\n",
       "│                      ┆ i64               ┆ i64                   ┆ i64                        │\n",
       "╞══════════════════════╪═══════════════════╪═══════════════════════╪════════════════════════════╡\n",
       "│ District of Columbia ┆ -6                ┆ -4                    ┆ -4                         │\n",
       "│ Florida              ┆ -4                ┆ -2                    ┆ -5                         │\n",
       "│ Louisiana            ┆ -4                ┆ -4                    ┆ -5                         │\n",
       "│ North Carolina       ┆ -3                ┆ -2                    ┆ -4                         │\n",
       "│ Mississippi          ┆ -3                ┆ -2                    ┆ -2                         │\n",
       "│ …                    ┆ …                 ┆ …                     ┆ …                          │\n",
       "│ Texas                ┆ 4                 ┆ 7                     ┆ 2                          │\n",
       "│ Hawaii               ┆ 4                 ┆ 5                     ┆ 2                          │\n",
       "│ Rhode Island         ┆ 5                 ┆ 8                     ┆ 3                          │\n",
       "│ Alaska               ┆ 6                 ┆ 8                     ┆ 3                          │\n",
       "│ New Hampshire        ┆ 7                 ┆ 7                     ┆ 8                          │\n",
       "└──────────────────────┴───────────────────┴───────────────────────┴────────────────────────────┘"
      ]
     },
     "execution_count": 5,
     "metadata": {},
     "output_type": "execute_result"
    }
   ],
   "source": [
    "math_performance = pl.concat(\n",
    "    [\n",
    "        pl.read_csv(\n",
    "            \"data/nces/geo/nations-report-card/2019/state_grade-8_math_SPCsv202408081556.csv\",\n",
    "            columns=[\"Jurisdiction\", \"MN\", \"AB\", \"AP\"],\n",
    "        ).with_columns(\n",
    "            pl.lit(2015).alias(\"Graduating Year\")\n",
    "        ),\n",
    "        pl.read_csv(\n",
    "            \"data/nces/geo/nations-report-card/2015/state_grade-8_math_SPCsv202408081407.csv\",\n",
    "            columns=[\"Jurisdiction\", \"MN\", \"AB\", \"AP\"],\n",
    "        ).with_columns(\n",
    "            pl.lit(2019).alias(\"Graduating Year\"),\n",
    "            pl.col(\"AP\").replace(\"#\", None).str.to_integer()\n",
    "        ),\n",
    "    ]\n",
    ").rename(\n",
    "    {\n",
    "        \"Jurisdiction\": \"State Name\",\n",
    "        \"MN\": \"Mean Grade 8 Math Score\",\n",
    "        \"AB\": \"At or Above Basic (%)\",\n",
    "        \"AP\": \"At or Above Proficient (%)\",\n",
    "    }\n",
    ").pivot(\n",
    "    on=\"Graduating Year\",\n",
    "    index=\"State Name\",\n",
    "    values=[\"Mean Grade 8 Math Score\", \"At or Above Basic (%)\", \"At or Above Proficient (%)\"],\n",
    ").with_columns(\n",
    "    (pl.col(\"Mean Grade 8 Math Score_2019\") - pl.col(\"Mean Grade 8 Math Score_2015\")).alias(\"Mean Grade 8 Math Score Change\"),\n",
    "    (pl.col(\"At or Above Basic (%)_2019\") - pl.col(\"At or Above Basic (%)_2015\")).alias(\"At or Above Basic (%) Change\"),\n",
    "    (pl.col(\"At or Above Proficient (%)_2019\") - pl.col(\"At or Above Proficient (%)_2015\")).alias(\"At or Above Proficient (%) Change\"),\n",
    ").select(\n",
    "    \"State Name\",\n",
    "    \"Mean Grade 8 Math Score Change\",\n",
    "    \"At or Above Basic (%) Change\",\n",
    "    \"At or Above Proficient (%) Change\",\n",
    ").sort(\"Mean Grade 8 Math Score Change\")\n",
    "\n",
    "math_performance"
   ]
  },
  {
   "cell_type": "code",
   "execution_count": 6,
   "metadata": {},
   "outputs": [],
   "source": [
    "Result = namedtuple(\"CorrelationResult\", [\"result\", \"r_squared\", \"p_value\", \"coef\"])\n",
    "\n",
    "def correlate(df: pl.DataFrame, x: str, y: str, show_summary: bool = True) -> Result:\n",
    "    \"\"\"Return the OLS Adjusted R-squared and p-value of the model.\"\"\"\n",
    "    result = statsmodels.regression.linear_model.OLS(\n",
    "        endog=df[y].to_list(),\n",
    "        exog=df[x].to_list(),\n",
    "    ).fit()\n",
    "    if show_summary:\n",
    "        display(result.summary())\n",
    "    return Result(\n",
    "        result=result,\n",
    "        r_squared=float(result.rsquared_adj),\n",
    "        p_value=float(result.pvalues[0]),\n",
    "        coef=float(result.params[0]),\n",
    "    )"
   ]
  },
  {
   "cell_type": "code",
   "execution_count": 7,
   "metadata": {},
   "outputs": [],
   "source": [
    "# correlate(df, \"Investment Change\", \"Mean Grade 8 Math Score Change\")"
   ]
  },
  {
   "cell_type": "code",
   "execution_count": 8,
   "metadata": {},
   "outputs": [
    {
     "data": {
      "text/html": [
       "<table class=\"simpletable\">\n",
       "<caption>OLS Regression Results</caption>\n",
       "<tr>\n",
       "  <th>Dep. Variable:</th>            <td>y</td>        <th>  R-squared (uncentered):</th>      <td>   0.107</td>\n",
       "</tr>\n",
       "<tr>\n",
       "  <th>Model:</th>                   <td>OLS</td>       <th>  Adj. R-squared (uncentered):</th> <td>   0.088</td>\n",
       "</tr>\n",
       "<tr>\n",
       "  <th>Method:</th>             <td>Least Squares</td>  <th>  F-statistic:       </th>          <td>   5.724</td>\n",
       "</tr>\n",
       "<tr>\n",
       "  <th>Date:</th>             <td>Sat, 28 Sep 2024</td> <th>  Prob (F-statistic):</th>           <td>0.0207</td> \n",
       "</tr>\n",
       "<tr>\n",
       "  <th>Time:</th>                 <td>20:09:27</td>     <th>  Log-Likelihood:    </th>          <td> -111.57</td>\n",
       "</tr>\n",
       "<tr>\n",
       "  <th>No. Observations:</th>      <td>    49</td>      <th>  AIC:               </th>          <td>   225.1</td>\n",
       "</tr>\n",
       "<tr>\n",
       "  <th>Df Residuals:</th>          <td>    48</td>      <th>  BIC:               </th>          <td>   227.0</td>\n",
       "</tr>\n",
       "<tr>\n",
       "  <th>Df Model:</th>              <td>     1</td>      <th>                     </th>              <td> </td>   \n",
       "</tr>\n",
       "<tr>\n",
       "  <th>Covariance Type:</th>      <td>nonrobust</td>    <th>                     </th>              <td> </td>   \n",
       "</tr>\n",
       "</table>\n",
       "<table class=\"simpletable\">\n",
       "<tr>\n",
       "   <td></td>     <th>coef</th>     <th>std err</th>      <th>t</th>      <th>P>|t|</th>  <th>[0.025</th>    <th>0.975]</th>  \n",
       "</tr>\n",
       "<tr>\n",
       "  <th>x1</th> <td>    0.0002</td> <td> 7.14e-05</td> <td>    2.393</td> <td> 0.021</td> <td> 2.73e-05</td> <td>    0.000</td>\n",
       "</tr>\n",
       "</table>\n",
       "<table class=\"simpletable\">\n",
       "<tr>\n",
       "  <th>Omnibus:</th>       <td> 1.229</td> <th>  Durbin-Watson:     </th> <td>   2.166</td>\n",
       "</tr>\n",
       "<tr>\n",
       "  <th>Prob(Omnibus):</th> <td> 0.541</td> <th>  Jarque-Bera (JB):  </th> <td>   1.059</td>\n",
       "</tr>\n",
       "<tr>\n",
       "  <th>Skew:</th>          <td> 0.150</td> <th>  Prob(JB):          </th> <td>   0.589</td>\n",
       "</tr>\n",
       "<tr>\n",
       "  <th>Kurtosis:</th>      <td> 2.345</td> <th>  Cond. No.          </th> <td>    1.00</td>\n",
       "</tr>\n",
       "</table><br/><br/>Notes:<br/>[1] R² is computed without centering (uncentered) since the model does not contain a constant.<br/>[2] Standard Errors assume that the covariance matrix of the errors is correctly specified."
      ],
      "text/latex": [
       "\\begin{center}\n",
       "\\begin{tabular}{lclc}\n",
       "\\toprule\n",
       "\\textbf{Dep. Variable:}    &        y         & \\textbf{  R-squared (uncentered):}      &     0.107   \\\\\n",
       "\\textbf{Model:}            &       OLS        & \\textbf{  Adj. R-squared (uncentered):} &     0.088   \\\\\n",
       "\\textbf{Method:}           &  Least Squares   & \\textbf{  F-statistic:       }          &     5.724   \\\\\n",
       "\\textbf{Date:}             & Sat, 28 Sep 2024 & \\textbf{  Prob (F-statistic):}          &   0.0207    \\\\\n",
       "\\textbf{Time:}             &     20:09:27     & \\textbf{  Log-Likelihood:    }          &   -111.57   \\\\\n",
       "\\textbf{No. Observations:} &          49      & \\textbf{  AIC:               }          &     225.1   \\\\\n",
       "\\textbf{Df Residuals:}     &          48      & \\textbf{  BIC:               }          &     227.0   \\\\\n",
       "\\textbf{Df Model:}         &           1      & \\textbf{                     }          &             \\\\\n",
       "\\textbf{Covariance Type:}  &    nonrobust     & \\textbf{                     }          &             \\\\\n",
       "\\bottomrule\n",
       "\\end{tabular}\n",
       "\\begin{tabular}{lcccccc}\n",
       "            & \\textbf{coef} & \\textbf{std err} & \\textbf{t} & \\textbf{P$> |$t$|$} & \\textbf{[0.025} & \\textbf{0.975]}  \\\\\n",
       "\\midrule\n",
       "\\textbf{x1} &       0.0002  &     7.14e-05     &     2.393  &         0.021        &     2.73e-05    &        0.000     \\\\\n",
       "\\bottomrule\n",
       "\\end{tabular}\n",
       "\\begin{tabular}{lclc}\n",
       "\\textbf{Omnibus:}       &  1.229 & \\textbf{  Durbin-Watson:     } &    2.166  \\\\\n",
       "\\textbf{Prob(Omnibus):} &  0.541 & \\textbf{  Jarque-Bera (JB):  } &    1.059  \\\\\n",
       "\\textbf{Skew:}          &  0.150 & \\textbf{  Prob(JB):          } &    0.589  \\\\\n",
       "\\textbf{Kurtosis:}      &  2.345 & \\textbf{  Cond. No.          } &     1.00  \\\\\n",
       "\\bottomrule\n",
       "\\end{tabular}\n",
       "%\\caption{OLS Regression Results}\n",
       "\\end{center}\n",
       "\n",
       "Notes: \\newline\n",
       " [1] R² is computed without centering (uncentered) since the model does not contain a constant. \\newline\n",
       " [2] Standard Errors assume that the covariance matrix of the errors is correctly specified."
      ],
      "text/plain": [
       "<class 'statsmodels.iolib.summary.Summary'>\n",
       "\"\"\"\n",
       "                                 OLS Regression Results                                \n",
       "=======================================================================================\n",
       "Dep. Variable:                      y   R-squared (uncentered):                   0.107\n",
       "Model:                            OLS   Adj. R-squared (uncentered):              0.088\n",
       "Method:                 Least Squares   F-statistic:                              5.724\n",
       "Date:                Sat, 28 Sep 2024   Prob (F-statistic):                      0.0207\n",
       "Time:                        20:09:27   Log-Likelihood:                         -111.57\n",
       "No. Observations:                  49   AIC:                                      225.1\n",
       "Df Residuals:                      48   BIC:                                      227.0\n",
       "Df Model:                           1                                                  \n",
       "Covariance Type:            nonrobust                                                  \n",
       "==============================================================================\n",
       "                 coef    std err          t      P>|t|      [0.025      0.975]\n",
       "------------------------------------------------------------------------------\n",
       "x1             0.0002   7.14e-05      2.393      0.021    2.73e-05       0.000\n",
       "==============================================================================\n",
       "Omnibus:                        1.229   Durbin-Watson:                   2.166\n",
       "Prob(Omnibus):                  0.541   Jarque-Bera (JB):                1.059\n",
       "Skew:                           0.150   Prob(JB):                        0.589\n",
       "Kurtosis:                       2.345   Cond. No.                         1.00\n",
       "==============================================================================\n",
       "\n",
       "Notes:\n",
       "[1] R² is computed without centering (uncentered) since the model does not contain a constant.\n",
       "[2] Standard Errors assume that the covariance matrix of the errors is correctly specified.\n",
       "\"\"\""
      ]
     },
     "metadata": {},
     "output_type": "display_data"
    },
    {
     "data": {
      "application/vnd.plotly.v1+json": {
       "config": {
        "plotlyServerURL": "https://plot.ly"
       },
       "data": [
        {
         "customdata": [
          [
           "Alabama"
          ],
          [
           "Alaska"
          ],
          [
           "Arizona"
          ],
          [
           "Arkansas"
          ],
          [
           "California"
          ],
          [
           "Colorado"
          ],
          [
           "Connecticut"
          ],
          [
           "Delaware"
          ],
          [
           "Florida"
          ],
          [
           "Georgia"
          ],
          [
           "Hawaii"
          ],
          [
           "Idaho"
          ],
          [
           "Illinois"
          ],
          [
           "Indiana"
          ],
          [
           "Iowa"
          ],
          [
           "Kansas"
          ],
          [
           "Kentucky"
          ],
          [
           "Louisiana"
          ],
          [
           "Maine"
          ],
          [
           "Maryland"
          ],
          [
           "Massachusetts"
          ],
          [
           "Michigan"
          ],
          [
           "Minnesota"
          ],
          [
           "Mississippi"
          ],
          [
           "Missouri"
          ],
          [
           "Montana"
          ],
          [
           "Nebraska"
          ],
          [
           "Nevada"
          ],
          [
           "New Hampshire"
          ],
          [
           "New Jersey"
          ],
          [
           "New Mexico"
          ],
          [
           "New York"
          ],
          [
           "North Carolina"
          ],
          [
           "North Dakota"
          ],
          [
           "Ohio"
          ],
          [
           "Oklahoma"
          ],
          [
           "Oregon"
          ],
          [
           "Pennsylvania"
          ],
          [
           "Rhode Island"
          ],
          [
           "South Carolina"
          ],
          [
           "South Dakota"
          ],
          [
           "Tennessee"
          ],
          [
           "Texas"
          ],
          [
           "Utah"
          ],
          [
           "Vermont"
          ],
          [
           "Virginia"
          ],
          [
           "Washington"
          ],
          [
           "West Virginia"
          ],
          [
           "Wisconsin"
          ],
          [
           "Wyoming"
          ]
         ],
         "hovertemplate": "<b>%{hovertext}</b><br><br>Investment Change=%{x}<br>Change in Average Math Score=%{y}<br>Grade 8 Students=%{marker.size}<br>Display Name=%{text}<br>State Name=%{customdata[0]}<extra></extra>",
         "hovertext": [
          "Alabama",
          "Alaska",
          "Arizona",
          "Arkansas",
          "California",
          "Colorado",
          "Connecticut",
          "Delaware",
          "Florida",
          "Georgia",
          "Hawaii",
          "Idaho",
          "Illinois",
          "Indiana",
          "Iowa",
          "Kansas",
          "Kentucky",
          "Louisiana",
          "Maine",
          "Maryland",
          "Massachusetts",
          "Michigan",
          "Minnesota",
          "Mississippi",
          "Missouri",
          "Montana",
          "Nebraska",
          "Nevada",
          "New Hampshire",
          "New Jersey",
          "New Mexico",
          "New York",
          "North Carolina",
          "North Dakota",
          "Ohio",
          "Oklahoma",
          "Oregon",
          "Pennsylvania",
          "Rhode Island",
          "South Carolina",
          "South Dakota",
          "Tennessee",
          "Texas",
          "Utah",
          "Vermont",
          "Virginia",
          "Washington",
          "West Virginia",
          "Wisconsin",
          "Wyoming"
         ],
         "legendgroup": "",
         "marker": {
          "color": "#e69138",
          "size": [
           55364,
           9534,
           88236,
           36563,
           477835,
           68034,
           40280,
           10532,
           213637,
           133836,
           13387,
           24686,
           148692,
           79395,
           37395,
           36320,
           50146,
           51853,
           13880,
           65674,
           72031,
           111709,
           66278,
           35113,
           68048,
           11167,
           23529,
           37603,
           13916,
           99399,
           25260,
           197603,
           117655,
           8249,
           128324,
           48193,
           44450,
           134209,
           10937,
           58099,
           10434,
           75072,
           405102,
           51339,
           6200,
           96746,
           81949,
           19577,
           61966,
           7419
          ],
          "sizemode": "area",
          "sizeref": 1194.5875,
          "symbol": "circle"
         },
         "mode": "markers+text",
         "name": "",
         "orientation": "v",
         "showlegend": false,
         "text": [
          null,
          "Alaska",
          null,
          null,
          "California",
          null,
          null,
          null,
          "Florida",
          null,
          "Hawaii",
          null,
          "Illinois",
          null,
          "Iowa",
          null,
          null,
          "Louisiana",
          null,
          null,
          null,
          null,
          null,
          "Mississippi",
          null,
          null,
          null,
          null,
          "New Hampshire",
          null,
          null,
          "New York",
          "North Carolina",
          null,
          null,
          null,
          "Oregon",
          null,
          "Rhode Island",
          null,
          null,
          null,
          "Texas",
          null,
          null,
          null,
          "Washington",
          null,
          null,
          "Wyoming"
         ],
         "textfont": {
          "color": "grey"
         },
         "textposition": "top center",
         "type": "scatter",
         "x": [
          329.76305114709976,
          -14708.457307342367,
          2299.1022917744485,
          -1471.4241271836217,
          11726.037231397699,
          5586.881557994355,
          3511.951550465761,
          -944.6272461902263,
          657.5571875544047,
          2655.482237894699,
          9348.71729686117,
          3770.7062355231537,
          8203.593359115708,
          -1232.6239368214592,
          469.37110981078877,
          54.88703104273009,
          1921.2612168762062,
          -2556.7129300012602,
          4904.093805178389,
          -466.8691361673409,
          3561.0969406339136,
          441.5695752318061,
          7483.586008539336,
          715.9227559788415,
          666.924127925442,
          3291.684983213003,
          1686.1051294720237,
          3340.913001489862,
          5657.265920831036,
          1155.4947146523918,
          -235.0090620380579,
          9709.209358403881,
          2629.926596630241,
          5558.320899853075,
          1050.9571133526333,
          -862.2580247299411,
          10733.41411982417,
          6389.194608006001,
          1330.2161884037196,
          3086.9670952629385,
          1643.4462295624471,
          1443.2498385542785,
          4487.797092459696,
          1807.4550930238838,
          3859.872833897971,
          1104.9280829005438,
          13946.614370122246,
          -2494.7926835152175,
          3112.51216819181,
          -5296.647514050259
         ],
         "xaxis": "x",
         "y": [
          -2,
          6,
          3,
          1,
          -1,
          1,
          -2,
          3,
          -4,
          0,
          4,
          -2,
          -1,
          1,
          4,
          2,
          0,
          -4,
          3,
          3,
          3,
          -2,
          3,
          -3,
          0,
          3,
          1,
          1,
          7,
          1,
          2,
          0,
          -3,
          2,
          -1,
          -1,
          3,
          -1,
          5,
          0,
          -2,
          -2,
          4,
          1,
          3,
          1,
          1,
          -1,
          0,
          1
         ],
         "yaxis": "y"
        }
       ],
       "layout": {
        "annotations": [
         {
          "align": "right",
          "font": {
           "color": "grey",
           "size": 10
          },
          "opacity": 0.7,
          "showarrow": false,
          "text": "Chart by Dominic Tarro | 𝕏 @dominictarro<br>Sources: NAEP Mathematics Assessments (2015, 2019)<br>CCD National Public Education Financial Survey (2011-2019), Series TE11+E4D+E7A1",
          "x": 1.06,
          "xref": "paper",
          "y": -0.23,
          "yref": "paper"
         },
         {
          "align": "left",
          "font": {
           "color": "grey",
           "size": 10
          },
          "opacity": 0.7,
          "showarrow": false,
          "text": "Notes: The NAEP Mathematics scale scores between 0 to 500.<br>\"Student Investment\" is the sum of real, per-pupil spending from 5th through 8th grade.<br>Dollar adjustment was made using each school year's ending year.<br>OLS Adj. R-squared: 0.088; P|t|>0.021; 0.17 points improvement per additional $1,000 in Student Investment (excl. Alaska)",
          "x": -0.058,
          "xref": "paper",
          "y": -0.23,
          "yref": "paper"
         },
         {
          "font": {
           "color": "#76a5af"
          },
          "showarrow": false,
          "text": "Mean (0.63 points)",
          "x": 0,
          "xanchor": "left",
          "xref": "x domain",
          "y": 0.6296296296296297,
          "yanchor": "bottom",
          "yref": "y",
          "yshift": 5
         },
         {
          "font": {
           "color": "#93c47d"
          },
          "showarrow": false,
          "text": "Mean ($2,517)",
          "x": 2517.4737893467377,
          "xanchor": "left",
          "xref": "x",
          "xshift": 5,
          "y": 0,
          "yanchor": "bottom",
          "yref": "y domain",
          "yshift": 5
         }
        ],
        "coloraxis": {
         "colorbar": {
          "orientation": "h"
         }
        },
        "height": 720,
        "legend": {
         "itemsizing": "constant",
         "tracegroupgap": 0
        },
        "margin": {
         "b": 135,
         "t": 50
        },
        "paper_bgcolor": "#171717",
        "plot_bgcolor": "#171717",
        "shapes": [
         {
          "line": {
           "color": "#76a5af",
           "dash": "dash",
           "width": 1
          },
          "type": "line",
          "x0": 0,
          "x1": 1,
          "xref": "x domain",
          "y0": 0.6296296296296297,
          "y1": 0.6296296296296297,
          "yref": "y"
         },
         {
          "line": {
           "color": "#93c47d",
           "dash": "dash",
           "width": 1
          },
          "type": "line",
          "x0": 2517.4737893467377,
          "x1": 2517.4737893467377,
          "xref": "x",
          "y0": 0,
          "y1": 1,
          "yref": "y domain"
         }
        ],
        "template": {
         "data": {
          "bar": [
           {
            "error_x": {
             "color": "#f2f5fa"
            },
            "error_y": {
             "color": "#f2f5fa"
            },
            "marker": {
             "line": {
              "color": "rgb(17,17,17)",
              "width": 0.5
             },
             "pattern": {
              "fillmode": "overlay",
              "size": 10,
              "solidity": 0.2
             }
            },
            "type": "bar"
           }
          ],
          "barpolar": [
           {
            "marker": {
             "line": {
              "color": "rgb(17,17,17)",
              "width": 0.5
             },
             "pattern": {
              "fillmode": "overlay",
              "size": 10,
              "solidity": 0.2
             }
            },
            "type": "barpolar"
           }
          ],
          "carpet": [
           {
            "aaxis": {
             "endlinecolor": "#A2B1C6",
             "gridcolor": "#506784",
             "linecolor": "#506784",
             "minorgridcolor": "#506784",
             "startlinecolor": "#A2B1C6"
            },
            "baxis": {
             "endlinecolor": "#A2B1C6",
             "gridcolor": "#506784",
             "linecolor": "#506784",
             "minorgridcolor": "#506784",
             "startlinecolor": "#A2B1C6"
            },
            "type": "carpet"
           }
          ],
          "choropleth": [
           {
            "colorbar": {
             "outlinewidth": 0,
             "ticks": ""
            },
            "type": "choropleth"
           }
          ],
          "contour": [
           {
            "colorbar": {
             "outlinewidth": 0,
             "ticks": ""
            },
            "colorscale": [
             [
              0,
              "#0d0887"
             ],
             [
              0.1111111111111111,
              "#46039f"
             ],
             [
              0.2222222222222222,
              "#7201a8"
             ],
             [
              0.3333333333333333,
              "#9c179e"
             ],
             [
              0.4444444444444444,
              "#bd3786"
             ],
             [
              0.5555555555555556,
              "#d8576b"
             ],
             [
              0.6666666666666666,
              "#ed7953"
             ],
             [
              0.7777777777777778,
              "#fb9f3a"
             ],
             [
              0.8888888888888888,
              "#fdca26"
             ],
             [
              1,
              "#f0f921"
             ]
            ],
            "type": "contour"
           }
          ],
          "contourcarpet": [
           {
            "colorbar": {
             "outlinewidth": 0,
             "ticks": ""
            },
            "type": "contourcarpet"
           }
          ],
          "heatmap": [
           {
            "colorbar": {
             "outlinewidth": 0,
             "ticks": ""
            },
            "colorscale": [
             [
              0,
              "#0d0887"
             ],
             [
              0.1111111111111111,
              "#46039f"
             ],
             [
              0.2222222222222222,
              "#7201a8"
             ],
             [
              0.3333333333333333,
              "#9c179e"
             ],
             [
              0.4444444444444444,
              "#bd3786"
             ],
             [
              0.5555555555555556,
              "#d8576b"
             ],
             [
              0.6666666666666666,
              "#ed7953"
             ],
             [
              0.7777777777777778,
              "#fb9f3a"
             ],
             [
              0.8888888888888888,
              "#fdca26"
             ],
             [
              1,
              "#f0f921"
             ]
            ],
            "type": "heatmap"
           }
          ],
          "heatmapgl": [
           {
            "colorbar": {
             "outlinewidth": 0,
             "ticks": ""
            },
            "colorscale": [
             [
              0,
              "#0d0887"
             ],
             [
              0.1111111111111111,
              "#46039f"
             ],
             [
              0.2222222222222222,
              "#7201a8"
             ],
             [
              0.3333333333333333,
              "#9c179e"
             ],
             [
              0.4444444444444444,
              "#bd3786"
             ],
             [
              0.5555555555555556,
              "#d8576b"
             ],
             [
              0.6666666666666666,
              "#ed7953"
             ],
             [
              0.7777777777777778,
              "#fb9f3a"
             ],
             [
              0.8888888888888888,
              "#fdca26"
             ],
             [
              1,
              "#f0f921"
             ]
            ],
            "type": "heatmapgl"
           }
          ],
          "histogram": [
           {
            "marker": {
             "pattern": {
              "fillmode": "overlay",
              "size": 10,
              "solidity": 0.2
             }
            },
            "type": "histogram"
           }
          ],
          "histogram2d": [
           {
            "colorbar": {
             "outlinewidth": 0,
             "ticks": ""
            },
            "colorscale": [
             [
              0,
              "#0d0887"
             ],
             [
              0.1111111111111111,
              "#46039f"
             ],
             [
              0.2222222222222222,
              "#7201a8"
             ],
             [
              0.3333333333333333,
              "#9c179e"
             ],
             [
              0.4444444444444444,
              "#bd3786"
             ],
             [
              0.5555555555555556,
              "#d8576b"
             ],
             [
              0.6666666666666666,
              "#ed7953"
             ],
             [
              0.7777777777777778,
              "#fb9f3a"
             ],
             [
              0.8888888888888888,
              "#fdca26"
             ],
             [
              1,
              "#f0f921"
             ]
            ],
            "type": "histogram2d"
           }
          ],
          "histogram2dcontour": [
           {
            "colorbar": {
             "outlinewidth": 0,
             "ticks": ""
            },
            "colorscale": [
             [
              0,
              "#0d0887"
             ],
             [
              0.1111111111111111,
              "#46039f"
             ],
             [
              0.2222222222222222,
              "#7201a8"
             ],
             [
              0.3333333333333333,
              "#9c179e"
             ],
             [
              0.4444444444444444,
              "#bd3786"
             ],
             [
              0.5555555555555556,
              "#d8576b"
             ],
             [
              0.6666666666666666,
              "#ed7953"
             ],
             [
              0.7777777777777778,
              "#fb9f3a"
             ],
             [
              0.8888888888888888,
              "#fdca26"
             ],
             [
              1,
              "#f0f921"
             ]
            ],
            "type": "histogram2dcontour"
           }
          ],
          "mesh3d": [
           {
            "colorbar": {
             "outlinewidth": 0,
             "ticks": ""
            },
            "type": "mesh3d"
           }
          ],
          "parcoords": [
           {
            "line": {
             "colorbar": {
              "outlinewidth": 0,
              "ticks": ""
             }
            },
            "type": "parcoords"
           }
          ],
          "pie": [
           {
            "automargin": true,
            "type": "pie"
           }
          ],
          "scatter": [
           {
            "marker": {
             "line": {
              "color": "#283442"
             }
            },
            "type": "scatter"
           }
          ],
          "scatter3d": [
           {
            "line": {
             "colorbar": {
              "outlinewidth": 0,
              "ticks": ""
             }
            },
            "marker": {
             "colorbar": {
              "outlinewidth": 0,
              "ticks": ""
             }
            },
            "type": "scatter3d"
           }
          ],
          "scattercarpet": [
           {
            "marker": {
             "colorbar": {
              "outlinewidth": 0,
              "ticks": ""
             }
            },
            "type": "scattercarpet"
           }
          ],
          "scattergeo": [
           {
            "marker": {
             "colorbar": {
              "outlinewidth": 0,
              "ticks": ""
             }
            },
            "type": "scattergeo"
           }
          ],
          "scattergl": [
           {
            "marker": {
             "line": {
              "color": "#283442"
             }
            },
            "type": "scattergl"
           }
          ],
          "scattermapbox": [
           {
            "marker": {
             "colorbar": {
              "outlinewidth": 0,
              "ticks": ""
             }
            },
            "type": "scattermapbox"
           }
          ],
          "scatterpolar": [
           {
            "marker": {
             "colorbar": {
              "outlinewidth": 0,
              "ticks": ""
             }
            },
            "type": "scatterpolar"
           }
          ],
          "scatterpolargl": [
           {
            "marker": {
             "colorbar": {
              "outlinewidth": 0,
              "ticks": ""
             }
            },
            "type": "scatterpolargl"
           }
          ],
          "scatterternary": [
           {
            "marker": {
             "colorbar": {
              "outlinewidth": 0,
              "ticks": ""
             }
            },
            "type": "scatterternary"
           }
          ],
          "surface": [
           {
            "colorbar": {
             "outlinewidth": 0,
             "ticks": ""
            },
            "colorscale": [
             [
              0,
              "#0d0887"
             ],
             [
              0.1111111111111111,
              "#46039f"
             ],
             [
              0.2222222222222222,
              "#7201a8"
             ],
             [
              0.3333333333333333,
              "#9c179e"
             ],
             [
              0.4444444444444444,
              "#bd3786"
             ],
             [
              0.5555555555555556,
              "#d8576b"
             ],
             [
              0.6666666666666666,
              "#ed7953"
             ],
             [
              0.7777777777777778,
              "#fb9f3a"
             ],
             [
              0.8888888888888888,
              "#fdca26"
             ],
             [
              1,
              "#f0f921"
             ]
            ],
            "type": "surface"
           }
          ],
          "table": [
           {
            "cells": {
             "fill": {
              "color": "#506784"
             },
             "line": {
              "color": "rgb(17,17,17)"
             }
            },
            "header": {
             "fill": {
              "color": "#2a3f5f"
             },
             "line": {
              "color": "rgb(17,17,17)"
             }
            },
            "type": "table"
           }
          ]
         },
         "layout": {
          "annotationdefaults": {
           "arrowcolor": "#f2f5fa",
           "arrowhead": 0,
           "arrowwidth": 1
          },
          "autotypenumbers": "strict",
          "coloraxis": {
           "colorbar": {
            "outlinewidth": 0,
            "ticks": ""
           }
          },
          "colorscale": {
           "diverging": [
            [
             0,
             "#8e0152"
            ],
            [
             0.1,
             "#c51b7d"
            ],
            [
             0.2,
             "#de77ae"
            ],
            [
             0.3,
             "#f1b6da"
            ],
            [
             0.4,
             "#fde0ef"
            ],
            [
             0.5,
             "#f7f7f7"
            ],
            [
             0.6,
             "#e6f5d0"
            ],
            [
             0.7,
             "#b8e186"
            ],
            [
             0.8,
             "#7fbc41"
            ],
            [
             0.9,
             "#4d9221"
            ],
            [
             1,
             "#276419"
            ]
           ],
           "sequential": [
            [
             0,
             "#0d0887"
            ],
            [
             0.1111111111111111,
             "#46039f"
            ],
            [
             0.2222222222222222,
             "#7201a8"
            ],
            [
             0.3333333333333333,
             "#9c179e"
            ],
            [
             0.4444444444444444,
             "#bd3786"
            ],
            [
             0.5555555555555556,
             "#d8576b"
            ],
            [
             0.6666666666666666,
             "#ed7953"
            ],
            [
             0.7777777777777778,
             "#fb9f3a"
            ],
            [
             0.8888888888888888,
             "#fdca26"
            ],
            [
             1,
             "#f0f921"
            ]
           ],
           "sequentialminus": [
            [
             0,
             "#0d0887"
            ],
            [
             0.1111111111111111,
             "#46039f"
            ],
            [
             0.2222222222222222,
             "#7201a8"
            ],
            [
             0.3333333333333333,
             "#9c179e"
            ],
            [
             0.4444444444444444,
             "#bd3786"
            ],
            [
             0.5555555555555556,
             "#d8576b"
            ],
            [
             0.6666666666666666,
             "#ed7953"
            ],
            [
             0.7777777777777778,
             "#fb9f3a"
            ],
            [
             0.8888888888888888,
             "#fdca26"
            ],
            [
             1,
             "#f0f921"
            ]
           ]
          },
          "colorway": [
           "#636efa",
           "#EF553B",
           "#00cc96",
           "#ab63fa",
           "#FFA15A",
           "#19d3f3",
           "#FF6692",
           "#B6E880",
           "#FF97FF",
           "#FECB52"
          ],
          "font": {
           "color": "#f2f5fa"
          },
          "geo": {
           "bgcolor": "rgb(17,17,17)",
           "lakecolor": "rgb(17,17,17)",
           "landcolor": "rgb(17,17,17)",
           "showlakes": true,
           "showland": true,
           "subunitcolor": "#506784"
          },
          "hoverlabel": {
           "align": "left"
          },
          "hovermode": "closest",
          "mapbox": {
           "style": "dark"
          },
          "paper_bgcolor": "rgb(17,17,17)",
          "plot_bgcolor": "rgb(17,17,17)",
          "polar": {
           "angularaxis": {
            "gridcolor": "#506784",
            "linecolor": "#506784",
            "ticks": ""
           },
           "bgcolor": "rgb(17,17,17)",
           "radialaxis": {
            "gridcolor": "#506784",
            "linecolor": "#506784",
            "ticks": ""
           }
          },
          "scene": {
           "xaxis": {
            "backgroundcolor": "rgb(17,17,17)",
            "gridcolor": "#506784",
            "gridwidth": 2,
            "linecolor": "#506784",
            "showbackground": true,
            "ticks": "",
            "zerolinecolor": "#C8D4E3"
           },
           "yaxis": {
            "backgroundcolor": "rgb(17,17,17)",
            "gridcolor": "#506784",
            "gridwidth": 2,
            "linecolor": "#506784",
            "showbackground": true,
            "ticks": "",
            "zerolinecolor": "#C8D4E3"
           },
           "zaxis": {
            "backgroundcolor": "rgb(17,17,17)",
            "gridcolor": "#506784",
            "gridwidth": 2,
            "linecolor": "#506784",
            "showbackground": true,
            "ticks": "",
            "zerolinecolor": "#C8D4E3"
           }
          },
          "shapedefaults": {
           "line": {
            "color": "#f2f5fa"
           }
          },
          "sliderdefaults": {
           "bgcolor": "#C8D4E3",
           "bordercolor": "rgb(17,17,17)",
           "borderwidth": 1,
           "tickwidth": 0
          },
          "ternary": {
           "aaxis": {
            "gridcolor": "#506784",
            "linecolor": "#506784",
            "ticks": ""
           },
           "baxis": {
            "gridcolor": "#506784",
            "linecolor": "#506784",
            "ticks": ""
           },
           "bgcolor": "rgb(17,17,17)",
           "caxis": {
            "gridcolor": "#506784",
            "linecolor": "#506784",
            "ticks": ""
           }
          },
          "title": {
           "x": 0.05
          },
          "updatemenudefaults": {
           "bgcolor": "#506784",
           "borderwidth": 0
          },
          "xaxis": {
           "automargin": true,
           "gridcolor": "#283442",
           "linecolor": "#506784",
           "ticks": "",
           "title": {
            "standoff": 15
           },
           "zerolinecolor": "#283442",
           "zerolinewidth": 2
          },
          "yaxis": {
           "automargin": true,
           "gridcolor": "#283442",
           "linecolor": "#506784",
           "ticks": "",
           "title": {
            "standoff": 15
           },
           "zerolinecolor": "#283442",
           "zerolinewidth": 2
          }
         }
        },
        "title": {
         "text": "Increasing Student Investment is a bad approach for raising Math Performance<br><sup>Comparison of 2015 & 2019's 8<sup>th</sup> grade graduating classes across 50 U.S. States</sup>"
        },
        "width": 1280,
        "xaxis": {
         "anchor": "y",
         "domain": [
          0,
          1
         ],
         "tickformat": "$,.0f",
         "title": {
          "text": "Change in Student Investment<br><sup>(2024 Dollars)</sup>"
         }
        },
        "yaxis": {
         "anchor": "x",
         "domain": [
          0,
          1
         ],
         "title": {
          "text": "Change in Average Math Score"
         }
        }
       }
      }
     },
     "metadata": {},
     "output_type": "display_data"
    }
   ],
   "source": [
    "def generate_state_investment_and_math_performance_scatter_plot(column: str, yaxis_title: str, exclude_alaska: bool = True) -> go.Figure:\n",
    "    _df = student_investment.join(\n",
    "        math_performance,\n",
    "        on=\"State Name\"\n",
    "    ).join(\n",
    "        # Adding the number of students in the 8th grade cohort\n",
    "        df.filter(pl.col(\"SCHOOL_YEAR\").is_in([\"2018-19\"])).select(\"State Name\", \"Grade 8 Students\"),\n",
    "        on=\"State Name\",\n",
    "        suffix=\"_students\",\n",
    "    ).with_columns(\n",
    "        # Only displaying state names whose values stand out\n",
    "        # Of the top states in investment/score changes, choose the top ranks among them\n",
    "        pl.when(\n",
    "            pl.max_horizontal(\n",
    "                (pl.col(column) - pl.col(column).mean()).abs().rank(method=\"max\"),\n",
    "                (pl.col(\"Investment Change\") - pl.col(\"Investment Change\").mean()).abs().rank(method=\"max\")\n",
    "            ).rank(method=\"max\").is_between(35, 50)\n",
    "        )\n",
    "        .then(pl.col(\"State Name\"))\n",
    "        .otherwise(None)\n",
    "        .alias(\"Display Name\")\n",
    "    )\n",
    "    result = correlate(\n",
    "        _df.filter(pl.col(\"State Name\") != (\"Alaska\" if exclude_alaska else None)),\n",
    "        \"Investment Change\",\n",
    "        column,\n",
    "    )\n",
    "    return px.scatter(\n",
    "        _df,\n",
    "        x=\"Investment Change\",\n",
    "        y=column,\n",
    "        size=\"Grade 8 Students\",\n",
    "        text=\"Display Name\",\n",
    "        title=(\n",
    "            \"Increasing Student Investment is a bad approach for raising Math Performance\"\n",
    "            \"<br>\"\n",
    "            \"<sup>\"\n",
    "            \"Comparison of 2015 & 2019's 8<sup>th</sup> grade graduating classes across 50 U.S. States\"\n",
    "            \"</sup>\"\n",
    "        ),\n",
    "        labels={\n",
    "            \"2014-15\": \"Per Pupil Investment (2014-15)\",\n",
    "            column: yaxis_title,\n",
    "        },\n",
    "        hover_data=[\"State Name\"],\n",
    "        hover_name=\"State Name\",\n",
    "        template=\"plotly_dark\",\n",
    "        width=1280,\n",
    "        height=720,\n",
    "    ).update_layout(\n",
    "        # coloraxis_cmid=0,\n",
    "        xaxis_title_font_size=10,\n",
    "        xaxis_title=\"Change in Student Investment<br><sup>(2024 Dollars)</sup>\",\n",
    "        xaxis_tickformat=\"$,.0f\",\n",
    "        coloraxis_colorbar_orientation=\"h\",\n",
    "        plot_bgcolor=\"#171717\",\n",
    "        paper_bgcolor=\"#171717\",\n",
    "        margin=dict(t=50, b=135),\n",
    "    ).update_traces(\n",
    "        dict(\n",
    "            textposition=\"top center\",\n",
    "            textfont=dict(color=\"grey\"),\n",
    "            marker=dict(color=\"#e69138\"),\n",
    "        ),\n",
    "    ).add_annotation(\n",
    "        # Right, watermark and source\n",
    "        x=1.06,\n",
    "        y=-0.230,\n",
    "        xref=\"paper\",\n",
    "        yref=\"paper\",\n",
    "        text=\"<br>\".join(\n",
    "            (\n",
    "                \"Chart by Dominic Tarro | 𝕏 @dominictarro\",\n",
    "                \"Sources: NAEP Mathematics Assessments (2015, 2019)\",\n",
    "                \"CCD National Public Education Financial Survey (2011-2019), Series TE11+E4D+E7A1\",\n",
    "            )\n",
    "        ),\n",
    "        align=\"right\",\n",
    "        showarrow=False,\n",
    "        font=dict(\n",
    "            size=10,\n",
    "            color=\"grey\"\n",
    "        ),\n",
    "        opacity=0.7\n",
    "    ).add_annotation(\n",
    "        x=-0.058,\n",
    "        y=-0.230,\n",
    "        xref=\"paper\",\n",
    "        yref=\"paper\",\n",
    "        text=\"<br>\".join(\n",
    "            (\n",
    "                \"Notes: The NAEP Mathematics scale scores between 0 to 500.\",\n",
    "                \"\\\"Student Investment\\\" is the sum of real, per-pupil spending from 5th through 8th grade.\",\n",
    "                \"Dollar adjustment was made using each school year's ending year.\",\n",
    "                \"OLS Adj. R-squared: {:.03f}; P|t|>{:.03f}; {:.2f} {} improvement per additional $1,000 in Student Investment{}\".format(\n",
    "                    result.r_squared,\n",
    "                    result.p_value,\n",
    "                    result.coef * 1000,\n",
    "                    \"points\" if \"mean\" in column.lower() else \"% points\",\n",
    "                    \" (excl. Alaska)\" if exclude_alaska else \"\"\n",
    "                ),\n",
    "            )\n",
    "        ),\n",
    "        align=\"left\",\n",
    "        showarrow=False,\n",
    "        font=dict(\n",
    "            size=10,\n",
    "            color=\"grey\"\n",
    "        ),\n",
    "        opacity=0.7\n",
    "    ).add_hline(\n",
    "        y=math_performance[\"Mean Grade 8 Math Score Change\"].mean(),\n",
    "        annotation=dict(\n",
    "            text=f\"Mean ({math_performance['Mean Grade 8 Math Score Change'].mean():.2f} points)\",\n",
    "            showarrow=False,\n",
    "            font=dict(color=\"#76a5af\"),\n",
    "            yshift=5,\n",
    "        ),\n",
    "        annotation_position=\"top left\",\n",
    "        line=dict(\n",
    "            color=\"#76a5af\",\n",
    "            width=1,\n",
    "            dash=\"dash\"\n",
    "        ),\n",
    "    ).add_vline(\n",
    "        x=student_investment[\"Investment Change\"].mean(),\n",
    "        annotation=dict(\n",
    "            text=f\"Mean (${student_investment['Investment Change'].mean():,.0f})\",\n",
    "            showarrow=False,\n",
    "            font=dict(color=\"#93c47d\"),\n",
    "            yshift=5,\n",
    "            xshift=5,\n",
    "        ),\n",
    "        annotation_position=\"bottom right\",\n",
    "        line=dict(\n",
    "            color=\"#93c47d\",\n",
    "            width=1,\n",
    "            dash=\"dash\"\n",
    "        ),\n",
    "    )\n",
    "\n",
    "fig_scatter_math_avg = generate_state_investment_and_math_performance_scatter_plot(\"Mean Grade 8 Math Score Change\", \"Change in Average Math Score\")\n",
    "fig_scatter_math_avg.write_image(\n",
    "    \"charts/spending-school-roi-scatter-math-mean.svg\",\n",
    ")\n",
    "fig_scatter_math_avg.show()"
   ]
  },
  {
   "cell_type": "code",
   "execution_count": 9,
   "metadata": {},
   "outputs": [
    {
     "data": {
      "text/html": [
       "<table class=\"simpletable\">\n",
       "<caption>OLS Regression Results</caption>\n",
       "<tr>\n",
       "  <th>Dep. Variable:</th>            <td>y</td>        <th>  R-squared (uncentered):</th>      <td>   0.023</td>\n",
       "</tr>\n",
       "<tr>\n",
       "  <th>Model:</th>                   <td>OLS</td>       <th>  Adj. R-squared (uncentered):</th> <td>   0.003</td>\n",
       "</tr>\n",
       "<tr>\n",
       "  <th>Method:</th>             <td>Least Squares</td>  <th>  F-statistic:       </th>          <td>   1.151</td>\n",
       "</tr>\n",
       "<tr>\n",
       "  <th>Date:</th>             <td>Sat, 28 Sep 2024</td> <th>  Prob (F-statistic):</th>           <td> 0.289</td> \n",
       "</tr>\n",
       "<tr>\n",
       "  <th>Time:</th>                 <td>20:09:28</td>     <th>  Log-Likelihood:    </th>          <td> -118.36</td>\n",
       "</tr>\n",
       "<tr>\n",
       "  <th>No. Observations:</th>      <td>    50</td>      <th>  AIC:               </th>          <td>   238.7</td>\n",
       "</tr>\n",
       "<tr>\n",
       "  <th>Df Residuals:</th>          <td>    49</td>      <th>  BIC:               </th>          <td>   240.6</td>\n",
       "</tr>\n",
       "<tr>\n",
       "  <th>Df Model:</th>              <td>     1</td>      <th>                     </th>              <td> </td>   \n",
       "</tr>\n",
       "<tr>\n",
       "  <th>Covariance Type:</th>      <td>nonrobust</td>    <th>                     </th>              <td> </td>   \n",
       "</tr>\n",
       "</table>\n",
       "<table class=\"simpletable\">\n",
       "<tr>\n",
       "   <td></td>     <th>coef</th>     <th>std err</th>      <th>t</th>      <th>P>|t|</th>  <th>[0.025</th>    <th>0.975]</th>  \n",
       "</tr>\n",
       "<tr>\n",
       "  <th>x1</th> <td> 7.669e-05</td> <td> 7.15e-05</td> <td>    1.073</td> <td> 0.289</td> <td> -6.7e-05</td> <td>    0.000</td>\n",
       "</tr>\n",
       "</table>\n",
       "<table class=\"simpletable\">\n",
       "<tr>\n",
       "  <th>Omnibus:</th>       <td> 1.095</td> <th>  Durbin-Watson:     </th> <td>   2.072</td>\n",
       "</tr>\n",
       "<tr>\n",
       "  <th>Prob(Omnibus):</th> <td> 0.578</td> <th>  Jarque-Bera (JB):  </th> <td>   0.970</td>\n",
       "</tr>\n",
       "<tr>\n",
       "  <th>Skew:</th>          <td> 0.329</td> <th>  Prob(JB):          </th> <td>   0.616</td>\n",
       "</tr>\n",
       "<tr>\n",
       "  <th>Kurtosis:</th>      <td> 2.820</td> <th>  Cond. No.          </th> <td>    1.00</td>\n",
       "</tr>\n",
       "</table><br/><br/>Notes:<br/>[1] R² is computed without centering (uncentered) since the model does not contain a constant.<br/>[2] Standard Errors assume that the covariance matrix of the errors is correctly specified."
      ],
      "text/latex": [
       "\\begin{center}\n",
       "\\begin{tabular}{lclc}\n",
       "\\toprule\n",
       "\\textbf{Dep. Variable:}    &        y         & \\textbf{  R-squared (uncentered):}      &     0.023   \\\\\n",
       "\\textbf{Model:}            &       OLS        & \\textbf{  Adj. R-squared (uncentered):} &     0.003   \\\\\n",
       "\\textbf{Method:}           &  Least Squares   & \\textbf{  F-statistic:       }          &     1.151   \\\\\n",
       "\\textbf{Date:}             & Sat, 28 Sep 2024 & \\textbf{  Prob (F-statistic):}          &    0.289    \\\\\n",
       "\\textbf{Time:}             &     20:09:28     & \\textbf{  Log-Likelihood:    }          &   -118.36   \\\\\n",
       "\\textbf{No. Observations:} &          50      & \\textbf{  AIC:               }          &     238.7   \\\\\n",
       "\\textbf{Df Residuals:}     &          49      & \\textbf{  BIC:               }          &     240.6   \\\\\n",
       "\\textbf{Df Model:}         &           1      & \\textbf{                     }          &             \\\\\n",
       "\\textbf{Covariance Type:}  &    nonrobust     & \\textbf{                     }          &             \\\\\n",
       "\\bottomrule\n",
       "\\end{tabular}\n",
       "\\begin{tabular}{lcccccc}\n",
       "            & \\textbf{coef} & \\textbf{std err} & \\textbf{t} & \\textbf{P$> |$t$|$} & \\textbf{[0.025} & \\textbf{0.975]}  \\\\\n",
       "\\midrule\n",
       "\\textbf{x1} &    7.669e-05  &     7.15e-05     &     1.073  &         0.289        &     -6.7e-05    &        0.000     \\\\\n",
       "\\bottomrule\n",
       "\\end{tabular}\n",
       "\\begin{tabular}{lclc}\n",
       "\\textbf{Omnibus:}       &  1.095 & \\textbf{  Durbin-Watson:     } &    2.072  \\\\\n",
       "\\textbf{Prob(Omnibus):} &  0.578 & \\textbf{  Jarque-Bera (JB):  } &    0.970  \\\\\n",
       "\\textbf{Skew:}          &  0.329 & \\textbf{  Prob(JB):          } &    0.616  \\\\\n",
       "\\textbf{Kurtosis:}      &  2.820 & \\textbf{  Cond. No.          } &     1.00  \\\\\n",
       "\\bottomrule\n",
       "\\end{tabular}\n",
       "%\\caption{OLS Regression Results}\n",
       "\\end{center}\n",
       "\n",
       "Notes: \\newline\n",
       " [1] R² is computed without centering (uncentered) since the model does not contain a constant. \\newline\n",
       " [2] Standard Errors assume that the covariance matrix of the errors is correctly specified."
      ],
      "text/plain": [
       "<class 'statsmodels.iolib.summary.Summary'>\n",
       "\"\"\"\n",
       "                                 OLS Regression Results                                \n",
       "=======================================================================================\n",
       "Dep. Variable:                      y   R-squared (uncentered):                   0.023\n",
       "Model:                            OLS   Adj. R-squared (uncentered):              0.003\n",
       "Method:                 Least Squares   F-statistic:                              1.151\n",
       "Date:                Sat, 28 Sep 2024   Prob (F-statistic):                       0.289\n",
       "Time:                        20:09:28   Log-Likelihood:                         -118.36\n",
       "No. Observations:                  50   AIC:                                      238.7\n",
       "Df Residuals:                      49   BIC:                                      240.6\n",
       "Df Model:                           1                                                  \n",
       "Covariance Type:            nonrobust                                                  \n",
       "==============================================================================\n",
       "                 coef    std err          t      P>|t|      [0.025      0.975]\n",
       "------------------------------------------------------------------------------\n",
       "x1          7.669e-05   7.15e-05      1.073      0.289    -6.7e-05       0.000\n",
       "==============================================================================\n",
       "Omnibus:                        1.095   Durbin-Watson:                   2.072\n",
       "Prob(Omnibus):                  0.578   Jarque-Bera (JB):                0.970\n",
       "Skew:                           0.329   Prob(JB):                        0.616\n",
       "Kurtosis:                       2.820   Cond. No.                         1.00\n",
       "==============================================================================\n",
       "\n",
       "Notes:\n",
       "[1] R² is computed without centering (uncentered) since the model does not contain a constant.\n",
       "[2] Standard Errors assume that the covariance matrix of the errors is correctly specified.\n",
       "\"\"\""
      ]
     },
     "metadata": {},
     "output_type": "display_data"
    },
    {
     "data": {
      "application/vnd.plotly.v1+json": {
       "config": {
        "plotlyServerURL": "https://plot.ly"
       },
       "data": [
        {
         "alignmentgroup": "True",
         "hovertemplate": "State=%{x}<br>4-Year Expenditure Change (2024 Dollars)=%{y}<br>Change in NAEP Average Math Score=%{marker.color}<extra></extra>",
         "legendgroup": "",
         "marker": {
          "color": [
           6,
           1,
           -4,
           -1,
           1,
           1,
           3,
           -1,
           3,
           2,
           2,
           -2,
           -2,
           4,
           -4,
           0,
           -3,
           -1,
           1,
           1,
           5,
           -2,
           -2,
           1,
           1,
           0,
           3,
           -3,
           0,
           0,
           0,
           3,
           1,
           -2,
           3,
           -2,
           3,
           4,
           3,
           2,
           1,
           7,
           -1,
           3,
           -1,
           4,
           0,
           3,
           -1,
           1
          ],
          "coloraxis": "coloraxis",
          "pattern": {
           "shape": ""
          }
         },
         "name": "",
         "offsetgroup": "",
         "orientation": "v",
         "showlegend": false,
         "textposition": "auto",
         "type": "bar",
         "x": [
          "Alaska",
          "Wyoming",
          "Louisiana",
          "West Virginia",
          "Arkansas",
          "Indiana",
          "Delaware",
          "Oklahoma",
          "Maryland",
          "New Mexico",
          "Kansas",
          "Alabama",
          "Michigan",
          "Iowa",
          "Florida",
          "Missouri",
          "Mississippi",
          "Ohio",
          "Virginia",
          "New Jersey",
          "Rhode Island",
          "Tennessee",
          "South Dakota",
          "Nebraska",
          "Utah",
          "Kentucky",
          "Arizona",
          "North Carolina",
          "Georgia",
          "South Carolina",
          "Wisconsin",
          "Montana",
          "Nevada",
          "Connecticut",
          "Massachusetts",
          "Idaho",
          "Vermont",
          "Texas",
          "Maine",
          "North Dakota",
          "Colorado",
          "New Hampshire",
          "Pennsylvania",
          "Minnesota",
          "Illinois",
          "Hawaii",
          "New York",
          "Oregon",
          "California",
          "Washington"
         ],
         "xaxis": "x",
         "y": [
          -14708.457307342367,
          -5296.647514050259,
          -2556.7129300012602,
          -2494.7926835152175,
          -1471.4241271836217,
          -1232.6239368214592,
          -944.6272461902263,
          -862.2580247299411,
          -466.8691361673409,
          -235.0090620380579,
          54.88703104273009,
          329.76305114709976,
          441.5695752318061,
          469.37110981078877,
          657.5571875544047,
          666.924127925442,
          715.9227559788415,
          1050.9571133526333,
          1104.9280829005438,
          1155.4947146523918,
          1330.2161884037196,
          1443.2498385542785,
          1643.4462295624471,
          1686.1051294720237,
          1807.4550930238838,
          1921.2612168762062,
          2299.1022917744485,
          2629.926596630241,
          2655.482237894699,
          3086.9670952629385,
          3112.51216819181,
          3291.684983213003,
          3340.913001489862,
          3511.951550465761,
          3561.0969406339136,
          3770.7062355231537,
          3859.872833897971,
          4487.797092459696,
          4904.093805178389,
          5558.320899853075,
          5586.881557994355,
          5657.265920831036,
          6389.194608006001,
          7483.586008539336,
          8203.593359115708,
          9348.71729686117,
          9709.209358403881,
          10733.41411982417,
          11726.037231397699,
          13946.614370122246
         ],
         "yaxis": "y"
        }
       ],
       "layout": {
        "annotations": [
         {
          "align": "right",
          "font": {
           "color": "grey",
           "size": 10
          },
          "opacity": 0.7,
          "showarrow": false,
          "text": "Chart by Dominic Tarro | 𝕏 @dominictarro<br>Sources: NAEP Mathematics Assessments (2015, 2019)<br>CCD National Public Education Financial Survey (2010-2019)",
          "x": 1.07,
          "xref": "paper",
          "y": -0.15,
          "yref": "paper"
         },
         {
          "align": "left",
          "font": {
           "color": "grey",
           "size": 10
          },
          "opacity": 0.7,
          "showarrow": false,
          "text": "Note: The NAEP Mathematics scale ranges from 0 to 500.<br><i>Per Pupil, 4-Year Expenditure</i> is an aggregate from 5th-8th grade. Dollar adjustment was made using <br>each school year's ending year.<br>OLS Adj. R-squared: 0.003; P|t|>0.289; Score change per $1000 change in per student spending=0.08",
          "x": -0.08,
          "xref": "paper",
          "y": -0.15,
          "yref": "paper"
         }
        ],
        "barmode": "relative",
        "coloraxis": {
         "cmid": 0,
         "colorbar": {
          "orientation": "h",
          "title": {
           "text": "Change in <i>NAEP Average Math Score</i>"
          }
         },
         "colorscale": [
          [
           0,
           "rgb(103,0,31)"
          ],
          [
           0.1,
           "rgb(178,24,43)"
          ],
          [
           0.2,
           "rgb(214,96,77)"
          ],
          [
           0.3,
           "rgb(244,165,130)"
          ],
          [
           0.4,
           "rgb(253,219,199)"
          ],
          [
           0.5,
           "rgb(247,247,247)"
          ],
          [
           0.6,
           "rgb(209,229,240)"
          ],
          [
           0.7,
           "rgb(146,197,222)"
          ],
          [
           0.8,
           "rgb(67,147,195)"
          ],
          [
           0.9,
           "rgb(33,102,172)"
          ],
          [
           1,
           "rgb(5,48,97)"
          ]
         ]
        },
        "height": 600,
        "legend": {
         "tracegroupgap": 0
        },
        "paper_bgcolor": "#171717",
        "plot_bgcolor": "#171717",
        "template": {
         "data": {
          "bar": [
           {
            "error_x": {
             "color": "#f2f5fa"
            },
            "error_y": {
             "color": "#f2f5fa"
            },
            "marker": {
             "line": {
              "color": "rgb(17,17,17)",
              "width": 0.5
             },
             "pattern": {
              "fillmode": "overlay",
              "size": 10,
              "solidity": 0.2
             }
            },
            "type": "bar"
           }
          ],
          "barpolar": [
           {
            "marker": {
             "line": {
              "color": "rgb(17,17,17)",
              "width": 0.5
             },
             "pattern": {
              "fillmode": "overlay",
              "size": 10,
              "solidity": 0.2
             }
            },
            "type": "barpolar"
           }
          ],
          "carpet": [
           {
            "aaxis": {
             "endlinecolor": "#A2B1C6",
             "gridcolor": "#506784",
             "linecolor": "#506784",
             "minorgridcolor": "#506784",
             "startlinecolor": "#A2B1C6"
            },
            "baxis": {
             "endlinecolor": "#A2B1C6",
             "gridcolor": "#506784",
             "linecolor": "#506784",
             "minorgridcolor": "#506784",
             "startlinecolor": "#A2B1C6"
            },
            "type": "carpet"
           }
          ],
          "choropleth": [
           {
            "colorbar": {
             "outlinewidth": 0,
             "ticks": ""
            },
            "type": "choropleth"
           }
          ],
          "contour": [
           {
            "colorbar": {
             "outlinewidth": 0,
             "ticks": ""
            },
            "colorscale": [
             [
              0,
              "#0d0887"
             ],
             [
              0.1111111111111111,
              "#46039f"
             ],
             [
              0.2222222222222222,
              "#7201a8"
             ],
             [
              0.3333333333333333,
              "#9c179e"
             ],
             [
              0.4444444444444444,
              "#bd3786"
             ],
             [
              0.5555555555555556,
              "#d8576b"
             ],
             [
              0.6666666666666666,
              "#ed7953"
             ],
             [
              0.7777777777777778,
              "#fb9f3a"
             ],
             [
              0.8888888888888888,
              "#fdca26"
             ],
             [
              1,
              "#f0f921"
             ]
            ],
            "type": "contour"
           }
          ],
          "contourcarpet": [
           {
            "colorbar": {
             "outlinewidth": 0,
             "ticks": ""
            },
            "type": "contourcarpet"
           }
          ],
          "heatmap": [
           {
            "colorbar": {
             "outlinewidth": 0,
             "ticks": ""
            },
            "colorscale": [
             [
              0,
              "#0d0887"
             ],
             [
              0.1111111111111111,
              "#46039f"
             ],
             [
              0.2222222222222222,
              "#7201a8"
             ],
             [
              0.3333333333333333,
              "#9c179e"
             ],
             [
              0.4444444444444444,
              "#bd3786"
             ],
             [
              0.5555555555555556,
              "#d8576b"
             ],
             [
              0.6666666666666666,
              "#ed7953"
             ],
             [
              0.7777777777777778,
              "#fb9f3a"
             ],
             [
              0.8888888888888888,
              "#fdca26"
             ],
             [
              1,
              "#f0f921"
             ]
            ],
            "type": "heatmap"
           }
          ],
          "heatmapgl": [
           {
            "colorbar": {
             "outlinewidth": 0,
             "ticks": ""
            },
            "colorscale": [
             [
              0,
              "#0d0887"
             ],
             [
              0.1111111111111111,
              "#46039f"
             ],
             [
              0.2222222222222222,
              "#7201a8"
             ],
             [
              0.3333333333333333,
              "#9c179e"
             ],
             [
              0.4444444444444444,
              "#bd3786"
             ],
             [
              0.5555555555555556,
              "#d8576b"
             ],
             [
              0.6666666666666666,
              "#ed7953"
             ],
             [
              0.7777777777777778,
              "#fb9f3a"
             ],
             [
              0.8888888888888888,
              "#fdca26"
             ],
             [
              1,
              "#f0f921"
             ]
            ],
            "type": "heatmapgl"
           }
          ],
          "histogram": [
           {
            "marker": {
             "pattern": {
              "fillmode": "overlay",
              "size": 10,
              "solidity": 0.2
             }
            },
            "type": "histogram"
           }
          ],
          "histogram2d": [
           {
            "colorbar": {
             "outlinewidth": 0,
             "ticks": ""
            },
            "colorscale": [
             [
              0,
              "#0d0887"
             ],
             [
              0.1111111111111111,
              "#46039f"
             ],
             [
              0.2222222222222222,
              "#7201a8"
             ],
             [
              0.3333333333333333,
              "#9c179e"
             ],
             [
              0.4444444444444444,
              "#bd3786"
             ],
             [
              0.5555555555555556,
              "#d8576b"
             ],
             [
              0.6666666666666666,
              "#ed7953"
             ],
             [
              0.7777777777777778,
              "#fb9f3a"
             ],
             [
              0.8888888888888888,
              "#fdca26"
             ],
             [
              1,
              "#f0f921"
             ]
            ],
            "type": "histogram2d"
           }
          ],
          "histogram2dcontour": [
           {
            "colorbar": {
             "outlinewidth": 0,
             "ticks": ""
            },
            "colorscale": [
             [
              0,
              "#0d0887"
             ],
             [
              0.1111111111111111,
              "#46039f"
             ],
             [
              0.2222222222222222,
              "#7201a8"
             ],
             [
              0.3333333333333333,
              "#9c179e"
             ],
             [
              0.4444444444444444,
              "#bd3786"
             ],
             [
              0.5555555555555556,
              "#d8576b"
             ],
             [
              0.6666666666666666,
              "#ed7953"
             ],
             [
              0.7777777777777778,
              "#fb9f3a"
             ],
             [
              0.8888888888888888,
              "#fdca26"
             ],
             [
              1,
              "#f0f921"
             ]
            ],
            "type": "histogram2dcontour"
           }
          ],
          "mesh3d": [
           {
            "colorbar": {
             "outlinewidth": 0,
             "ticks": ""
            },
            "type": "mesh3d"
           }
          ],
          "parcoords": [
           {
            "line": {
             "colorbar": {
              "outlinewidth": 0,
              "ticks": ""
             }
            },
            "type": "parcoords"
           }
          ],
          "pie": [
           {
            "automargin": true,
            "type": "pie"
           }
          ],
          "scatter": [
           {
            "marker": {
             "line": {
              "color": "#283442"
             }
            },
            "type": "scatter"
           }
          ],
          "scatter3d": [
           {
            "line": {
             "colorbar": {
              "outlinewidth": 0,
              "ticks": ""
             }
            },
            "marker": {
             "colorbar": {
              "outlinewidth": 0,
              "ticks": ""
             }
            },
            "type": "scatter3d"
           }
          ],
          "scattercarpet": [
           {
            "marker": {
             "colorbar": {
              "outlinewidth": 0,
              "ticks": ""
             }
            },
            "type": "scattercarpet"
           }
          ],
          "scattergeo": [
           {
            "marker": {
             "colorbar": {
              "outlinewidth": 0,
              "ticks": ""
             }
            },
            "type": "scattergeo"
           }
          ],
          "scattergl": [
           {
            "marker": {
             "line": {
              "color": "#283442"
             }
            },
            "type": "scattergl"
           }
          ],
          "scattermapbox": [
           {
            "marker": {
             "colorbar": {
              "outlinewidth": 0,
              "ticks": ""
             }
            },
            "type": "scattermapbox"
           }
          ],
          "scatterpolar": [
           {
            "marker": {
             "colorbar": {
              "outlinewidth": 0,
              "ticks": ""
             }
            },
            "type": "scatterpolar"
           }
          ],
          "scatterpolargl": [
           {
            "marker": {
             "colorbar": {
              "outlinewidth": 0,
              "ticks": ""
             }
            },
            "type": "scatterpolargl"
           }
          ],
          "scatterternary": [
           {
            "marker": {
             "colorbar": {
              "outlinewidth": 0,
              "ticks": ""
             }
            },
            "type": "scatterternary"
           }
          ],
          "surface": [
           {
            "colorbar": {
             "outlinewidth": 0,
             "ticks": ""
            },
            "colorscale": [
             [
              0,
              "#0d0887"
             ],
             [
              0.1111111111111111,
              "#46039f"
             ],
             [
              0.2222222222222222,
              "#7201a8"
             ],
             [
              0.3333333333333333,
              "#9c179e"
             ],
             [
              0.4444444444444444,
              "#bd3786"
             ],
             [
              0.5555555555555556,
              "#d8576b"
             ],
             [
              0.6666666666666666,
              "#ed7953"
             ],
             [
              0.7777777777777778,
              "#fb9f3a"
             ],
             [
              0.8888888888888888,
              "#fdca26"
             ],
             [
              1,
              "#f0f921"
             ]
            ],
            "type": "surface"
           }
          ],
          "table": [
           {
            "cells": {
             "fill": {
              "color": "#506784"
             },
             "line": {
              "color": "rgb(17,17,17)"
             }
            },
            "header": {
             "fill": {
              "color": "#2a3f5f"
             },
             "line": {
              "color": "rgb(17,17,17)"
             }
            },
            "type": "table"
           }
          ]
         },
         "layout": {
          "annotationdefaults": {
           "arrowcolor": "#f2f5fa",
           "arrowhead": 0,
           "arrowwidth": 1
          },
          "autotypenumbers": "strict",
          "coloraxis": {
           "colorbar": {
            "outlinewidth": 0,
            "ticks": ""
           }
          },
          "colorscale": {
           "diverging": [
            [
             0,
             "#8e0152"
            ],
            [
             0.1,
             "#c51b7d"
            ],
            [
             0.2,
             "#de77ae"
            ],
            [
             0.3,
             "#f1b6da"
            ],
            [
             0.4,
             "#fde0ef"
            ],
            [
             0.5,
             "#f7f7f7"
            ],
            [
             0.6,
             "#e6f5d0"
            ],
            [
             0.7,
             "#b8e186"
            ],
            [
             0.8,
             "#7fbc41"
            ],
            [
             0.9,
             "#4d9221"
            ],
            [
             1,
             "#276419"
            ]
           ],
           "sequential": [
            [
             0,
             "#0d0887"
            ],
            [
             0.1111111111111111,
             "#46039f"
            ],
            [
             0.2222222222222222,
             "#7201a8"
            ],
            [
             0.3333333333333333,
             "#9c179e"
            ],
            [
             0.4444444444444444,
             "#bd3786"
            ],
            [
             0.5555555555555556,
             "#d8576b"
            ],
            [
             0.6666666666666666,
             "#ed7953"
            ],
            [
             0.7777777777777778,
             "#fb9f3a"
            ],
            [
             0.8888888888888888,
             "#fdca26"
            ],
            [
             1,
             "#f0f921"
            ]
           ],
           "sequentialminus": [
            [
             0,
             "#0d0887"
            ],
            [
             0.1111111111111111,
             "#46039f"
            ],
            [
             0.2222222222222222,
             "#7201a8"
            ],
            [
             0.3333333333333333,
             "#9c179e"
            ],
            [
             0.4444444444444444,
             "#bd3786"
            ],
            [
             0.5555555555555556,
             "#d8576b"
            ],
            [
             0.6666666666666666,
             "#ed7953"
            ],
            [
             0.7777777777777778,
             "#fb9f3a"
            ],
            [
             0.8888888888888888,
             "#fdca26"
            ],
            [
             1,
             "#f0f921"
            ]
           ]
          },
          "colorway": [
           "#636efa",
           "#EF553B",
           "#00cc96",
           "#ab63fa",
           "#FFA15A",
           "#19d3f3",
           "#FF6692",
           "#B6E880",
           "#FF97FF",
           "#FECB52"
          ],
          "font": {
           "color": "#f2f5fa"
          },
          "geo": {
           "bgcolor": "rgb(17,17,17)",
           "lakecolor": "rgb(17,17,17)",
           "landcolor": "rgb(17,17,17)",
           "showlakes": true,
           "showland": true,
           "subunitcolor": "#506784"
          },
          "hoverlabel": {
           "align": "left"
          },
          "hovermode": "closest",
          "mapbox": {
           "style": "dark"
          },
          "paper_bgcolor": "rgb(17,17,17)",
          "plot_bgcolor": "rgb(17,17,17)",
          "polar": {
           "angularaxis": {
            "gridcolor": "#506784",
            "linecolor": "#506784",
            "ticks": ""
           },
           "bgcolor": "rgb(17,17,17)",
           "radialaxis": {
            "gridcolor": "#506784",
            "linecolor": "#506784",
            "ticks": ""
           }
          },
          "scene": {
           "xaxis": {
            "backgroundcolor": "rgb(17,17,17)",
            "gridcolor": "#506784",
            "gridwidth": 2,
            "linecolor": "#506784",
            "showbackground": true,
            "ticks": "",
            "zerolinecolor": "#C8D4E3"
           },
           "yaxis": {
            "backgroundcolor": "rgb(17,17,17)",
            "gridcolor": "#506784",
            "gridwidth": 2,
            "linecolor": "#506784",
            "showbackground": true,
            "ticks": "",
            "zerolinecolor": "#C8D4E3"
           },
           "zaxis": {
            "backgroundcolor": "rgb(17,17,17)",
            "gridcolor": "#506784",
            "gridwidth": 2,
            "linecolor": "#506784",
            "showbackground": true,
            "ticks": "",
            "zerolinecolor": "#C8D4E3"
           }
          },
          "shapedefaults": {
           "line": {
            "color": "#f2f5fa"
           }
          },
          "sliderdefaults": {
           "bgcolor": "#C8D4E3",
           "bordercolor": "rgb(17,17,17)",
           "borderwidth": 1,
           "tickwidth": 0
          },
          "ternary": {
           "aaxis": {
            "gridcolor": "#506784",
            "linecolor": "#506784",
            "ticks": ""
           },
           "baxis": {
            "gridcolor": "#506784",
            "linecolor": "#506784",
            "ticks": ""
           },
           "bgcolor": "rgb(17,17,17)",
           "caxis": {
            "gridcolor": "#506784",
            "linecolor": "#506784",
            "ticks": ""
           }
          },
          "title": {
           "x": 0.05
          },
          "updatemenudefaults": {
           "bgcolor": "#506784",
           "borderwidth": 0
          },
          "xaxis": {
           "automargin": true,
           "gridcolor": "#283442",
           "linecolor": "#506784",
           "ticks": "",
           "title": {
            "standoff": 15
           },
           "zerolinecolor": "#283442",
           "zerolinewidth": 2
          },
          "yaxis": {
           "automargin": true,
           "gridcolor": "#283442",
           "linecolor": "#506784",
           "ticks": "",
           "title": {
            "standoff": 15
           },
           "zerolinecolor": "#283442",
           "zerolinewidth": 2
          }
         }
        },
        "title": {
         "text": "US Primary Education Return on Investment<br><sup><i>States spending more per student from 5th through 8th grade had a negligible relationship with average 8th grade math performance.</i></sup>"
        },
        "width": 1000,
        "xaxis": {
         "anchor": "y",
         "domain": [
          0,
          1
         ],
         "showticklabels": false,
         "title": {}
        },
        "yaxis": {
         "anchor": "x",
         "domain": [
          0,
          1
         ],
         "title": {
          "font": {
           "size": 10
          },
          "text": "Per Pupil, 4-Year Expenditure Change Between 2015 and 2019<br>(2024 Dollars)"
         }
        }
       }
      }
     },
     "metadata": {},
     "output_type": "display_data"
    },
    {
     "data": {
      "text/html": [
       "<table class=\"simpletable\">\n",
       "<caption>OLS Regression Results</caption>\n",
       "<tr>\n",
       "  <th>Dep. Variable:</th>            <td>y</td>        <th>  R-squared (uncentered):</th>      <td>   0.146</td>\n",
       "</tr>\n",
       "<tr>\n",
       "  <th>Model:</th>                   <td>OLS</td>       <th>  Adj. R-squared (uncentered):</th> <td>   0.129</td>\n",
       "</tr>\n",
       "<tr>\n",
       "  <th>Method:</th>             <td>Least Squares</td>  <th>  F-statistic:       </th>          <td>   8.400</td>\n",
       "</tr>\n",
       "<tr>\n",
       "  <th>Date:</th>             <td>Sat, 28 Sep 2024</td> <th>  Prob (F-statistic):</th>           <td>0.00560</td>\n",
       "</tr>\n",
       "<tr>\n",
       "  <th>Time:</th>                 <td>20:09:28</td>     <th>  Log-Likelihood:    </th>          <td> -133.25</td>\n",
       "</tr>\n",
       "<tr>\n",
       "  <th>No. Observations:</th>      <td>    50</td>      <th>  AIC:               </th>          <td>   268.5</td>\n",
       "</tr>\n",
       "<tr>\n",
       "  <th>Df Residuals:</th>          <td>    49</td>      <th>  BIC:               </th>          <td>   270.4</td>\n",
       "</tr>\n",
       "<tr>\n",
       "  <th>Df Model:</th>              <td>     1</td>      <th>                     </th>              <td> </td>   \n",
       "</tr>\n",
       "<tr>\n",
       "  <th>Covariance Type:</th>      <td>nonrobust</td>    <th>                     </th>              <td> </td>   \n",
       "</tr>\n",
       "</table>\n",
       "<table class=\"simpletable\">\n",
       "<tr>\n",
       "   <td></td>     <th>coef</th>     <th>std err</th>      <th>t</th>      <th>P>|t|</th>  <th>[0.025</th>    <th>0.975]</th>  \n",
       "</tr>\n",
       "<tr>\n",
       "  <th>x1</th> <td>    0.0003</td> <td> 9.63e-05</td> <td>    2.898</td> <td> 0.006</td> <td> 8.56e-05</td> <td>    0.000</td>\n",
       "</tr>\n",
       "</table>\n",
       "<table class=\"simpletable\">\n",
       "<tr>\n",
       "  <th>Omnibus:</th>       <td> 9.223</td> <th>  Durbin-Watson:     </th> <td>   1.112</td>\n",
       "</tr>\n",
       "<tr>\n",
       "  <th>Prob(Omnibus):</th> <td> 0.010</td> <th>  Jarque-Bera (JB):  </th> <td>   9.157</td>\n",
       "</tr>\n",
       "<tr>\n",
       "  <th>Skew:</th>          <td> 0.771</td> <th>  Prob(JB):          </th> <td>  0.0103</td>\n",
       "</tr>\n",
       "<tr>\n",
       "  <th>Kurtosis:</th>      <td> 4.420</td> <th>  Cond. No.          </th> <td>    1.00</td>\n",
       "</tr>\n",
       "</table><br/><br/>Notes:<br/>[1] R² is computed without centering (uncentered) since the model does not contain a constant.<br/>[2] Standard Errors assume that the covariance matrix of the errors is correctly specified."
      ],
      "text/latex": [
       "\\begin{center}\n",
       "\\begin{tabular}{lclc}\n",
       "\\toprule\n",
       "\\textbf{Dep. Variable:}    &        y         & \\textbf{  R-squared (uncentered):}      &     0.146   \\\\\n",
       "\\textbf{Model:}            &       OLS        & \\textbf{  Adj. R-squared (uncentered):} &     0.129   \\\\\n",
       "\\textbf{Method:}           &  Least Squares   & \\textbf{  F-statistic:       }          &     8.400   \\\\\n",
       "\\textbf{Date:}             & Sat, 28 Sep 2024 & \\textbf{  Prob (F-statistic):}          &  0.00560    \\\\\n",
       "\\textbf{Time:}             &     20:09:28     & \\textbf{  Log-Likelihood:    }          &   -133.25   \\\\\n",
       "\\textbf{No. Observations:} &          50      & \\textbf{  AIC:               }          &     268.5   \\\\\n",
       "\\textbf{Df Residuals:}     &          49      & \\textbf{  BIC:               }          &     270.4   \\\\\n",
       "\\textbf{Df Model:}         &           1      & \\textbf{                     }          &             \\\\\n",
       "\\textbf{Covariance Type:}  &    nonrobust     & \\textbf{                     }          &             \\\\\n",
       "\\bottomrule\n",
       "\\end{tabular}\n",
       "\\begin{tabular}{lcccccc}\n",
       "            & \\textbf{coef} & \\textbf{std err} & \\textbf{t} & \\textbf{P$> |$t$|$} & \\textbf{[0.025} & \\textbf{0.975]}  \\\\\n",
       "\\midrule\n",
       "\\textbf{x1} &       0.0003  &     9.63e-05     &     2.898  &         0.006        &     8.56e-05    &        0.000     \\\\\n",
       "\\bottomrule\n",
       "\\end{tabular}\n",
       "\\begin{tabular}{lclc}\n",
       "\\textbf{Omnibus:}       &  9.223 & \\textbf{  Durbin-Watson:     } &    1.112  \\\\\n",
       "\\textbf{Prob(Omnibus):} &  0.010 & \\textbf{  Jarque-Bera (JB):  } &    9.157  \\\\\n",
       "\\textbf{Skew:}          &  0.771 & \\textbf{  Prob(JB):          } &   0.0103  \\\\\n",
       "\\textbf{Kurtosis:}      &  4.420 & \\textbf{  Cond. No.          } &     1.00  \\\\\n",
       "\\bottomrule\n",
       "\\end{tabular}\n",
       "%\\caption{OLS Regression Results}\n",
       "\\end{center}\n",
       "\n",
       "Notes: \\newline\n",
       " [1] R² is computed without centering (uncentered) since the model does not contain a constant. \\newline\n",
       " [2] Standard Errors assume that the covariance matrix of the errors is correctly specified."
      ],
      "text/plain": [
       "<class 'statsmodels.iolib.summary.Summary'>\n",
       "\"\"\"\n",
       "                                 OLS Regression Results                                \n",
       "=======================================================================================\n",
       "Dep. Variable:                      y   R-squared (uncentered):                   0.146\n",
       "Model:                            OLS   Adj. R-squared (uncentered):              0.129\n",
       "Method:                 Least Squares   F-statistic:                              8.400\n",
       "Date:                Sat, 28 Sep 2024   Prob (F-statistic):                     0.00560\n",
       "Time:                        20:09:28   Log-Likelihood:                         -133.25\n",
       "No. Observations:                  50   AIC:                                      268.5\n",
       "Df Residuals:                      49   BIC:                                      270.4\n",
       "Df Model:                           1                                                  \n",
       "Covariance Type:            nonrobust                                                  \n",
       "==============================================================================\n",
       "                 coef    std err          t      P>|t|      [0.025      0.975]\n",
       "------------------------------------------------------------------------------\n",
       "x1             0.0003   9.63e-05      2.898      0.006    8.56e-05       0.000\n",
       "==============================================================================\n",
       "Omnibus:                        9.223   Durbin-Watson:                   1.112\n",
       "Prob(Omnibus):                  0.010   Jarque-Bera (JB):                9.157\n",
       "Skew:                           0.771   Prob(JB):                       0.0103\n",
       "Kurtosis:                       4.420   Cond. No.                         1.00\n",
       "==============================================================================\n",
       "\n",
       "Notes:\n",
       "[1] R² is computed without centering (uncentered) since the model does not contain a constant.\n",
       "[2] Standard Errors assume that the covariance matrix of the errors is correctly specified.\n",
       "\"\"\""
      ]
     },
     "metadata": {},
     "output_type": "display_data"
    },
    {
     "data": {
      "application/vnd.plotly.v1+json": {
       "config": {
        "plotlyServerURL": "https://plot.ly"
       },
       "data": [
        {
         "alignmentgroup": "True",
         "hovertemplate": "State=%{x}<br>4-Year Expenditure Change (2024 Dollars)=%{y}<br>Change in NAEP At or Above Basic</i><br><sup>(% Points)</sup>=%{marker.color}<extra></extra>",
         "legendgroup": "",
         "marker": {
          "color": [
           8,
           2,
           -4,
           0,
           3,
           4,
           4,
           1,
           6,
           5,
           5,
           -1,
           0,
           4,
           -2,
           1,
           -2,
           2,
           1,
           3,
           8,
           0,
           1,
           3,
           4,
           1,
           4,
           -2,
           0,
           1,
           2,
           6,
           3,
           0,
           3,
           1,
           4,
           7,
           5,
           5,
           0,
           7,
           2,
           5,
           3,
           5,
           3,
           6,
           3,
           2
          ],
          "coloraxis": "coloraxis",
          "pattern": {
           "shape": ""
          }
         },
         "name": "",
         "offsetgroup": "",
         "orientation": "v",
         "showlegend": false,
         "textposition": "auto",
         "type": "bar",
         "x": [
          "Alaska",
          "Wyoming",
          "Louisiana",
          "West Virginia",
          "Arkansas",
          "Indiana",
          "Delaware",
          "Oklahoma",
          "Maryland",
          "New Mexico",
          "Kansas",
          "Alabama",
          "Michigan",
          "Iowa",
          "Florida",
          "Missouri",
          "Mississippi",
          "Ohio",
          "Virginia",
          "New Jersey",
          "Rhode Island",
          "Tennessee",
          "South Dakota",
          "Nebraska",
          "Utah",
          "Kentucky",
          "Arizona",
          "North Carolina",
          "Georgia",
          "South Carolina",
          "Wisconsin",
          "Montana",
          "Nevada",
          "Connecticut",
          "Massachusetts",
          "Idaho",
          "Vermont",
          "Texas",
          "Maine",
          "North Dakota",
          "Colorado",
          "New Hampshire",
          "Pennsylvania",
          "Minnesota",
          "Illinois",
          "Hawaii",
          "New York",
          "Oregon",
          "California",
          "Washington"
         ],
         "xaxis": "x",
         "y": [
          -14708.457307342367,
          -5296.647514050259,
          -2556.7129300012602,
          -2494.7926835152175,
          -1471.4241271836217,
          -1232.6239368214592,
          -944.6272461902263,
          -862.2580247299411,
          -466.8691361673409,
          -235.0090620380579,
          54.88703104273009,
          329.76305114709976,
          441.5695752318061,
          469.37110981078877,
          657.5571875544047,
          666.924127925442,
          715.9227559788415,
          1050.9571133526333,
          1104.9280829005438,
          1155.4947146523918,
          1330.2161884037196,
          1443.2498385542785,
          1643.4462295624471,
          1686.1051294720237,
          1807.4550930238838,
          1921.2612168762062,
          2299.1022917744485,
          2629.926596630241,
          2655.482237894699,
          3086.9670952629385,
          3112.51216819181,
          3291.684983213003,
          3340.913001489862,
          3511.951550465761,
          3561.0969406339136,
          3770.7062355231537,
          3859.872833897971,
          4487.797092459696,
          4904.093805178389,
          5558.320899853075,
          5586.881557994355,
          5657.265920831036,
          6389.194608006001,
          7483.586008539336,
          8203.593359115708,
          9348.71729686117,
          9709.209358403881,
          10733.41411982417,
          11726.037231397699,
          13946.614370122246
         ],
         "yaxis": "y"
        }
       ],
       "layout": {
        "annotations": [
         {
          "align": "right",
          "font": {
           "color": "grey",
           "size": 10
          },
          "opacity": 0.7,
          "showarrow": false,
          "text": "Chart by Dominic Tarro | 𝕏 @dominictarro<br>Sources: NAEP Mathematics Assessments (2015, 2019)<br>CCD National Public Education Financial Survey (2010-2019)",
          "x": 1.07,
          "xref": "paper",
          "y": -0.15,
          "yref": "paper"
         },
         {
          "align": "left",
          "font": {
           "color": "grey",
           "size": 10
          },
          "opacity": 0.7,
          "showarrow": false,
          "text": "Note: The NAEP Mathematics scale ranges from 0 to 500.<br><i>Per Pupil, 4-Year Expenditure</i> is an aggregate from 5th-8th grade. Dollar adjustment was made using <br>each school year's ending year.<br>OLS Adj. R-squared: 0.129; P|t|>0.006; Score change per $1000 change in per student spending=0.28",
          "x": -0.08,
          "xref": "paper",
          "y": -0.15,
          "yref": "paper"
         }
        ],
        "barmode": "relative",
        "coloraxis": {
         "cmid": 0,
         "colorbar": {
          "orientation": "h",
          "title": {
           "text": "Change in <i>NAEP At or Above Basic</i><br><sup>(% Points)</sup></i>"
          }
         },
         "colorscale": [
          [
           0,
           "rgb(103,0,31)"
          ],
          [
           0.1,
           "rgb(178,24,43)"
          ],
          [
           0.2,
           "rgb(214,96,77)"
          ],
          [
           0.3,
           "rgb(244,165,130)"
          ],
          [
           0.4,
           "rgb(253,219,199)"
          ],
          [
           0.5,
           "rgb(247,247,247)"
          ],
          [
           0.6,
           "rgb(209,229,240)"
          ],
          [
           0.7,
           "rgb(146,197,222)"
          ],
          [
           0.8,
           "rgb(67,147,195)"
          ],
          [
           0.9,
           "rgb(33,102,172)"
          ],
          [
           1,
           "rgb(5,48,97)"
          ]
         ]
        },
        "height": 600,
        "legend": {
         "tracegroupgap": 0
        },
        "paper_bgcolor": "#171717",
        "plot_bgcolor": "#171717",
        "template": {
         "data": {
          "bar": [
           {
            "error_x": {
             "color": "#f2f5fa"
            },
            "error_y": {
             "color": "#f2f5fa"
            },
            "marker": {
             "line": {
              "color": "rgb(17,17,17)",
              "width": 0.5
             },
             "pattern": {
              "fillmode": "overlay",
              "size": 10,
              "solidity": 0.2
             }
            },
            "type": "bar"
           }
          ],
          "barpolar": [
           {
            "marker": {
             "line": {
              "color": "rgb(17,17,17)",
              "width": 0.5
             },
             "pattern": {
              "fillmode": "overlay",
              "size": 10,
              "solidity": 0.2
             }
            },
            "type": "barpolar"
           }
          ],
          "carpet": [
           {
            "aaxis": {
             "endlinecolor": "#A2B1C6",
             "gridcolor": "#506784",
             "linecolor": "#506784",
             "minorgridcolor": "#506784",
             "startlinecolor": "#A2B1C6"
            },
            "baxis": {
             "endlinecolor": "#A2B1C6",
             "gridcolor": "#506784",
             "linecolor": "#506784",
             "minorgridcolor": "#506784",
             "startlinecolor": "#A2B1C6"
            },
            "type": "carpet"
           }
          ],
          "choropleth": [
           {
            "colorbar": {
             "outlinewidth": 0,
             "ticks": ""
            },
            "type": "choropleth"
           }
          ],
          "contour": [
           {
            "colorbar": {
             "outlinewidth": 0,
             "ticks": ""
            },
            "colorscale": [
             [
              0,
              "#0d0887"
             ],
             [
              0.1111111111111111,
              "#46039f"
             ],
             [
              0.2222222222222222,
              "#7201a8"
             ],
             [
              0.3333333333333333,
              "#9c179e"
             ],
             [
              0.4444444444444444,
              "#bd3786"
             ],
             [
              0.5555555555555556,
              "#d8576b"
             ],
             [
              0.6666666666666666,
              "#ed7953"
             ],
             [
              0.7777777777777778,
              "#fb9f3a"
             ],
             [
              0.8888888888888888,
              "#fdca26"
             ],
             [
              1,
              "#f0f921"
             ]
            ],
            "type": "contour"
           }
          ],
          "contourcarpet": [
           {
            "colorbar": {
             "outlinewidth": 0,
             "ticks": ""
            },
            "type": "contourcarpet"
           }
          ],
          "heatmap": [
           {
            "colorbar": {
             "outlinewidth": 0,
             "ticks": ""
            },
            "colorscale": [
             [
              0,
              "#0d0887"
             ],
             [
              0.1111111111111111,
              "#46039f"
             ],
             [
              0.2222222222222222,
              "#7201a8"
             ],
             [
              0.3333333333333333,
              "#9c179e"
             ],
             [
              0.4444444444444444,
              "#bd3786"
             ],
             [
              0.5555555555555556,
              "#d8576b"
             ],
             [
              0.6666666666666666,
              "#ed7953"
             ],
             [
              0.7777777777777778,
              "#fb9f3a"
             ],
             [
              0.8888888888888888,
              "#fdca26"
             ],
             [
              1,
              "#f0f921"
             ]
            ],
            "type": "heatmap"
           }
          ],
          "heatmapgl": [
           {
            "colorbar": {
             "outlinewidth": 0,
             "ticks": ""
            },
            "colorscale": [
             [
              0,
              "#0d0887"
             ],
             [
              0.1111111111111111,
              "#46039f"
             ],
             [
              0.2222222222222222,
              "#7201a8"
             ],
             [
              0.3333333333333333,
              "#9c179e"
             ],
             [
              0.4444444444444444,
              "#bd3786"
             ],
             [
              0.5555555555555556,
              "#d8576b"
             ],
             [
              0.6666666666666666,
              "#ed7953"
             ],
             [
              0.7777777777777778,
              "#fb9f3a"
             ],
             [
              0.8888888888888888,
              "#fdca26"
             ],
             [
              1,
              "#f0f921"
             ]
            ],
            "type": "heatmapgl"
           }
          ],
          "histogram": [
           {
            "marker": {
             "pattern": {
              "fillmode": "overlay",
              "size": 10,
              "solidity": 0.2
             }
            },
            "type": "histogram"
           }
          ],
          "histogram2d": [
           {
            "colorbar": {
             "outlinewidth": 0,
             "ticks": ""
            },
            "colorscale": [
             [
              0,
              "#0d0887"
             ],
             [
              0.1111111111111111,
              "#46039f"
             ],
             [
              0.2222222222222222,
              "#7201a8"
             ],
             [
              0.3333333333333333,
              "#9c179e"
             ],
             [
              0.4444444444444444,
              "#bd3786"
             ],
             [
              0.5555555555555556,
              "#d8576b"
             ],
             [
              0.6666666666666666,
              "#ed7953"
             ],
             [
              0.7777777777777778,
              "#fb9f3a"
             ],
             [
              0.8888888888888888,
              "#fdca26"
             ],
             [
              1,
              "#f0f921"
             ]
            ],
            "type": "histogram2d"
           }
          ],
          "histogram2dcontour": [
           {
            "colorbar": {
             "outlinewidth": 0,
             "ticks": ""
            },
            "colorscale": [
             [
              0,
              "#0d0887"
             ],
             [
              0.1111111111111111,
              "#46039f"
             ],
             [
              0.2222222222222222,
              "#7201a8"
             ],
             [
              0.3333333333333333,
              "#9c179e"
             ],
             [
              0.4444444444444444,
              "#bd3786"
             ],
             [
              0.5555555555555556,
              "#d8576b"
             ],
             [
              0.6666666666666666,
              "#ed7953"
             ],
             [
              0.7777777777777778,
              "#fb9f3a"
             ],
             [
              0.8888888888888888,
              "#fdca26"
             ],
             [
              1,
              "#f0f921"
             ]
            ],
            "type": "histogram2dcontour"
           }
          ],
          "mesh3d": [
           {
            "colorbar": {
             "outlinewidth": 0,
             "ticks": ""
            },
            "type": "mesh3d"
           }
          ],
          "parcoords": [
           {
            "line": {
             "colorbar": {
              "outlinewidth": 0,
              "ticks": ""
             }
            },
            "type": "parcoords"
           }
          ],
          "pie": [
           {
            "automargin": true,
            "type": "pie"
           }
          ],
          "scatter": [
           {
            "marker": {
             "line": {
              "color": "#283442"
             }
            },
            "type": "scatter"
           }
          ],
          "scatter3d": [
           {
            "line": {
             "colorbar": {
              "outlinewidth": 0,
              "ticks": ""
             }
            },
            "marker": {
             "colorbar": {
              "outlinewidth": 0,
              "ticks": ""
             }
            },
            "type": "scatter3d"
           }
          ],
          "scattercarpet": [
           {
            "marker": {
             "colorbar": {
              "outlinewidth": 0,
              "ticks": ""
             }
            },
            "type": "scattercarpet"
           }
          ],
          "scattergeo": [
           {
            "marker": {
             "colorbar": {
              "outlinewidth": 0,
              "ticks": ""
             }
            },
            "type": "scattergeo"
           }
          ],
          "scattergl": [
           {
            "marker": {
             "line": {
              "color": "#283442"
             }
            },
            "type": "scattergl"
           }
          ],
          "scattermapbox": [
           {
            "marker": {
             "colorbar": {
              "outlinewidth": 0,
              "ticks": ""
             }
            },
            "type": "scattermapbox"
           }
          ],
          "scatterpolar": [
           {
            "marker": {
             "colorbar": {
              "outlinewidth": 0,
              "ticks": ""
             }
            },
            "type": "scatterpolar"
           }
          ],
          "scatterpolargl": [
           {
            "marker": {
             "colorbar": {
              "outlinewidth": 0,
              "ticks": ""
             }
            },
            "type": "scatterpolargl"
           }
          ],
          "scatterternary": [
           {
            "marker": {
             "colorbar": {
              "outlinewidth": 0,
              "ticks": ""
             }
            },
            "type": "scatterternary"
           }
          ],
          "surface": [
           {
            "colorbar": {
             "outlinewidth": 0,
             "ticks": ""
            },
            "colorscale": [
             [
              0,
              "#0d0887"
             ],
             [
              0.1111111111111111,
              "#46039f"
             ],
             [
              0.2222222222222222,
              "#7201a8"
             ],
             [
              0.3333333333333333,
              "#9c179e"
             ],
             [
              0.4444444444444444,
              "#bd3786"
             ],
             [
              0.5555555555555556,
              "#d8576b"
             ],
             [
              0.6666666666666666,
              "#ed7953"
             ],
             [
              0.7777777777777778,
              "#fb9f3a"
             ],
             [
              0.8888888888888888,
              "#fdca26"
             ],
             [
              1,
              "#f0f921"
             ]
            ],
            "type": "surface"
           }
          ],
          "table": [
           {
            "cells": {
             "fill": {
              "color": "#506784"
             },
             "line": {
              "color": "rgb(17,17,17)"
             }
            },
            "header": {
             "fill": {
              "color": "#2a3f5f"
             },
             "line": {
              "color": "rgb(17,17,17)"
             }
            },
            "type": "table"
           }
          ]
         },
         "layout": {
          "annotationdefaults": {
           "arrowcolor": "#f2f5fa",
           "arrowhead": 0,
           "arrowwidth": 1
          },
          "autotypenumbers": "strict",
          "coloraxis": {
           "colorbar": {
            "outlinewidth": 0,
            "ticks": ""
           }
          },
          "colorscale": {
           "diverging": [
            [
             0,
             "#8e0152"
            ],
            [
             0.1,
             "#c51b7d"
            ],
            [
             0.2,
             "#de77ae"
            ],
            [
             0.3,
             "#f1b6da"
            ],
            [
             0.4,
             "#fde0ef"
            ],
            [
             0.5,
             "#f7f7f7"
            ],
            [
             0.6,
             "#e6f5d0"
            ],
            [
             0.7,
             "#b8e186"
            ],
            [
             0.8,
             "#7fbc41"
            ],
            [
             0.9,
             "#4d9221"
            ],
            [
             1,
             "#276419"
            ]
           ],
           "sequential": [
            [
             0,
             "#0d0887"
            ],
            [
             0.1111111111111111,
             "#46039f"
            ],
            [
             0.2222222222222222,
             "#7201a8"
            ],
            [
             0.3333333333333333,
             "#9c179e"
            ],
            [
             0.4444444444444444,
             "#bd3786"
            ],
            [
             0.5555555555555556,
             "#d8576b"
            ],
            [
             0.6666666666666666,
             "#ed7953"
            ],
            [
             0.7777777777777778,
             "#fb9f3a"
            ],
            [
             0.8888888888888888,
             "#fdca26"
            ],
            [
             1,
             "#f0f921"
            ]
           ],
           "sequentialminus": [
            [
             0,
             "#0d0887"
            ],
            [
             0.1111111111111111,
             "#46039f"
            ],
            [
             0.2222222222222222,
             "#7201a8"
            ],
            [
             0.3333333333333333,
             "#9c179e"
            ],
            [
             0.4444444444444444,
             "#bd3786"
            ],
            [
             0.5555555555555556,
             "#d8576b"
            ],
            [
             0.6666666666666666,
             "#ed7953"
            ],
            [
             0.7777777777777778,
             "#fb9f3a"
            ],
            [
             0.8888888888888888,
             "#fdca26"
            ],
            [
             1,
             "#f0f921"
            ]
           ]
          },
          "colorway": [
           "#636efa",
           "#EF553B",
           "#00cc96",
           "#ab63fa",
           "#FFA15A",
           "#19d3f3",
           "#FF6692",
           "#B6E880",
           "#FF97FF",
           "#FECB52"
          ],
          "font": {
           "color": "#f2f5fa"
          },
          "geo": {
           "bgcolor": "rgb(17,17,17)",
           "lakecolor": "rgb(17,17,17)",
           "landcolor": "rgb(17,17,17)",
           "showlakes": true,
           "showland": true,
           "subunitcolor": "#506784"
          },
          "hoverlabel": {
           "align": "left"
          },
          "hovermode": "closest",
          "mapbox": {
           "style": "dark"
          },
          "paper_bgcolor": "rgb(17,17,17)",
          "plot_bgcolor": "rgb(17,17,17)",
          "polar": {
           "angularaxis": {
            "gridcolor": "#506784",
            "linecolor": "#506784",
            "ticks": ""
           },
           "bgcolor": "rgb(17,17,17)",
           "radialaxis": {
            "gridcolor": "#506784",
            "linecolor": "#506784",
            "ticks": ""
           }
          },
          "scene": {
           "xaxis": {
            "backgroundcolor": "rgb(17,17,17)",
            "gridcolor": "#506784",
            "gridwidth": 2,
            "linecolor": "#506784",
            "showbackground": true,
            "ticks": "",
            "zerolinecolor": "#C8D4E3"
           },
           "yaxis": {
            "backgroundcolor": "rgb(17,17,17)",
            "gridcolor": "#506784",
            "gridwidth": 2,
            "linecolor": "#506784",
            "showbackground": true,
            "ticks": "",
            "zerolinecolor": "#C8D4E3"
           },
           "zaxis": {
            "backgroundcolor": "rgb(17,17,17)",
            "gridcolor": "#506784",
            "gridwidth": 2,
            "linecolor": "#506784",
            "showbackground": true,
            "ticks": "",
            "zerolinecolor": "#C8D4E3"
           }
          },
          "shapedefaults": {
           "line": {
            "color": "#f2f5fa"
           }
          },
          "sliderdefaults": {
           "bgcolor": "#C8D4E3",
           "bordercolor": "rgb(17,17,17)",
           "borderwidth": 1,
           "tickwidth": 0
          },
          "ternary": {
           "aaxis": {
            "gridcolor": "#506784",
            "linecolor": "#506784",
            "ticks": ""
           },
           "baxis": {
            "gridcolor": "#506784",
            "linecolor": "#506784",
            "ticks": ""
           },
           "bgcolor": "rgb(17,17,17)",
           "caxis": {
            "gridcolor": "#506784",
            "linecolor": "#506784",
            "ticks": ""
           }
          },
          "title": {
           "x": 0.05
          },
          "updatemenudefaults": {
           "bgcolor": "#506784",
           "borderwidth": 0
          },
          "xaxis": {
           "automargin": true,
           "gridcolor": "#283442",
           "linecolor": "#506784",
           "ticks": "",
           "title": {
            "standoff": 15
           },
           "zerolinecolor": "#283442",
           "zerolinewidth": 2
          },
          "yaxis": {
           "automargin": true,
           "gridcolor": "#283442",
           "linecolor": "#506784",
           "ticks": "",
           "title": {
            "standoff": 15
           },
           "zerolinecolor": "#283442",
           "zerolinewidth": 2
          }
         }
        },
        "title": {
         "text": "US Primary Education Return on Investment<br><sup><i>States spending more per student from 5th through 8th grade had a small relationship with basic 8th grade math performance.</i></sup>"
        },
        "width": 1000,
        "xaxis": {
         "anchor": "y",
         "domain": [
          0,
          1
         ],
         "showticklabels": false,
         "title": {}
        },
        "yaxis": {
         "anchor": "x",
         "domain": [
          0,
          1
         ],
         "title": {
          "font": {
           "size": 10
          },
          "text": "Per Pupil, 4-Year Expenditure Change Between 2015 and 2019<br>(2024 Dollars)"
         }
        }
       }
      }
     },
     "metadata": {},
     "output_type": "display_data"
    },
    {
     "data": {
      "text/html": [
       "<table class=\"simpletable\">\n",
       "<caption>OLS Regression Results</caption>\n",
       "<tr>\n",
       "  <th>Dep. Variable:</th>            <td>y</td>        <th>  R-squared (uncentered):</th>      <td>   0.001</td>\n",
       "</tr>\n",
       "<tr>\n",
       "  <th>Model:</th>                   <td>OLS</td>       <th>  Adj. R-squared (uncentered):</th> <td>  -0.019</td>\n",
       "</tr>\n",
       "<tr>\n",
       "  <th>Method:</th>             <td>Least Squares</td>  <th>  F-statistic:       </th>          <td> 0.04962</td>\n",
       "</tr>\n",
       "<tr>\n",
       "  <th>Date:</th>             <td>Sat, 28 Sep 2024</td> <th>  Prob (F-statistic):</th>           <td> 0.825</td> \n",
       "</tr>\n",
       "<tr>\n",
       "  <th>Time:</th>                 <td>20:09:28</td>     <th>  Log-Likelihood:    </th>          <td> -124.54</td>\n",
       "</tr>\n",
       "<tr>\n",
       "  <th>No. Observations:</th>      <td>    50</td>      <th>  AIC:               </th>          <td>   251.1</td>\n",
       "</tr>\n",
       "<tr>\n",
       "  <th>Df Residuals:</th>          <td>    49</td>      <th>  BIC:               </th>          <td>   253.0</td>\n",
       "</tr>\n",
       "<tr>\n",
       "  <th>Df Model:</th>              <td>     1</td>      <th>                     </th>              <td> </td>   \n",
       "</tr>\n",
       "<tr>\n",
       "  <th>Covariance Type:</th>      <td>nonrobust</td>    <th>                     </th>              <td> </td>   \n",
       "</tr>\n",
       "</table>\n",
       "<table class=\"simpletable\">\n",
       "<tr>\n",
       "   <td></td>     <th>coef</th>     <th>std err</th>      <th>t</th>      <th>P>|t|</th>  <th>[0.025</th>    <th>0.975]</th>  \n",
       "</tr>\n",
       "<tr>\n",
       "  <th>x1</th> <td> 1.802e-05</td> <td> 8.09e-05</td> <td>    0.223</td> <td> 0.825</td> <td>   -0.000</td> <td>    0.000</td>\n",
       "</tr>\n",
       "</table>\n",
       "<table class=\"simpletable\">\n",
       "<tr>\n",
       "  <th>Omnibus:</th>       <td> 1.634</td> <th>  Durbin-Watson:     </th> <td>   2.349</td>\n",
       "</tr>\n",
       "<tr>\n",
       "  <th>Prob(Omnibus):</th> <td> 0.442</td> <th>  Jarque-Bera (JB):  </th> <td>   1.610</td>\n",
       "</tr>\n",
       "<tr>\n",
       "  <th>Skew:</th>          <td> 0.378</td> <th>  Prob(JB):          </th> <td>   0.447</td>\n",
       "</tr>\n",
       "<tr>\n",
       "  <th>Kurtosis:</th>      <td> 2.553</td> <th>  Cond. No.          </th> <td>    1.00</td>\n",
       "</tr>\n",
       "</table><br/><br/>Notes:<br/>[1] R² is computed without centering (uncentered) since the model does not contain a constant.<br/>[2] Standard Errors assume that the covariance matrix of the errors is correctly specified."
      ],
      "text/latex": [
       "\\begin{center}\n",
       "\\begin{tabular}{lclc}\n",
       "\\toprule\n",
       "\\textbf{Dep. Variable:}    &        y         & \\textbf{  R-squared (uncentered):}      &     0.001   \\\\\n",
       "\\textbf{Model:}            &       OLS        & \\textbf{  Adj. R-squared (uncentered):} &    -0.019   \\\\\n",
       "\\textbf{Method:}           &  Least Squares   & \\textbf{  F-statistic:       }          &   0.04962   \\\\\n",
       "\\textbf{Date:}             & Sat, 28 Sep 2024 & \\textbf{  Prob (F-statistic):}          &    0.825    \\\\\n",
       "\\textbf{Time:}             &     20:09:28     & \\textbf{  Log-Likelihood:    }          &   -124.54   \\\\\n",
       "\\textbf{No. Observations:} &          50      & \\textbf{  AIC:               }          &     251.1   \\\\\n",
       "\\textbf{Df Residuals:}     &          49      & \\textbf{  BIC:               }          &     253.0   \\\\\n",
       "\\textbf{Df Model:}         &           1      & \\textbf{                     }          &             \\\\\n",
       "\\textbf{Covariance Type:}  &    nonrobust     & \\textbf{                     }          &             \\\\\n",
       "\\bottomrule\n",
       "\\end{tabular}\n",
       "\\begin{tabular}{lcccccc}\n",
       "            & \\textbf{coef} & \\textbf{std err} & \\textbf{t} & \\textbf{P$> |$t$|$} & \\textbf{[0.025} & \\textbf{0.975]}  \\\\\n",
       "\\midrule\n",
       "\\textbf{x1} &    1.802e-05  &     8.09e-05     &     0.223  &         0.825        &       -0.000    &        0.000     \\\\\n",
       "\\bottomrule\n",
       "\\end{tabular}\n",
       "\\begin{tabular}{lclc}\n",
       "\\textbf{Omnibus:}       &  1.634 & \\textbf{  Durbin-Watson:     } &    2.349  \\\\\n",
       "\\textbf{Prob(Omnibus):} &  0.442 & \\textbf{  Jarque-Bera (JB):  } &    1.610  \\\\\n",
       "\\textbf{Skew:}          &  0.378 & \\textbf{  Prob(JB):          } &    0.447  \\\\\n",
       "\\textbf{Kurtosis:}      &  2.553 & \\textbf{  Cond. No.          } &     1.00  \\\\\n",
       "\\bottomrule\n",
       "\\end{tabular}\n",
       "%\\caption{OLS Regression Results}\n",
       "\\end{center}\n",
       "\n",
       "Notes: \\newline\n",
       " [1] R² is computed without centering (uncentered) since the model does not contain a constant. \\newline\n",
       " [2] Standard Errors assume that the covariance matrix of the errors is correctly specified."
      ],
      "text/plain": [
       "<class 'statsmodels.iolib.summary.Summary'>\n",
       "\"\"\"\n",
       "                                 OLS Regression Results                                \n",
       "=======================================================================================\n",
       "Dep. Variable:                      y   R-squared (uncentered):                   0.001\n",
       "Model:                            OLS   Adj. R-squared (uncentered):             -0.019\n",
       "Method:                 Least Squares   F-statistic:                            0.04962\n",
       "Date:                Sat, 28 Sep 2024   Prob (F-statistic):                       0.825\n",
       "Time:                        20:09:28   Log-Likelihood:                         -124.54\n",
       "No. Observations:                  50   AIC:                                      251.1\n",
       "Df Residuals:                      49   BIC:                                      253.0\n",
       "Df Model:                           1                                                  \n",
       "Covariance Type:            nonrobust                                                  \n",
       "==============================================================================\n",
       "                 coef    std err          t      P>|t|      [0.025      0.975]\n",
       "------------------------------------------------------------------------------\n",
       "x1          1.802e-05   8.09e-05      0.223      0.825      -0.000       0.000\n",
       "==============================================================================\n",
       "Omnibus:                        1.634   Durbin-Watson:                   2.349\n",
       "Prob(Omnibus):                  0.442   Jarque-Bera (JB):                1.610\n",
       "Skew:                           0.378   Prob(JB):                        0.447\n",
       "Kurtosis:                       2.553   Cond. No.                         1.00\n",
       "==============================================================================\n",
       "\n",
       "Notes:\n",
       "[1] R² is computed without centering (uncentered) since the model does not contain a constant.\n",
       "[2] Standard Errors assume that the covariance matrix of the errors is correctly specified.\n",
       "\"\"\""
      ]
     },
     "metadata": {},
     "output_type": "display_data"
    },
    {
     "data": {
      "application/vnd.plotly.v1+json": {
       "config": {
        "plotlyServerURL": "https://plot.ly"
       },
       "data": [
        {
         "alignmentgroup": "True",
         "hovertemplate": "State=%{x}<br>4-Year Expenditure Change (2024 Dollars)=%{y}<br>Change in NAEP At or Above Proficient</i><br><sup>(% Points)</sup>=%{marker.color}<extra></extra>",
         "legendgroup": "",
         "marker": {
          "color": [
           3,
           -2,
           -5,
           -3,
           -2,
           2,
           1,
           -3,
           2,
           0,
           0,
           -4,
           -2,
           4,
           -5,
           -1,
           -2,
           -3,
           0,
           2,
           3,
           -2,
           -5,
           1,
           1,
           -1,
           4,
           -4,
           -3,
           -3,
           0,
           3,
           0,
           -3,
           4,
           -3,
           4,
           2,
           1,
           2,
           0,
           8,
           -3,
           4,
           -2,
           2,
           -3,
           3,
           -2,
           -1
          ],
          "coloraxis": "coloraxis",
          "pattern": {
           "shape": ""
          }
         },
         "name": "",
         "offsetgroup": "",
         "orientation": "v",
         "showlegend": false,
         "textposition": "auto",
         "type": "bar",
         "x": [
          "Alaska",
          "Wyoming",
          "Louisiana",
          "West Virginia",
          "Arkansas",
          "Indiana",
          "Delaware",
          "Oklahoma",
          "Maryland",
          "New Mexico",
          "Kansas",
          "Alabama",
          "Michigan",
          "Iowa",
          "Florida",
          "Missouri",
          "Mississippi",
          "Ohio",
          "Virginia",
          "New Jersey",
          "Rhode Island",
          "Tennessee",
          "South Dakota",
          "Nebraska",
          "Utah",
          "Kentucky",
          "Arizona",
          "North Carolina",
          "Georgia",
          "South Carolina",
          "Wisconsin",
          "Montana",
          "Nevada",
          "Connecticut",
          "Massachusetts",
          "Idaho",
          "Vermont",
          "Texas",
          "Maine",
          "North Dakota",
          "Colorado",
          "New Hampshire",
          "Pennsylvania",
          "Minnesota",
          "Illinois",
          "Hawaii",
          "New York",
          "Oregon",
          "California",
          "Washington"
         ],
         "xaxis": "x",
         "y": [
          -14708.457307342367,
          -5296.647514050259,
          -2556.7129300012602,
          -2494.7926835152175,
          -1471.4241271836217,
          -1232.6239368214592,
          -944.6272461902263,
          -862.2580247299411,
          -466.8691361673409,
          -235.0090620380579,
          54.88703104273009,
          329.76305114709976,
          441.5695752318061,
          469.37110981078877,
          657.5571875544047,
          666.924127925442,
          715.9227559788415,
          1050.9571133526333,
          1104.9280829005438,
          1155.4947146523918,
          1330.2161884037196,
          1443.2498385542785,
          1643.4462295624471,
          1686.1051294720237,
          1807.4550930238838,
          1921.2612168762062,
          2299.1022917744485,
          2629.926596630241,
          2655.482237894699,
          3086.9670952629385,
          3112.51216819181,
          3291.684983213003,
          3340.913001489862,
          3511.951550465761,
          3561.0969406339136,
          3770.7062355231537,
          3859.872833897971,
          4487.797092459696,
          4904.093805178389,
          5558.320899853075,
          5586.881557994355,
          5657.265920831036,
          6389.194608006001,
          7483.586008539336,
          8203.593359115708,
          9348.71729686117,
          9709.209358403881,
          10733.41411982417,
          11726.037231397699,
          13946.614370122246
         ],
         "yaxis": "y"
        }
       ],
       "layout": {
        "annotations": [
         {
          "align": "right",
          "font": {
           "color": "grey",
           "size": 10
          },
          "opacity": 0.7,
          "showarrow": false,
          "text": "Chart by Dominic Tarro | 𝕏 @dominictarro<br>Sources: NAEP Mathematics Assessments (2015, 2019)<br>CCD National Public Education Financial Survey (2010-2019)",
          "x": 1.07,
          "xref": "paper",
          "y": -0.15,
          "yref": "paper"
         },
         {
          "align": "left",
          "font": {
           "color": "grey",
           "size": 10
          },
          "opacity": 0.7,
          "showarrow": false,
          "text": "Note: The NAEP Mathematics scale ranges from 0 to 500.<br><i>Per Pupil, 4-Year Expenditure</i> is an aggregate from 5th-8th grade. Dollar adjustment was made using <br>each school year's ending year.<br>OLS Adj. R-squared: -0.019; P|t|>0.825; Score change per $1000 change in per student spending=0.02",
          "x": -0.08,
          "xref": "paper",
          "y": -0.15,
          "yref": "paper"
         }
        ],
        "barmode": "relative",
        "coloraxis": {
         "cmid": 0,
         "colorbar": {
          "orientation": "h",
          "title": {
           "text": "Change in <i>NAEP At or Above Proficient</i><br><sup>(% Points)</sup></i>"
          }
         },
         "colorscale": [
          [
           0,
           "rgb(103,0,31)"
          ],
          [
           0.1,
           "rgb(178,24,43)"
          ],
          [
           0.2,
           "rgb(214,96,77)"
          ],
          [
           0.3,
           "rgb(244,165,130)"
          ],
          [
           0.4,
           "rgb(253,219,199)"
          ],
          [
           0.5,
           "rgb(247,247,247)"
          ],
          [
           0.6,
           "rgb(209,229,240)"
          ],
          [
           0.7,
           "rgb(146,197,222)"
          ],
          [
           0.8,
           "rgb(67,147,195)"
          ],
          [
           0.9,
           "rgb(33,102,172)"
          ],
          [
           1,
           "rgb(5,48,97)"
          ]
         ]
        },
        "height": 600,
        "legend": {
         "tracegroupgap": 0
        },
        "paper_bgcolor": "#171717",
        "plot_bgcolor": "#171717",
        "template": {
         "data": {
          "bar": [
           {
            "error_x": {
             "color": "#f2f5fa"
            },
            "error_y": {
             "color": "#f2f5fa"
            },
            "marker": {
             "line": {
              "color": "rgb(17,17,17)",
              "width": 0.5
             },
             "pattern": {
              "fillmode": "overlay",
              "size": 10,
              "solidity": 0.2
             }
            },
            "type": "bar"
           }
          ],
          "barpolar": [
           {
            "marker": {
             "line": {
              "color": "rgb(17,17,17)",
              "width": 0.5
             },
             "pattern": {
              "fillmode": "overlay",
              "size": 10,
              "solidity": 0.2
             }
            },
            "type": "barpolar"
           }
          ],
          "carpet": [
           {
            "aaxis": {
             "endlinecolor": "#A2B1C6",
             "gridcolor": "#506784",
             "linecolor": "#506784",
             "minorgridcolor": "#506784",
             "startlinecolor": "#A2B1C6"
            },
            "baxis": {
             "endlinecolor": "#A2B1C6",
             "gridcolor": "#506784",
             "linecolor": "#506784",
             "minorgridcolor": "#506784",
             "startlinecolor": "#A2B1C6"
            },
            "type": "carpet"
           }
          ],
          "choropleth": [
           {
            "colorbar": {
             "outlinewidth": 0,
             "ticks": ""
            },
            "type": "choropleth"
           }
          ],
          "contour": [
           {
            "colorbar": {
             "outlinewidth": 0,
             "ticks": ""
            },
            "colorscale": [
             [
              0,
              "#0d0887"
             ],
             [
              0.1111111111111111,
              "#46039f"
             ],
             [
              0.2222222222222222,
              "#7201a8"
             ],
             [
              0.3333333333333333,
              "#9c179e"
             ],
             [
              0.4444444444444444,
              "#bd3786"
             ],
             [
              0.5555555555555556,
              "#d8576b"
             ],
             [
              0.6666666666666666,
              "#ed7953"
             ],
             [
              0.7777777777777778,
              "#fb9f3a"
             ],
             [
              0.8888888888888888,
              "#fdca26"
             ],
             [
              1,
              "#f0f921"
             ]
            ],
            "type": "contour"
           }
          ],
          "contourcarpet": [
           {
            "colorbar": {
             "outlinewidth": 0,
             "ticks": ""
            },
            "type": "contourcarpet"
           }
          ],
          "heatmap": [
           {
            "colorbar": {
             "outlinewidth": 0,
             "ticks": ""
            },
            "colorscale": [
             [
              0,
              "#0d0887"
             ],
             [
              0.1111111111111111,
              "#46039f"
             ],
             [
              0.2222222222222222,
              "#7201a8"
             ],
             [
              0.3333333333333333,
              "#9c179e"
             ],
             [
              0.4444444444444444,
              "#bd3786"
             ],
             [
              0.5555555555555556,
              "#d8576b"
             ],
             [
              0.6666666666666666,
              "#ed7953"
             ],
             [
              0.7777777777777778,
              "#fb9f3a"
             ],
             [
              0.8888888888888888,
              "#fdca26"
             ],
             [
              1,
              "#f0f921"
             ]
            ],
            "type": "heatmap"
           }
          ],
          "heatmapgl": [
           {
            "colorbar": {
             "outlinewidth": 0,
             "ticks": ""
            },
            "colorscale": [
             [
              0,
              "#0d0887"
             ],
             [
              0.1111111111111111,
              "#46039f"
             ],
             [
              0.2222222222222222,
              "#7201a8"
             ],
             [
              0.3333333333333333,
              "#9c179e"
             ],
             [
              0.4444444444444444,
              "#bd3786"
             ],
             [
              0.5555555555555556,
              "#d8576b"
             ],
             [
              0.6666666666666666,
              "#ed7953"
             ],
             [
              0.7777777777777778,
              "#fb9f3a"
             ],
             [
              0.8888888888888888,
              "#fdca26"
             ],
             [
              1,
              "#f0f921"
             ]
            ],
            "type": "heatmapgl"
           }
          ],
          "histogram": [
           {
            "marker": {
             "pattern": {
              "fillmode": "overlay",
              "size": 10,
              "solidity": 0.2
             }
            },
            "type": "histogram"
           }
          ],
          "histogram2d": [
           {
            "colorbar": {
             "outlinewidth": 0,
             "ticks": ""
            },
            "colorscale": [
             [
              0,
              "#0d0887"
             ],
             [
              0.1111111111111111,
              "#46039f"
             ],
             [
              0.2222222222222222,
              "#7201a8"
             ],
             [
              0.3333333333333333,
              "#9c179e"
             ],
             [
              0.4444444444444444,
              "#bd3786"
             ],
             [
              0.5555555555555556,
              "#d8576b"
             ],
             [
              0.6666666666666666,
              "#ed7953"
             ],
             [
              0.7777777777777778,
              "#fb9f3a"
             ],
             [
              0.8888888888888888,
              "#fdca26"
             ],
             [
              1,
              "#f0f921"
             ]
            ],
            "type": "histogram2d"
           }
          ],
          "histogram2dcontour": [
           {
            "colorbar": {
             "outlinewidth": 0,
             "ticks": ""
            },
            "colorscale": [
             [
              0,
              "#0d0887"
             ],
             [
              0.1111111111111111,
              "#46039f"
             ],
             [
              0.2222222222222222,
              "#7201a8"
             ],
             [
              0.3333333333333333,
              "#9c179e"
             ],
             [
              0.4444444444444444,
              "#bd3786"
             ],
             [
              0.5555555555555556,
              "#d8576b"
             ],
             [
              0.6666666666666666,
              "#ed7953"
             ],
             [
              0.7777777777777778,
              "#fb9f3a"
             ],
             [
              0.8888888888888888,
              "#fdca26"
             ],
             [
              1,
              "#f0f921"
             ]
            ],
            "type": "histogram2dcontour"
           }
          ],
          "mesh3d": [
           {
            "colorbar": {
             "outlinewidth": 0,
             "ticks": ""
            },
            "type": "mesh3d"
           }
          ],
          "parcoords": [
           {
            "line": {
             "colorbar": {
              "outlinewidth": 0,
              "ticks": ""
             }
            },
            "type": "parcoords"
           }
          ],
          "pie": [
           {
            "automargin": true,
            "type": "pie"
           }
          ],
          "scatter": [
           {
            "marker": {
             "line": {
              "color": "#283442"
             }
            },
            "type": "scatter"
           }
          ],
          "scatter3d": [
           {
            "line": {
             "colorbar": {
              "outlinewidth": 0,
              "ticks": ""
             }
            },
            "marker": {
             "colorbar": {
              "outlinewidth": 0,
              "ticks": ""
             }
            },
            "type": "scatter3d"
           }
          ],
          "scattercarpet": [
           {
            "marker": {
             "colorbar": {
              "outlinewidth": 0,
              "ticks": ""
             }
            },
            "type": "scattercarpet"
           }
          ],
          "scattergeo": [
           {
            "marker": {
             "colorbar": {
              "outlinewidth": 0,
              "ticks": ""
             }
            },
            "type": "scattergeo"
           }
          ],
          "scattergl": [
           {
            "marker": {
             "line": {
              "color": "#283442"
             }
            },
            "type": "scattergl"
           }
          ],
          "scattermapbox": [
           {
            "marker": {
             "colorbar": {
              "outlinewidth": 0,
              "ticks": ""
             }
            },
            "type": "scattermapbox"
           }
          ],
          "scatterpolar": [
           {
            "marker": {
             "colorbar": {
              "outlinewidth": 0,
              "ticks": ""
             }
            },
            "type": "scatterpolar"
           }
          ],
          "scatterpolargl": [
           {
            "marker": {
             "colorbar": {
              "outlinewidth": 0,
              "ticks": ""
             }
            },
            "type": "scatterpolargl"
           }
          ],
          "scatterternary": [
           {
            "marker": {
             "colorbar": {
              "outlinewidth": 0,
              "ticks": ""
             }
            },
            "type": "scatterternary"
           }
          ],
          "surface": [
           {
            "colorbar": {
             "outlinewidth": 0,
             "ticks": ""
            },
            "colorscale": [
             [
              0,
              "#0d0887"
             ],
             [
              0.1111111111111111,
              "#46039f"
             ],
             [
              0.2222222222222222,
              "#7201a8"
             ],
             [
              0.3333333333333333,
              "#9c179e"
             ],
             [
              0.4444444444444444,
              "#bd3786"
             ],
             [
              0.5555555555555556,
              "#d8576b"
             ],
             [
              0.6666666666666666,
              "#ed7953"
             ],
             [
              0.7777777777777778,
              "#fb9f3a"
             ],
             [
              0.8888888888888888,
              "#fdca26"
             ],
             [
              1,
              "#f0f921"
             ]
            ],
            "type": "surface"
           }
          ],
          "table": [
           {
            "cells": {
             "fill": {
              "color": "#506784"
             },
             "line": {
              "color": "rgb(17,17,17)"
             }
            },
            "header": {
             "fill": {
              "color": "#2a3f5f"
             },
             "line": {
              "color": "rgb(17,17,17)"
             }
            },
            "type": "table"
           }
          ]
         },
         "layout": {
          "annotationdefaults": {
           "arrowcolor": "#f2f5fa",
           "arrowhead": 0,
           "arrowwidth": 1
          },
          "autotypenumbers": "strict",
          "coloraxis": {
           "colorbar": {
            "outlinewidth": 0,
            "ticks": ""
           }
          },
          "colorscale": {
           "diverging": [
            [
             0,
             "#8e0152"
            ],
            [
             0.1,
             "#c51b7d"
            ],
            [
             0.2,
             "#de77ae"
            ],
            [
             0.3,
             "#f1b6da"
            ],
            [
             0.4,
             "#fde0ef"
            ],
            [
             0.5,
             "#f7f7f7"
            ],
            [
             0.6,
             "#e6f5d0"
            ],
            [
             0.7,
             "#b8e186"
            ],
            [
             0.8,
             "#7fbc41"
            ],
            [
             0.9,
             "#4d9221"
            ],
            [
             1,
             "#276419"
            ]
           ],
           "sequential": [
            [
             0,
             "#0d0887"
            ],
            [
             0.1111111111111111,
             "#46039f"
            ],
            [
             0.2222222222222222,
             "#7201a8"
            ],
            [
             0.3333333333333333,
             "#9c179e"
            ],
            [
             0.4444444444444444,
             "#bd3786"
            ],
            [
             0.5555555555555556,
             "#d8576b"
            ],
            [
             0.6666666666666666,
             "#ed7953"
            ],
            [
             0.7777777777777778,
             "#fb9f3a"
            ],
            [
             0.8888888888888888,
             "#fdca26"
            ],
            [
             1,
             "#f0f921"
            ]
           ],
           "sequentialminus": [
            [
             0,
             "#0d0887"
            ],
            [
             0.1111111111111111,
             "#46039f"
            ],
            [
             0.2222222222222222,
             "#7201a8"
            ],
            [
             0.3333333333333333,
             "#9c179e"
            ],
            [
             0.4444444444444444,
             "#bd3786"
            ],
            [
             0.5555555555555556,
             "#d8576b"
            ],
            [
             0.6666666666666666,
             "#ed7953"
            ],
            [
             0.7777777777777778,
             "#fb9f3a"
            ],
            [
             0.8888888888888888,
             "#fdca26"
            ],
            [
             1,
             "#f0f921"
            ]
           ]
          },
          "colorway": [
           "#636efa",
           "#EF553B",
           "#00cc96",
           "#ab63fa",
           "#FFA15A",
           "#19d3f3",
           "#FF6692",
           "#B6E880",
           "#FF97FF",
           "#FECB52"
          ],
          "font": {
           "color": "#f2f5fa"
          },
          "geo": {
           "bgcolor": "rgb(17,17,17)",
           "lakecolor": "rgb(17,17,17)",
           "landcolor": "rgb(17,17,17)",
           "showlakes": true,
           "showland": true,
           "subunitcolor": "#506784"
          },
          "hoverlabel": {
           "align": "left"
          },
          "hovermode": "closest",
          "mapbox": {
           "style": "dark"
          },
          "paper_bgcolor": "rgb(17,17,17)",
          "plot_bgcolor": "rgb(17,17,17)",
          "polar": {
           "angularaxis": {
            "gridcolor": "#506784",
            "linecolor": "#506784",
            "ticks": ""
           },
           "bgcolor": "rgb(17,17,17)",
           "radialaxis": {
            "gridcolor": "#506784",
            "linecolor": "#506784",
            "ticks": ""
           }
          },
          "scene": {
           "xaxis": {
            "backgroundcolor": "rgb(17,17,17)",
            "gridcolor": "#506784",
            "gridwidth": 2,
            "linecolor": "#506784",
            "showbackground": true,
            "ticks": "",
            "zerolinecolor": "#C8D4E3"
           },
           "yaxis": {
            "backgroundcolor": "rgb(17,17,17)",
            "gridcolor": "#506784",
            "gridwidth": 2,
            "linecolor": "#506784",
            "showbackground": true,
            "ticks": "",
            "zerolinecolor": "#C8D4E3"
           },
           "zaxis": {
            "backgroundcolor": "rgb(17,17,17)",
            "gridcolor": "#506784",
            "gridwidth": 2,
            "linecolor": "#506784",
            "showbackground": true,
            "ticks": "",
            "zerolinecolor": "#C8D4E3"
           }
          },
          "shapedefaults": {
           "line": {
            "color": "#f2f5fa"
           }
          },
          "sliderdefaults": {
           "bgcolor": "#C8D4E3",
           "bordercolor": "rgb(17,17,17)",
           "borderwidth": 1,
           "tickwidth": 0
          },
          "ternary": {
           "aaxis": {
            "gridcolor": "#506784",
            "linecolor": "#506784",
            "ticks": ""
           },
           "baxis": {
            "gridcolor": "#506784",
            "linecolor": "#506784",
            "ticks": ""
           },
           "bgcolor": "rgb(17,17,17)",
           "caxis": {
            "gridcolor": "#506784",
            "linecolor": "#506784",
            "ticks": ""
           }
          },
          "title": {
           "x": 0.05
          },
          "updatemenudefaults": {
           "bgcolor": "#506784",
           "borderwidth": 0
          },
          "xaxis": {
           "automargin": true,
           "gridcolor": "#283442",
           "linecolor": "#506784",
           "ticks": "",
           "title": {
            "standoff": 15
           },
           "zerolinecolor": "#283442",
           "zerolinewidth": 2
          },
          "yaxis": {
           "automargin": true,
           "gridcolor": "#283442",
           "linecolor": "#506784",
           "ticks": "",
           "title": {
            "standoff": 15
           },
           "zerolinecolor": "#283442",
           "zerolinewidth": 2
          }
         }
        },
        "title": {
         "text": "US Primary Education Return on Investment<br><sup><i>States spending more per student from 5th through 8th grade had a negligible relationship with 8th grade math profieciency.</i></sup>"
        },
        "width": 1000,
        "xaxis": {
         "anchor": "y",
         "domain": [
          0,
          1
         ],
         "showticklabels": false,
         "title": {}
        },
        "yaxis": {
         "anchor": "x",
         "domain": [
          0,
          1
         ],
         "title": {
          "font": {
           "size": 10
          },
          "text": "Per Pupil, 4-Year Expenditure Change Between 2015 and 2019<br>(2024 Dollars)"
         }
        }
       }
      }
     },
     "metadata": {},
     "output_type": "display_data"
    }
   ],
   "source": [
    "\n",
    "def generate_state_investment_and_math_performance_bar_chart(\n",
    "    column: str, legend_title: str, description: str, change_measure: str\n",
    ") -> go.Figure:\n",
    "    df = student_investment.join(\n",
    "        math_performance,\n",
    "        on=\"State Name\"\n",
    "    ).sort(\"Investment Change\")\n",
    "    result = correlate(df, \"Investment Change\", column)\n",
    "    return px.bar(\n",
    "        df,\n",
    "        x=\"State Name\",\n",
    "        y=\"Investment Change\",\n",
    "        color=column,\n",
    "        title=f\"US Primary Education Return on Investment<br><sup><i>{description}</i></sup>\",\n",
    "        template=\"plotly_dark\",\n",
    "        color_continuous_scale=px.colors.sequential.RdBu,\n",
    "        labels={\n",
    "            \"State Name\": \"State\",\n",
    "            \"Investment Change\": \"4-Year Expenditure Change (2024 Dollars)\",\n",
    "            column: f\"Change in NAEP {legend_title}\",\n",
    "        },\n",
    "        width=1000,\n",
    "        height=600,\n",
    "    ).update_layout(\n",
    "        xaxis=dict(showticklabels=False, title=None),\n",
    "        yaxis_title=\"Per Pupil, 4-Year Expenditure Change Between 2015 and 2019<br>(2024 Dollars)\",\n",
    "        yaxis_title_font_size=10,\n",
    "        coloraxis_colorbar_title=f\"Change in <i>NAEP {legend_title}</i>\",\n",
    "        coloraxis_colorbar_orientation=\"h\",\n",
    "        plot_bgcolor=\"#171717\",\n",
    "        paper_bgcolor=\"#171717\",\n",
    "    ).update_coloraxes(\n",
    "        cmid=0,\n",
    "    ).add_annotation(\n",
    "        x=1.07,\n",
    "        y=-0.15,\n",
    "        xref=\"paper\",\n",
    "        yref=\"paper\",\n",
    "        text=\"<br>\".join(\n",
    "            (\n",
    "                \"Chart by Dominic Tarro | 𝕏 @dominictarro\",\n",
    "                \"Sources: NAEP Mathematics Assessments (2015, 2019)\",\n",
    "                \"CCD National Public Education Financial Survey (2010-2019)\"\n",
    "            )\n",
    "        ),\n",
    "        align=\"right\",\n",
    "        showarrow=False,\n",
    "        font=dict(\n",
    "            size=10,\n",
    "            color=\"grey\"\n",
    "        ),\n",
    "        opacity=0.7\n",
    "    ).add_annotation(\n",
    "        x=-0.08,\n",
    "        y=-0.15,\n",
    "        xref=\"paper\",\n",
    "        yref=\"paper\",\n",
    "        text=\"<br>\".join(\n",
    "            (\n",
    "                \"Note: The NAEP Mathematics scale ranges from 0 to 500.\",\n",
    "                \"<i>Per Pupil, 4-Year Expenditure</i> is an aggregate from 5th-8th grade. Dollar adjustment was made using <br>each school year's ending year.\",\n",
    "                f\"OLS Adj. R-squared: {result.r_squared:.03f}; P|t|>{result.p_value:.03f}; {change_measure.title()} change per $1000 change in per student spending={result.coef * 1000:.2f}\"\n",
    "            )\n",
    "        ),\n",
    "        align=\"left\",\n",
    "        showarrow=False,\n",
    "        font=dict(\n",
    "            size=10,\n",
    "            color=\"grey\"\n",
    "        ),\n",
    "        opacity=0.7\n",
    "    )\n",
    "\n",
    "_fig1 = generate_state_investment_and_math_performance_bar_chart(\n",
    "    \"Mean Grade 8 Math Score Change\",\n",
    "    \"Average Math Score\",\n",
    "    \"States spending more per student from 5th through 8th grade had a negligible relationship with average 8th grade math performance.\",\n",
    "    \"score\",\n",
    ")\n",
    "_fig1.write_image(\"charts/spending-school-roi-math-mean.png\")\n",
    "_fig1.show()\n",
    "_fig2 = generate_state_investment_and_math_performance_bar_chart(\n",
    "    \"At or Above Basic (%) Change\",\n",
    "    \"At or Above Basic</i><br><sup>(% Points)</sup>\",\n",
    "    \"States spending more per student from 5th through 8th grade had a small relationship with basic 8th grade math performance.\",\n",
    "    \"score\",\n",
    ")\n",
    "_fig2.write_image(\"charts/spending-school-roi-math-basic.png\")\n",
    "_fig2.show()\n",
    "_fig3 = generate_state_investment_and_math_performance_bar_chart(\n",
    "    \"At or Above Proficient (%) Change\",\n",
    "    \"At or Above Proficient</i><br><sup>(% Points)</sup>\",\n",
    "    \"States spending more per student from 5th through 8th grade had a negligible relationship with 8th grade math profieciency.\",\n",
    "    \"score\",\n",
    ")\n",
    "_fig3.write_image(\"charts/spending-school-roi-math-proficient.png\")\n",
    "_fig3.show()"
   ]
  },
  {
   "cell_type": "code",
   "execution_count": 10,
   "metadata": {},
   "outputs": [
    {
     "data": {
      "text/html": [
       "<div><style>\n",
       ".dataframe > thead > tr,\n",
       ".dataframe > tbody > tr {\n",
       "  text-align: right;\n",
       "  white-space: pre-wrap;\n",
       "}\n",
       "</style>\n",
       "<small>shape: (54, 4)</small><table border=\"1\" class=\"dataframe\"><thead><tr><th>State Name</th><th>Mean Grade 8 Reading Score Change</th><th>At or Above Basic (%) Change</th><th>At or Above Proficient (%) Change</th></tr><tr><td>str</td><td>i64</td><td>i64</td><td>i64</td></tr></thead><tbody><tr><td>&quot;Puerto Rico&quot;</td><td>null</td><td>null</td><td>null</td></tr><tr><td>&quot;Mississippi&quot;</td><td>-4</td><td>-4</td><td>-5</td></tr><tr><td>&quot;DoDEA&quot;</td><td>-3</td><td>-1</td><td>-5</td></tr><tr><td>&quot;North Carolina&quot;</td><td>-2</td><td>0</td><td>-3</td></tr><tr><td>&quot;Louisiana&quot;</td><td>-2</td><td>-2</td><td>-4</td></tr><tr><td>&hellip;</td><td>&hellip;</td><td>&hellip;</td><td>&hellip;</td></tr><tr><td>&quot;Minnesota&quot;</td><td>6</td><td>7</td><td>6</td></tr><tr><td>&quot;Iowa&quot;</td><td>6</td><td>8</td><td>3</td></tr><tr><td>&quot;Alabama&quot;</td><td>6</td><td>7</td><td>2</td></tr><tr><td>&quot;New Hampshire&quot;</td><td>7</td><td>7</td><td>7</td></tr><tr><td>&quot;Alaska&quot;</td><td>8</td><td>8</td><td>8</td></tr></tbody></table></div>"
      ],
      "text/plain": [
       "shape: (54, 4)\n",
       "┌────────────────┬──────────────────────┬───────────────────────┬──────────────────────────────────┐\n",
       "│ State Name     ┆ Mean Grade 8 Reading ┆ At or Above Basic (%) ┆ At or Above Proficient (%) Cha…  │\n",
       "│ ---            ┆ Score Cha…           ┆ Change                ┆ ---                              │\n",
       "│ str            ┆ ---                  ┆ ---                   ┆ i64                              │\n",
       "│                ┆ i64                  ┆ i64                   ┆                                  │\n",
       "╞════════════════╪══════════════════════╪═══════════════════════╪══════════════════════════════════╡\n",
       "│ Puerto Rico    ┆ null                 ┆ null                  ┆ null                             │\n",
       "│ Mississippi    ┆ -4                   ┆ -4                    ┆ -5                               │\n",
       "│ DoDEA          ┆ -3                   ┆ -1                    ┆ -5                               │\n",
       "│ North Carolina ┆ -2                   ┆ 0                     ┆ -3                               │\n",
       "│ Louisiana      ┆ -2                   ┆ -2                    ┆ -4                               │\n",
       "│ …              ┆ …                    ┆ …                     ┆ …                                │\n",
       "│ Minnesota      ┆ 6                    ┆ 7                     ┆ 6                                │\n",
       "│ Iowa           ┆ 6                    ┆ 8                     ┆ 3                                │\n",
       "│ Alabama        ┆ 6                    ┆ 7                     ┆ 2                                │\n",
       "│ New Hampshire  ┆ 7                    ┆ 7                     ┆ 7                                │\n",
       "│ Alaska         ┆ 8                    ┆ 8                     ┆ 8                                │\n",
       "└────────────────┴──────────────────────┴───────────────────────┴──────────────────────────────────┘"
      ]
     },
     "execution_count": 10,
     "metadata": {},
     "output_type": "execute_result"
    }
   ],
   "source": [
    "reading_performance = pl.concat(\n",
    "    [\n",
    "        pl.read_csv(\n",
    "            \"data/nces/geo/nations-report-card/2019/state_grade-8_reading_SPCsv202408081536.csv\",\n",
    "            columns=[\"Jurisdiction\", \"MN\", \"AB\", \"AP\"],\n",
    "        ).with_columns(\n",
    "            pl.lit(2015).alias(\"Graduating Year\")\n",
    "        ),\n",
    "        pl.read_csv(\n",
    "            \"data/nces/geo/nations-report-card/2015/state_grade-8_reading_SPCsv202408081449.csv\",\n",
    "            columns=[\"Jurisdiction\", \"MN\", \"AB\", \"AP\"],\n",
    "        ).with_columns(\n",
    "            pl.lit(2019).alias(\"Graduating Year\"),\n",
    "        ),\n",
    "    ]\n",
    ").with_columns(\n",
    "            pl.col(\"MN\").replace(chr(8212), None).str.to_integer(),\n",
    "            pl.col(\"AB\").replace(chr(8212), None).str.to_integer(),\n",
    "            pl.col(\"AP\").replace(chr(8212), None).str.to_integer(),\n",
    "\n",
    ").rename(\n",
    "    {\n",
    "        \"Jurisdiction\": \"State Name\",\n",
    "        \"MN\": \"Mean Grade 8 Reading Score\",\n",
    "        \"AB\": \"At or Above Basic (%)\",\n",
    "        \"AP\": \"At or Above Proficient (%)\",\n",
    "    }\n",
    ").pivot(\n",
    "    on=\"Graduating Year\",\n",
    "    index=\"State Name\",\n",
    "    values=[\"Mean Grade 8 Reading Score\", \"At or Above Basic (%)\", \"At or Above Proficient (%)\"],\n",
    ").with_columns(\n",
    "    (pl.col(\"Mean Grade 8 Reading Score_2019\") - pl.col(\"Mean Grade 8 Reading Score_2015\")).alias(\"Mean Grade 8 Reading Score Change\"),\n",
    "    (pl.col(\"At or Above Basic (%)_2019\") - pl.col(\"At or Above Basic (%)_2015\")).alias(\"At or Above Basic (%) Change\"),\n",
    "    (pl.col(\"At or Above Proficient (%)_2019\") - pl.col(\"At or Above Proficient (%)_2015\")).alias(\"At or Above Proficient (%) Change\"),\n",
    ").select(\n",
    "    \"State Name\",\n",
    "    \"Mean Grade 8 Reading Score Change\",\n",
    "    \"At or Above Basic (%) Change\",\n",
    "    \"At or Above Proficient (%) Change\",\n",
    ").sort(\"Mean Grade 8 Reading Score Change\")\n",
    "\n",
    "reading_performance"
   ]
  },
  {
   "cell_type": "code",
   "execution_count": 11,
   "metadata": {},
   "outputs": [
    {
     "data": {
      "text/html": [
       "<table class=\"simpletable\">\n",
       "<caption>OLS Regression Results</caption>\n",
       "<tr>\n",
       "  <th>Dep. Variable:</th>            <td>y</td>        <th>  R-squared (uncentered):</th>      <td>   0.059</td>\n",
       "</tr>\n",
       "<tr>\n",
       "  <th>Model:</th>                   <td>OLS</td>       <th>  Adj. R-squared (uncentered):</th> <td>   0.040</td>\n",
       "</tr>\n",
       "<tr>\n",
       "  <th>Method:</th>             <td>Least Squares</td>  <th>  F-statistic:       </th>          <td>   3.065</td>\n",
       "</tr>\n",
       "<tr>\n",
       "  <th>Date:</th>             <td>Sat, 28 Sep 2024</td> <th>  Prob (F-statistic):</th>           <td>0.0863</td> \n",
       "</tr>\n",
       "<tr>\n",
       "  <th>Time:</th>                 <td>20:09:29</td>     <th>  Log-Likelihood:    </th>          <td> -134.90</td>\n",
       "</tr>\n",
       "<tr>\n",
       "  <th>No. Observations:</th>      <td>    50</td>      <th>  AIC:               </th>          <td>   271.8</td>\n",
       "</tr>\n",
       "<tr>\n",
       "  <th>Df Residuals:</th>          <td>    49</td>      <th>  BIC:               </th>          <td>   273.7</td>\n",
       "</tr>\n",
       "<tr>\n",
       "  <th>Df Model:</th>              <td>     1</td>      <th>                     </th>              <td> </td>   \n",
       "</tr>\n",
       "<tr>\n",
       "  <th>Covariance Type:</th>      <td>nonrobust</td>    <th>                     </th>              <td> </td>   \n",
       "</tr>\n",
       "</table>\n",
       "<table class=\"simpletable\">\n",
       "<tr>\n",
       "   <td></td>     <th>coef</th>     <th>std err</th>      <th>t</th>      <th>P>|t|</th>  <th>[0.025</th>    <th>0.975]</th>  \n",
       "</tr>\n",
       "<tr>\n",
       "  <th>x1</th> <td>    0.0002</td> <td> 9.95e-05</td> <td>    1.751</td> <td> 0.086</td> <td>-2.58e-05</td> <td>    0.000</td>\n",
       "</tr>\n",
       "</table>\n",
       "<table class=\"simpletable\">\n",
       "<tr>\n",
       "  <th>Omnibus:</th>       <td> 0.683</td> <th>  Durbin-Watson:     </th> <td>   0.945</td>\n",
       "</tr>\n",
       "<tr>\n",
       "  <th>Prob(Omnibus):</th> <td> 0.711</td> <th>  Jarque-Bera (JB):  </th> <td>   0.163</td>\n",
       "</tr>\n",
       "<tr>\n",
       "  <th>Skew:</th>          <td> 0.060</td> <th>  Prob(JB):          </th> <td>   0.922</td>\n",
       "</tr>\n",
       "<tr>\n",
       "  <th>Kurtosis:</th>      <td> 3.252</td> <th>  Cond. No.          </th> <td>    1.00</td>\n",
       "</tr>\n",
       "</table><br/><br/>Notes:<br/>[1] R² is computed without centering (uncentered) since the model does not contain a constant.<br/>[2] Standard Errors assume that the covariance matrix of the errors is correctly specified."
      ],
      "text/latex": [
       "\\begin{center}\n",
       "\\begin{tabular}{lclc}\n",
       "\\toprule\n",
       "\\textbf{Dep. Variable:}    &        y         & \\textbf{  R-squared (uncentered):}      &     0.059   \\\\\n",
       "\\textbf{Model:}            &       OLS        & \\textbf{  Adj. R-squared (uncentered):} &     0.040   \\\\\n",
       "\\textbf{Method:}           &  Least Squares   & \\textbf{  F-statistic:       }          &     3.065   \\\\\n",
       "\\textbf{Date:}             & Sat, 28 Sep 2024 & \\textbf{  Prob (F-statistic):}          &   0.0863    \\\\\n",
       "\\textbf{Time:}             &     20:09:29     & \\textbf{  Log-Likelihood:    }          &   -134.90   \\\\\n",
       "\\textbf{No. Observations:} &          50      & \\textbf{  AIC:               }          &     271.8   \\\\\n",
       "\\textbf{Df Residuals:}     &          49      & \\textbf{  BIC:               }          &     273.7   \\\\\n",
       "\\textbf{Df Model:}         &           1      & \\textbf{                     }          &             \\\\\n",
       "\\textbf{Covariance Type:}  &    nonrobust     & \\textbf{                     }          &             \\\\\n",
       "\\bottomrule\n",
       "\\end{tabular}\n",
       "\\begin{tabular}{lcccccc}\n",
       "            & \\textbf{coef} & \\textbf{std err} & \\textbf{t} & \\textbf{P$> |$t$|$} & \\textbf{[0.025} & \\textbf{0.975]}  \\\\\n",
       "\\midrule\n",
       "\\textbf{x1} &       0.0002  &     9.95e-05     &     1.751  &         0.086        &    -2.58e-05    &        0.000     \\\\\n",
       "\\bottomrule\n",
       "\\end{tabular}\n",
       "\\begin{tabular}{lclc}\n",
       "\\textbf{Omnibus:}       &  0.683 & \\textbf{  Durbin-Watson:     } &    0.945  \\\\\n",
       "\\textbf{Prob(Omnibus):} &  0.711 & \\textbf{  Jarque-Bera (JB):  } &    0.163  \\\\\n",
       "\\textbf{Skew:}          &  0.060 & \\textbf{  Prob(JB):          } &    0.922  \\\\\n",
       "\\textbf{Kurtosis:}      &  3.252 & \\textbf{  Cond. No.          } &     1.00  \\\\\n",
       "\\bottomrule\n",
       "\\end{tabular}\n",
       "%\\caption{OLS Regression Results}\n",
       "\\end{center}\n",
       "\n",
       "Notes: \\newline\n",
       " [1] R² is computed without centering (uncentered) since the model does not contain a constant. \\newline\n",
       " [2] Standard Errors assume that the covariance matrix of the errors is correctly specified."
      ],
      "text/plain": [
       "<class 'statsmodels.iolib.summary.Summary'>\n",
       "\"\"\"\n",
       "                                 OLS Regression Results                                \n",
       "=======================================================================================\n",
       "Dep. Variable:                      y   R-squared (uncentered):                   0.059\n",
       "Model:                            OLS   Adj. R-squared (uncentered):              0.040\n",
       "Method:                 Least Squares   F-statistic:                              3.065\n",
       "Date:                Sat, 28 Sep 2024   Prob (F-statistic):                      0.0863\n",
       "Time:                        20:09:29   Log-Likelihood:                         -134.90\n",
       "No. Observations:                  50   AIC:                                      271.8\n",
       "Df Residuals:                      49   BIC:                                      273.7\n",
       "Df Model:                           1                                                  \n",
       "Covariance Type:            nonrobust                                                  \n",
       "==============================================================================\n",
       "                 coef    std err          t      P>|t|      [0.025      0.975]\n",
       "------------------------------------------------------------------------------\n",
       "x1             0.0002   9.95e-05      1.751      0.086   -2.58e-05       0.000\n",
       "==============================================================================\n",
       "Omnibus:                        0.683   Durbin-Watson:                   0.945\n",
       "Prob(Omnibus):                  0.711   Jarque-Bera (JB):                0.163\n",
       "Skew:                           0.060   Prob(JB):                        0.922\n",
       "Kurtosis:                       3.252   Cond. No.                         1.00\n",
       "==============================================================================\n",
       "\n",
       "Notes:\n",
       "[1] R² is computed without centering (uncentered) since the model does not contain a constant.\n",
       "[2] Standard Errors assume that the covariance matrix of the errors is correctly specified.\n",
       "\"\"\""
      ]
     },
     "metadata": {},
     "output_type": "display_data"
    },
    {
     "data": {
      "application/vnd.plotly.v1+json": {
       "config": {
        "plotlyServerURL": "https://plot.ly"
       },
       "data": [
        {
         "alignmentgroup": "True",
         "hovertemplate": "State=%{x}<br>4-Year Expenditure Change (2024 Dollars)=%{y}<br>Change in NAEP Average Reading Score=%{marker.color}<extra></extra>",
         "legendgroup": "",
         "marker": {
          "color": [
           8,
           4,
           -2,
           4,
           0,
           2,
           3,
           5,
           4,
           1,
           4,
           6,
           1,
           6,
           0,
           4,
           -4,
           -1,
           5,
           1,
           3,
           3,
           4,
           5,
           2,
           5,
           4,
           -2,
           0,
           1,
           3,
           5,
           1,
           3,
           1,
           3,
           6,
           5,
           3,
           4,
           1,
           7,
           5,
           6,
           2,
           -1,
           1,
           4,
           0,
           1
          ],
          "coloraxis": "coloraxis",
          "pattern": {
           "shape": ""
          }
         },
         "name": "",
         "offsetgroup": "",
         "orientation": "v",
         "showlegend": false,
         "textposition": "auto",
         "type": "bar",
         "x": [
          "Alaska",
          "Wyoming",
          "Louisiana",
          "West Virginia",
          "Arkansas",
          "Indiana",
          "Delaware",
          "Oklahoma",
          "Maryland",
          "New Mexico",
          "Kansas",
          "Alabama",
          "Michigan",
          "Iowa",
          "Florida",
          "Missouri",
          "Mississippi",
          "Ohio",
          "Virginia",
          "New Jersey",
          "Rhode Island",
          "Tennessee",
          "South Dakota",
          "Nebraska",
          "Utah",
          "Kentucky",
          "Arizona",
          "North Carolina",
          "Georgia",
          "South Carolina",
          "Wisconsin",
          "Montana",
          "Nevada",
          "Connecticut",
          "Massachusetts",
          "Idaho",
          "Vermont",
          "Texas",
          "Maine",
          "North Dakota",
          "Colorado",
          "New Hampshire",
          "Pennsylvania",
          "Minnesota",
          "Illinois",
          "Hawaii",
          "New York",
          "Oregon",
          "California",
          "Washington"
         ],
         "xaxis": "x",
         "y": [
          -14708.457307342367,
          -5296.647514050259,
          -2556.7129300012602,
          -2494.7926835152175,
          -1471.4241271836217,
          -1232.6239368214592,
          -944.6272461902263,
          -862.2580247299411,
          -466.8691361673409,
          -235.0090620380579,
          54.88703104273009,
          329.76305114709976,
          441.5695752318061,
          469.37110981078877,
          657.5571875544047,
          666.924127925442,
          715.9227559788415,
          1050.9571133526333,
          1104.9280829005438,
          1155.4947146523918,
          1330.2161884037196,
          1443.2498385542785,
          1643.4462295624471,
          1686.1051294720237,
          1807.4550930238838,
          1921.2612168762062,
          2299.1022917744485,
          2629.926596630241,
          2655.482237894699,
          3086.9670952629385,
          3112.51216819181,
          3291.684983213003,
          3340.913001489862,
          3511.951550465761,
          3561.0969406339136,
          3770.7062355231537,
          3859.872833897971,
          4487.797092459696,
          4904.093805178389,
          5558.320899853075,
          5586.881557994355,
          5657.265920831036,
          6389.194608006001,
          7483.586008539336,
          8203.593359115708,
          9348.71729686117,
          9709.209358403881,
          10733.41411982417,
          11726.037231397699,
          13946.614370122246
         ],
         "yaxis": "y"
        }
       ],
       "layout": {
        "annotations": [
         {
          "align": "right",
          "font": {
           "color": "grey",
           "size": 10
          },
          "opacity": 0.7,
          "showarrow": false,
          "text": "Chart by Dominic Tarro | 𝕏 @dominictarro<br>Sources: NAEP Reading Assessments (2015, 2019)<br>CCD National Public Education Financial Survey (2010-2019)",
          "x": 1.07,
          "xref": "paper",
          "y": -0.15,
          "yref": "paper"
         },
         {
          "align": "left",
          "font": {
           "color": "grey",
           "size": 10
          },
          "opacity": 0.7,
          "showarrow": false,
          "text": "The NAEP Reading scale ranges from 0 to 500.<br><i>Per Pupil, 4-Year Expenditure</i> is an aggregate from 5th-8th grade. Dollar adjustment was made using <br>each school year's ending year.<br>OLS Adj. R-squared: 0.040; P|t|>0.086; % Pts change per $1000 in per student spending=0.17",
          "x": -0.08,
          "xref": "paper",
          "y": -0.15,
          "yref": "paper"
         }
        ],
        "barmode": "relative",
        "coloraxis": {
         "cmid": 0,
         "colorbar": {
          "orientation": "h",
          "title": {
           "text": "Change in <i>NAEP Average Reading Score</i>"
          }
         },
         "colorscale": [
          [
           0,
           "rgb(103,0,31)"
          ],
          [
           0.1,
           "rgb(178,24,43)"
          ],
          [
           0.2,
           "rgb(214,96,77)"
          ],
          [
           0.3,
           "rgb(244,165,130)"
          ],
          [
           0.4,
           "rgb(253,219,199)"
          ],
          [
           0.5,
           "rgb(247,247,247)"
          ],
          [
           0.6,
           "rgb(209,229,240)"
          ],
          [
           0.7,
           "rgb(146,197,222)"
          ],
          [
           0.8,
           "rgb(67,147,195)"
          ],
          [
           0.9,
           "rgb(33,102,172)"
          ],
          [
           1,
           "rgb(5,48,97)"
          ]
         ]
        },
        "height": 600,
        "legend": {
         "tracegroupgap": 0
        },
        "paper_bgcolor": "#171717",
        "plot_bgcolor": "#171717",
        "template": {
         "data": {
          "bar": [
           {
            "error_x": {
             "color": "#f2f5fa"
            },
            "error_y": {
             "color": "#f2f5fa"
            },
            "marker": {
             "line": {
              "color": "rgb(17,17,17)",
              "width": 0.5
             },
             "pattern": {
              "fillmode": "overlay",
              "size": 10,
              "solidity": 0.2
             }
            },
            "type": "bar"
           }
          ],
          "barpolar": [
           {
            "marker": {
             "line": {
              "color": "rgb(17,17,17)",
              "width": 0.5
             },
             "pattern": {
              "fillmode": "overlay",
              "size": 10,
              "solidity": 0.2
             }
            },
            "type": "barpolar"
           }
          ],
          "carpet": [
           {
            "aaxis": {
             "endlinecolor": "#A2B1C6",
             "gridcolor": "#506784",
             "linecolor": "#506784",
             "minorgridcolor": "#506784",
             "startlinecolor": "#A2B1C6"
            },
            "baxis": {
             "endlinecolor": "#A2B1C6",
             "gridcolor": "#506784",
             "linecolor": "#506784",
             "minorgridcolor": "#506784",
             "startlinecolor": "#A2B1C6"
            },
            "type": "carpet"
           }
          ],
          "choropleth": [
           {
            "colorbar": {
             "outlinewidth": 0,
             "ticks": ""
            },
            "type": "choropleth"
           }
          ],
          "contour": [
           {
            "colorbar": {
             "outlinewidth": 0,
             "ticks": ""
            },
            "colorscale": [
             [
              0,
              "#0d0887"
             ],
             [
              0.1111111111111111,
              "#46039f"
             ],
             [
              0.2222222222222222,
              "#7201a8"
             ],
             [
              0.3333333333333333,
              "#9c179e"
             ],
             [
              0.4444444444444444,
              "#bd3786"
             ],
             [
              0.5555555555555556,
              "#d8576b"
             ],
             [
              0.6666666666666666,
              "#ed7953"
             ],
             [
              0.7777777777777778,
              "#fb9f3a"
             ],
             [
              0.8888888888888888,
              "#fdca26"
             ],
             [
              1,
              "#f0f921"
             ]
            ],
            "type": "contour"
           }
          ],
          "contourcarpet": [
           {
            "colorbar": {
             "outlinewidth": 0,
             "ticks": ""
            },
            "type": "contourcarpet"
           }
          ],
          "heatmap": [
           {
            "colorbar": {
             "outlinewidth": 0,
             "ticks": ""
            },
            "colorscale": [
             [
              0,
              "#0d0887"
             ],
             [
              0.1111111111111111,
              "#46039f"
             ],
             [
              0.2222222222222222,
              "#7201a8"
             ],
             [
              0.3333333333333333,
              "#9c179e"
             ],
             [
              0.4444444444444444,
              "#bd3786"
             ],
             [
              0.5555555555555556,
              "#d8576b"
             ],
             [
              0.6666666666666666,
              "#ed7953"
             ],
             [
              0.7777777777777778,
              "#fb9f3a"
             ],
             [
              0.8888888888888888,
              "#fdca26"
             ],
             [
              1,
              "#f0f921"
             ]
            ],
            "type": "heatmap"
           }
          ],
          "heatmapgl": [
           {
            "colorbar": {
             "outlinewidth": 0,
             "ticks": ""
            },
            "colorscale": [
             [
              0,
              "#0d0887"
             ],
             [
              0.1111111111111111,
              "#46039f"
             ],
             [
              0.2222222222222222,
              "#7201a8"
             ],
             [
              0.3333333333333333,
              "#9c179e"
             ],
             [
              0.4444444444444444,
              "#bd3786"
             ],
             [
              0.5555555555555556,
              "#d8576b"
             ],
             [
              0.6666666666666666,
              "#ed7953"
             ],
             [
              0.7777777777777778,
              "#fb9f3a"
             ],
             [
              0.8888888888888888,
              "#fdca26"
             ],
             [
              1,
              "#f0f921"
             ]
            ],
            "type": "heatmapgl"
           }
          ],
          "histogram": [
           {
            "marker": {
             "pattern": {
              "fillmode": "overlay",
              "size": 10,
              "solidity": 0.2
             }
            },
            "type": "histogram"
           }
          ],
          "histogram2d": [
           {
            "colorbar": {
             "outlinewidth": 0,
             "ticks": ""
            },
            "colorscale": [
             [
              0,
              "#0d0887"
             ],
             [
              0.1111111111111111,
              "#46039f"
             ],
             [
              0.2222222222222222,
              "#7201a8"
             ],
             [
              0.3333333333333333,
              "#9c179e"
             ],
             [
              0.4444444444444444,
              "#bd3786"
             ],
             [
              0.5555555555555556,
              "#d8576b"
             ],
             [
              0.6666666666666666,
              "#ed7953"
             ],
             [
              0.7777777777777778,
              "#fb9f3a"
             ],
             [
              0.8888888888888888,
              "#fdca26"
             ],
             [
              1,
              "#f0f921"
             ]
            ],
            "type": "histogram2d"
           }
          ],
          "histogram2dcontour": [
           {
            "colorbar": {
             "outlinewidth": 0,
             "ticks": ""
            },
            "colorscale": [
             [
              0,
              "#0d0887"
             ],
             [
              0.1111111111111111,
              "#46039f"
             ],
             [
              0.2222222222222222,
              "#7201a8"
             ],
             [
              0.3333333333333333,
              "#9c179e"
             ],
             [
              0.4444444444444444,
              "#bd3786"
             ],
             [
              0.5555555555555556,
              "#d8576b"
             ],
             [
              0.6666666666666666,
              "#ed7953"
             ],
             [
              0.7777777777777778,
              "#fb9f3a"
             ],
             [
              0.8888888888888888,
              "#fdca26"
             ],
             [
              1,
              "#f0f921"
             ]
            ],
            "type": "histogram2dcontour"
           }
          ],
          "mesh3d": [
           {
            "colorbar": {
             "outlinewidth": 0,
             "ticks": ""
            },
            "type": "mesh3d"
           }
          ],
          "parcoords": [
           {
            "line": {
             "colorbar": {
              "outlinewidth": 0,
              "ticks": ""
             }
            },
            "type": "parcoords"
           }
          ],
          "pie": [
           {
            "automargin": true,
            "type": "pie"
           }
          ],
          "scatter": [
           {
            "marker": {
             "line": {
              "color": "#283442"
             }
            },
            "type": "scatter"
           }
          ],
          "scatter3d": [
           {
            "line": {
             "colorbar": {
              "outlinewidth": 0,
              "ticks": ""
             }
            },
            "marker": {
             "colorbar": {
              "outlinewidth": 0,
              "ticks": ""
             }
            },
            "type": "scatter3d"
           }
          ],
          "scattercarpet": [
           {
            "marker": {
             "colorbar": {
              "outlinewidth": 0,
              "ticks": ""
             }
            },
            "type": "scattercarpet"
           }
          ],
          "scattergeo": [
           {
            "marker": {
             "colorbar": {
              "outlinewidth": 0,
              "ticks": ""
             }
            },
            "type": "scattergeo"
           }
          ],
          "scattergl": [
           {
            "marker": {
             "line": {
              "color": "#283442"
             }
            },
            "type": "scattergl"
           }
          ],
          "scattermapbox": [
           {
            "marker": {
             "colorbar": {
              "outlinewidth": 0,
              "ticks": ""
             }
            },
            "type": "scattermapbox"
           }
          ],
          "scatterpolar": [
           {
            "marker": {
             "colorbar": {
              "outlinewidth": 0,
              "ticks": ""
             }
            },
            "type": "scatterpolar"
           }
          ],
          "scatterpolargl": [
           {
            "marker": {
             "colorbar": {
              "outlinewidth": 0,
              "ticks": ""
             }
            },
            "type": "scatterpolargl"
           }
          ],
          "scatterternary": [
           {
            "marker": {
             "colorbar": {
              "outlinewidth": 0,
              "ticks": ""
             }
            },
            "type": "scatterternary"
           }
          ],
          "surface": [
           {
            "colorbar": {
             "outlinewidth": 0,
             "ticks": ""
            },
            "colorscale": [
             [
              0,
              "#0d0887"
             ],
             [
              0.1111111111111111,
              "#46039f"
             ],
             [
              0.2222222222222222,
              "#7201a8"
             ],
             [
              0.3333333333333333,
              "#9c179e"
             ],
             [
              0.4444444444444444,
              "#bd3786"
             ],
             [
              0.5555555555555556,
              "#d8576b"
             ],
             [
              0.6666666666666666,
              "#ed7953"
             ],
             [
              0.7777777777777778,
              "#fb9f3a"
             ],
             [
              0.8888888888888888,
              "#fdca26"
             ],
             [
              1,
              "#f0f921"
             ]
            ],
            "type": "surface"
           }
          ],
          "table": [
           {
            "cells": {
             "fill": {
              "color": "#506784"
             },
             "line": {
              "color": "rgb(17,17,17)"
             }
            },
            "header": {
             "fill": {
              "color": "#2a3f5f"
             },
             "line": {
              "color": "rgb(17,17,17)"
             }
            },
            "type": "table"
           }
          ]
         },
         "layout": {
          "annotationdefaults": {
           "arrowcolor": "#f2f5fa",
           "arrowhead": 0,
           "arrowwidth": 1
          },
          "autotypenumbers": "strict",
          "coloraxis": {
           "colorbar": {
            "outlinewidth": 0,
            "ticks": ""
           }
          },
          "colorscale": {
           "diverging": [
            [
             0,
             "#8e0152"
            ],
            [
             0.1,
             "#c51b7d"
            ],
            [
             0.2,
             "#de77ae"
            ],
            [
             0.3,
             "#f1b6da"
            ],
            [
             0.4,
             "#fde0ef"
            ],
            [
             0.5,
             "#f7f7f7"
            ],
            [
             0.6,
             "#e6f5d0"
            ],
            [
             0.7,
             "#b8e186"
            ],
            [
             0.8,
             "#7fbc41"
            ],
            [
             0.9,
             "#4d9221"
            ],
            [
             1,
             "#276419"
            ]
           ],
           "sequential": [
            [
             0,
             "#0d0887"
            ],
            [
             0.1111111111111111,
             "#46039f"
            ],
            [
             0.2222222222222222,
             "#7201a8"
            ],
            [
             0.3333333333333333,
             "#9c179e"
            ],
            [
             0.4444444444444444,
             "#bd3786"
            ],
            [
             0.5555555555555556,
             "#d8576b"
            ],
            [
             0.6666666666666666,
             "#ed7953"
            ],
            [
             0.7777777777777778,
             "#fb9f3a"
            ],
            [
             0.8888888888888888,
             "#fdca26"
            ],
            [
             1,
             "#f0f921"
            ]
           ],
           "sequentialminus": [
            [
             0,
             "#0d0887"
            ],
            [
             0.1111111111111111,
             "#46039f"
            ],
            [
             0.2222222222222222,
             "#7201a8"
            ],
            [
             0.3333333333333333,
             "#9c179e"
            ],
            [
             0.4444444444444444,
             "#bd3786"
            ],
            [
             0.5555555555555556,
             "#d8576b"
            ],
            [
             0.6666666666666666,
             "#ed7953"
            ],
            [
             0.7777777777777778,
             "#fb9f3a"
            ],
            [
             0.8888888888888888,
             "#fdca26"
            ],
            [
             1,
             "#f0f921"
            ]
           ]
          },
          "colorway": [
           "#636efa",
           "#EF553B",
           "#00cc96",
           "#ab63fa",
           "#FFA15A",
           "#19d3f3",
           "#FF6692",
           "#B6E880",
           "#FF97FF",
           "#FECB52"
          ],
          "font": {
           "color": "#f2f5fa"
          },
          "geo": {
           "bgcolor": "rgb(17,17,17)",
           "lakecolor": "rgb(17,17,17)",
           "landcolor": "rgb(17,17,17)",
           "showlakes": true,
           "showland": true,
           "subunitcolor": "#506784"
          },
          "hoverlabel": {
           "align": "left"
          },
          "hovermode": "closest",
          "mapbox": {
           "style": "dark"
          },
          "paper_bgcolor": "rgb(17,17,17)",
          "plot_bgcolor": "rgb(17,17,17)",
          "polar": {
           "angularaxis": {
            "gridcolor": "#506784",
            "linecolor": "#506784",
            "ticks": ""
           },
           "bgcolor": "rgb(17,17,17)",
           "radialaxis": {
            "gridcolor": "#506784",
            "linecolor": "#506784",
            "ticks": ""
           }
          },
          "scene": {
           "xaxis": {
            "backgroundcolor": "rgb(17,17,17)",
            "gridcolor": "#506784",
            "gridwidth": 2,
            "linecolor": "#506784",
            "showbackground": true,
            "ticks": "",
            "zerolinecolor": "#C8D4E3"
           },
           "yaxis": {
            "backgroundcolor": "rgb(17,17,17)",
            "gridcolor": "#506784",
            "gridwidth": 2,
            "linecolor": "#506784",
            "showbackground": true,
            "ticks": "",
            "zerolinecolor": "#C8D4E3"
           },
           "zaxis": {
            "backgroundcolor": "rgb(17,17,17)",
            "gridcolor": "#506784",
            "gridwidth": 2,
            "linecolor": "#506784",
            "showbackground": true,
            "ticks": "",
            "zerolinecolor": "#C8D4E3"
           }
          },
          "shapedefaults": {
           "line": {
            "color": "#f2f5fa"
           }
          },
          "sliderdefaults": {
           "bgcolor": "#C8D4E3",
           "bordercolor": "rgb(17,17,17)",
           "borderwidth": 1,
           "tickwidth": 0
          },
          "ternary": {
           "aaxis": {
            "gridcolor": "#506784",
            "linecolor": "#506784",
            "ticks": ""
           },
           "baxis": {
            "gridcolor": "#506784",
            "linecolor": "#506784",
            "ticks": ""
           },
           "bgcolor": "rgb(17,17,17)",
           "caxis": {
            "gridcolor": "#506784",
            "linecolor": "#506784",
            "ticks": ""
           }
          },
          "title": {
           "x": 0.05
          },
          "updatemenudefaults": {
           "bgcolor": "#506784",
           "borderwidth": 0
          },
          "xaxis": {
           "automargin": true,
           "gridcolor": "#283442",
           "linecolor": "#506784",
           "ticks": "",
           "title": {
            "standoff": 15
           },
           "zerolinecolor": "#283442",
           "zerolinewidth": 2
          },
          "yaxis": {
           "automargin": true,
           "gridcolor": "#283442",
           "linecolor": "#506784",
           "ticks": "",
           "title": {
            "standoff": 15
           },
           "zerolinecolor": "#283442",
           "zerolinewidth": 2
          }
         }
        },
        "title": {
         "text": "US Primary Education Return on Investment<br><sup><i>States spending more per student from 5th through 8th grade had a negligible relationship with average 8th grade reading performance.</i></sup>"
        },
        "width": 1000,
        "xaxis": {
         "anchor": "y",
         "domain": [
          0,
          1
         ],
         "showticklabels": false,
         "title": {}
        },
        "yaxis": {
         "anchor": "x",
         "domain": [
          0,
          1
         ],
         "title": {
          "font": {
           "size": 10
          },
          "text": "Per Pupil, 4-Year Expenditure Change Between 2015 and 2019<br>(2024 Dollars)"
         }
        }
       }
      }
     },
     "metadata": {},
     "output_type": "display_data"
    },
    {
     "data": {
      "text/html": [
       "<table class=\"simpletable\">\n",
       "<caption>OLS Regression Results</caption>\n",
       "<tr>\n",
       "  <th>Dep. Variable:</th>            <td>y</td>        <th>  R-squared (uncentered):</th>      <td>   0.116</td>\n",
       "</tr>\n",
       "<tr>\n",
       "  <th>Model:</th>                   <td>OLS</td>       <th>  Adj. R-squared (uncentered):</th> <td>   0.098</td>\n",
       "</tr>\n",
       "<tr>\n",
       "  <th>Method:</th>             <td>Least Squares</td>  <th>  F-statistic:       </th>          <td>   6.435</td>\n",
       "</tr>\n",
       "<tr>\n",
       "  <th>Date:</th>             <td>Sat, 28 Sep 2024</td> <th>  Prob (F-statistic):</th>           <td>0.0144</td> \n",
       "</tr>\n",
       "<tr>\n",
       "  <th>Time:</th>                 <td>20:09:29</td>     <th>  Log-Likelihood:    </th>          <td> -143.49</td>\n",
       "</tr>\n",
       "<tr>\n",
       "  <th>No. Observations:</th>      <td>    50</td>      <th>  AIC:               </th>          <td>   289.0</td>\n",
       "</tr>\n",
       "<tr>\n",
       "  <th>Df Residuals:</th>          <td>    49</td>      <th>  BIC:               </th>          <td>   290.9</td>\n",
       "</tr>\n",
       "<tr>\n",
       "  <th>Df Model:</th>              <td>     1</td>      <th>                     </th>              <td> </td>   \n",
       "</tr>\n",
       "<tr>\n",
       "  <th>Covariance Type:</th>      <td>nonrobust</td>    <th>                     </th>              <td> </td>   \n",
       "</tr>\n",
       "</table>\n",
       "<table class=\"simpletable\">\n",
       "<tr>\n",
       "   <td></td>     <th>coef</th>     <th>std err</th>      <th>t</th>      <th>P>|t|</th>  <th>[0.025</th>    <th>0.975]</th>  \n",
       "</tr>\n",
       "<tr>\n",
       "  <th>x1</th> <td>    0.0003</td> <td>    0.000</td> <td>    2.537</td> <td> 0.014</td> <td> 6.23e-05</td> <td>    0.001</td>\n",
       "</tr>\n",
       "</table>\n",
       "<table class=\"simpletable\">\n",
       "<tr>\n",
       "  <th>Omnibus:</th>       <td> 2.835</td> <th>  Durbin-Watson:     </th> <td>   0.626</td>\n",
       "</tr>\n",
       "<tr>\n",
       "  <th>Prob(Omnibus):</th> <td> 0.242</td> <th>  Jarque-Bera (JB):  </th> <td>   2.169</td>\n",
       "</tr>\n",
       "<tr>\n",
       "  <th>Skew:</th>          <td> 0.117</td> <th>  Prob(JB):          </th> <td>   0.338</td>\n",
       "</tr>\n",
       "<tr>\n",
       "  <th>Kurtosis:</th>      <td> 3.993</td> <th>  Cond. No.          </th> <td>    1.00</td>\n",
       "</tr>\n",
       "</table><br/><br/>Notes:<br/>[1] R² is computed without centering (uncentered) since the model does not contain a constant.<br/>[2] Standard Errors assume that the covariance matrix of the errors is correctly specified."
      ],
      "text/latex": [
       "\\begin{center}\n",
       "\\begin{tabular}{lclc}\n",
       "\\toprule\n",
       "\\textbf{Dep. Variable:}    &        y         & \\textbf{  R-squared (uncentered):}      &     0.116   \\\\\n",
       "\\textbf{Model:}            &       OLS        & \\textbf{  Adj. R-squared (uncentered):} &     0.098   \\\\\n",
       "\\textbf{Method:}           &  Least Squares   & \\textbf{  F-statistic:       }          &     6.435   \\\\\n",
       "\\textbf{Date:}             & Sat, 28 Sep 2024 & \\textbf{  Prob (F-statistic):}          &   0.0144    \\\\\n",
       "\\textbf{Time:}             &     20:09:29     & \\textbf{  Log-Likelihood:    }          &   -143.49   \\\\\n",
       "\\textbf{No. Observations:} &          50      & \\textbf{  AIC:               }          &     289.0   \\\\\n",
       "\\textbf{Df Residuals:}     &          49      & \\textbf{  BIC:               }          &     290.9   \\\\\n",
       "\\textbf{Df Model:}         &           1      & \\textbf{                     }          &             \\\\\n",
       "\\textbf{Covariance Type:}  &    nonrobust     & \\textbf{                     }          &             \\\\\n",
       "\\bottomrule\n",
       "\\end{tabular}\n",
       "\\begin{tabular}{lcccccc}\n",
       "            & \\textbf{coef} & \\textbf{std err} & \\textbf{t} & \\textbf{P$> |$t$|$} & \\textbf{[0.025} & \\textbf{0.975]}  \\\\\n",
       "\\midrule\n",
       "\\textbf{x1} &       0.0003  &        0.000     &     2.537  &         0.014        &     6.23e-05    &        0.001     \\\\\n",
       "\\bottomrule\n",
       "\\end{tabular}\n",
       "\\begin{tabular}{lclc}\n",
       "\\textbf{Omnibus:}       &  2.835 & \\textbf{  Durbin-Watson:     } &    0.626  \\\\\n",
       "\\textbf{Prob(Omnibus):} &  0.242 & \\textbf{  Jarque-Bera (JB):  } &    2.169  \\\\\n",
       "\\textbf{Skew:}          &  0.117 & \\textbf{  Prob(JB):          } &    0.338  \\\\\n",
       "\\textbf{Kurtosis:}      &  3.993 & \\textbf{  Cond. No.          } &     1.00  \\\\\n",
       "\\bottomrule\n",
       "\\end{tabular}\n",
       "%\\caption{OLS Regression Results}\n",
       "\\end{center}\n",
       "\n",
       "Notes: \\newline\n",
       " [1] R² is computed without centering (uncentered) since the model does not contain a constant. \\newline\n",
       " [2] Standard Errors assume that the covariance matrix of the errors is correctly specified."
      ],
      "text/plain": [
       "<class 'statsmodels.iolib.summary.Summary'>\n",
       "\"\"\"\n",
       "                                 OLS Regression Results                                \n",
       "=======================================================================================\n",
       "Dep. Variable:                      y   R-squared (uncentered):                   0.116\n",
       "Model:                            OLS   Adj. R-squared (uncentered):              0.098\n",
       "Method:                 Least Squares   F-statistic:                              6.435\n",
       "Date:                Sat, 28 Sep 2024   Prob (F-statistic):                      0.0144\n",
       "Time:                        20:09:29   Log-Likelihood:                         -143.49\n",
       "No. Observations:                  50   AIC:                                      289.0\n",
       "Df Residuals:                      49   BIC:                                      290.9\n",
       "Df Model:                           1                                                  \n",
       "Covariance Type:            nonrobust                                                  \n",
       "==============================================================================\n",
       "                 coef    std err          t      P>|t|      [0.025      0.975]\n",
       "------------------------------------------------------------------------------\n",
       "x1             0.0003      0.000      2.537      0.014    6.23e-05       0.001\n",
       "==============================================================================\n",
       "Omnibus:                        2.835   Durbin-Watson:                   0.626\n",
       "Prob(Omnibus):                  0.242   Jarque-Bera (JB):                2.169\n",
       "Skew:                           0.117   Prob(JB):                        0.338\n",
       "Kurtosis:                       3.993   Cond. No.                         1.00\n",
       "==============================================================================\n",
       "\n",
       "Notes:\n",
       "[1] R² is computed without centering (uncentered) since the model does not contain a constant.\n",
       "[2] Standard Errors assume that the covariance matrix of the errors is correctly specified.\n",
       "\"\"\""
      ]
     },
     "metadata": {},
     "output_type": "display_data"
    },
    {
     "data": {
      "application/vnd.plotly.v1+json": {
       "config": {
        "plotlyServerURL": "https://plot.ly"
       },
       "data": [
        {
         "alignmentgroup": "True",
         "hovertemplate": "State=%{x}<br>4-Year Expenditure Change (2024 Dollars)=%{y}<br>Change in NAEP At or Above Basic</i><br><sup>(% Points)</sup>=%{marker.color}<extra></extra>",
         "legendgroup": "",
         "marker": {
          "color": [
           8,
           6,
           -2,
           5,
           2,
           5,
           4,
           5,
           3,
           4,
           5,
           7,
           3,
           8,
           3,
           3,
           -4,
           1,
           6,
           3,
           5,
           3,
           6,
           7,
           4,
           5,
           4,
           0,
           1,
           2,
           3,
           6,
           2,
           4,
           2,
           4,
           6,
           5,
           6,
           5,
           1,
           7,
           5,
           7,
           3,
           0,
           3,
           6,
           2,
           3
          ],
          "coloraxis": "coloraxis",
          "pattern": {
           "shape": ""
          }
         },
         "name": "",
         "offsetgroup": "",
         "orientation": "v",
         "showlegend": false,
         "textposition": "auto",
         "type": "bar",
         "x": [
          "Alaska",
          "Wyoming",
          "Louisiana",
          "West Virginia",
          "Arkansas",
          "Indiana",
          "Delaware",
          "Oklahoma",
          "Maryland",
          "New Mexico",
          "Kansas",
          "Alabama",
          "Michigan",
          "Iowa",
          "Florida",
          "Missouri",
          "Mississippi",
          "Ohio",
          "Virginia",
          "New Jersey",
          "Rhode Island",
          "Tennessee",
          "South Dakota",
          "Nebraska",
          "Utah",
          "Kentucky",
          "Arizona",
          "North Carolina",
          "Georgia",
          "South Carolina",
          "Wisconsin",
          "Montana",
          "Nevada",
          "Connecticut",
          "Massachusetts",
          "Idaho",
          "Vermont",
          "Texas",
          "Maine",
          "North Dakota",
          "Colorado",
          "New Hampshire",
          "Pennsylvania",
          "Minnesota",
          "Illinois",
          "Hawaii",
          "New York",
          "Oregon",
          "California",
          "Washington"
         ],
         "xaxis": "x",
         "y": [
          -14708.457307342367,
          -5296.647514050259,
          -2556.7129300012602,
          -2494.7926835152175,
          -1471.4241271836217,
          -1232.6239368214592,
          -944.6272461902263,
          -862.2580247299411,
          -466.8691361673409,
          -235.0090620380579,
          54.88703104273009,
          329.76305114709976,
          441.5695752318061,
          469.37110981078877,
          657.5571875544047,
          666.924127925442,
          715.9227559788415,
          1050.9571133526333,
          1104.9280829005438,
          1155.4947146523918,
          1330.2161884037196,
          1443.2498385542785,
          1643.4462295624471,
          1686.1051294720237,
          1807.4550930238838,
          1921.2612168762062,
          2299.1022917744485,
          2629.926596630241,
          2655.482237894699,
          3086.9670952629385,
          3112.51216819181,
          3291.684983213003,
          3340.913001489862,
          3511.951550465761,
          3561.0969406339136,
          3770.7062355231537,
          3859.872833897971,
          4487.797092459696,
          4904.093805178389,
          5558.320899853075,
          5586.881557994355,
          5657.265920831036,
          6389.194608006001,
          7483.586008539336,
          8203.593359115708,
          9348.71729686117,
          9709.209358403881,
          10733.41411982417,
          11726.037231397699,
          13946.614370122246
         ],
         "yaxis": "y"
        }
       ],
       "layout": {
        "annotations": [
         {
          "align": "right",
          "font": {
           "color": "grey",
           "size": 10
          },
          "opacity": 0.7,
          "showarrow": false,
          "text": "Chart by Dominic Tarro | 𝕏 @dominictarro<br>Sources: NAEP Reading Assessments (2015, 2019)<br>CCD National Public Education Financial Survey (2010-2019)",
          "x": 1.07,
          "xref": "paper",
          "y": -0.15,
          "yref": "paper"
         },
         {
          "align": "left",
          "font": {
           "color": "grey",
           "size": 10
          },
          "opacity": 0.7,
          "showarrow": false,
          "text": "The NAEP Reading scale ranges from 0 to 500.<br><i>Per Pupil, 4-Year Expenditure</i> is an aggregate from 5th-8th grade. Dollar adjustment was made using <br>each school year's ending year.<br>OLS Adj. R-squared: 0.098; P|t|>0.014; Score change per $1000 in per student spending=0.30",
          "x": -0.08,
          "xref": "paper",
          "y": -0.15,
          "yref": "paper"
         }
        ],
        "barmode": "relative",
        "coloraxis": {
         "cmid": 0,
         "colorbar": {
          "orientation": "h",
          "title": {
           "text": "Change in <i>NAEP At or Above Basic</i><br><sup>(% Points)</sup></i>"
          }
         },
         "colorscale": [
          [
           0,
           "rgb(103,0,31)"
          ],
          [
           0.1,
           "rgb(178,24,43)"
          ],
          [
           0.2,
           "rgb(214,96,77)"
          ],
          [
           0.3,
           "rgb(244,165,130)"
          ],
          [
           0.4,
           "rgb(253,219,199)"
          ],
          [
           0.5,
           "rgb(247,247,247)"
          ],
          [
           0.6,
           "rgb(209,229,240)"
          ],
          [
           0.7,
           "rgb(146,197,222)"
          ],
          [
           0.8,
           "rgb(67,147,195)"
          ],
          [
           0.9,
           "rgb(33,102,172)"
          ],
          [
           1,
           "rgb(5,48,97)"
          ]
         ]
        },
        "height": 600,
        "legend": {
         "tracegroupgap": 0
        },
        "paper_bgcolor": "#171717",
        "plot_bgcolor": "#171717",
        "template": {
         "data": {
          "bar": [
           {
            "error_x": {
             "color": "#f2f5fa"
            },
            "error_y": {
             "color": "#f2f5fa"
            },
            "marker": {
             "line": {
              "color": "rgb(17,17,17)",
              "width": 0.5
             },
             "pattern": {
              "fillmode": "overlay",
              "size": 10,
              "solidity": 0.2
             }
            },
            "type": "bar"
           }
          ],
          "barpolar": [
           {
            "marker": {
             "line": {
              "color": "rgb(17,17,17)",
              "width": 0.5
             },
             "pattern": {
              "fillmode": "overlay",
              "size": 10,
              "solidity": 0.2
             }
            },
            "type": "barpolar"
           }
          ],
          "carpet": [
           {
            "aaxis": {
             "endlinecolor": "#A2B1C6",
             "gridcolor": "#506784",
             "linecolor": "#506784",
             "minorgridcolor": "#506784",
             "startlinecolor": "#A2B1C6"
            },
            "baxis": {
             "endlinecolor": "#A2B1C6",
             "gridcolor": "#506784",
             "linecolor": "#506784",
             "minorgridcolor": "#506784",
             "startlinecolor": "#A2B1C6"
            },
            "type": "carpet"
           }
          ],
          "choropleth": [
           {
            "colorbar": {
             "outlinewidth": 0,
             "ticks": ""
            },
            "type": "choropleth"
           }
          ],
          "contour": [
           {
            "colorbar": {
             "outlinewidth": 0,
             "ticks": ""
            },
            "colorscale": [
             [
              0,
              "#0d0887"
             ],
             [
              0.1111111111111111,
              "#46039f"
             ],
             [
              0.2222222222222222,
              "#7201a8"
             ],
             [
              0.3333333333333333,
              "#9c179e"
             ],
             [
              0.4444444444444444,
              "#bd3786"
             ],
             [
              0.5555555555555556,
              "#d8576b"
             ],
             [
              0.6666666666666666,
              "#ed7953"
             ],
             [
              0.7777777777777778,
              "#fb9f3a"
             ],
             [
              0.8888888888888888,
              "#fdca26"
             ],
             [
              1,
              "#f0f921"
             ]
            ],
            "type": "contour"
           }
          ],
          "contourcarpet": [
           {
            "colorbar": {
             "outlinewidth": 0,
             "ticks": ""
            },
            "type": "contourcarpet"
           }
          ],
          "heatmap": [
           {
            "colorbar": {
             "outlinewidth": 0,
             "ticks": ""
            },
            "colorscale": [
             [
              0,
              "#0d0887"
             ],
             [
              0.1111111111111111,
              "#46039f"
             ],
             [
              0.2222222222222222,
              "#7201a8"
             ],
             [
              0.3333333333333333,
              "#9c179e"
             ],
             [
              0.4444444444444444,
              "#bd3786"
             ],
             [
              0.5555555555555556,
              "#d8576b"
             ],
             [
              0.6666666666666666,
              "#ed7953"
             ],
             [
              0.7777777777777778,
              "#fb9f3a"
             ],
             [
              0.8888888888888888,
              "#fdca26"
             ],
             [
              1,
              "#f0f921"
             ]
            ],
            "type": "heatmap"
           }
          ],
          "heatmapgl": [
           {
            "colorbar": {
             "outlinewidth": 0,
             "ticks": ""
            },
            "colorscale": [
             [
              0,
              "#0d0887"
             ],
             [
              0.1111111111111111,
              "#46039f"
             ],
             [
              0.2222222222222222,
              "#7201a8"
             ],
             [
              0.3333333333333333,
              "#9c179e"
             ],
             [
              0.4444444444444444,
              "#bd3786"
             ],
             [
              0.5555555555555556,
              "#d8576b"
             ],
             [
              0.6666666666666666,
              "#ed7953"
             ],
             [
              0.7777777777777778,
              "#fb9f3a"
             ],
             [
              0.8888888888888888,
              "#fdca26"
             ],
             [
              1,
              "#f0f921"
             ]
            ],
            "type": "heatmapgl"
           }
          ],
          "histogram": [
           {
            "marker": {
             "pattern": {
              "fillmode": "overlay",
              "size": 10,
              "solidity": 0.2
             }
            },
            "type": "histogram"
           }
          ],
          "histogram2d": [
           {
            "colorbar": {
             "outlinewidth": 0,
             "ticks": ""
            },
            "colorscale": [
             [
              0,
              "#0d0887"
             ],
             [
              0.1111111111111111,
              "#46039f"
             ],
             [
              0.2222222222222222,
              "#7201a8"
             ],
             [
              0.3333333333333333,
              "#9c179e"
             ],
             [
              0.4444444444444444,
              "#bd3786"
             ],
             [
              0.5555555555555556,
              "#d8576b"
             ],
             [
              0.6666666666666666,
              "#ed7953"
             ],
             [
              0.7777777777777778,
              "#fb9f3a"
             ],
             [
              0.8888888888888888,
              "#fdca26"
             ],
             [
              1,
              "#f0f921"
             ]
            ],
            "type": "histogram2d"
           }
          ],
          "histogram2dcontour": [
           {
            "colorbar": {
             "outlinewidth": 0,
             "ticks": ""
            },
            "colorscale": [
             [
              0,
              "#0d0887"
             ],
             [
              0.1111111111111111,
              "#46039f"
             ],
             [
              0.2222222222222222,
              "#7201a8"
             ],
             [
              0.3333333333333333,
              "#9c179e"
             ],
             [
              0.4444444444444444,
              "#bd3786"
             ],
             [
              0.5555555555555556,
              "#d8576b"
             ],
             [
              0.6666666666666666,
              "#ed7953"
             ],
             [
              0.7777777777777778,
              "#fb9f3a"
             ],
             [
              0.8888888888888888,
              "#fdca26"
             ],
             [
              1,
              "#f0f921"
             ]
            ],
            "type": "histogram2dcontour"
           }
          ],
          "mesh3d": [
           {
            "colorbar": {
             "outlinewidth": 0,
             "ticks": ""
            },
            "type": "mesh3d"
           }
          ],
          "parcoords": [
           {
            "line": {
             "colorbar": {
              "outlinewidth": 0,
              "ticks": ""
             }
            },
            "type": "parcoords"
           }
          ],
          "pie": [
           {
            "automargin": true,
            "type": "pie"
           }
          ],
          "scatter": [
           {
            "marker": {
             "line": {
              "color": "#283442"
             }
            },
            "type": "scatter"
           }
          ],
          "scatter3d": [
           {
            "line": {
             "colorbar": {
              "outlinewidth": 0,
              "ticks": ""
             }
            },
            "marker": {
             "colorbar": {
              "outlinewidth": 0,
              "ticks": ""
             }
            },
            "type": "scatter3d"
           }
          ],
          "scattercarpet": [
           {
            "marker": {
             "colorbar": {
              "outlinewidth": 0,
              "ticks": ""
             }
            },
            "type": "scattercarpet"
           }
          ],
          "scattergeo": [
           {
            "marker": {
             "colorbar": {
              "outlinewidth": 0,
              "ticks": ""
             }
            },
            "type": "scattergeo"
           }
          ],
          "scattergl": [
           {
            "marker": {
             "line": {
              "color": "#283442"
             }
            },
            "type": "scattergl"
           }
          ],
          "scattermapbox": [
           {
            "marker": {
             "colorbar": {
              "outlinewidth": 0,
              "ticks": ""
             }
            },
            "type": "scattermapbox"
           }
          ],
          "scatterpolar": [
           {
            "marker": {
             "colorbar": {
              "outlinewidth": 0,
              "ticks": ""
             }
            },
            "type": "scatterpolar"
           }
          ],
          "scatterpolargl": [
           {
            "marker": {
             "colorbar": {
              "outlinewidth": 0,
              "ticks": ""
             }
            },
            "type": "scatterpolargl"
           }
          ],
          "scatterternary": [
           {
            "marker": {
             "colorbar": {
              "outlinewidth": 0,
              "ticks": ""
             }
            },
            "type": "scatterternary"
           }
          ],
          "surface": [
           {
            "colorbar": {
             "outlinewidth": 0,
             "ticks": ""
            },
            "colorscale": [
             [
              0,
              "#0d0887"
             ],
             [
              0.1111111111111111,
              "#46039f"
             ],
             [
              0.2222222222222222,
              "#7201a8"
             ],
             [
              0.3333333333333333,
              "#9c179e"
             ],
             [
              0.4444444444444444,
              "#bd3786"
             ],
             [
              0.5555555555555556,
              "#d8576b"
             ],
             [
              0.6666666666666666,
              "#ed7953"
             ],
             [
              0.7777777777777778,
              "#fb9f3a"
             ],
             [
              0.8888888888888888,
              "#fdca26"
             ],
             [
              1,
              "#f0f921"
             ]
            ],
            "type": "surface"
           }
          ],
          "table": [
           {
            "cells": {
             "fill": {
              "color": "#506784"
             },
             "line": {
              "color": "rgb(17,17,17)"
             }
            },
            "header": {
             "fill": {
              "color": "#2a3f5f"
             },
             "line": {
              "color": "rgb(17,17,17)"
             }
            },
            "type": "table"
           }
          ]
         },
         "layout": {
          "annotationdefaults": {
           "arrowcolor": "#f2f5fa",
           "arrowhead": 0,
           "arrowwidth": 1
          },
          "autotypenumbers": "strict",
          "coloraxis": {
           "colorbar": {
            "outlinewidth": 0,
            "ticks": ""
           }
          },
          "colorscale": {
           "diverging": [
            [
             0,
             "#8e0152"
            ],
            [
             0.1,
             "#c51b7d"
            ],
            [
             0.2,
             "#de77ae"
            ],
            [
             0.3,
             "#f1b6da"
            ],
            [
             0.4,
             "#fde0ef"
            ],
            [
             0.5,
             "#f7f7f7"
            ],
            [
             0.6,
             "#e6f5d0"
            ],
            [
             0.7,
             "#b8e186"
            ],
            [
             0.8,
             "#7fbc41"
            ],
            [
             0.9,
             "#4d9221"
            ],
            [
             1,
             "#276419"
            ]
           ],
           "sequential": [
            [
             0,
             "#0d0887"
            ],
            [
             0.1111111111111111,
             "#46039f"
            ],
            [
             0.2222222222222222,
             "#7201a8"
            ],
            [
             0.3333333333333333,
             "#9c179e"
            ],
            [
             0.4444444444444444,
             "#bd3786"
            ],
            [
             0.5555555555555556,
             "#d8576b"
            ],
            [
             0.6666666666666666,
             "#ed7953"
            ],
            [
             0.7777777777777778,
             "#fb9f3a"
            ],
            [
             0.8888888888888888,
             "#fdca26"
            ],
            [
             1,
             "#f0f921"
            ]
           ],
           "sequentialminus": [
            [
             0,
             "#0d0887"
            ],
            [
             0.1111111111111111,
             "#46039f"
            ],
            [
             0.2222222222222222,
             "#7201a8"
            ],
            [
             0.3333333333333333,
             "#9c179e"
            ],
            [
             0.4444444444444444,
             "#bd3786"
            ],
            [
             0.5555555555555556,
             "#d8576b"
            ],
            [
             0.6666666666666666,
             "#ed7953"
            ],
            [
             0.7777777777777778,
             "#fb9f3a"
            ],
            [
             0.8888888888888888,
             "#fdca26"
            ],
            [
             1,
             "#f0f921"
            ]
           ]
          },
          "colorway": [
           "#636efa",
           "#EF553B",
           "#00cc96",
           "#ab63fa",
           "#FFA15A",
           "#19d3f3",
           "#FF6692",
           "#B6E880",
           "#FF97FF",
           "#FECB52"
          ],
          "font": {
           "color": "#f2f5fa"
          },
          "geo": {
           "bgcolor": "rgb(17,17,17)",
           "lakecolor": "rgb(17,17,17)",
           "landcolor": "rgb(17,17,17)",
           "showlakes": true,
           "showland": true,
           "subunitcolor": "#506784"
          },
          "hoverlabel": {
           "align": "left"
          },
          "hovermode": "closest",
          "mapbox": {
           "style": "dark"
          },
          "paper_bgcolor": "rgb(17,17,17)",
          "plot_bgcolor": "rgb(17,17,17)",
          "polar": {
           "angularaxis": {
            "gridcolor": "#506784",
            "linecolor": "#506784",
            "ticks": ""
           },
           "bgcolor": "rgb(17,17,17)",
           "radialaxis": {
            "gridcolor": "#506784",
            "linecolor": "#506784",
            "ticks": ""
           }
          },
          "scene": {
           "xaxis": {
            "backgroundcolor": "rgb(17,17,17)",
            "gridcolor": "#506784",
            "gridwidth": 2,
            "linecolor": "#506784",
            "showbackground": true,
            "ticks": "",
            "zerolinecolor": "#C8D4E3"
           },
           "yaxis": {
            "backgroundcolor": "rgb(17,17,17)",
            "gridcolor": "#506784",
            "gridwidth": 2,
            "linecolor": "#506784",
            "showbackground": true,
            "ticks": "",
            "zerolinecolor": "#C8D4E3"
           },
           "zaxis": {
            "backgroundcolor": "rgb(17,17,17)",
            "gridcolor": "#506784",
            "gridwidth": 2,
            "linecolor": "#506784",
            "showbackground": true,
            "ticks": "",
            "zerolinecolor": "#C8D4E3"
           }
          },
          "shapedefaults": {
           "line": {
            "color": "#f2f5fa"
           }
          },
          "sliderdefaults": {
           "bgcolor": "#C8D4E3",
           "bordercolor": "rgb(17,17,17)",
           "borderwidth": 1,
           "tickwidth": 0
          },
          "ternary": {
           "aaxis": {
            "gridcolor": "#506784",
            "linecolor": "#506784",
            "ticks": ""
           },
           "baxis": {
            "gridcolor": "#506784",
            "linecolor": "#506784",
            "ticks": ""
           },
           "bgcolor": "rgb(17,17,17)",
           "caxis": {
            "gridcolor": "#506784",
            "linecolor": "#506784",
            "ticks": ""
           }
          },
          "title": {
           "x": 0.05
          },
          "updatemenudefaults": {
           "bgcolor": "#506784",
           "borderwidth": 0
          },
          "xaxis": {
           "automargin": true,
           "gridcolor": "#283442",
           "linecolor": "#506784",
           "ticks": "",
           "title": {
            "standoff": 15
           },
           "zerolinecolor": "#283442",
           "zerolinewidth": 2
          },
          "yaxis": {
           "automargin": true,
           "gridcolor": "#283442",
           "linecolor": "#506784",
           "ticks": "",
           "title": {
            "standoff": 15
           },
           "zerolinecolor": "#283442",
           "zerolinewidth": 2
          }
         }
        },
        "title": {
         "text": "US Primary Education Return on Investment<br><sup><i>States spending more per student from 5th through 8th grade had a small relationship with basic 8th grade reading performance.</i></sup>"
        },
        "width": 1000,
        "xaxis": {
         "anchor": "y",
         "domain": [
          0,
          1
         ],
         "showticklabels": false,
         "title": {}
        },
        "yaxis": {
         "anchor": "x",
         "domain": [
          0,
          1
         ],
         "title": {
          "font": {
           "size": 10
          },
          "text": "Per Pupil, 4-Year Expenditure Change Between 2015 and 2019<br>(2024 Dollars)"
         }
        }
       }
      }
     },
     "metadata": {},
     "output_type": "display_data"
    },
    {
     "data": {
      "text/html": [
       "<table class=\"simpletable\">\n",
       "<caption>OLS Regression Results</caption>\n",
       "<tr>\n",
       "  <th>Dep. Variable:</th>            <td>y</td>        <th>  R-squared (uncentered):</th>      <td>   0.000</td>\n",
       "</tr>\n",
       "<tr>\n",
       "  <th>Model:</th>                   <td>OLS</td>       <th>  Adj. R-squared (uncentered):</th> <td>  -0.020</td>\n",
       "</tr>\n",
       "<tr>\n",
       "  <th>Method:</th>             <td>Least Squares</td>  <th>  F-statistic:       </th>          <td> 0.01658</td>\n",
       "</tr>\n",
       "<tr>\n",
       "  <th>Date:</th>             <td>Sat, 28 Sep 2024</td> <th>  Prob (F-statistic):</th>           <td> 0.898</td> \n",
       "</tr>\n",
       "<tr>\n",
       "  <th>Time:</th>                 <td>20:09:29</td>     <th>  Log-Likelihood:    </th>          <td> -124.50</td>\n",
       "</tr>\n",
       "<tr>\n",
       "  <th>No. Observations:</th>      <td>    50</td>      <th>  AIC:               </th>          <td>   251.0</td>\n",
       "</tr>\n",
       "<tr>\n",
       "  <th>Df Residuals:</th>          <td>    49</td>      <th>  BIC:               </th>          <td>   252.9</td>\n",
       "</tr>\n",
       "<tr>\n",
       "  <th>Df Model:</th>              <td>     1</td>      <th>                     </th>              <td> </td>   \n",
       "</tr>\n",
       "<tr>\n",
       "  <th>Covariance Type:</th>      <td>nonrobust</td>    <th>                     </th>              <td> </td>   \n",
       "</tr>\n",
       "</table>\n",
       "<table class=\"simpletable\">\n",
       "<tr>\n",
       "   <td></td>     <th>coef</th>     <th>std err</th>      <th>t</th>      <th>P>|t|</th>  <th>[0.025</th>    <th>0.975]</th>  \n",
       "</tr>\n",
       "<tr>\n",
       "  <th>x1</th> <td>  1.04e-05</td> <td> 8.08e-05</td> <td>    0.129</td> <td> 0.898</td> <td>   -0.000</td> <td>    0.000</td>\n",
       "</tr>\n",
       "</table>\n",
       "<table class=\"simpletable\">\n",
       "<tr>\n",
       "  <th>Omnibus:</th>       <td> 0.319</td> <th>  Durbin-Watson:     </th> <td>   1.730</td>\n",
       "</tr>\n",
       "<tr>\n",
       "  <th>Prob(Omnibus):</th> <td> 0.853</td> <th>  Jarque-Bera (JB):  </th> <td>   0.228</td>\n",
       "</tr>\n",
       "<tr>\n",
       "  <th>Skew:</th>          <td> 0.158</td> <th>  Prob(JB):          </th> <td>   0.892</td>\n",
       "</tr>\n",
       "<tr>\n",
       "  <th>Kurtosis:</th>      <td> 2.900</td> <th>  Cond. No.          </th> <td>    1.00</td>\n",
       "</tr>\n",
       "</table><br/><br/>Notes:<br/>[1] R² is computed without centering (uncentered) since the model does not contain a constant.<br/>[2] Standard Errors assume that the covariance matrix of the errors is correctly specified."
      ],
      "text/latex": [
       "\\begin{center}\n",
       "\\begin{tabular}{lclc}\n",
       "\\toprule\n",
       "\\textbf{Dep. Variable:}    &        y         & \\textbf{  R-squared (uncentered):}      &     0.000   \\\\\n",
       "\\textbf{Model:}            &       OLS        & \\textbf{  Adj. R-squared (uncentered):} &    -0.020   \\\\\n",
       "\\textbf{Method:}           &  Least Squares   & \\textbf{  F-statistic:       }          &   0.01658   \\\\\n",
       "\\textbf{Date:}             & Sat, 28 Sep 2024 & \\textbf{  Prob (F-statistic):}          &    0.898    \\\\\n",
       "\\textbf{Time:}             &     20:09:29     & \\textbf{  Log-Likelihood:    }          &   -124.50   \\\\\n",
       "\\textbf{No. Observations:} &          50      & \\textbf{  AIC:               }          &     251.0   \\\\\n",
       "\\textbf{Df Residuals:}     &          49      & \\textbf{  BIC:               }          &     252.9   \\\\\n",
       "\\textbf{Df Model:}         &           1      & \\textbf{                     }          &             \\\\\n",
       "\\textbf{Covariance Type:}  &    nonrobust     & \\textbf{                     }          &             \\\\\n",
       "\\bottomrule\n",
       "\\end{tabular}\n",
       "\\begin{tabular}{lcccccc}\n",
       "            & \\textbf{coef} & \\textbf{std err} & \\textbf{t} & \\textbf{P$> |$t$|$} & \\textbf{[0.025} & \\textbf{0.975]}  \\\\\n",
       "\\midrule\n",
       "\\textbf{x1} &     1.04e-05  &     8.08e-05     &     0.129  &         0.898        &       -0.000    &        0.000     \\\\\n",
       "\\bottomrule\n",
       "\\end{tabular}\n",
       "\\begin{tabular}{lclc}\n",
       "\\textbf{Omnibus:}       &  0.319 & \\textbf{  Durbin-Watson:     } &    1.730  \\\\\n",
       "\\textbf{Prob(Omnibus):} &  0.853 & \\textbf{  Jarque-Bera (JB):  } &    0.228  \\\\\n",
       "\\textbf{Skew:}          &  0.158 & \\textbf{  Prob(JB):          } &    0.892  \\\\\n",
       "\\textbf{Kurtosis:}      &  2.900 & \\textbf{  Cond. No.          } &     1.00  \\\\\n",
       "\\bottomrule\n",
       "\\end{tabular}\n",
       "%\\caption{OLS Regression Results}\n",
       "\\end{center}\n",
       "\n",
       "Notes: \\newline\n",
       " [1] R² is computed without centering (uncentered) since the model does not contain a constant. \\newline\n",
       " [2] Standard Errors assume that the covariance matrix of the errors is correctly specified."
      ],
      "text/plain": [
       "<class 'statsmodels.iolib.summary.Summary'>\n",
       "\"\"\"\n",
       "                                 OLS Regression Results                                \n",
       "=======================================================================================\n",
       "Dep. Variable:                      y   R-squared (uncentered):                   0.000\n",
       "Model:                            OLS   Adj. R-squared (uncentered):             -0.020\n",
       "Method:                 Least Squares   F-statistic:                            0.01658\n",
       "Date:                Sat, 28 Sep 2024   Prob (F-statistic):                       0.898\n",
       "Time:                        20:09:29   Log-Likelihood:                         -124.50\n",
       "No. Observations:                  50   AIC:                                      251.0\n",
       "Df Residuals:                      49   BIC:                                      252.9\n",
       "Df Model:                           1                                                  \n",
       "Covariance Type:            nonrobust                                                  \n",
       "==============================================================================\n",
       "                 coef    std err          t      P>|t|      [0.025      0.975]\n",
       "------------------------------------------------------------------------------\n",
       "x1           1.04e-05   8.08e-05      0.129      0.898      -0.000       0.000\n",
       "==============================================================================\n",
       "Omnibus:                        0.319   Durbin-Watson:                   1.730\n",
       "Prob(Omnibus):                  0.853   Jarque-Bera (JB):                0.228\n",
       "Skew:                           0.158   Prob(JB):                        0.892\n",
       "Kurtosis:                       2.900   Cond. No.                         1.00\n",
       "==============================================================================\n",
       "\n",
       "Notes:\n",
       "[1] R² is computed without centering (uncentered) since the model does not contain a constant.\n",
       "[2] Standard Errors assume that the covariance matrix of the errors is correctly specified.\n",
       "\"\"\""
      ]
     },
     "metadata": {},
     "output_type": "display_data"
    },
    {
     "data": {
      "application/vnd.plotly.v1+json": {
       "config": {
        "plotlyServerURL": "https://plot.ly"
       },
       "data": [
        {
         "alignmentgroup": "True",
         "hovertemplate": "State=%{x}<br>4-Year Expenditure Change (2024 Dollars)=%{y}<br>Change in NAEP At or Above Proficient</i><br><sup>(% Points)</sup>=%{marker.color}<extra></extra>",
         "legendgroup": "",
         "marker": {
          "color": [
           8,
           2,
           -4,
           2,
           -3,
           0,
           0,
           3,
           1,
           -3,
           3,
           2,
           1,
           3,
           -4,
           3,
           -5,
           -2,
           3,
           -2,
           0,
           1,
           2,
           4,
           0,
           3,
           3,
           -3,
           -2,
           -1,
           0,
           3,
           -2,
           2,
           1,
           0,
           4,
           3,
           0,
           2,
           0,
           7,
           4,
           6,
           0,
           -3,
           1,
           2,
           -2,
           -1
          ],
          "coloraxis": "coloraxis",
          "pattern": {
           "shape": ""
          }
         },
         "name": "",
         "offsetgroup": "",
         "orientation": "v",
         "showlegend": false,
         "textposition": "auto",
         "type": "bar",
         "x": [
          "Alaska",
          "Wyoming",
          "Louisiana",
          "West Virginia",
          "Arkansas",
          "Indiana",
          "Delaware",
          "Oklahoma",
          "Maryland",
          "New Mexico",
          "Kansas",
          "Alabama",
          "Michigan",
          "Iowa",
          "Florida",
          "Missouri",
          "Mississippi",
          "Ohio",
          "Virginia",
          "New Jersey",
          "Rhode Island",
          "Tennessee",
          "South Dakota",
          "Nebraska",
          "Utah",
          "Kentucky",
          "Arizona",
          "North Carolina",
          "Georgia",
          "South Carolina",
          "Wisconsin",
          "Montana",
          "Nevada",
          "Connecticut",
          "Massachusetts",
          "Idaho",
          "Vermont",
          "Texas",
          "Maine",
          "North Dakota",
          "Colorado",
          "New Hampshire",
          "Pennsylvania",
          "Minnesota",
          "Illinois",
          "Hawaii",
          "New York",
          "Oregon",
          "California",
          "Washington"
         ],
         "xaxis": "x",
         "y": [
          -14708.457307342367,
          -5296.647514050259,
          -2556.7129300012602,
          -2494.7926835152175,
          -1471.4241271836217,
          -1232.6239368214592,
          -944.6272461902263,
          -862.2580247299411,
          -466.8691361673409,
          -235.0090620380579,
          54.88703104273009,
          329.76305114709976,
          441.5695752318061,
          469.37110981078877,
          657.5571875544047,
          666.924127925442,
          715.9227559788415,
          1050.9571133526333,
          1104.9280829005438,
          1155.4947146523918,
          1330.2161884037196,
          1443.2498385542785,
          1643.4462295624471,
          1686.1051294720237,
          1807.4550930238838,
          1921.2612168762062,
          2299.1022917744485,
          2629.926596630241,
          2655.482237894699,
          3086.9670952629385,
          3112.51216819181,
          3291.684983213003,
          3340.913001489862,
          3511.951550465761,
          3561.0969406339136,
          3770.7062355231537,
          3859.872833897971,
          4487.797092459696,
          4904.093805178389,
          5558.320899853075,
          5586.881557994355,
          5657.265920831036,
          6389.194608006001,
          7483.586008539336,
          8203.593359115708,
          9348.71729686117,
          9709.209358403881,
          10733.41411982417,
          11726.037231397699,
          13946.614370122246
         ],
         "yaxis": "y"
        }
       ],
       "layout": {
        "annotations": [
         {
          "align": "right",
          "font": {
           "color": "grey",
           "size": 10
          },
          "opacity": 0.7,
          "showarrow": false,
          "text": "Chart by Dominic Tarro | 𝕏 @dominictarro<br>Sources: NAEP Reading Assessments (2015, 2019)<br>CCD National Public Education Financial Survey (2010-2019)",
          "x": 1.07,
          "xref": "paper",
          "y": -0.15,
          "yref": "paper"
         },
         {
          "align": "left",
          "font": {
           "color": "grey",
           "size": 10
          },
          "opacity": 0.7,
          "showarrow": false,
          "text": "The NAEP Reading scale ranges from 0 to 500.<br><i>Per Pupil, 4-Year Expenditure</i> is an aggregate from 5th-8th grade. Dollar adjustment was made using <br>each school year's ending year.<br>OLS Adj. R-squared: -0.020; P|t|>0.898; % Pts change per $1000 in per student spending=0.01",
          "x": -0.08,
          "xref": "paper",
          "y": -0.15,
          "yref": "paper"
         }
        ],
        "barmode": "relative",
        "coloraxis": {
         "cmid": 0,
         "colorbar": {
          "orientation": "h",
          "title": {
           "text": "Change in <i>NAEP At or Above Proficient</i><br><sup>(% Points)</sup></i>"
          }
         },
         "colorscale": [
          [
           0,
           "rgb(103,0,31)"
          ],
          [
           0.1,
           "rgb(178,24,43)"
          ],
          [
           0.2,
           "rgb(214,96,77)"
          ],
          [
           0.3,
           "rgb(244,165,130)"
          ],
          [
           0.4,
           "rgb(253,219,199)"
          ],
          [
           0.5,
           "rgb(247,247,247)"
          ],
          [
           0.6,
           "rgb(209,229,240)"
          ],
          [
           0.7,
           "rgb(146,197,222)"
          ],
          [
           0.8,
           "rgb(67,147,195)"
          ],
          [
           0.9,
           "rgb(33,102,172)"
          ],
          [
           1,
           "rgb(5,48,97)"
          ]
         ]
        },
        "height": 600,
        "legend": {
         "tracegroupgap": 0
        },
        "paper_bgcolor": "#171717",
        "plot_bgcolor": "#171717",
        "template": {
         "data": {
          "bar": [
           {
            "error_x": {
             "color": "#f2f5fa"
            },
            "error_y": {
             "color": "#f2f5fa"
            },
            "marker": {
             "line": {
              "color": "rgb(17,17,17)",
              "width": 0.5
             },
             "pattern": {
              "fillmode": "overlay",
              "size": 10,
              "solidity": 0.2
             }
            },
            "type": "bar"
           }
          ],
          "barpolar": [
           {
            "marker": {
             "line": {
              "color": "rgb(17,17,17)",
              "width": 0.5
             },
             "pattern": {
              "fillmode": "overlay",
              "size": 10,
              "solidity": 0.2
             }
            },
            "type": "barpolar"
           }
          ],
          "carpet": [
           {
            "aaxis": {
             "endlinecolor": "#A2B1C6",
             "gridcolor": "#506784",
             "linecolor": "#506784",
             "minorgridcolor": "#506784",
             "startlinecolor": "#A2B1C6"
            },
            "baxis": {
             "endlinecolor": "#A2B1C6",
             "gridcolor": "#506784",
             "linecolor": "#506784",
             "minorgridcolor": "#506784",
             "startlinecolor": "#A2B1C6"
            },
            "type": "carpet"
           }
          ],
          "choropleth": [
           {
            "colorbar": {
             "outlinewidth": 0,
             "ticks": ""
            },
            "type": "choropleth"
           }
          ],
          "contour": [
           {
            "colorbar": {
             "outlinewidth": 0,
             "ticks": ""
            },
            "colorscale": [
             [
              0,
              "#0d0887"
             ],
             [
              0.1111111111111111,
              "#46039f"
             ],
             [
              0.2222222222222222,
              "#7201a8"
             ],
             [
              0.3333333333333333,
              "#9c179e"
             ],
             [
              0.4444444444444444,
              "#bd3786"
             ],
             [
              0.5555555555555556,
              "#d8576b"
             ],
             [
              0.6666666666666666,
              "#ed7953"
             ],
             [
              0.7777777777777778,
              "#fb9f3a"
             ],
             [
              0.8888888888888888,
              "#fdca26"
             ],
             [
              1,
              "#f0f921"
             ]
            ],
            "type": "contour"
           }
          ],
          "contourcarpet": [
           {
            "colorbar": {
             "outlinewidth": 0,
             "ticks": ""
            },
            "type": "contourcarpet"
           }
          ],
          "heatmap": [
           {
            "colorbar": {
             "outlinewidth": 0,
             "ticks": ""
            },
            "colorscale": [
             [
              0,
              "#0d0887"
             ],
             [
              0.1111111111111111,
              "#46039f"
             ],
             [
              0.2222222222222222,
              "#7201a8"
             ],
             [
              0.3333333333333333,
              "#9c179e"
             ],
             [
              0.4444444444444444,
              "#bd3786"
             ],
             [
              0.5555555555555556,
              "#d8576b"
             ],
             [
              0.6666666666666666,
              "#ed7953"
             ],
             [
              0.7777777777777778,
              "#fb9f3a"
             ],
             [
              0.8888888888888888,
              "#fdca26"
             ],
             [
              1,
              "#f0f921"
             ]
            ],
            "type": "heatmap"
           }
          ],
          "heatmapgl": [
           {
            "colorbar": {
             "outlinewidth": 0,
             "ticks": ""
            },
            "colorscale": [
             [
              0,
              "#0d0887"
             ],
             [
              0.1111111111111111,
              "#46039f"
             ],
             [
              0.2222222222222222,
              "#7201a8"
             ],
             [
              0.3333333333333333,
              "#9c179e"
             ],
             [
              0.4444444444444444,
              "#bd3786"
             ],
             [
              0.5555555555555556,
              "#d8576b"
             ],
             [
              0.6666666666666666,
              "#ed7953"
             ],
             [
              0.7777777777777778,
              "#fb9f3a"
             ],
             [
              0.8888888888888888,
              "#fdca26"
             ],
             [
              1,
              "#f0f921"
             ]
            ],
            "type": "heatmapgl"
           }
          ],
          "histogram": [
           {
            "marker": {
             "pattern": {
              "fillmode": "overlay",
              "size": 10,
              "solidity": 0.2
             }
            },
            "type": "histogram"
           }
          ],
          "histogram2d": [
           {
            "colorbar": {
             "outlinewidth": 0,
             "ticks": ""
            },
            "colorscale": [
             [
              0,
              "#0d0887"
             ],
             [
              0.1111111111111111,
              "#46039f"
             ],
             [
              0.2222222222222222,
              "#7201a8"
             ],
             [
              0.3333333333333333,
              "#9c179e"
             ],
             [
              0.4444444444444444,
              "#bd3786"
             ],
             [
              0.5555555555555556,
              "#d8576b"
             ],
             [
              0.6666666666666666,
              "#ed7953"
             ],
             [
              0.7777777777777778,
              "#fb9f3a"
             ],
             [
              0.8888888888888888,
              "#fdca26"
             ],
             [
              1,
              "#f0f921"
             ]
            ],
            "type": "histogram2d"
           }
          ],
          "histogram2dcontour": [
           {
            "colorbar": {
             "outlinewidth": 0,
             "ticks": ""
            },
            "colorscale": [
             [
              0,
              "#0d0887"
             ],
             [
              0.1111111111111111,
              "#46039f"
             ],
             [
              0.2222222222222222,
              "#7201a8"
             ],
             [
              0.3333333333333333,
              "#9c179e"
             ],
             [
              0.4444444444444444,
              "#bd3786"
             ],
             [
              0.5555555555555556,
              "#d8576b"
             ],
             [
              0.6666666666666666,
              "#ed7953"
             ],
             [
              0.7777777777777778,
              "#fb9f3a"
             ],
             [
              0.8888888888888888,
              "#fdca26"
             ],
             [
              1,
              "#f0f921"
             ]
            ],
            "type": "histogram2dcontour"
           }
          ],
          "mesh3d": [
           {
            "colorbar": {
             "outlinewidth": 0,
             "ticks": ""
            },
            "type": "mesh3d"
           }
          ],
          "parcoords": [
           {
            "line": {
             "colorbar": {
              "outlinewidth": 0,
              "ticks": ""
             }
            },
            "type": "parcoords"
           }
          ],
          "pie": [
           {
            "automargin": true,
            "type": "pie"
           }
          ],
          "scatter": [
           {
            "marker": {
             "line": {
              "color": "#283442"
             }
            },
            "type": "scatter"
           }
          ],
          "scatter3d": [
           {
            "line": {
             "colorbar": {
              "outlinewidth": 0,
              "ticks": ""
             }
            },
            "marker": {
             "colorbar": {
              "outlinewidth": 0,
              "ticks": ""
             }
            },
            "type": "scatter3d"
           }
          ],
          "scattercarpet": [
           {
            "marker": {
             "colorbar": {
              "outlinewidth": 0,
              "ticks": ""
             }
            },
            "type": "scattercarpet"
           }
          ],
          "scattergeo": [
           {
            "marker": {
             "colorbar": {
              "outlinewidth": 0,
              "ticks": ""
             }
            },
            "type": "scattergeo"
           }
          ],
          "scattergl": [
           {
            "marker": {
             "line": {
              "color": "#283442"
             }
            },
            "type": "scattergl"
           }
          ],
          "scattermapbox": [
           {
            "marker": {
             "colorbar": {
              "outlinewidth": 0,
              "ticks": ""
             }
            },
            "type": "scattermapbox"
           }
          ],
          "scatterpolar": [
           {
            "marker": {
             "colorbar": {
              "outlinewidth": 0,
              "ticks": ""
             }
            },
            "type": "scatterpolar"
           }
          ],
          "scatterpolargl": [
           {
            "marker": {
             "colorbar": {
              "outlinewidth": 0,
              "ticks": ""
             }
            },
            "type": "scatterpolargl"
           }
          ],
          "scatterternary": [
           {
            "marker": {
             "colorbar": {
              "outlinewidth": 0,
              "ticks": ""
             }
            },
            "type": "scatterternary"
           }
          ],
          "surface": [
           {
            "colorbar": {
             "outlinewidth": 0,
             "ticks": ""
            },
            "colorscale": [
             [
              0,
              "#0d0887"
             ],
             [
              0.1111111111111111,
              "#46039f"
             ],
             [
              0.2222222222222222,
              "#7201a8"
             ],
             [
              0.3333333333333333,
              "#9c179e"
             ],
             [
              0.4444444444444444,
              "#bd3786"
             ],
             [
              0.5555555555555556,
              "#d8576b"
             ],
             [
              0.6666666666666666,
              "#ed7953"
             ],
             [
              0.7777777777777778,
              "#fb9f3a"
             ],
             [
              0.8888888888888888,
              "#fdca26"
             ],
             [
              1,
              "#f0f921"
             ]
            ],
            "type": "surface"
           }
          ],
          "table": [
           {
            "cells": {
             "fill": {
              "color": "#506784"
             },
             "line": {
              "color": "rgb(17,17,17)"
             }
            },
            "header": {
             "fill": {
              "color": "#2a3f5f"
             },
             "line": {
              "color": "rgb(17,17,17)"
             }
            },
            "type": "table"
           }
          ]
         },
         "layout": {
          "annotationdefaults": {
           "arrowcolor": "#f2f5fa",
           "arrowhead": 0,
           "arrowwidth": 1
          },
          "autotypenumbers": "strict",
          "coloraxis": {
           "colorbar": {
            "outlinewidth": 0,
            "ticks": ""
           }
          },
          "colorscale": {
           "diverging": [
            [
             0,
             "#8e0152"
            ],
            [
             0.1,
             "#c51b7d"
            ],
            [
             0.2,
             "#de77ae"
            ],
            [
             0.3,
             "#f1b6da"
            ],
            [
             0.4,
             "#fde0ef"
            ],
            [
             0.5,
             "#f7f7f7"
            ],
            [
             0.6,
             "#e6f5d0"
            ],
            [
             0.7,
             "#b8e186"
            ],
            [
             0.8,
             "#7fbc41"
            ],
            [
             0.9,
             "#4d9221"
            ],
            [
             1,
             "#276419"
            ]
           ],
           "sequential": [
            [
             0,
             "#0d0887"
            ],
            [
             0.1111111111111111,
             "#46039f"
            ],
            [
             0.2222222222222222,
             "#7201a8"
            ],
            [
             0.3333333333333333,
             "#9c179e"
            ],
            [
             0.4444444444444444,
             "#bd3786"
            ],
            [
             0.5555555555555556,
             "#d8576b"
            ],
            [
             0.6666666666666666,
             "#ed7953"
            ],
            [
             0.7777777777777778,
             "#fb9f3a"
            ],
            [
             0.8888888888888888,
             "#fdca26"
            ],
            [
             1,
             "#f0f921"
            ]
           ],
           "sequentialminus": [
            [
             0,
             "#0d0887"
            ],
            [
             0.1111111111111111,
             "#46039f"
            ],
            [
             0.2222222222222222,
             "#7201a8"
            ],
            [
             0.3333333333333333,
             "#9c179e"
            ],
            [
             0.4444444444444444,
             "#bd3786"
            ],
            [
             0.5555555555555556,
             "#d8576b"
            ],
            [
             0.6666666666666666,
             "#ed7953"
            ],
            [
             0.7777777777777778,
             "#fb9f3a"
            ],
            [
             0.8888888888888888,
             "#fdca26"
            ],
            [
             1,
             "#f0f921"
            ]
           ]
          },
          "colorway": [
           "#636efa",
           "#EF553B",
           "#00cc96",
           "#ab63fa",
           "#FFA15A",
           "#19d3f3",
           "#FF6692",
           "#B6E880",
           "#FF97FF",
           "#FECB52"
          ],
          "font": {
           "color": "#f2f5fa"
          },
          "geo": {
           "bgcolor": "rgb(17,17,17)",
           "lakecolor": "rgb(17,17,17)",
           "landcolor": "rgb(17,17,17)",
           "showlakes": true,
           "showland": true,
           "subunitcolor": "#506784"
          },
          "hoverlabel": {
           "align": "left"
          },
          "hovermode": "closest",
          "mapbox": {
           "style": "dark"
          },
          "paper_bgcolor": "rgb(17,17,17)",
          "plot_bgcolor": "rgb(17,17,17)",
          "polar": {
           "angularaxis": {
            "gridcolor": "#506784",
            "linecolor": "#506784",
            "ticks": ""
           },
           "bgcolor": "rgb(17,17,17)",
           "radialaxis": {
            "gridcolor": "#506784",
            "linecolor": "#506784",
            "ticks": ""
           }
          },
          "scene": {
           "xaxis": {
            "backgroundcolor": "rgb(17,17,17)",
            "gridcolor": "#506784",
            "gridwidth": 2,
            "linecolor": "#506784",
            "showbackground": true,
            "ticks": "",
            "zerolinecolor": "#C8D4E3"
           },
           "yaxis": {
            "backgroundcolor": "rgb(17,17,17)",
            "gridcolor": "#506784",
            "gridwidth": 2,
            "linecolor": "#506784",
            "showbackground": true,
            "ticks": "",
            "zerolinecolor": "#C8D4E3"
           },
           "zaxis": {
            "backgroundcolor": "rgb(17,17,17)",
            "gridcolor": "#506784",
            "gridwidth": 2,
            "linecolor": "#506784",
            "showbackground": true,
            "ticks": "",
            "zerolinecolor": "#C8D4E3"
           }
          },
          "shapedefaults": {
           "line": {
            "color": "#f2f5fa"
           }
          },
          "sliderdefaults": {
           "bgcolor": "#C8D4E3",
           "bordercolor": "rgb(17,17,17)",
           "borderwidth": 1,
           "tickwidth": 0
          },
          "ternary": {
           "aaxis": {
            "gridcolor": "#506784",
            "linecolor": "#506784",
            "ticks": ""
           },
           "baxis": {
            "gridcolor": "#506784",
            "linecolor": "#506784",
            "ticks": ""
           },
           "bgcolor": "rgb(17,17,17)",
           "caxis": {
            "gridcolor": "#506784",
            "linecolor": "#506784",
            "ticks": ""
           }
          },
          "title": {
           "x": 0.05
          },
          "updatemenudefaults": {
           "bgcolor": "#506784",
           "borderwidth": 0
          },
          "xaxis": {
           "automargin": true,
           "gridcolor": "#283442",
           "linecolor": "#506784",
           "ticks": "",
           "title": {
            "standoff": 15
           },
           "zerolinecolor": "#283442",
           "zerolinewidth": 2
          },
          "yaxis": {
           "automargin": true,
           "gridcolor": "#283442",
           "linecolor": "#506784",
           "ticks": "",
           "title": {
            "standoff": 15
           },
           "zerolinecolor": "#283442",
           "zerolinewidth": 2
          }
         }
        },
        "title": {
         "text": "US Primary Education Return on Investment<br><sup><i>States spending more per student from 5th through 8th grade had a negligible relationship with 8th grade reading proficiency.</i></sup>"
        },
        "width": 1000,
        "xaxis": {
         "anchor": "y",
         "domain": [
          0,
          1
         ],
         "showticklabels": false,
         "title": {}
        },
        "yaxis": {
         "anchor": "x",
         "domain": [
          0,
          1
         ],
         "title": {
          "font": {
           "size": 10
          },
          "text": "Per Pupil, 4-Year Expenditure Change Between 2015 and 2019<br>(2024 Dollars)"
         }
        }
       }
      }
     },
     "metadata": {},
     "output_type": "display_data"
    }
   ],
   "source": [
    "def generate_state_investment_and_reading_performance_bar_chart(\n",
    "    column: str, legend_title: str, description: str, change_measure: str\n",
    ") -> go.Figure:\n",
    "    df = student_investment.join(\n",
    "        reading_performance,\n",
    "        on=\"State Name\"\n",
    "    ).sort(\"Investment Change\")\n",
    "    result = correlate(df, \"Investment Change\", column)\n",
    "    return px.bar(\n",
    "        df,\n",
    "        x=\"State Name\",\n",
    "        y=\"Investment Change\",\n",
    "        color=column,\n",
    "        title=f\"US Primary Education Return on Investment<br><sup><i>{description}</i></sup>\",\n",
    "        template=\"plotly_dark\",\n",
    "        color_continuous_scale=px.colors.sequential.RdBu,\n",
    "        labels={\n",
    "            \"State Name\": \"State\",\n",
    "            \"Investment Change\": \"4-Year Expenditure Change (2024 Dollars)\",\n",
    "            column: f\"Change in NAEP {legend_title}\",\n",
    "        },\n",
    "        width=1000,\n",
    "        height=600,\n",
    "    ).update_layout(\n",
    "        xaxis=dict(showticklabels=False, title=None),\n",
    "        yaxis_title=\"Per Pupil, 4-Year Expenditure Change Between 2015 and 2019<br>(2024 Dollars)\",\n",
    "        yaxis_title_font_size=10,\n",
    "        coloraxis_colorbar_title=f\"Change in <i>NAEP {legend_title}</i>\",\n",
    "        coloraxis_colorbar_orientation=\"h\",\n",
    "        plot_bgcolor=\"#171717\",\n",
    "        paper_bgcolor=\"#171717\",\n",
    "    ).update_coloraxes(\n",
    "        cmid=0,\n",
    "    ).add_annotation(\n",
    "        x=1.07,\n",
    "        y=-0.15,\n",
    "        xref=\"paper\",\n",
    "        yref=\"paper\",\n",
    "        text=\"<br>\".join(\n",
    "            (\n",
    "                \"Chart by Dominic Tarro | 𝕏 @dominictarro\",\n",
    "                \"Sources: NAEP Reading Assessments (2015, 2019)\",\n",
    "                \"CCD National Public Education Financial Survey (2010-2019)\"\n",
    "            )\n",
    "        ),\n",
    "        align=\"right\",\n",
    "        showarrow=False,\n",
    "        font=dict(\n",
    "            size=10,\n",
    "            color=\"grey\"\n",
    "        ),\n",
    "        opacity=0.7\n",
    "    ).add_annotation(\n",
    "        x=-0.08,\n",
    "        y=-0.15,\n",
    "        xref=\"paper\",\n",
    "        yref=\"paper\",\n",
    "        text=\"<br>\".join(\n",
    "            (\n",
    "                \"The NAEP Reading scale ranges from 0 to 500.\",\n",
    "                \"<i>Per Pupil, 4-Year Expenditure</i> is an aggregate from 5th-8th grade. Dollar adjustment was made using <br>each school year's ending year.\",\n",
    "                f\"OLS Adj. R-squared: {result.r_squared:.03f}; P|t|>{result.p_value:.03f}; {change_measure.title()} change per $1000 in per student spending={result.coef * 1000:.2f}\"\n",
    "            )\n",
    "        ),\n",
    "        align=\"left\",\n",
    "        showarrow=False,\n",
    "        font=dict(\n",
    "            size=10,\n",
    "            color=\"grey\"\n",
    "        ),\n",
    "        opacity=0.7\n",
    "    )\n",
    "\n",
    "_fig4 = generate_state_investment_and_reading_performance_bar_chart(\n",
    "    \"Mean Grade 8 Reading Score Change\",\n",
    "    \"Average Reading Score\",\n",
    "    \"States spending more per student from 5th through 8th grade had a negligible relationship with average 8th grade reading performance.\",\n",
    "    \"% pts\",\n",
    ")\n",
    "_fig4.write_image(\"./charts/spending-school-roi-reading-mean.png\")\n",
    "_fig4.show()\n",
    "_fig5 = generate_state_investment_and_reading_performance_bar_chart(\n",
    "    \"At or Above Basic (%) Change\",\n",
    "    \"At or Above Basic</i><br><sup>(% Points)</sup>\",\n",
    "    \"States spending more per student from 5th through 8th grade had a small relationship with basic 8th grade reading performance.\",\n",
    "    \"score\",\n",
    ")\n",
    "_fig5.write_image(\"./charts/spending-school-roi-reading-basic.png\")\n",
    "_fig5.show()\n",
    "_fig6 = generate_state_investment_and_reading_performance_bar_chart(\n",
    "    \"At or Above Proficient (%) Change\",\n",
    "    \"At or Above Proficient</i><br><sup>(% Points)</sup>\",\n",
    "    \"States spending more per student from 5th through 8th grade had a negligible relationship with 8th grade reading proficiency.\",\n",
    "    \"% pts\",\n",
    ")\n",
    "_fig6.write_image(\"./charts/spending-school-roi-reading-proficient.png\")\n",
    "_fig6.show()"
   ]
  },
  {
   "cell_type": "code",
   "execution_count": 12,
   "metadata": {},
   "outputs": [
    {
     "data": {
      "text/plain": [
       "'$16,587,376,503.74'"
      ]
     },
     "execution_count": 12,
     "metadata": {},
     "output_type": "execute_result"
    }
   ],
   "source": [
    "\"${:,.2f}\".format(\n",
    "    student_investment.join(\n",
    "        df.filter(pl.col(\"SCHOOL_YEAR\") == \"2018-19\").select(\"State Name\", \"Grade 8 Students\"),\n",
    "        on=\"State Name\"\n",
    "    ).with_columns(\n",
    "        (pl.col(\"Investment Change\") * pl.col(\"Grade 8 Students\")).alias(\"Total Investment Change\"),\n",
    "    )[\"Total Investment Change\"].sum()\n",
    ")"
   ]
  },
  {
   "cell_type": "code",
   "execution_count": 13,
   "metadata": {},
   "outputs": [
    {
     "data": {
      "text/plain": [
       "(0.6296296296296297, 2.509433962264151)"
      ]
     },
     "execution_count": 13,
     "metadata": {},
     "output_type": "execute_result"
    }
   ],
   "source": [
    "math_performance[\"Mean Grade 8 Math Score Change\"].mean(), reading_performance[\"Mean Grade 8 Reading Score Change\"].mean()"
   ]
  },
  {
   "cell_type": "code",
   "execution_count": 14,
   "metadata": {},
   "outputs": [
    {
     "data": {
      "text/plain": [
       "(2.3518518518518516, 3.6226415094339623)"
      ]
     },
     "execution_count": 14,
     "metadata": {},
     "output_type": "execute_result"
    }
   ],
   "source": [
    "math_performance[\"At or Above Basic (%) Change\"].mean(), reading_performance[\"At or Above Basic (%) Change\"].mean()"
   ]
  },
  {
   "cell_type": "code",
   "execution_count": 15,
   "metadata": {},
   "outputs": [
    {
     "data": {
      "text/plain": [
       "(-0.32075471698113206, 0.6415094339622641)"
      ]
     },
     "execution_count": 15,
     "metadata": {},
     "output_type": "execute_result"
    }
   ],
   "source": [
    "math_performance[\"At or Above Proficient (%) Change\"].mean(), reading_performance[\"At or Above Proficient (%) Change\"].mean()"
   ]
  }
 ],
 "metadata": {
  "kernelspec": {
   "display_name": "education",
   "language": "python",
   "name": "python3"
  },
  "language_info": {
   "codemirror_mode": {
    "name": "ipython",
    "version": 3
   },
   "file_extension": ".py",
   "mimetype": "text/x-python",
   "name": "python",
   "nbconvert_exporter": "python",
   "pygments_lexer": "ipython3",
   "version": "3.12.4"
  }
 },
 "nbformat": 4,
 "nbformat_minor": 2
}
